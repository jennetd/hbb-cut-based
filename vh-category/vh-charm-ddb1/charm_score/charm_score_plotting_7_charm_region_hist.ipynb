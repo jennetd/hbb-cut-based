{
 "cells": [
  {
   "cell_type": "markdown",
   "metadata": {},
   "source": [
    "# Plotting 1D distribution of the charm score"
   ]
  },
  {
   "cell_type": "code",
   "execution_count": 1,
   "metadata": {},
   "outputs": [],
   "source": [
    "import os, subprocess\n",
    "import json\n",
    "import uproot3\n",
    "import awkward as ak\n",
    "import numpy as np\n",
    "from coffea import processor, util, hist\n",
    "import pickle\n",
    "import pandas as pd\n",
    "\n",
    "#Plot settings\n",
    "%matplotlib inline\n",
    "import matplotlib.pyplot as plt\n",
    "import mplhep as hep\n",
    "plt.style.use(hep.style.CMS)\n",
    "\n",
    "import matplotlib.pylab as pylab\n",
    "params = {'legend.fontsize': 'medium',\n",
    "         'axes.labelsize': 'x-large',\n",
    "         'axes.titlesize':'x-large',\n",
    "         'xtick.labelsize':'medium',\n",
    "         'ytick.labelsize':'medium'}\n",
    "pylab.rcParams.update(params)\n",
    "\n",
    "#line thickness\n",
    "import matplotlib as mpl\n",
    "#mpl.rcParams['lines.linewidth'] = 5\n",
    "\n",
    "from plotter import *\n",
    "\n",
    "#Dataset parameters\n",
    "lumis = {}\n",
    "lumis['2016'] = 35.9\n",
    "lumis['2017'] = 41.5\n",
    "lumis['2018'] = 59.9\n",
    "\n",
    "with open('xsec.json') as f:\n",
    "    xs = json.load(f)\n",
    "\n",
    "with open('pmap.json') as f:\n",
    "    pmap = json.load(f)\n",
    "\n",
    "systematics = ['nominal',\n",
    "               'jet_triggerUp','jet_triggerDown',\n",
    "               'btagWeightUp','btagWeightDown','btagEffStatUp','btagEffStatDown',\n",
    "               'UESUp','UESDown','JESUp','JESDown','JERUp','JERDown',\n",
    "              ]\n",
    "\n",
    "mc = ['QCD','Wjets','Zjets','ttbar','singlet','VV','ggF','VBF','ZH','WH']\n",
    "\n",
    "\n",
    "#To calculate significance\n",
    "def significance(s,b):\n",
    "    if b==0:\n",
    "        return 0\n",
    "    z_squared = 2.0*(s+b)*np.log(1.0+1.0*s/b) - 2.0*s\n",
    "    return np.sqrt(z_squared)"
   ]
  },
  {
   "cell_type": "markdown",
   "metadata": {},
   "source": [
    "## 1. Processing plots after Jennet's run\n",
    "\n",
    "Coffea outputs: /eos/uscms/store/user/jennetd/may-2021/vh-charm-category/outfiles"
   ]
  },
  {
   "cell_type": "code",
   "execution_count": 2,
   "metadata": {},
   "outputs": [],
   "source": [
    "year = '2017'\n",
    "outsum = processor.dict_accumulator()\n",
    "nfiles = len(subprocess.getoutput(\"ls ../infiles-split/\"+year+\"*.json\").split())\n",
    "#nfiles = 10\n",
    "\n",
    "# Check if pickle exists, and don't re-create it if it does\n",
    "repickle=True\n",
    "\n",
    "picklename = 'pickles/{}_CScores_VHCharmSample.pkl'.format(year)\n",
    "if os.path.isfile(picklename):\n",
    "    repickle=False"
   ]
  },
  {
   "cell_type": "code",
   "execution_count": 3,
   "metadata": {
    "scrolled": true
   },
   "outputs": [],
   "source": [
    "# Load all files - this takes a while\n",
    "if repickle:\n",
    "    for n in range(1, nfiles+1):\n",
    "\n",
    "        with open('../infiles-split/{}_{}.json'.format(year, n)) as f:\n",
    "            infiles = json.load(f)\n",
    "    \n",
    "        filename = '/myeosdir/vh-charm-category/outfiles-ddb2/{}_{}.coffea'.format(year, n)\n",
    "        #filename = 'outfiles/'+year+'_'+str(n)+'.coffea' #For local testing\n",
    "        \n",
    "        if os.path.isfile(filename):\n",
    "            try:\n",
    "                out = util.load(filename)\n",
    "                outsum.add(out)\n",
    "            except:\n",
    "                print(\"File {} is broken.\".format(filename))\n",
    "        else:\n",
    "            print('Missing file: '+str(n), infiles.keys())\n",
    "            #print(\"File \" + filename + \" is missing\")\n",
    "        \n",
    "    scale_lumi = {k: xs[k] * 1000 *lumis[year] / w for k, w in outsum['sumw'].items()}\n",
    "    outsum['templates-vh-2'].scale(scale_lumi, 'dataset')\n",
    "    \n",
    "    # Use pmap to group the datasets together\n",
    "    templates = outsum['templates-vh-2'].group('dataset', hist.Cat('process', 'Process'), pmap)\n",
    "\n",
    "    outfile = open(picklename, 'wb')\n",
    "    pickle.dump(templates, outfile, protocol=-1)\n",
    "    outfile.close()"
   ]
  },
  {
   "cell_type": "code",
   "execution_count": 4,
   "metadata": {},
   "outputs": [],
   "source": [
    "# Read the histogram from the pickle file\n",
    "templates = pickle.load(open(picklename,'rb'))\\\n",
    "                  .sum('msd2','ddb2')\\\n",
    "                  .integrate('region','signal')"
   ]
  },
  {
   "cell_type": "markdown",
   "metadata": {},
   "source": [
    "## Create the two regions"
   ]
  },
  {
   "cell_type": "code",
   "execution_count": 5,
   "metadata": {},
   "outputs": [
    {
     "name": "stdout",
     "output_type": "stream",
     "text": [
      "Process: ZH\n",
      "Process: WH\n",
      "Process: ttH\n",
      "Process: VBF\n",
      "Process: ggF\n",
      "Process: ggF-powheg\n",
      "Process: QCD\n",
      "Process: VV\n",
      "Process: Wjets\n",
      "Process: Zjets\n",
      "Process: ttbar\n",
      "Process: singlet\n",
      "Process: data\n",
      "Process: muondata\n"
     ]
    }
   ],
   "source": [
    "os.system('rm '+year+'/1-signalregion.root')\n",
    "fout = uproot3.create(year+'/1-signalregion.root')\n",
    "\n",
    "for p in pmap.keys():  \n",
    "    print(\"Process:\", p)\n",
    "    s = \"nominal\"\n",
    "    \n",
    "    #(QCD pass, QCD fail) x (charm, light)\n",
    "    \n",
    "    #--QCD pass, charm\n",
    "    h = templates.integrate('ddb1',int_range=slice(0.7,1))\\\n",
    "                 .integrate('ddc2',int_range=slice(0.6,1))\\\n",
    "                 .integrate('process',p)\n",
    "    \n",
    "    fout[\"QCDpass_charm_{}_{}\".format(p,s)] = hist.export1d(h)\n",
    "    \n",
    "    #--QCD fail, charm\n",
    "    h = templates.integrate('ddb1',int_range=slice(0,0.7))\\\n",
    "                 .integrate('ddc2',int_range=slice(0.6,1))\\\n",
    "                 .integrate('process',p)\n",
    "    \n",
    "    fout[\"QCDfail_charm_{}_{}\".format(p,s)] = hist.export1d(h)\n",
    "    \n",
    "    #--QCD pass, light\n",
    "    h = templates.integrate('ddb1',int_range=slice(0.7,1))\\\n",
    "                 .integrate('ddc2',int_range=slice(0,0.6))\\\n",
    "                 .integrate('process',p)\n",
    "    \n",
    "    fout[\"QCDpass_light_{}_{}\".format(p,s)] = hist.export1d(h)\n",
    "    \n",
    "    #--QCD fail, light\n",
    "    h = templates.integrate('ddb1',int_range=slice(0,0.7))\\\n",
    "                 .integrate('ddc2',int_range=slice(0,0.6))\\\n",
    "                 .integrate('process',p)\n",
    "    \n",
    "    fout[\"QCDfail_light_{}_{}\".format(p,s)] = hist.export1d(h)\n",
    "    \n",
    "\n",
    "fout.close()"
   ]
  },
  {
   "cell_type": "code",
   "execution_count": 9,
   "metadata": {},
   "outputs": [
    {
     "name": "stdout",
     "output_type": "stream",
     "text": [
      "/srv/vh-category/vh-charm-ddb1/charm_score/2017/1-signalregion.root\r\n"
     ]
    }
   ],
   "source": [
    "!readlink -f 2017/1-signalregion.root"
   ]
  },
  {
   "cell_type": "code",
   "execution_count": 7,
   "metadata": {},
   "outputs": [
    {
     "name": "stdout",
     "output_type": "stream",
     "text": [
      "1-signalregion.root\r\n"
     ]
    }
   ],
   "source": [
    "!ls 2017"
   ]
  },
  {
   "cell_type": "code",
   "execution_count": 13,
   "metadata": {},
   "outputs": [],
   "source": [
    "def significance_scaled(s,b):\n",
    "    \n",
    "    #s = s*137.3/41.5\n",
    "    #b = b*137.3/41.5\n",
    "    \n",
    "    if b==0:\n",
    "        return 0\n",
    "    z_squared = 2.0*(s+b)*np.log(1.0+1.0*s/b) - 2.0*s\n",
    "    return np.sqrt(z_squared)\n",
    "\n",
    "def significance_table(templates):\n",
    "    \n",
    "    indx = ['>=', '<=', \"Quadrature Sum\"]\n",
    "    cols = [\"{}\".format(round(x,1)) for x in templates.axis('ddc2').edges()]\n",
    "    edge_vals = templates.axis('ddc2').edges()\n",
    "    \n",
    "    significance_df = pd.DataFrame(index = indx, columns = cols)\n",
    "    \n",
    "    b_list = [x for x in mc if x not in ['ZH', 'WH']] #Background\n",
    "    \n",
    "    for cut in indx:\n",
    "        for thres in edge_vals:\n",
    "            \n",
    "            if cut == '>=': #Integrate forward\n",
    "                #Calculate the number of signals and background\n",
    "                s = templates.integrate('process', ['ZH', 'WH']).integrate('ddc2', slice(thres,1)).values()[()]\n",
    "                b = templates.integrate('process', b_list).integrate('ddc2', slice(thres,1)).values()[()]\n",
    "\n",
    "                significance_df.loc[cut, \"{}\".format(round(thres,1))] = significance_scaled(s,b)\n",
    "                \n",
    "            else: #Integrate backwards\n",
    "                #Calculate the number of signals and background\n",
    "                s = templates.integrate('process', ['ZH', 'WH']).integrate('ddc2', slice(0.,thres)).values()[()]\n",
    "                b = templates.integrate('process', b_list).integrate('ddc2', slice(0.,thres)).values()[()]\n",
    "\n",
    "                significance_df.loc[cut, \"{}\".format(round(thres,1))] = significance_scaled(s,b)\n",
    "    \n",
    "    def hypot(x):\n",
    "        return np.hypot(x[0], x[1])\n",
    "\n",
    "    significance_df.loc['Quadrature Sum'] = significance_df.apply(hypot, axis = 0)\n",
    "    \n",
    "    return significance_df\n",
    "\n",
    "\n",
    "significance_df = significance_table(templates)"
   ]
  },
  {
   "cell_type": "code",
   "execution_count": 14,
   "metadata": {},
   "outputs": [
    {
     "data": {
      "text/html": [
       "<div>\n",
       "<style scoped>\n",
       "    .dataframe tbody tr th:only-of-type {\n",
       "        vertical-align: middle;\n",
       "    }\n",
       "\n",
       "    .dataframe tbody tr th {\n",
       "        vertical-align: top;\n",
       "    }\n",
       "\n",
       "    .dataframe thead th {\n",
       "        text-align: right;\n",
       "    }\n",
       "</style>\n",
       "<table border=\"1\" class=\"dataframe\">\n",
       "  <thead>\n",
       "    <tr style=\"text-align: right;\">\n",
       "      <th></th>\n",
       "      <th>0.0</th>\n",
       "      <th>0.2</th>\n",
       "      <th>0.4</th>\n",
       "      <th>0.6</th>\n",
       "      <th>0.8</th>\n",
       "      <th>1.0</th>\n",
       "    </tr>\n",
       "  </thead>\n",
       "  <tbody>\n",
       "    <tr>\n",
       "      <th>&gt;=</th>\n",
       "      <td>0.883733</td>\n",
       "      <td>1.066747</td>\n",
       "      <td>0.934361</td>\n",
       "      <td>1.03896</td>\n",
       "      <td>0.622812</td>\n",
       "      <td>0</td>\n",
       "    </tr>\n",
       "    <tr>\n",
       "      <th>&lt;=</th>\n",
       "      <td>0.098269</td>\n",
       "      <td>0.098269</td>\n",
       "      <td>0.317693</td>\n",
       "      <td>0.489967</td>\n",
       "      <td>0.772735</td>\n",
       "      <td>0.883733</td>\n",
       "    </tr>\n",
       "    <tr>\n",
       "      <th>Quadrature Sum</th>\n",
       "      <td>0.88918</td>\n",
       "      <td>1.071263</td>\n",
       "      <td>0.986894</td>\n",
       "      <td>1.148697</td>\n",
       "      <td>0.992478</td>\n",
       "      <td>0.883733</td>\n",
       "    </tr>\n",
       "  </tbody>\n",
       "</table>\n",
       "</div>"
      ],
      "text/plain": [
       "                     0.0       0.2       0.4       0.6       0.8       1.0\n",
       ">=              0.883733  1.066747  0.934361   1.03896  0.622812         0\n",
       "<=              0.098269  0.098269  0.317693  0.489967  0.772735  0.883733\n",
       "Quadrature Sum   0.88918  1.071263  0.986894  1.148697  0.992478  0.883733"
      ]
     },
     "execution_count": 14,
     "metadata": {},
     "output_type": "execute_result"
    }
   ],
   "source": [
    "significance_df"
   ]
  },
  {
   "cell_type": "code",
   "execution_count": 63,
   "metadata": {},
   "outputs": [
    {
     "data": {
      "text/plain": [
       "<Hist () instance at 0x7f8f295973a0>"
      ]
     },
     "execution_count": 63,
     "metadata": {},
     "output_type": "execute_result"
    }
   ],
   "source": [
    "templates.integrate('process', ['ZH', 'WH']).integrate('ddc2', slice(0.,0))"
   ]
  },
  {
   "cell_type": "markdown",
   "metadata": {},
   "source": [
    "## Plot 2D distribution for different signal processes"
   ]
  },
  {
   "cell_type": "code",
   "execution_count": 5,
   "metadata": {},
   "outputs": [
    {
     "data": {
      "text/plain": [
       "<Hist (process,msd1,ddb1,ddc2) instance at 0x7fd0f8e11e50>"
      ]
     },
     "execution_count": 5,
     "metadata": {},
     "output_type": "execute_result"
    }
   ],
   "source": [
    "templates"
   ]
  },
  {
   "cell_type": "code",
   "execution_count": 29,
   "metadata": {},
   "outputs": [],
   "source": [
    "def plot_2d_score(signal_p, templates):\n",
    "    \n",
    "    h = templates.sum('msd1').integrate('process', signal_p)\n",
    "\n",
    "    fig, ax = plt.subplots(2,2,sharex='col',sharey='row')\n",
    "    plt.suptitle(signal_p)\n",
    "\n",
    "    plt.subplots_adjust(hspace=0)\n",
    "    plt.subplots_adjust(wspace=0)\n",
    "\n",
    "    #ax[0,1].set_logy()\n",
    "    #ax[0,1].set_logx()\n",
    "\n",
    "    xprojection = hist.export1d(h.integrate('ddc2')).numpy()\n",
    "    yprojection = hist.export1d(h.integrate('ddb1')).numpy()\n",
    "\n",
    "    ybins = yprojection[1]\n",
    "    xbins = xprojection[1]\n",
    "\n",
    "    ax[1,1].hist(ybins[:-1],\n",
    "                 weights=yprojection[0],\n",
    "                 bins=ybins,\n",
    "                 histtype='step',\n",
    "                 orientation='horizontal')\n",
    "    ax[1,1].set_xlabel('Events')\n",
    "\n",
    "    ax[0,0].hist(xbins[:-1],\n",
    "                 weights=xprojection[0],\n",
    "                 bins=xbins,\n",
    "                 histtype='step')\n",
    "    ax[0,0].set_ylabel('Events')\n",
    "\n",
    "    #Remove overlapping ticks \n",
    "    yticks_0 = ax[0,0].yaxis.get_major_ticks()\n",
    "    yticks_0[0].set_visible(False)\n",
    "\n",
    "    xticks_1 = ax[1,1].xaxis.get_major_ticks()\n",
    "    xticks_1[0].set_visible(False)\n",
    "\n",
    "    yticks_01 = ax[0,1].yaxis.get_major_ticks()\n",
    "    yticks_01[-1].set_visible(False)\n",
    "\n",
    "\n",
    "    X, Y = np.meshgrid(xbins[:-1],ybins[:-1])\n",
    "    w = h.values()[()]\n",
    "\n",
    "    ax[1,0].hist2d(X.flatten(),Y.flatten(),weights=w.flatten(),bins=(xbins, ybins))\n",
    "    ax[1,0].set_xlabel('Jet 1 DDB Score')\n",
    "    ax[1,0].set_ylabel('Jet 2 DDCvL')"
   ]
  },
  {
   "cell_type": "code",
   "execution_count": 30,
   "metadata": {},
   "outputs": [
    {
     "data": {
      "image/png": "[encoded data removed]",
      "text/plain": [
       "<Figure size 720x720 with 4 Axes>"
      ]
     },
     "metadata": {
      "needs_background": "light"
     },
     "output_type": "display_data"
    }
   ],
   "source": [
    "plot_2d_score(\"QCD\", templates)"
   ]
  },
  {
   "cell_type": "code",
   "execution_count": 22,
   "metadata": {},
   "outputs": [
    {
     "data": {
      "text/plain": [
       "<AxesSubplot:xlabel='Jet 2 ddc score', ylabel='Events'>"
      ]
     },
     "execution_count": 22,
     "metadata": {},
     "output_type": "execute_result"
    },
    {
     "data": {
      "image/png": "[encoded data removed]",
      "text/plain": [
       "<Figure size 720x720 with 1 Axes>"
      ]
     },
     "metadata": {
      "needs_background": "light"
     },
     "output_type": "display_data"
    }
   ],
   "source": [
    "hist.plot1d(templates.sum('msd1','ddb1').integrate('process','ZH'))"
   ]
  },
  {
   "cell_type": "code",
   "execution_count": null,
   "metadata": {},
   "outputs": [],
   "source": []
  }
 ],
 "metadata": {
  "kernelspec": {
   "display_name": "Python 3",
   "language": "python",
   "name": "python3"
  },
  "language_info": {
   "codemirror_mode": {
    "name": "ipython",
    "version": 3
   },
   "file_extension": ".py",
   "mimetype": "text/x-python",
   "name": "python",
   "nbconvert_exporter": "python",
   "pygments_lexer": "ipython3",
   "version": "3.7.6"
  }
 },
 "nbformat": 4,
 "nbformat_minor": 4
}
