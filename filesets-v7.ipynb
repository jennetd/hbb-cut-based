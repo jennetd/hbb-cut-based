{
 "cells": [
  {
   "cell_type": "code",
   "execution_count": 7,
   "metadata": {},
   "outputs": [],
   "source": [
    "# Jennet takes the dataset names from AN2018_067_v16"
   ]
  },
  {
   "cell_type": "code",
   "execution_count": 8,
   "metadata": {},
   "outputs": [],
   "source": [
    "import os\n",
    "import json"
   ]
  },
  {
   "cell_type": "code",
   "execution_count": 9,
   "metadata": {},
   "outputs": [
    {
     "name": "stdout",
     "output_type": "stream",
     "text": [
      "/ZH_HToBB_ZToQQ_M125_13TeV_powheg_pythia8/RunIIAutumn18NanoAODv7-Nano02Apr2020_102X_upgrade2018_realistic_v21-v1/NANOAODSIM\r\n"
     ]
    }
   ],
   "source": [
    "!dasgoclient --query=\"dataset dataset=/ZH_HToBB_ZToQQ_M125_13TeV_powheg_pythia8/RunIIAutumn18NanoAODv7*/NANOAODSIM\""
   ]
  },
  {
   "cell_type": "code",
   "execution_count": 10,
   "metadata": {},
   "outputs": [
    {
     "name": "stdout",
     "output_type": "stream",
     "text": [
      "/ZH_HToBB_ZToNuNu_M125_13TeV_powheg_pythia8/RunIIAutumn18NanoAODv7-Nano02Apr2020_102X_upgrade2018_realistic_v21-v1/NANOAODSIM\r\n"
     ]
    }
   ],
   "source": [
    "!dasgoclient --query=\"dataset dataset=/ZH_HToBB_ZToNuNu_M125_13TeV_powheg_pythia8/RunIIAutumn18NanoAODv7*/NANOAODSIM\""
   ]
  },
  {
   "cell_type": "code",
   "execution_count": 11,
   "metadata": {},
   "outputs": [
    {
     "name": "stdout",
     "output_type": "stream",
     "text": [
      "/ggZH_HToBB_ZToQQ_M125_13TeV_powheg_pythia8/RunIIAutumn18NanoAODv7-Nano02Apr2020_102X_upgrade2018_realistic_v21-v1/NANOAODSIM\r\n"
     ]
    }
   ],
   "source": [
    "!dasgoclient --query=\"dataset dataset=/ggZH_HToBB_ZToQQ_M125_13TeV_powheg_pythia8/RunIIAutumn18NanoAODv7*/NANOAODSIM\""
   ]
  },
  {
   "cell_type": "code",
   "execution_count": 12,
   "metadata": {},
   "outputs": [
    {
     "name": "stdout",
     "output_type": "stream",
     "text": [
      "/ggZH_HToBB_ZToNuNu_M125_13TeV_powheg_pythia8/RunIIAutumn18NanoAODv7-Nano02Apr2020_102X_upgrade2018_realistic_v21-v1/NANOAODSIM\r\n"
     ]
    }
   ],
   "source": [
    "!dasgoclient --query=\"dataset dataset=/ggZH_HToBB_ZToNuNu_M125_13TeV_powheg_pythia8/RunIIAutumn18NanoAODv7*/NANOAODSIM\""
   ]
  },
  {
   "cell_type": "code",
   "execution_count": 13,
   "metadata": {},
   "outputs": [
    {
     "name": "stdout",
     "output_type": "stream",
     "text": [
      "/GluGluHToBB_M125_13TeV_powheg_pythia8/RunIIAutumn18NanoAODv7-Nano02Apr2020_102X_upgrade2018_realistic_v21-v1/NANOAODSIM\r\n"
     ]
    }
   ],
   "source": [
    "!dasgoclient --query=\"dataset dataset=/GluGluHToBB_M125_13TeV_powheg_pythia8/RunIIAutumn18NanoAODv7*/NANOAODSIM\""
   ]
  },
  {
   "cell_type": "code",
   "execution_count": 14,
   "metadata": {},
   "outputs": [
    {
     "name": "stdout",
     "output_type": "stream",
     "text": [
      "/GluGluHToBB_M-125_13TeV_powheg_MINLO_NNLOPS_pythia8/RunIIAutumn18NanoAODv7-Nano02Apr2020_102X_upgrade2018_realistic_v21-v1/NANOAODSIM\r\n"
     ]
    }
   ],
   "source": [
    "!dasgoclient --query=\"dataset dataset=/GluGluHToBB_M-125_13TeV_powheg_MINLO_NNLOPS_pythia8/RunIIAutumn18NanoAODv7*/NANOAODSIM\""
   ]
  },
  {
   "cell_type": "code",
   "execution_count": 15,
   "metadata": {},
   "outputs": [
    {
     "name": "stdout",
     "output_type": "stream",
     "text": [
      "/VBFHToBB_M-125_13TeV_powheg_pythia8_weightfix/RunIIAutumn18NanoAODv7-Nano02Apr2020_102X_upgrade2018_realistic_v21-v1/NANOAODSIM\r\n"
     ]
    }
   ],
   "source": [
    "!dasgoclient --query=\"dataset dataset=/VBFHToBB_M-125_13TeV_powheg_pythia8_weightfix/RunIIAutumn18NanoAODv7*/NANOAODSIM\""
   ]
  },
  {
   "cell_type": "code",
   "execution_count": 16,
   "metadata": {},
   "outputs": [
    {
     "name": "stdout",
     "output_type": "stream",
     "text": [
      "/WminusH_HToBB_WToQQ_M125_13TeV_powheg_pythia8/RunIIAutumn18NanoAODv7-Nano02Apr2020_102X_upgrade2018_realistic_v21-v1/NANOAODSIM\r\n"
     ]
    }
   ],
   "source": [
    "!dasgoclient --query=\"dataset dataset=/WminusH_HToBB_WToQQ_M125_13TeV_powheg_pythia8/RunIIAutumn18NanoAODv7*/NANOAODSIM\""
   ]
  },
  {
   "cell_type": "code",
   "execution_count": 17,
   "metadata": {},
   "outputs": [
    {
     "name": "stdout",
     "output_type": "stream",
     "text": [
      "/WplusH_HToBB_WToQQ_M125_13TeV_powheg_pythia8/RunIIAutumn18NanoAODv7-Nano02Apr2020_102X_upgrade2018_realistic_v21-v1/NANOAODSIM\r\n"
     ]
    }
   ],
   "source": [
    "!dasgoclient --query=\"dataset dataset=/WplusH_HToBB_WToQQ_M125_13TeV_powheg_pythia8/RunIIAutumn18NanoAODv7*/NANOAODSIM\""
   ]
  },
  {
   "cell_type": "code",
   "execution_count": 18,
   "metadata": {},
   "outputs": [
    {
     "name": "stdout",
     "output_type": "stream",
     "text": [
      "/ttHTobb_M125_TuneCP5_13TeV-powheg-pythia8/RunIIAutumn18NanoAODv7-Nano02Apr2020_102X_upgrade2018_realistic_v21_ext1-v1/NANOAODSIM\r\n",
      "/ttHTobb_M125_TuneCP5_13TeV-powheg-pythia8/RunIIAutumn18NanoAODv7-Nano02Apr2020_EXT_102X_upgrade2018_realistic_v21-v1/NANOAODSIM\r\n"
     ]
    }
   ],
   "source": [
    "!dasgoclient --query=\"dataset dataset=/ttHTobb_M125_TuneCP5_13TeV-powheg-pythia8/RunIIAutumn18NanoAODv7*/NANOAODSIM\""
   ]
  },
  {
   "cell_type": "code",
   "execution_count": 19,
   "metadata": {},
   "outputs": [],
   "source": [
    "# 2018 HToBB\n",
    "filesets = {}\n",
    "\n",
    "filesets['ZH_HToBB_ZToQQ_M125_13TeV_powheg_pythia8'] = !dasgoclient --query=\"file dataset=/ZH_HToBB_ZToQQ_M125_13TeV_powheg_pythia8/RunIIAutumn18NanoAODv7-Nano02Apr2020_102X_upgrade2018_realistic_v21-v1/NANOAODSIM\"\n",
    "filesets['ZH_HToBB_ZToNuNu_M125_13TeV_powheg_pythia8'] = !dasgoclient --query=\"file dataset=/ZH_HToBB_ZToNuNu_M125_13TeV_powheg_pythia8/RunIIAutumn18NanoAODv7-Nano02Apr2020_102X_upgrade2018_realistic_v21-v1/NANOAODSIM\"\n",
    "filesets['ggZH_HToBB_ZToQQ_M125_13TeV_powheg_pythia8'] = !dasgoclient --query=\"file dataset=/ggZH_HToBB_ZToQQ_M125_13TeV_powheg_pythia8/RunIIAutumn18NanoAODv7-Nano02Apr2020_102X_upgrade2018_realistic_v21-v1/NANOAODSIM\"\n",
    "filesets['ggZH_HToBB_ZToNuNu_M125_13TeV_powheg_pythia8'] = !dasgoclient --query=\"file dataset=/ggZH_HToBB_ZToNuNu_M125_13TeV_powheg_pythia8/RunIIAutumn18NanoAODv7-Nano02Apr2020_102X_upgrade2018_realistic_v21-v1/NANOAODSIM\"\n",
    "\n",
    "filesets['GluGluHToBB_M125_13TeV_powheg_pythia8'] = !dasgoclient --query=\"file dataset=/GluGluHToBB_M125_13TeV_powheg_pythia8/RunIIAutumn18NanoAODv7-Nano02Apr2020_102X_upgrade2018_realistic_v21-v1/NANOAODSIM\"\n",
    "filesets['GluGluHToBB_M-125_13TeV_powheg_MINLO_NNLOPS_pythia8'] = !dasgoclient --query=\"file dataset=/GluGluHToBB_M-125_13TeV_powheg_MINLO_NNLOPS_pythia8/RunIIAutumn18NanoAODv7-Nano02Apr2020_102X_upgrade2018_realistic_v21-v1/NANOAODSIM\"\n",
    "\n",
    "filesets['VBFHToBB_M-125_13TeV_powheg_pythia8'] = !dasgoclient --query=\"file dataset=/VBFHToBB_M-125_13TeV_powheg_pythia8_weightfix/RunIIAutumn18NanoAODv7-Nano02Apr2020_102X_upgrade2018_realistic_v21-v1/NANOAODSIM\"\n",
    "\n",
    "filesets['WminusH_HToBB_WToQQ_M125_13TeV_powheg_pythia8'] = !dasgoclient --query=\"file dataset=/WminusH_HToBB_WToQQ_M125_13TeV_powheg_pythia8/RunIIAutumn18NanoAODv7-Nano02Apr2020_102X_upgrade2018_realistic_v21-v1/NANOAODSIM\"\n",
    "filesets['WplusH_HToBB_WToQQ_M125_13TeV_powheg_pythia8'] = !dasgoclient --query=\"file dataset=/WplusH_HToBB_WToQQ_M125_13TeV_powheg_pythia8/RunIIAutumn18NanoAODv7-Nano02Apr2020_102X_upgrade2018_realistic_v21-v1/NANOAODSIM\"\n",
    "\n",
    "filesets['ttHTobb_M125_13TeV-powheg-pythia8'] = !dasgoclient --query=\"file dataset=/ttHTobb_M125_TuneCP5_13TeV-powheg-pythia8/RunIIAutumn18NanoAODv7-Nano02Apr2020_102X_upgrade2018_realistic_v21_ext1-v1/NANOAODSIM\"\n",
    "ext = !dasgoclient --query=\"file dataset=/ttHTobb_M125_TuneCP5_13TeV-powheg-pythia8/RunIIAutumn18NanoAODv7-Nano02Apr2020_EXT_102X_upgrade2018_realistic_v21-v1/NANOAODSIM\"\n",
    "filesets['ttHTobb_M125_13TeV-powheg-pythia8'] += ext\n",
    "\n",
    "names = list(filesets.keys())\n",
    "\n",
    "# Add the xrootd prefix to all files and save to json\n",
    "prefix = 'root://cmsxrootd.fnal.gov/'\n",
    "for s in names:\n",
    "    filesets[s] = [prefix + f for f in filesets[s]]\n",
    "    \n",
    "this_file = 'infiles/2018_HToBB.json'\n",
    "with open(this_file, 'w') as json_file:\n",
    "    json.dump(filesets, json_file)"
   ]
  },
  {
   "cell_type": "code",
   "execution_count": 20,
   "metadata": {},
   "outputs": [
    {
     "name": "stdout",
     "output_type": "stream",
     "text": [
      "/ZH_HToBB_ZToQQ_M125_13TeV_powheg_pythia8/RunIIFall17NanoAODv7-PU2017_12Apr2018_Nano02Apr2020_102X_mc2017_realistic_v8-v1/NANOAODSIM\r\n"
     ]
    }
   ],
   "source": [
    "!dasgoclient --query=\"dataset dataset=/ZH_HToBB_ZToQQ_M125_13TeV_powheg_pythia8/RunIIFall17NanoAODv7*/NANOAODSIM\""
   ]
  },
  {
   "cell_type": "code",
   "execution_count": 21,
   "metadata": {},
   "outputs": [
    {
     "name": "stdout",
     "output_type": "stream",
     "text": [
      "/ZH_HToBB_ZToNuNu_M125_13TeV_powheg_pythia8/RunIIFall17NanoAODv7-PU2017_12Apr2018_Nano02Apr2020_102X_mc2017_realistic_v8-v1/NANOAODSIM\r\n",
      "/ZH_HToBB_ZToNuNu_M125_13TeV_powheg_pythia8/RunIIFall17NanoAODv7-PU2017_12Apr2018_Nano02Apr2020_102X_mc2017_realistic_v8_ext1-v1/NANOAODSIM\r\n"
     ]
    }
   ],
   "source": [
    "!dasgoclient --query=\"dataset dataset=/ZH_HToBB_ZToNuNu_M125_13TeV_powheg_pythia8/RunIIFall17NanoAODv7*/NANOAODSIM\""
   ]
  },
  {
   "cell_type": "code",
   "execution_count": 22,
   "metadata": {},
   "outputs": [
    {
     "name": "stdout",
     "output_type": "stream",
     "text": [
      "/ggZH_HToBB_ZToQQ_M125_13TeV_powheg_pythia8/RunIIFall17NanoAODv7-PU2017_12Apr2018_Nano02Apr2020_102X_mc2017_realistic_v8-v1/NANOAODSIM\r\n"
     ]
    }
   ],
   "source": [
    "!dasgoclient --query=\"dataset dataset=/ggZH_HToBB_ZToQQ_M125_13TeV_powheg_pythia8/RunIIFall17NanoAODv7*/NANOAODSIM\""
   ]
  },
  {
   "cell_type": "code",
   "execution_count": 23,
   "metadata": {},
   "outputs": [
    {
     "name": "stdout",
     "output_type": "stream",
     "text": [
      "/ggZH_HToBB_ZToNuNu_M125_13TeV_powheg_pythia8/RunIIFall17NanoAODv7-PU2017_12Apr2018_Nano02Apr2020_102X_mc2017_realistic_v8-v1/NANOAODSIM\r\n",
      "/ggZH_HToBB_ZToNuNu_M125_13TeV_powheg_pythia8/RunIIFall17NanoAODv7-PU2017_12Apr2018_Nano02Apr2020_102X_mc2017_realistic_v8_ext1-v1/NANOAODSIM\r\n"
     ]
    }
   ],
   "source": [
    "!dasgoclient --query=\"dataset dataset=/ggZH_HToBB_ZToNuNu_M125_13TeV_powheg_pythia8/RunIIFall17NanoAODv7*/NANOAODSIM\""
   ]
  },
  {
   "cell_type": "code",
   "execution_count": 24,
   "metadata": {},
   "outputs": [
    {
     "name": "stdout",
     "output_type": "stream",
     "text": [
      "/GluGluHToBB_M125_TuneCP5_13TeV-powheg-pythia8/RunIIFall17NanoAODv7-PU2017_12Apr2018_Nano02Apr2020_102X_mc2017_realistic_v8_ext1-v1/NANOAODSIM\r\n"
     ]
    }
   ],
   "source": [
    "!dasgoclient --query=\"dataset dataset=/GluGluHToBB_M125_TuneCP5_13TeV-powheg-pythia8/RunIIFall17NanoAODv7*/NANOAODSIM\""
   ]
  },
  {
   "cell_type": "code",
   "execution_count": 25,
   "metadata": {},
   "outputs": [
    {
     "name": "stdout",
     "output_type": "stream",
     "text": [
      "/GluGluHToBB_M-125_13TeV_powheg_MINLO_NNLOPS_pythia8/RunIIFall17NanoAODv7-PU2017_12Apr2018_Nano02Apr2020_102X_mc2017_realistic_v8-v1/NANOAODSIM\r\n"
     ]
    }
   ],
   "source": [
    "!dasgoclient --query=\"dataset dataset=/GluGluHToBB_M-125_13TeV_powheg_MINLO_NNLOPS_pythia8/RunIIFall17NanoAODv7*/NANOAODSIM\""
   ]
  },
  {
   "cell_type": "code",
   "execution_count": 26,
   "metadata": {},
   "outputs": [
    {
     "name": "stdout",
     "output_type": "stream",
     "text": [
      "/VBFHToBB_M-125_13TeV_powheg_pythia8_weightfix/RunIIFall17NanoAODv7-PU2017_12Apr2018_Nano02Apr2020_102X_mc2017_realistic_v8-v1/NANOAODSIM\r\n"
     ]
    }
   ],
   "source": [
    "!dasgoclient --query=\"dataset dataset=/VBFHToBB_M-125_13TeV_powheg_pythia8_weightfix/RunIIFall17NanoAODv7*/NANOAODSIM\""
   ]
  },
  {
   "cell_type": "code",
   "execution_count": 27,
   "metadata": {},
   "outputs": [
    {
     "name": "stdout",
     "output_type": "stream",
     "text": [
      "/WminusH_HToBB_WToQQ_M125_13TeV_powheg_pythia8/RunIIFall17NanoAODv7-PU2017_12Apr2018_Nano02Apr2020_102X_mc2017_realistic_v8-v1/NANOAODSIM\r\n"
     ]
    }
   ],
   "source": [
    "!dasgoclient --query=\"dataset dataset=/WminusH_HToBB_WToQQ_M125_13TeV_powheg_pythia8/RunIIFall17NanoAODv7*/NANOAODSIM\""
   ]
  },
  {
   "cell_type": "code",
   "execution_count": 28,
   "metadata": {},
   "outputs": [
    {
     "name": "stdout",
     "output_type": "stream",
     "text": [
      "/WplusH_HToBB_WToQQ_M125_13TeV_powheg_pythia8/RunIIFall17NanoAODv7-PU2017_12Apr2018_Nano02Apr2020_102X_mc2017_realistic_v8-v1/NANOAODSIM\r\n"
     ]
    }
   ],
   "source": [
    "!dasgoclient --query=\"dataset dataset=/WplusH_HToBB_WToQQ_M125_13TeV_powheg_pythia8/RunIIFall17NanoAODv7*/NANOAODSIM\""
   ]
  },
  {
   "cell_type": "code",
   "execution_count": 29,
   "metadata": {},
   "outputs": [
    {
     "name": "stdout",
     "output_type": "stream",
     "text": [
      "/ttHTobb_M125_TuneCP5_13TeV-powheg-pythia8/RunIIFall17NanoAODv7-PU2017_12Apr2018_Nano02Apr2020_new_pmx_102X_mc2017_realistic_v8-v1/NANOAODSIM\r\n"
     ]
    }
   ],
   "source": [
    "!dasgoclient --query=\"dataset dataset=/ttHTobb_M125_TuneCP5_13TeV-powheg-pythia8/RunIIFall17NanoAODv7*/NANOAODSIM\""
   ]
  },
  {
   "cell_type": "code",
   "execution_count": 30,
   "metadata": {},
   "outputs": [],
   "source": [
    "# 2017 HToBB\n",
    "filesets = {}\n",
    "\n",
    "filesets['ZH_HToBB_ZToQQ_M125_13TeV_powheg_pythia8'] = !dasgoclient --query=\"file dataset=/ZH_HToBB_ZToQQ_M125_13TeV_powheg_pythia8/RunIIFall17NanoAODv7-PU2017_12Apr2018_Nano02Apr2020_102X_mc2017_realistic_v8-v1/NANOAODSIM\"\n",
    "filesets['ZH_HToBB_ZToNuNu_M125_13TeV_powheg_pythia8'] = !dasgoclient --query=\"file dataset=/ZH_HToBB_ZToNuNu_M125_13TeV_powheg_pythia8/RunIIFall17NanoAODv7-PU2017_12Apr2018_Nano02Apr2020_102X_mc2017_realistic_v8-v1/NANOAODSIM\"\n",
    "ext = !dasgoclient --query=\"file dataset=/ZH_HToBB_ZToNuNu_M125_13TeV_powheg_pythia8/RunIIFall17NanoAODv7-PU2017_12Apr2018_Nano02Apr2020_102X_mc2017_realistic_v8_ext1-v1/NANOAODSIM\"\n",
    "filesets['ZH_HToBB_ZToNuNu_M125_13TeV_powheg_pythia8'] += ext\n",
    "filesets['ggZH_HToBB_ZToQQ_M125_13TeV_powheg_pythia8'] = !dasgoclient --query=\"file dataset=/ggZH_HToBB_ZToQQ_M125_13TeV_powheg_pythia8/RunIIFall17NanoAODv7-PU2017_12Apr2018_Nano02Apr2020_102X_mc2017_realistic_v8-v1/NANOAODSIM\"\n",
    "filesets['ggZH_HToBB_ZToNuNu_M125_13TeV_powheg_pythia8'] = !dasgoclient --query=\"file dataset=/ggZH_HToBB_ZToNuNu_M125_13TeV_powheg_pythia8/RunIIFall17NanoAODv7-PU2017_12Apr2018_Nano02Apr2020_102X_mc2017_realistic_v8-v1/NANOAODSIM\"\n",
    "ext = !dasgoclient --query=\"file dataset=/ggZH_HToBB_ZToNuNu_M125_13TeV_powheg_pythia8/RunIIFall17NanoAODv7-PU2017_12Apr2018_Nano02Apr2020_102X_mc2017_realistic_v8_ext1-v1/NANOAODSIM\"\n",
    "filesets['ggZH_HToBB_ZToNuNu_M125_13TeV_powheg_pythia8'] += ext\n",
    "\n",
    "filesets['GluGluHToBB_M125_13TeV_powheg_pythia8'] = !dasgoclient --query=\"file dataset=/GluGluHToBB_M125_TuneCP5_13TeV-powheg-pythia8/RunIIFall17NanoAODv7-PU2017_12Apr2018_Nano02Apr2020_102X_mc2017_realistic_v8_ext1-v1/NANOAODSIM\"\n",
    "filesets['GluGluHToBB_M-125_13TeV_powheg_MINLO_NNLOPS_pythia8'] = !dasgoclient --query=\"file dataset=/GluGluHToBB_M-125_13TeV_powheg_MINLO_NNLOPS_pythia8/RunIIFall17NanoAODv7-PU2017_12Apr2018_Nano02Apr2020_102X_mc2017_realistic_v8-v1/NANOAODSIM\"\n",
    "\n",
    "filesets['VBFHToBB_M-125_13TeV_powheg_pythia8'] = !dasgoclient --query=\"file dataset=/VBFHToBB_M-125_13TeV_powheg_pythia8_weightfix/RunIIFall17NanoAODv7-PU2017_12Apr2018_Nano02Apr2020_102X_mc2017_realistic_v8-v1/NANOAODSIM\"\n",
    "\n",
    "filesets['WminusH_HToBB_WToQQ_M125_13TeV_powheg_pythia8'] = !dasgoclient --query=\"file dataset=/WminusH_HToBB_WToQQ_M125_13TeV_powheg_pythia8/RunIIFall17NanoAODv7-PU2017_12Apr2018_Nano02Apr2020_102X_mc2017_realistic_v8-v1/NANOAODSIM\"\n",
    "filesets['WplusH_HToBB_WToQQ_M125_13TeV_powheg_pythia8'] = !dasgoclient --query=\"file dataset=/WplusH_HToBB_WToQQ_M125_13TeV_powheg_pythia8/RunIIFall17NanoAODv7-PU2017_12Apr2018_Nano02Apr2020_102X_mc2017_realistic_v8-v1/NANOAODSIM\"\n",
    "\n",
    "filesets['ttHTobb_M125_13TeV-powheg-pythia8'] = !dasgoclient --query=\"file dataset=/ttHTobb_M125_TuneCP5_13TeV-powheg-pythia8/RunIIFall17NanoAODv7-PU2017_12Apr2018_Nano02Apr2020_new_pmx_102X_mc2017_realistic_v8-v1/NANOAODSIM\"\n",
    "\n",
    "names = list(filesets.keys())\n",
    "\n",
    "# Add the xrootd prefix to all files and save to json\n",
    "prefix = 'root://cmsxrootd.fnal.gov/'\n",
    "for s in names:\n",
    "    filesets[s] = [prefix + f for f in filesets[s]]\n",
    "    \n",
    "this_file = 'infiles/2017_HToBB.json'\n",
    "with open(this_file, 'w') as json_file:\n",
    "    json.dump(filesets, json_file)"
   ]
  },
  {
   "cell_type": "code",
   "execution_count": 31,
   "metadata": {},
   "outputs": [
    {
     "name": "stdout",
     "output_type": "stream",
     "text": [
      "/ZH_HToBB_ZToQQ_M125_13TeV_powheg_pythia8/RunIISummer16NanoAODv7-PUMoriond17_Nano02Apr2020_102X_mcRun2_asymptotic_v8-v1/NANOAODSIM\r\n"
     ]
    }
   ],
   "source": [
    "!dasgoclient --query=\"dataset dataset=/ZH_HToBB_ZToQQ_M125_13TeV_powheg_pythia8/RunIISummer16NanoAODv7*/NANOAODSIM\""
   ]
  },
  {
   "cell_type": "code",
   "execution_count": 32,
   "metadata": {},
   "outputs": [
    {
     "name": "stdout",
     "output_type": "stream",
     "text": [
      "/ZH_HToBB_ZToNuNu_M125_13TeV_powheg_pythia8/RunIISummer16NanoAODv7-PUMoriond17_Nano02Apr2020_102X_mcRun2_asymptotic_v8_ext1-v1/NANOAODSIM\r\n"
     ]
    }
   ],
   "source": [
    "!dasgoclient --query=\"dataset dataset=/ZH_HToBB_ZToNuNu_M125_13TeV_powheg_pythia8/RunIISummer16NanoAODv7*/NANOAODSIM\""
   ]
  },
  {
   "cell_type": "code",
   "execution_count": 33,
   "metadata": {},
   "outputs": [
    {
     "name": "stdout",
     "output_type": "stream",
     "text": [
      "/ggZH_HToBB_ZToQQ_M125_13TeV_powheg_pythia8/RunIISummer16NanoAODv7-PUMoriond17_Nano02Apr2020_102X_mcRun2_asymptotic_v8-v1/NANOAODSIM\r\n"
     ]
    }
   ],
   "source": [
    "!dasgoclient --query=\"dataset dataset=/ggZH_HToBB_ZToQQ_M125_13TeV_powheg_pythia8/RunIISummer16NanoAODv7*/NANOAODSIM\""
   ]
  },
  {
   "cell_type": "code",
   "execution_count": 34,
   "metadata": {},
   "outputs": [
    {
     "name": "stdout",
     "output_type": "stream",
     "text": [
      "/ggZH_HToBB_ZToNuNu_M125_13TeV_powheg_pythia8/RunIISummer16NanoAODv7-PUMoriond17_Nano02Apr2020_102X_mcRun2_asymptotic_v8-v1/NANOAODSIM\r\n",
      "/ggZH_HToBB_ZToNuNu_M125_13TeV_powheg_pythia8/RunIISummer16NanoAODv7-PUMoriond17_Nano02Apr2020_102X_mcRun2_asymptotic_v8_ext1-v1/NANOAODSIM\r\n",
      "/ggZH_HToBB_ZToNuNu_M125_13TeV_powheg_pythia8/RunIISummer16NanoAODv7-PUMoriond17_Nano02Apr2020_102X_mcRun2_asymptotic_v8_ext2-v1/NANOAODSIM\r\n"
     ]
    }
   ],
   "source": [
    "!dasgoclient --query=\"dataset dataset=/ggZH_HToBB_ZToNuNu_M125_13TeV_powheg_pythia8/RunIISummer16NanoAODv7*/NANOAODSIM\""
   ]
  },
  {
   "cell_type": "code",
   "execution_count": 35,
   "metadata": {},
   "outputs": [
    {
     "name": "stdout",
     "output_type": "stream",
     "text": [
      "/GluGluHToBB_M125_13TeV_powheg_pythia8/RunIISummer16NanoAODv7-PUMoriond17_Nano02Apr2020_102X_mcRun2_asymptotic_v8-v1/NANOAODSIM\r\n"
     ]
    }
   ],
   "source": [
    "!dasgoclient --query=\"dataset dataset=/GluGluHToBB_M125_13TeV_powheg_pythia8/RunIISummer16NanoAODv7*/NANOAODSIM\""
   ]
  },
  {
   "cell_type": "code",
   "execution_count": 36,
   "metadata": {},
   "outputs": [
    {
     "name": "stdout",
     "output_type": "stream",
     "text": [
      "/GluGluHToBB_M-125_13TeV_powheg_MINLO_NNLOPS_pythia8/RunIIFall17NanoAODv7-PU2017_12Apr2018_Nano02Apr2020_102X_mc2017_realistic_v8-v1/NANOAODSIM\r\n"
     ]
    }
   ],
   "source": [
    "!dasgoclient --query=\"dataset dataset=/GluGluHToBB_M-125_13TeV_powheg_MINLO_NNLOPS_pythia8/RunIIFall17NanoAODv7*/NANOAODSIM\""
   ]
  },
  {
   "cell_type": "code",
   "execution_count": 37,
   "metadata": {},
   "outputs": [
    {
     "name": "stdout",
     "output_type": "stream",
     "text": [
      "/VBFHToBB_M-125_13TeV_powheg_pythia8_weightfix/RunIISummer16NanoAODv7-PUMoriond17_Nano02Apr2020_102X_mcRun2_asymptotic_v8-v1/NANOAODSIM\r\n",
      "/VBFHToBB_M-125_13TeV_powheg_pythia8_weightfix/RunIISummer16NanoAODv7-PUMoriond17_Nano02Apr2020_102X_mcRun2_asymptotic_v8_ext1-v1/NANOAODSIM\r\n"
     ]
    }
   ],
   "source": [
    "!dasgoclient --query=\"dataset dataset=/VBFHToBB_M-125_13TeV_powheg_pythia8_weightfix/RunIISummer16NanoAODv7*/NANOAODSIM\""
   ]
  },
  {
   "cell_type": "code",
   "execution_count": 38,
   "metadata": {},
   "outputs": [
    {
     "name": "stdout",
     "output_type": "stream",
     "text": [
      "/WminusH_HToBB_WToQQ_M125_13TeV_powheg_pythia8/RunIISummer16NanoAODv7-PUMoriond17_Nano02Apr2020_102X_mcRun2_asymptotic_v8-v1/NANOAODSIM\r\n"
     ]
    }
   ],
   "source": [
    "!dasgoclient --query=\"dataset dataset=/WminusH_HToBB_WToQQ_M125_13TeV_powheg_pythia8/RunIISummer16NanoAODv7*/NANOAODSIM\""
   ]
  },
  {
   "cell_type": "code",
   "execution_count": 39,
   "metadata": {},
   "outputs": [
    {
     "name": "stdout",
     "output_type": "stream",
     "text": [
      "/WplusH_HToBB_WToQQ_M125_13TeV_powheg_pythia8/RunIISummer16NanoAODv7-PUMoriond17_Nano02Apr2020_102X_mcRun2_asymptotic_v8-v1/NANOAODSIM\r\n"
     ]
    }
   ],
   "source": [
    "!dasgoclient --query=\"dataset dataset=/WplusH_HToBB_WToQQ_M125_13TeV_powheg_pythia8/RunIISummer16NanoAODv7*/NANOAODSIM\""
   ]
  },
  {
   "cell_type": "code",
   "execution_count": 40,
   "metadata": {},
   "outputs": [
    {
     "name": "stdout",
     "output_type": "stream",
     "text": [
      "/ttHTobb_M125_TuneCP5_13TeV-powheg-pythia8/RunIISummer16NanoAODv7-PUMoriond17_Nano02Apr2020_102X_mcRun2_asymptotic_v8-v1/NANOAODSIM\r\n"
     ]
    }
   ],
   "source": [
    "!dasgoclient --query=\"dataset dataset=/ttHTobb_M125_TuneCP5_13TeV-powheg-pythia8/RunIISummer16NanoAODv7*/NANOAODSIM\""
   ]
  },
  {
   "cell_type": "code",
   "execution_count": 41,
   "metadata": {},
   "outputs": [],
   "source": [
    "# 2016 HToBB\n",
    "filesets = {}\n",
    "\n",
    "filesets['ZH_HToBB_ZToQQ_M125_13TeV_powheg_pythia8'] = !dasgoclient --query=\"file dataset=/ZH_HToBB_ZToQQ_M125_13TeV_powheg_pythia8/RunIISummer16NanoAODv7-PUMoriond17_Nano02Apr2020_102X_mcRun2_asymptotic_v8-v1/NANOAODSIM\"\n",
    "filesets['ZH_HToBB_ZToNuNu_M125_13TeV_powheg_pythia8'] = !dasgoclient --query=\"file dataset=/ZH_HToBB_ZToNuNu_M125_13TeV_powheg_pythia8/RunIISummer16NanoAODv7-PUMoriond17_Nano02Apr2020_102X_mcRun2_asymptotic_v8_ext1-v1/NANOAODSIM\"\n",
    "filesets['ggZH_HToBB_ZToQQ_M125_13TeV_powheg_pythia8'] = !dasgoclient --query=\"file dataset=/ggZH_HToBB_ZToQQ_M125_13TeV_powheg_pythia8/RunIISummer16NanoAODv7-PUMoriond17_Nano02Apr2020_102X_mcRun2_asymptotic_v8-v1/NANOAODSIM\"\n",
    "filesets['ggZH_HToBB_ZToNuNu_M125_13TeV_powheg_pythia8'] = !dasgoclient --query=\"file dataset=/ggZH_HToBB_ZToNuNu_M125_13TeV_powheg_pythia8/RunIISummer16NanoAODv7-PUMoriond17_Nano02Apr2020_102X_mcRun2_asymptotic_v8-v1/NANOAODSIM\"\n",
    "ext1 = !dasgoclient --query=\"file dataset=/ggZH_HToBB_ZToNuNu_M125_13TeV_powheg_pythia8/RunIISummer16NanoAODv7-PUMoriond17_Nano02Apr2020_102X_mcRun2_asymptotic_v8_ext1-v1/NANOAODSIM\"\n",
    "ext2 = !dasgoclient --query=\"file dataset=/ggZH_HToBB_ZToNuNu_M125_13TeV_powheg_pythia8/RunIISummer16NanoAODv7-PUMoriond17_Nano02Apr2020_102X_mcRun2_asymptotic_v8_ext2-v1/NANOAODSIM\"\n",
    "filesets['ggZH_HToBB_ZToNuNu_M125_13TeV_powheg_pythia8'] += ext1 + ext2\n",
    "\n",
    "filesets['GluGluHToBB_M125_13TeV_powheg_pythia8'] = !dasgoclient --query=\"file dataset=/GluGluHToBB_M125_13TeV_powheg_pythia8/RunIISummer16NanoAODv7-PUMoriond17_Nano02Apr2020_102X_mcRun2_asymptotic_v8-v1/NANOAODSIM\"\n",
    "filesets['GluGluHToBB_M-125_13TeV_powheg_MINLO_NNLOPS_pythia8'] = !dasgoclient --query=\"file dataset=/GluGluHToBB_M-125_13TeV_powheg_MINLO_NNLOPS_pythia8/RunIIFall17NanoAODv7-PU2017_12Apr2018_Nano02Apr2020_102X_mc2017_realistic_v8-v1/NANOAODSIM\"\n",
    "\n",
    "filesets['VBFHToBB_M-125_13TeV_powheg_pythia8'] = !dasgoclient --query=\"file dataset=/VBFHToBB_M-125_13TeV_powheg_pythia8_weightfix/RunIISummer16NanoAODv7-PUMoriond17_Nano02Apr2020_102X_mcRun2_asymptotic_v8-v1/NANOAODSIM\"\n",
    "ext = !dasgoclient --query=\"file dataset=/VBFHToBB_M-125_13TeV_powheg_pythia8_weightfix/RunIISummer16NanoAODv7-PUMoriond17_Nano02Apr2020_102X_mcRun2_asymptotic_v8_ext1-v1/NANOAODSIM\"\n",
    "filesets['VBFHToBB_M-125_13TeV_powheg_pythia8'] += ext\n",
    "\n",
    "filesets['WminusH_HToBB_WToQQ_M125_13TeV_powheg_pythia8'] = !dasgoclient --query=\"file dataset=/WminusH_HToBB_WToQQ_M125_13TeV_powheg_pythia8/RunIISummer16NanoAODv7-PUMoriond17_Nano02Apr2020_102X_mcRun2_asymptotic_v8-v1/NANOAODSIM\"\n",
    "filesets['WplusH_HToBB_WToQQ_M125_13TeV_powheg_pythia8'] = !dasgoclient --query=\"file dataset=/WplusH_HToBB_WToQQ_M125_13TeV_powheg_pythia8/RunIISummer16NanoAODv7-PUMoriond17_Nano02Apr2020_102X_mcRun2_asymptotic_v8-v1/NANOAODSIM\"\n",
    "\n",
    "filesets['ttHTobb_M125_13TeV-powheg-pythia8'] = !dasgoclient --query=\"file dataset=/ttHTobb_M125_TuneCP5_13TeV-powheg-pythia8/RunIISummer16NanoAODv7-PUMoriond17_Nano02Apr2020_102X_mcRun2_asymptotic_v8-v1/NANOAODSIM\"\n",
    "\n",
    "names = list(filesets.keys())\n",
    "\n",
    "# Add the xrootd prefix to all files and save to json\n",
    "prefix = 'root://cmsxrootd.fnal.gov/'\n",
    "for s in names:\n",
    "    filesets[s] = [prefix + f for f in filesets[s]]\n",
    "    \n",
    "this_file = 'infiles/2016_HToBB.json'\n",
    "with open(this_file, 'w') as json_file:\n",
    "    json.dump(filesets, json_file)"
   ]
  },
  {
   "cell_type": "code",
   "execution_count": 42,
   "metadata": {},
   "outputs": [
    {
     "name": "stdout",
     "output_type": "stream",
     "text": [
      "/QCD_HT1000to1500_TuneCP5_13TeV-madgraphMLM-pythia8/RunIIAutumn18NanoAODv7-Nano02Apr2020_102X_upgrade2018_realistic_v21-v1/NANOAODSIM\r\n",
      "/QCD_HT100to200_TuneCP5_13TeV-madgraphMLM-pythia8/RunIIAutumn18NanoAODv7-Nano02Apr2020_102X_upgrade2018_realistic_v21-v1/NANOAODSIM\r\n",
      "/QCD_HT1500to2000_TuneCP5_13TeV-madgraphMLM-pythia8/RunIIAutumn18NanoAODv7-Nano02Apr2020_102X_upgrade2018_realistic_v21-v1/NANOAODSIM\r\n",
      "/QCD_HT2000toInf_TuneCP5_13TeV-madgraphMLM-pythia8/RunIIAutumn18NanoAODv7-Nano02Apr2020_102X_upgrade2018_realistic_v21-v1/NANOAODSIM\r\n",
      "/QCD_HT200to300_TuneCP5_13TeV-madgraphMLM-pythia8/RunIIAutumn18NanoAODv7-Nano02Apr2020_102X_upgrade2018_realistic_v21-v1/NANOAODSIM\r\n",
      "/QCD_HT300to500_TuneCP5_13TeV-madgraphMLM-pythia8/RunIIAutumn18NanoAODv7-Nano02Apr2020_102X_upgrade2018_realistic_v21-v1/NANOAODSIM\r\n",
      "/QCD_HT500to700_TuneCP5_13TeV-madgraphMLM-pythia8/RunIIAutumn18NanoAODv7-Nano02Apr2020_102X_upgrade2018_realistic_v21-v1/NANOAODSIM\r\n",
      "/QCD_HT50to100_TuneCP5_13TeV-madgraphMLM-pythia8/RunIIAutumn18NanoAODv7-Nano02Apr2020_102X_upgrade2018_realistic_v21-v1/NANOAODSIM\r\n",
      "/QCD_HT700to1000_TuneCP5_13TeV-madgraphMLM-pythia8/RunIIAutumn18NanoAODv7-Nano02Apr2020_102X_upgrade2018_realistic_v21-v1/NANOAODSIM\r\n"
     ]
    }
   ],
   "source": [
    "!dasgoclient --query=\"dataset dataset=/QCD_HT*_TuneCP5_13TeV-madgraphMLM-pythia8/RunIIAutumn18NanoAODv7*/NANOAODSIM\""
   ]
  },
  {
   "cell_type": "code",
   "execution_count": 43,
   "metadata": {},
   "outputs": [],
   "source": [
    "# 2018 QCD\n",
    "filesets = {}\n",
    "\n",
    "filesets['QCD_HT500to700_13TeV-madgraphMLM-pythia8'] = !dasgoclient --query=\"file dataset=/QCD_HT500to700_TuneCP5_13TeV-madgraphMLM-pythia8/RunIIAutumn18NanoAODv7-Nano02Apr2020_102X_upgrade2018_realistic_v21-v1/NANOAODSIM\"\n",
    "filesets['QCD_HT700to1000_13TeV-madgraphMLM-pythia8'] = !dasgoclient --query=\"file dataset=/QCD_HT700to1000_TuneCP5_13TeV-madgraphMLM-pythia8/RunIIAutumn18NanoAODv7-Nano02Apr2020_102X_upgrade2018_realistic_v21-v1/NANOAODSIM\"\n",
    "filesets['QCD_HT1000to1500_13TeV-madgraphMLM-pythia8'] = !dasgoclient --query=\"file dataset=/QCD_HT1000to1500_TuneCP5_13TeV-madgraphMLM-pythia8/RunIIAutumn18NanoAODv7-Nano02Apr2020_102X_upgrade2018_realistic_v21-v1/NANOAODSIM\"\n",
    "filesets['QCD_HT1500to2000_13TeV-madgraphMLM-pythia8'] = !dasgoclient --query=\"file dataset=/QCD_HT1500to2000_TuneCP5_13TeV-madgraphMLM-pythia8/RunIIAutumn18NanoAODv7-Nano02Apr2020_102X_upgrade2018_realistic_v21-v1/NANOAODSIM\"\n",
    "filesets['QCD_HT2000toInf_13TeV-madgraphMLM-pythia8'] = !dasgoclient --query=\"file dataset=/QCD_HT2000toInf_TuneCP5_13TeV-madgraphMLM-pythia8/RunIIAutumn18NanoAODv7-Nano02Apr2020_102X_upgrade2018_realistic_v21-v1/NANOAODSIM\"\n",
    "\n",
    "names = list(filesets.keys())\n",
    "\n",
    "# Add the xrootd prefix to all files and save to json\n",
    "prefix = 'root://cmsxrootd.fnal.gov/'\n",
    "for s in names:\n",
    "    filesets[s] = [prefix + f for f in filesets[s]]\n",
    "    \n",
    "this_file = 'infiles/2018_QCD.json'\n",
    "with open(this_file, 'w') as json_file:\n",
    "    json.dump(filesets, json_file)"
   ]
  },
  {
   "cell_type": "code",
   "execution_count": 44,
   "metadata": {},
   "outputs": [
    {
     "name": "stdout",
     "output_type": "stream",
     "text": [
      "/QCD_HT50to100_TuneCP5_13TeV-madgraphMLM-pythia8/RunIIFall17NanoAODv7-PU2017_12Apr2018_Nano02Apr2020_102X_mc2017_realistic_v8-v1/NANOAODSIM\r\n"
     ]
    }
   ],
   "source": [
    "!dasgoclient --query=\"dataset dataset=/QCD_HT*_TuneCP5_13TeV-madgraphMLM-pythia8/RunIIFall17NanoAODv7*/NANOAODSIM\""
   ]
  },
  {
   "cell_type": "code",
   "execution_count": 45,
   "metadata": {},
   "outputs": [],
   "source": [
    "# 2017 QCD\n",
    "filesets = {}\n",
    "\n",
    "filesets['QCD_HT500to700_13TeV-madgraphMLM-pythia8'] = !dasgoclient --query=\"file dataset=/QCD_HT500to700_TuneCP5_13TeV-madgraph-pythia8/RunIIFall17NanoAODv7-PU2017_12Apr2018_Nano02Apr2020_102X_mc2017_realistic_v8-v1/NANOAODSIM\"\n",
    "filesets['QCD_HT700to1000_13TeV-madgraphMLM-pythia8'] = !dasgoclient --query=\"file dataset=/QCD_HT700to1000_TuneCP5_13TeV-madgraph-pythia8/RunIIFall17NanoAODv7-PU2017_12Apr2018_Nano02Apr2020_102X_mc2017_realistic_v8-v1/NANOAODSIM\"\n",
    "filesets['QCD_HT1000to1500_13TeV-madgraphMLM-pythia8'] = !dasgoclient --query=\"file dataset=/QCD_HT1000to1500_TuneCP5_13TeV-madgraph-pythia8/RunIIFall17NanoAODv7-PU2017_12Apr2018_Nano02Apr2020_102X_mc2017_realistic_v8-v1/NANOAODSIM\"\n",
    "filesets['QCD_HT1500to2000_13TeV-madgraphMLM-pythia8'] = !dasgoclient --query=\"file dataset=/QCD_HT1500to2000_TuneCP5_13TeV-madgraph-pythia8/RunIIFall17NanoAODv7-PU2017_12Apr2018_Nano02Apr2020_102X_mc2017_realistic_v8-v1/NANOAODSIM\"\n",
    "filesets['QCD_HT2000toInf_13TeV-madgraphMLM-pythia8'] = !dasgoclient --query=\"file dataset=/QCD_HT2000toInf_TuneCP5_13TeV-madgraph-pythia8/RunIIFall17NanoAODv7-PU2017_12Apr2018_Nano02Apr2020_102X_mc2017_realistic_v8-v1/NANOAODSIM\"\n",
    "\n",
    "names = list(filesets.keys())\n",
    "\n",
    "# Add the xrootd prefix to all files and save to json\n",
    "prefix = 'root://cmsxrootd.fnal.gov/'\n",
    "for s in names:\n",
    "    filesets[s] = [prefix + f for f in filesets[s]]\n",
    "    \n",
    "this_file = 'infiles/2017_QCD.json'\n",
    "with open(this_file, 'w') as json_file:\n",
    "    json.dump(filesets, json_file)"
   ]
  },
  {
   "cell_type": "code",
   "execution_count": 46,
   "metadata": {},
   "outputs": [
    {
     "name": "stdout",
     "output_type": "stream",
     "text": [
      "/QCD_HT1000to1500_BGenFilter_TuneCUETP8M1_13TeV-madgraphMLM-pythia8/RunIISummer16NanoAODv7-PUMoriond17_Nano02Apr2020_102X_mcRun2_asymptotic_v8-v1/NANOAODSIM\r\n",
      "/QCD_HT1000to1500_GenJets5_TuneCUETP8M1_13TeV-madgraphMLM-pythia8/RunIISummer16NanoAODv7-PUMoriond17_Nano02Apr2020_102X_mcRun2_asymptotic_v8-v1/NANOAODSIM\r\n",
      "/QCD_HT1000to1500_TuneCUETP8M1_13TeV-madgraphMLM-pythia8/RunIISummer16NanoAODv7-PUMoriond17_Nano02Apr2020_102X_mcRun2_asymptotic_v8-v1/NANOAODSIM\r\n",
      "/QCD_HT1000to1500_TuneCUETP8M1_13TeV-madgraphMLM-pythia8/RunIISummer16NanoAODv7-PUMoriond17_Nano02Apr2020_102X_mcRun2_asymptotic_v8_ext1-v1/NANOAODSIM\r\n",
      "/QCD_HT100to200_TuneCUETP8M1_13TeV-madgraphMLM-pythia8/RunIISummer16NanoAODv7-PUMoriond17_Nano02Apr2020_102X_mcRun2_asymptotic_v8-v1/NANOAODSIM\r\n",
      "/QCD_HT1500to2000_BGenFilter_TuneCUETP8M1_13TeV-madgraphMLM-pythia8/RunIISummer16NanoAODv7-PUMoriond17_Nano02Apr2020_102X_mcRun2_asymptotic_v8-v1/NANOAODSIM\r\n",
      "/QCD_HT1500to2000_GenJets5_TuneCUETP8M1_13TeV-madgraphMLM-pythia8/RunIISummer16NanoAODv7-PUMoriond17_Nano02Apr2020_102X_mcRun2_asymptotic_v8-v1/NANOAODSIM\r\n",
      "/QCD_HT1500to2000_TuneCUETP8M1_13TeV-madgraphMLM-pythia8/RunIISummer16NanoAODv7-PUMoriond17_Nano02Apr2020_102X_mcRun2_asymptotic_v8-v1/NANOAODSIM\r\n",
      "/QCD_HT1500to2000_TuneCUETP8M1_13TeV-madgraphMLM-pythia8/RunIISummer16NanoAODv7-PUMoriond17_Nano02Apr2020_102X_mcRun2_asymptotic_v8_ext1-v1/NANOAODSIM\r\n",
      "/QCD_HT2000toInf_BGenFilter_TuneCUETP8M1_13TeV-madgraphMLM-pythia8/RunIISummer16NanoAODv7-PUMoriond17_Nano02Apr2020_102X_mcRun2_asymptotic_v8-v1/NANOAODSIM\r\n",
      "/QCD_HT2000toInf_GenJets5_TuneCUETP8M1_13TeV-madgraphMLM-pythia8/RunIISummer16NanoAODv7-PUMoriond17_Nano02Apr2020_102X_mcRun2_asymptotic_v8-v1/NANOAODSIM\r\n",
      "/QCD_HT2000toInf_TuneCUETP8M1_13TeV-madgraphMLM-pythia8/RunIISummer16NanoAODv7-PUMoriond17_Nano02Apr2020_102X_mcRun2_asymptotic_v8-v1/NANOAODSIM\r\n",
      "/QCD_HT2000toInf_TuneCUETP8M1_13TeV-madgraphMLM-pythia8/RunIISummer16NanoAODv7-PUMoriond17_Nano02Apr2020_102X_mcRun2_asymptotic_v8_ext1-v1/NANOAODSIM\r\n",
      "/QCD_HT200to300_BGenFilter_TuneCUETP8M1_13TeV-madgraphMLM-pythia8/RunIISummer16NanoAODv7-PUMoriond17_Nano02Apr2020_102X_mcRun2_asymptotic_v8-v1/NANOAODSIM\r\n",
      "/QCD_HT200to300_TuneCUETP8M1_13TeV-madgraphMLM-pythia8/RunIISummer16NanoAODv7-PUMoriond17_Nano02Apr2020_102X_mcRun2_asymptotic_v8-v1/NANOAODSIM\r\n",
      "/QCD_HT200to300_TuneCUETP8M1_13TeV-madgraphMLM-pythia8/RunIISummer16NanoAODv7-PUMoriond17_Nano02Apr2020_102X_mcRun2_asymptotic_v8_ext1-v1/NANOAODSIM\r\n",
      "/QCD_HT300to500_BGenFilter_TuneCUETP8M1_13TeV-madgraphMLM-pythia8/RunIISummer16NanoAODv7-PUMoriond17_Nano02Apr2020_102X_mcRun2_asymptotic_v8-v1/NANOAODSIM\r\n",
      "/QCD_HT300to500_GenJets5_TuneCUETP8M1_13TeV-madgraphMLM-pythia8/RunIISummer16NanoAODv7-PUMoriond17_Nano02Apr2020_102X_mcRun2_asymptotic_v8-v1/NANOAODSIM\r\n",
      "/QCD_HT300to500_TuneCUETP8M1_13TeV-madgraphMLM-pythia8/RunIISummer16NanoAODv7-PUMoriond17_Nano02Apr2020_102X_mcRun2_asymptotic_v8-v1/NANOAODSIM\r\n",
      "/QCD_HT300to500_TuneCUETP8M1_13TeV-madgraphMLM-pythia8/RunIISummer16NanoAODv7-PUMoriond17_Nano02Apr2020_102X_mcRun2_asymptotic_v8_ext1-v1/NANOAODSIM\r\n",
      "/QCD_HT500to700_BGenFilter_TuneCUETP8M1_13TeV-madgraphMLM-pythia8/RunIISummer16NanoAODv7-PUMoriond17_Nano02Apr2020_102X_mcRun2_asymptotic_v8-v1/NANOAODSIM\r\n",
      "/QCD_HT500to700_GenJets5_TuneCUETP8M1_13TeV-madgraphMLM-pythia8/RunIISummer16NanoAODv7-PUMoriond17_Nano02Apr2020_102X_mcRun2_asymptotic_v8-v1/NANOAODSIM\r\n",
      "/QCD_HT500to700_TuneCUETP8M1_13TeV-madgraphMLM-pythia8/RunIISummer16NanoAODv7-PUMoriond17_Nano02Apr2020_102X_mcRun2_asymptotic_v8-v1/NANOAODSIM\r\n",
      "/QCD_HT500to700_TuneCUETP8M1_13TeV-madgraphMLM-pythia8/RunIISummer16NanoAODv7-PUMoriond17_Nano02Apr2020_102X_mcRun2_asymptotic_v8_ext1-v1/NANOAODSIM\r\n",
      "/QCD_HT50to100_TuneCUETP8M1_13TeV-madgraphMLM-pythia8/RunIISummer16NanoAODv7-PUMoriond17_Nano02Apr2020_102X_mcRun2_asymptotic_v8-v1/NANOAODSIM\r\n",
      "/QCD_HT700to1000_BGenFilter_TuneCUETP8M1_13TeV-madgraphMLM-pythia8/RunIISummer16NanoAODv7-PUMoriond17_Nano02Apr2020_102X_mcRun2_asymptotic_v8-v1/NANOAODSIM\r\n",
      "/QCD_HT700to1000_GenJets5_TuneCUETP8M1_13TeV-madgraphMLM-pythia8/RunIISummer16NanoAODv7-PUMoriond17_Nano02Apr2020_102X_mcRun2_asymptotic_v8-v1/NANOAODSIM\r\n",
      "/QCD_HT700to1000_TuneCUETP8M1_13TeV-madgraphMLM-pythia8/RunIISummer16NanoAODv7-PUMoriond17_Nano02Apr2020_102X_mcRun2_asymptotic_v8-v1/NANOAODSIM\r\n",
      "/QCD_HT700to1000_TuneCUETP8M1_13TeV-madgraphMLM-pythia8/RunIISummer16NanoAODv7-PUMoriond17_Nano02Apr2020_102X_mcRun2_asymptotic_v8_ext1-v1/NANOAODSIM\r\n"
     ]
    }
   ],
   "source": [
    "!dasgoclient --query=\"dataset dataset=/QCD_HT*_TuneCUETP8M1_13TeV-madgraphMLM-pythia8/RunIISummer16NanoAODv7*/NANOAODSIM\""
   ]
  },
  {
   "cell_type": "code",
   "execution_count": 47,
   "metadata": {},
   "outputs": [],
   "source": [
    "# 2016 QCD\n",
    "filesets = {}\n",
    "\n",
    "filesets['QCD_HT500to700_13TeV-madgraphMLM-pythia8'] =!dasgoclient --query=\"file dataset=/QCD_HT500to700_TuneCUETP8M1_13TeV-madgraphMLM-pythia8/RunIISummer16NanoAODv7-PUMoriond17_Nano02Apr2020_102X_mcRun2_asymptotic_v8-v1/NANOAODSIM\"\n",
    "ext = !dasgoclient --query=\"file dataset=/QCD_HT500to700_TuneCUETP8M1_13TeV-madgraphMLM-pythia8/RunIISummer16NanoAODv7-PUMoriond17_Nano02Apr2020_102X_mcRun2_asymptotic_v8_ext1-v1/NANOAODSIM\"\n",
    "filesets['QCD_HT500to700_13TeV-madgraphMLM-pythia8'] += ext\n",
    "\n",
    "filesets['QCD_HT700to1000_13TeV-madgraphMLM-pythia8'] = !dasgoclient --query=\"file dataset=/QCD_HT700to1000_TuneCUETP8M1_13TeV-madgraphMLM-pythia8/RunIISummer16NanoAODv7-PUMoriond17_Nano02Apr2020_102X_mcRun2_asymptotic_v8-v1/NANOAODSIM\"\n",
    "ext = !dasgoclient --query=\"file dataset=/QCD_HT700to1000_TuneCUETP8M1_13TeV-madgraphMLM-pythia8/RunIISummer16NanoAODv7-PUMoriond17_Nano02Apr2020_102X_mcRun2_asymptotic_v8_ext1-v1/NANOAODSIM\"\n",
    "filesets['QCD_HT700to1000_13TeV-madgraphMLM-pythia8'] += ext\n",
    "\n",
    "filesets['QCD_HT1000to1500_13TeV-madgraphMLM-pythia8'] = !dasgoclient --query=\"file dataset=/QCD_HT1000to1500_TuneCUETP8M1_13TeV-madgraphMLM-pythia8/RunIISummer16NanoAODv7-PUMoriond17_Nano02Apr2020_102X_mcRun2_asymptotic_v8-v1/NANOAODSIM\"\n",
    "ext = !dasgoclient --query=\"file dataset=/QCD_HT1000to1500_TuneCUETP8M1_13TeV-madgraphMLM-pythia8/RunIISummer16NanoAODv7-PUMoriond17_Nano02Apr2020_102X_mcRun2_asymptotic_v8_ext1-v1/NANOAODSIM\n",
    "filesets['QCD_HT1000to1500_13TeV-madgraphMLM-pythia8'] += ext\n",
    "\n",
    "filesets['QCD_HT1500to2000_13TeV-madgraphMLM-pythia8'] = !dasgoclient --query=\"file dataset=/QCD_HT1500to2000_TuneCUETP8M1_13TeV-madgraphMLM-pythia8/RunIISummer16NanoAODv7-PUMoriond17_Nano02Apr2020_102X_mcRun2_asymptotic_v8-v1/NANOAODSIM\"\n",
    "ext = !dasgoclient --query=\"file dataset=/QCD_HT1500to2000_TuneCUETP8M1_13TeV-madgraphMLM-pythia8/RunIISummer16NanoAODv7-PUMoriond17_Nano02Apr2020_102X_mcRun2_asymptotic_v8_ext1-v1/NANOAODSIM\"\n",
    "filesets['QCD_HT1500to2000_13TeV-madgraphMLM-pythia8'] += ext\n",
    "\n",
    "filesets['QCD_HT2000toInf_13TeV-madgraphMLM-pythia8'] = !dasgoclient --query=\"file dataset=/QCD_HT2000toInf_TuneCUETP8M1_13TeV-madgraphMLM-pythia8/RunIISummer16NanoAODv7-PUMoriond17_Nano02Apr2020_102X_mcRun2_asymptotic_v8-v1/NANOAODSIM\"\n",
    "ext = !dasgoclient --query=\"file dataset=/QCD_HT2000toInf_TuneCUETP8M1_13TeV-madgraphMLM-pythia8/RunIISummer16NanoAODv7-PUMoriond17_Nano02Apr2020_102X_mcRun2_asymptotic_v8_ext1-v1/NANOAODSIM\"\n",
    "filesets['QCD_HT2000toInf_13TeV-madgraphMLM-pythia8'] += ext\n",
    "\n",
    "names = list(filesets.keys())\n",
    "\n",
    "# Add the xrootd prefix to all files and save to json\n",
    "prefix = 'root://cmsxrootd.fnal.gov/'\n",
    "for s in names:\n",
    "    filesets[s] = [prefix + f for f in filesets[s]]\n",
    "    \n",
    "this_file = 'infiles/2016_QCD.json'\n",
    "with open(this_file, 'w') as json_file:\n",
    "    json.dump(filesets, json_file)"
   ]
  },
  {
   "cell_type": "code",
   "execution_count": 48,
   "metadata": {},
   "outputs": [
    {
     "name": "stdout",
     "output_type": "stream",
     "text": [
      "/WW_TuneCP5_13TeV-pythia8/RunIIAutumn18NanoAODv7-Nano02Apr2020_102X_upgrade2018_realistic_v21-v1/NANOAODSIM\r\n"
     ]
    }
   ],
   "source": [
    "!dasgoclient --query=\"dataset dataset=/WW_TuneCP5_13TeV-pythia8/RunIIAutumn18NanoAODv7*/NANOAODSIM\""
   ]
  },
  {
   "cell_type": "code",
   "execution_count": 49,
   "metadata": {},
   "outputs": [
    {
     "name": "stdout",
     "output_type": "stream",
     "text": [
      "/ZZ_TuneCP5_13TeV-pythia8/RunIIAutumn18NanoAODv7-Nano02Apr2020_102X_upgrade2018_realistic_v21-v1/NANOAODSIM\r\n"
     ]
    }
   ],
   "source": [
    "!dasgoclient --query=\"dataset dataset=/ZZ_TuneCP5_13TeV-pythia8/RunIIAutumn18NanoAODv7*/NANOAODSIM\""
   ]
  },
  {
   "cell_type": "code",
   "execution_count": 50,
   "metadata": {},
   "outputs": [
    {
     "name": "stdout",
     "output_type": "stream",
     "text": [
      "/WZ_TuneCP5_13TeV-pythia8/RunIIAutumn18NanoAODv7-Nano02Apr2020_102X_upgrade2018_realistic_v21-v1/NANOAODSIM\r\n"
     ]
    }
   ],
   "source": [
    "!dasgoclient --query=\"dataset dataset=/WZ_TuneCP5_13TeV-pythia8/RunIIAutumn18NanoAODv7*/NANOAODSIM\""
   ]
  },
  {
   "cell_type": "code",
   "execution_count": 51,
   "metadata": {},
   "outputs": [
    {
     "name": "stdout",
     "output_type": "stream",
     "text": [
      "/WJetsToQQ_HT-800toInf_qc19_3j_TuneCP5_13TeV-madgraphMLM-pythia8/RunIIAutumn18NanoAODv7-Nano02Apr2020_102X_upgrade2018_realistic_v21-v1/NANOAODSIM\r\n",
      "/WJetsToQQ_HT400to600_qc19_3j_TuneCP5_13TeV-madgraphMLM-pythia8/RunIIAutumn18NanoAODv7-Nano02Apr2020_102X_upgrade2018_realistic_v21-v1/NANOAODSIM\r\n",
      "/WJetsToQQ_HT600to800_qc19_3j_TuneCP5_13TeV-madgraphMLM-pythia8/RunIIAutumn18NanoAODv7-Nano02Apr2020_102X_upgrade2018_realistic_v21-v1/NANOAODSIM\r\n"
     ]
    }
   ],
   "source": [
    "!dasgoclient --query=\"dataset dataset=/WJetsToQQ_HT*_qc19_3j_TuneCP5_13TeV-madgraphMLM-pythia8/RunIIAutumn18NanoAODv7*/NANOAODSIM\""
   ]
  },
  {
   "cell_type": "code",
   "execution_count": 52,
   "metadata": {},
   "outputs": [
    {
     "name": "stdout",
     "output_type": "stream",
     "text": [
      "/ZJetsToQQ_HT-800toInf_qc19_4j_TuneCP5_13TeV-madgraphMLM-pythia8/RunIIAutumn18NanoAODv7-Nano02Apr2020_102X_upgrade2018_realistic_v21-v1/NANOAODSIM\r\n",
      "/ZJetsToQQ_HT400to600_qc19_4j_TuneCP5_13TeV-madgraphMLM-pythia8/RunIIAutumn18NanoAODv7-Nano02Apr2020_102X_upgrade2018_realistic_v21-v1/NANOAODSIM\r\n",
      "/ZJetsToQQ_HT600to800_qc19_4j_TuneCP5_13TeV-madgraphMLM-pythia8/RunIIAutumn18NanoAODv7-Nano02Apr2020_102X_upgrade2018_realistic_v21-v1/NANOAODSIM\r\n"
     ]
    }
   ],
   "source": [
    "!dasgoclient --query=\"dataset dataset=/ZJetsToQQ_HT*_qc19_4j_TuneCP5_13TeV-madgraphMLM-pythia8/RunIIAutumn18NanoAODv7*/NANOAODSIM\""
   ]
  },
  {
   "cell_type": "code",
   "execution_count": 53,
   "metadata": {},
   "outputs": [],
   "source": [
    "# 2018 WZ\n",
    "filesets = {}\n",
    "\n",
    "filesets['WW_13TeV-pythia8'] = !dasgoclient --query=\"file dataset=/WW_TuneCP5_13TeV-pythia8/RunIIAutumn18NanoAODv7-Nano02Apr2020_102X_upgrade2018_realistic_v21-v1/NANOAODSIM\"\n",
    "filesets['ZZ_13TeV-pythia8'] = !dasgoclient --query=\"file dataset=/ZZ_TuneCP5_13TeV-pythia8/RunIIAutumn18NanoAODv7-Nano02Apr2020_102X_upgrade2018_realistic_v21-v1/NANOAODSIM\"\n",
    "filesets['WZ_13TeV-pythia8'] = !dasgoclient --query=\"file dataset=/WZ_TuneCP5_13TeV-pythia8/RunIIAutumn18NanoAODv7-Nano02Apr2020_102X_upgrade2018_realistic_v21-v1/NANOAODSIM\"\n",
    "\n",
    "filesets['WJetsToQQ_HT800toInf_qc19_3j_13TeV-madgraphMLM-pythia8'] = !dasgoclient --query=\"file dataset=/WJetsToQQ_HT-800toInf_qc19_3j_TuneCP5_13TeV-madgraphMLM-pythia8/RunIIAutumn18NanoAODv7-Nano02Apr2020_102X_upgrade2018_realistic_v21-v1/NANOAODSIM\"\n",
    "filesets['WJetsToQQ_HT400to600_qc19_3j_13TeV-madgraphMLM-pythia8'] = !dasgoclient --query=\"file dataset=/WJetsToQQ_HT400to600_qc19_3j_TuneCP5_13TeV-madgraphMLM-pythia8/RunIIAutumn18NanoAODv7-Nano02Apr2020_102X_upgrade2018_realistic_v21-v1/NANOAODSIM\"\n",
    "filesets['WJetsToQQ_HT600to800_qc19_3j_13TeV-madgraphMLM-pythia8'] = !dasgoclient --query=\"file dataset=/WJetsToQQ_HT600to800_qc19_3j_TuneCP5_13TeV-madgraphMLM-pythia8/RunIIAutumn18NanoAODv7-Nano02Apr2020_102X_upgrade2018_realistic_v21-v1/NANOAODSIM\"\n",
    "\n",
    "filesets['ZJetsToQQ_HT800toInf_qc19_4j_13TeV-madgraphMLM-pythia8'] = !dasgoclient --query=\"file dataset=/ZJetsToQQ_HT-800toInf_qc19_4j_TuneCP5_13TeV-madgraphMLM-pythia8/RunIIAutumn18NanoAODv7-Nano02Apr2020_102X_upgrade2018_realistic_v21-v1/NANOAODSIM\"\n",
    "filesets['ZJetsToQQ_HT400to600_qc19_4j_13TeV-madgraphMLM-pythia8'] = !dasgoclient --query=\"file dataset=/ZJetsToQQ_HT400to600_qc19_4j_TuneCP5_13TeV-madgraphMLM-pythia8/RunIIAutumn18NanoAODv7-Nano02Apr2020_102X_upgrade2018_realistic_v21-v1/NANOAODSIM\"\n",
    "filesets['ZJetsToQQ_HT600to800_qc19_4j_13TeV-madgraphMLM-pythia8'] = !dasgoclient --query=\"file dataset=/ZJetsToQQ_HT600to800_qc19_4j_TuneCP5_13TeV-madgraphMLM-pythia8/RunIIAutumn18NanoAODv7-Nano02Apr2020_102X_upgrade2018_realistic_v21-v1/NANOAODSIM\"\n",
    "\n",
    "names = list(filesets.keys())\n",
    "\n",
    "# Add the xrootd prefix to all files and save to json\n",
    "prefix = 'root://cmsxrootd.fnal.gov/'\n",
    "for s in names:\n",
    "    filesets[s] = [prefix + f for f in filesets[s]]\n",
    "    \n",
    "this_file = 'infiles/2018_WandZ.json'\n",
    "with open(this_file, 'w') as json_file:\n",
    "    json.dump(filesets, json_file)"
   ]
  },
  {
   "cell_type": "code",
   "execution_count": 54,
   "metadata": {},
   "outputs": [
    {
     "name": "stdout",
     "output_type": "stream",
     "text": [
      "/WW_TuneCP5_13TeV-pythia8/RunIIFall17NanoAODv7-PU2017_12Apr2018_Nano02Apr2020_102X_mc2017_realistic_v8-v1/NANOAODSIM\r\n"
     ]
    }
   ],
   "source": [
    "!dasgoclient --query=\"dataset dataset=/WW_TuneCP5_13TeV-pythia8/RunIIFall17NanoAODv7*/NANOAODSIM\""
   ]
  },
  {
   "cell_type": "code",
   "execution_count": 55,
   "metadata": {},
   "outputs": [
    {
     "name": "stdout",
     "output_type": "stream",
     "text": [
      "/ZZ_TuneCP5_13TeV-pythia8/RunIIFall17NanoAODv7-PU2017_12Apr2018_Nano02Apr2020_102X_mc2017_realistic_v8-v1/NANOAODSIM\r\n"
     ]
    }
   ],
   "source": [
    "!dasgoclient --query=\"dataset dataset=/ZZ_TuneCP5_13TeV-pythia8/RunIIFall17NanoAODv7*/NANOAODSIM\""
   ]
  },
  {
   "cell_type": "code",
   "execution_count": 56,
   "metadata": {},
   "outputs": [
    {
     "name": "stdout",
     "output_type": "stream",
     "text": [
      "/WZ_TuneCP5_13TeV-pythia8/RunIIFall17NanoAODv7-PU2017_12Apr2018_Nano02Apr2020_102X_mc2017_realistic_v8-v1/NANOAODSIM\r\n",
      "/WZ_TuneCP5_13TeV-pythia8/RunIIFall17NanoAODv7-PU2017_12Apr2018_Nano02Apr2020_PU2017_EXT_102X_mc2017_realistic_v8-v1/NANOAODSIM\r\n"
     ]
    }
   ],
   "source": [
    "!dasgoclient --query=\"dataset dataset=/WZ_TuneCP5_13TeV-pythia8/RunIIFall17NanoAODv7*/NANOAODSIM\""
   ]
  },
  {
   "cell_type": "code",
   "execution_count": 57,
   "metadata": {},
   "outputs": [
    {
     "name": "stdout",
     "output_type": "stream",
     "text": [
      "/WJetsToQQ_HT-800toInf_qc19_3j_TuneCP5_13TeV-madgraphMLM-pythia8/RunIIFall17NanoAODv7-PU2017_12Apr2018_Nano02Apr2020_102X_mc2017_realistic_v8-v1/NANOAODSIM\r\n",
      "/WJetsToQQ_HT400to600_qc19_3j_TuneCP5_13TeV-madgraphMLM-pythia8/RunIIFall17NanoAODv7-PU2017_12Apr2018_Nano02Apr2020_102X_mc2017_realistic_v8-v1/NANOAODSIM\r\n",
      "/WJetsToQQ_HT600to800_qc19_3j_TuneCP5_13TeV-madgraphMLM-pythia8/RunIIFall17NanoAODv7-PU2017_12Apr2018_Nano02Apr2020_102X_mc2017_realistic_v8-v1/NANOAODSIM\r\n"
     ]
    }
   ],
   "source": [
    "!dasgoclient --query=\"dataset dataset=/WJetsToQQ_HT*_qc19_3j_TuneCP5_13TeV-madgraphMLM-pythia8/RunIIFall17NanoAODv7*/NANOAODSIM\""
   ]
  },
  {
   "cell_type": "code",
   "execution_count": 58,
   "metadata": {},
   "outputs": [
    {
     "name": "stdout",
     "output_type": "stream",
     "text": [
      "/ZJetsToQQ_HT-800toInf_qc19_4j_TuneCP5_13TeV-madgraphMLM-pythia8/RunIIFall17NanoAODv7-PU2017_12Apr2018_Nano02Apr2020_102X_mc2017_realistic_v8-v1/NANOAODSIM\r\n",
      "/ZJetsToQQ_HT400to600_qc19_4j_TuneCP5_13TeV-madgraphMLM-pythia8/RunIIFall17NanoAODv7-PU2017_12Apr2018_Nano02Apr2020_102X_mc2017_realistic_v8-v1/NANOAODSIM\r\n",
      "/ZJetsToQQ_HT600to800_qc19_4j_TuneCP5_13TeV-madgraphMLM-pythia8/RunIIFall17NanoAODv7-PU2017_12Apr2018_Nano02Apr2020_102X_mc2017_realistic_v8-v1/NANOAODSIM\r\n"
     ]
    }
   ],
   "source": [
    "!dasgoclient --query=\"dataset dataset=/ZJetsToQQ_HT*_qc19_4j_TuneCP5_13TeV-madgraphMLM-pythia8/RunIIFall17NanoAODv7*/NANOAODSIM\""
   ]
  },
  {
   "cell_type": "code",
   "execution_count": 59,
   "metadata": {},
   "outputs": [],
   "source": [
    "# 2017 WZ\n",
    "filesets = {}\n",
    "\n",
    "filesets['WW_13TeV-pythia8'] = !dasgoclient --query=\"file dataset=/WW_TuneCP5_13TeV-pythia8/RunIIFall17NanoAODv7-PU2017_12Apr2018_Nano02Apr2020_102X_mc2017_realistic_v8-v1/NANOAODSIM\"\n",
    "filesets['ZZ_13TeV-pythia8'] = !dasgoclient --query=\"file dataset=/ZZ_TuneCP5_13TeV-pythia8/RunIIFall17NanoAODv7-PU2017_12Apr2018_Nano02Apr2020_102X_mc2017_realistic_v8-v1/NANOAODSIM\"\n",
    "filesets['WZ_13TeV-pythia8'] = !dasgoclient --query=\"file dataset=/WZ_TuneCP5_13TeV-pythia8/RunIIFall17NanoAODv7-PU2017_12Apr2018_Nano02Apr2020_102X_mc2017_realistic_v8-v1/NANOAODSIM\"\n",
    "ext = !dasgoclient --query=\"file dataset=/WZ_TuneCP5_13TeV-pythia8/RunIIFall17NanoAODv7-PU2017_12Apr2018_Nano02Apr2020_PU2017_EXT_102X_mc2017_realistic_v8-v1/NANOAODSIM\"\n",
    "\n",
    "filesets['WJetsToQQ_HT800toInf_qc19_3j_13TeV-madgraphMLM-pythia8'] = !dasgoclient --query=\"file dataset=/WJetsToQQ_HT-800toInf_qc19_3j_TuneCP5_13TeV-madgraphMLM-pythia8/RunIIFall17NanoAODv7-PU2017_12Apr2018_Nano02Apr2020_102X_mc2017_realistic_v8-v1/NANOAODSIM\"\n",
    "filesets['WJetsToQQ_HT400to600_qc19_3j_13TeV-madgraphMLM-pythia8'] = !dasgoclient --query=\"file dataset=/WJetsToQQ_HT400to600_qc19_3j_TuneCP5_13TeV-madgraphMLM-pythia8/RunIIFall17NanoAODv7-PU2017_12Apr2018_Nano02Apr2020_102X_mc2017_realistic_v8-v1/NANOAODSIM\"\n",
    "filesets['WJetsToQQ_HT600to800_qc19_3j_13TeV-madgraphMLM-pythia8'] = !dasgoclient --query=\"file dataset=/WJetsToQQ_HT600to800_qc19_3j_TuneCP5_13TeV-madgraphMLM-pythia8/RunIIFall17NanoAODv7-PU2017_12Apr2018_Nano02Apr2020_102X_mc2017_realistic_v8-v1/NANOAODSIM\"\n",
    "\n",
    "filesets['ZJetsToQQ_HT800toInf_qc19_4j_13TeV-madgraphMLM-pythia8'] = !dasgoclient --query=\"file dataset=/ZJetsToQQ_HT-800toInf_qc19_4j_TuneCP5_13TeV-madgraphMLM-pythia8/RunIIFall17NanoAODv7-PU2017_12Apr2018_Nano02Apr2020_102X_mc2017_realistic_v8-v1/NANOAODSIM\"\n",
    "filesets['ZJetsToQQ_HT400to600_qc19_4j_13TeV-madgraphMLM-pythia8'] = !dasgoclient --query=\"file dataset=/ZJetsToQQ_HT400to600_qc19_4j_TuneCP5_13TeV-madgraphMLM-pythia8/RunIIFall17NanoAODv7-PU2017_12Apr2018_Nano02Apr2020_102X_mc2017_realistic_v8-v1/NANOAODSIM\"\n",
    "filesets['ZJetsToQQ_HT600to800_qc19_4j_13TeV-madgraphMLM-pythia8'] = !dasgoclient --query=\"file dataset=/ZJetsToQQ_HT600to800_qc19_4j_TuneCP5_13TeV-madgraphMLM-pythia8/RunIIFall17NanoAODv7-PU2017_12Apr2018_Nano02Apr2020_102X_mc2017_realistic_v8-v1/NANOAODSIM\"\n",
    "\n",
    "names = list(filesets.keys())\n",
    "\n",
    "# Add the xrootd prefix to all files and save to json\n",
    "prefix = 'root://cmsxrootd.fnal.gov/'\n",
    "for s in names:\n",
    "    filesets[s] = [prefix + f for f in filesets[s]]\n",
    "    \n",
    "this_file = 'infiles/2017_WandZ.json'\n",
    "with open(this_file, 'w') as json_file:\n",
    "    json.dump(filesets, json_file)"
   ]
  },
  {
   "cell_type": "code",
   "execution_count": 60,
   "metadata": {},
   "outputs": [
    {
     "name": "stdout",
     "output_type": "stream",
     "text": [
      "/WW_TuneCUETP8M1_13TeV-pythia8/RunIISummer16NanoAODv7-PUMoriond17_Nano02Apr2020_102X_mcRun2_asymptotic_v8-v1/NANOAODSIM\r\n",
      "/WW_TuneCUETP8M1_13TeV-pythia8/RunIISummer16NanoAODv7-PUMoriond17_Nano02Apr2020_102X_mcRun2_asymptotic_v8_ext1-v1/NANOAODSIM\r\n"
     ]
    }
   ],
   "source": [
    "!dasgoclient --query=\"dataset dataset=/WW_TuneCUETP8M1_13TeV-pythia8/RunIISummer16NanoAODv7*/NANOAODSIM\""
   ]
  },
  {
   "cell_type": "code",
   "execution_count": 61,
   "metadata": {},
   "outputs": [
    {
     "name": "stdout",
     "output_type": "stream",
     "text": [
      "/ZZ_TuneCUETP8M1_13TeV-pythia8/RunIISummer16NanoAODv7-PUMoriond17_Nano02Apr2020_102X_mcRun2_asymptotic_v8-v1/NANOAODSIM\r\n",
      "/ZZ_TuneCUETP8M1_13TeV-pythia8/RunIISummer16NanoAODv7-PUMoriond17_Nano02Apr2020_102X_mcRun2_asymptotic_v8_ext1-v1/NANOAODSIM\r\n"
     ]
    }
   ],
   "source": [
    "!dasgoclient --query=\"dataset dataset=/ZZ_TuneCUETP8M1_13TeV-pythia8/RunIISummer16NanoAODv7*/NANOAODSIM\""
   ]
  },
  {
   "cell_type": "code",
   "execution_count": 62,
   "metadata": {},
   "outputs": [
    {
     "name": "stdout",
     "output_type": "stream",
     "text": [
      "/WZ_TuneCUETP8M1_13TeV-pythia8/RunIISummer16NanoAODv7-PUMoriond17_Nano02Apr2020_102X_mcRun2_asymptotic_v8-v1/NANOAODSIM\r\n",
      "/WZ_TuneCUETP8M1_13TeV-pythia8/RunIISummer16NanoAODv7-PUMoriond17_Nano02Apr2020_102X_mcRun2_asymptotic_v8_ext1-v1/NANOAODSIM\r\n"
     ]
    }
   ],
   "source": [
    "!dasgoclient --query=\"dataset dataset=/WZ_TuneCUETP8M1_13TeV-pythia8/RunIISummer16NanoAODv7*/NANOAODSIM\""
   ]
  },
  {
   "cell_type": "code",
   "execution_count": 63,
   "metadata": {},
   "outputs": [
    {
     "name": "stdout",
     "output_type": "stream",
     "text": [
      "/WJetsToQQ_HT-800toInf_qc19_3j_TuneCUETP8M1_13TeV-madgraphMLM-pythia8/RunIISummer16NanoAODv7-PUMoriond17_Nano02Apr2020_102X_mcRun2_asymptotic_v8-v1/NANOAODSIM\r\n",
      "/WJetsToQQ_HT400to600_qc19_3j_TuneCUETP8M1_13TeV-madgraphMLM-pythia8/RunIISummer16NanoAODv7-PUMoriond17_Nano02Apr2020_102X_mcRun2_asymptotic_v8-v1/NANOAODSIM\r\n",
      "/WJetsToQQ_HT600to800_qc19_3j_TuneCUETP8M1_13TeV-madgraphMLM-pythia8/RunIISummer16NanoAODv7-PUMoriond17_Nano02Apr2020_102X_mcRun2_asymptotic_v8-v1/NANOAODSIM\r\n"
     ]
    }
   ],
   "source": [
    "!dasgoclient --query=\"dataset dataset=/WJetsToQQ_HT*_qc19_3j_TuneCUETP8M1_13TeV-madgraphMLM-pythia8/RunIISummer16NanoAODv7*/NANOAODSIM\""
   ]
  },
  {
   "cell_type": "code",
   "execution_count": 64,
   "metadata": {},
   "outputs": [
    {
     "name": "stdout",
     "output_type": "stream",
     "text": [
      "/WJetsToQQ_HT180_13TeV-madgraphMLM-pythia8/RunIISummer16NanoAODv7-PUMoriond17_Nano02Apr2020_102X_mcRun2_asymptotic_v8-v1/NANOAODSIM\r\n"
     ]
    }
   ],
   "source": [
    "!dasgoclient --query=\"dataset dataset=/WJetsToQQ_HT180_13TeV-madgraphMLM-pythia8/RunIISummer16NanoAODv7*/NANOAODSIM\""
   ]
  },
  {
   "cell_type": "code",
   "execution_count": 65,
   "metadata": {},
   "outputs": [
    {
     "name": "stdout",
     "output_type": "stream",
     "text": [
      "/ZJetsToQQ_HT-800toInf_qc19_4j_TuneCUETP8M1_13TeV-madgraphMLM-pythia8/RunIISummer16NanoAODv7-PUMoriond17_Nano02Apr2020_102X_mcRun2_asymptotic_v8-v1/NANOAODSIM\r\n",
      "/ZJetsToQQ_HT400to600_qc19_4j_TuneCUETP8M1_13TeV-madgraphMLM-pythia8/RunIISummer16NanoAODv7-PUMoriond17_Nano02Apr2020_102X_mcRun2_asymptotic_v8-v1/NANOAODSIM\r\n",
      "/ZJetsToQQ_HT600to800_qc19_4j_TuneCUETP8M1_13TeV-madgraphMLM-pythia8/RunIISummer16NanoAODv7-PUMoriond17_Nano02Apr2020_102X_mcRun2_asymptotic_v8-v1/NANOAODSIM\r\n"
     ]
    }
   ],
   "source": [
    "!dasgoclient --query=\"dataset dataset=/ZJetsToQQ_HT*_qc19_4j_TuneCUETP8M1_13TeV-madgraphMLM-pythia8/RunIISummer16NanoAODv7*/NANOAODSIM\""
   ]
  },
  {
   "cell_type": "code",
   "execution_count": 66,
   "metadata": {},
   "outputs": [
    {
     "name": "stdout",
     "output_type": "stream",
     "text": [
      "/DYJetsToQQ_HT180_13TeV-madgraphMLM-pythia8/RunIISummer16NanoAODv7-PUMoriond17_Nano02Apr2020_102X_mcRun2_asymptotic_v8-v1/NANOAODSIM\r\n"
     ]
    }
   ],
   "source": [
    "!dasgoclient --query=\"dataset dataset=/DYJetsToQQ_HT180_13TeV-madgraphMLM-pythia8/RunIISummer16NanoAODv7*/NANOAODSIM\""
   ]
  },
  {
   "cell_type": "code",
   "execution_count": 67,
   "metadata": {},
   "outputs": [],
   "source": [
    "# 2016 WZ\n",
    "filesets = {}\n",
    "\n",
    "filesets['WW_13TeV-pythia8'] = !dasgoclient --query=\"file dataset=/WW_TuneCUETP8M1_13TeV-pythia8/RunIISummer16NanoAODv7-PUMoriond17_Nano02Apr2020_102X_mcRun2_asymptotic_v8-v1/NANOAODSIM\"\n",
    "ext = !dasgoclient --query=\"file dataset=/WW_TuneCUETP8M1_13TeV-pythia8/RunIISummer16NanoAODv7-PUMoriond17_Nano02Apr2020_102X_mcRun2_asymptotic_v8_ext1-v1/NANOAODSIM\"\n",
    "filesets['WW_13TeV-pythia8'] += ext\n",
    "\n",
    "filesets['ZZ_13TeV-pythia8'] = !dasgoclient --query=\"file dataset=/ZZ_TuneCUETP8M1_13TeV-pythia8/RunIISummer16NanoAODv7-PUMoriond17_Nano02Apr2020_102X_mcRun2_asymptotic_v8-v1/NANOAODSIM\"\n",
    "ext = !dasgoclient --query=\"file dataset=/ZZ_TuneCUETP8M1_13TeV-pythia8/RunIISummer16NanoAODv7-PUMoriond17_Nano02Apr2020_102X_mcRun2_asymptotic_v8_ext1-v1/NANOAODSIM\"\n",
    "filesets['ZZ_13TeV-pythia8'] += ext\n",
    "\n",
    "filesets['WZ_13TeV-pythia8'] = !dasgoclient --query=\"file dataset=/WZ_TuneCUETP8M1_13TeV-pythia8/RunIISummer16NanoAODv7-PUMoriond17_Nano02Apr2020_102X_mcRun2_asymptotic_v8-v1/NANOAODSIM\"\n",
    "ext = !dasgoclient --query=\"file dataset=/WZ_TuneCUETP8M1_13TeV-pythia8/RunIISummer16NanoAODv7-PUMoriond17_Nano02Apr2020_102X_mcRun2_asymptotic_v8_ext1-v1/NANOAODSIM\"\n",
    "filesets['WZ_13TeV-pythia8'] += ext\n",
    "\n",
    "filesets['WJetsToQQ_HT-800toInf_qc19_3j_13TeV-madgraphMLM-pythia8'] = !dasgoclient --query=\"file dataset=/WJetsToQQ_HT-800toInf_qc19_3j_TuneCUETP8M1_13TeV-madgraphMLM-pythia8/RunIISummer16NanoAODv7-PUMoriond17_Nano02Apr2020_102X_mcRun2_asymptotic_v8-v1/NANOAODSIM\"\n",
    "filesets['WJetsToQQ_HT400to600_qc19_3j_13TeV-madgraphMLM-pythia8'] = !dasgoclient --query=\"file dataset=/WJetsToQQ_HT400to600_qc19_3j_TuneCUETP8M1_13TeV-madgraphMLM-pythia8/RunIISummer16NanoAODv7-PUMoriond17_Nano02Apr2020_102X_mcRun2_asymptotic_v8-v1/NANOAODSIM\"\n",
    "filesets['WJetsToQQ_HT600to800_qc19_3j_13TeV-madgraphMLM-pythia8'] = !dasgoclient --query=\"file dataset=/WJetsToQQ_HT600to800_qc19_3j_TuneCUETP8M1_13TeV-madgraphMLM-pythia8/RunIISummer16NanoAODv7-PUMoriond17_Nano02Apr2020_102X_mcRun2_asymptotic_v8-v1/NANOAODSIM\"\n",
    "\n",
    "filesets['WJetsToQQ_HT180_13TeV-madgraphMLM-pythia8'] = !dasgoclient --query=\"file dataset=/WJetsToQQ_HT180_13TeV-madgraphMLM-pythia8/RunIISummer16NanoAODv7-PUMoriond17_Nano02Apr2020_102X_mcRun2_asymptotic_v8-v1/NANOAODSIM\"\n",
    "\n",
    "filesets['ZJetsToQQ_HT-800toInf_qc19_4j_13TeV-madgraphMLM-pythia8'] = !dasgoclient --query=\"file dataset=/ZJetsToQQ_HT-800toInf_qc19_4j_TuneCUETP8M1_13TeV-madgraphMLM-pythia8/RunIISummer16NanoAODv7-PUMoriond17_Nano02Apr2020_102X_mcRun2_asymptotic_v8-v1/NANOAODSIM\"\n",
    "filesets['ZJetsToQQ_HT400to600_qc19_4j_13TeV-madgraphMLM-pythia8'] = !dasgoclient --query=\"file dataset=/ZJetsToQQ_HT400to600_qc19_4j_TuneCUETP8M1_13TeV-madgraphMLM-pythia8/RunIISummer16NanoAODv7-PUMoriond17_Nano02Apr2020_102X_mcRun2_asymptotic_v8-v1/NANOAODSIM\"\n",
    "filesets['ZJetsToQQ_HT600to800_qc19_4j_13TeV-madgraphMLM-pythia8'] = !dasgoclient --query=\"file dataset=/ZJetsToQQ_HT600to800_qc19_4j_TuneCUETP8M1_13TeV-madgraphMLM-pythia8/RunIISummer16NanoAODv7-PUMoriond17_Nano02Apr2020_102X_mcRun2_asymptotic_v8-v1/NANOAODSIM\"\n",
    "\n",
    "filesets['DYJetsToQQ_HT180_13TeV-madgraphMLM-pythia8'] = !dasgoclient --query=\"file dataset=/DYJetsToQQ_HT180_13TeV-madgraphMLM-pythia8/RunIISummer16NanoAODv7-PUMoriond17_Nano02Apr2020_102X_mcRun2_asymptotic_v8-v1/NANOAODSIM\"\n",
    "\n",
    "names = list(filesets.keys())\n",
    "\n",
    "# Add the xrootd prefix to all files and save to json\n",
    "prefix = 'root://cmsxrootd.fnal.gov/'\n",
    "for s in names:\n",
    "    filesets[s] = [prefix + f for f in filesets[s]]\n",
    "    \n",
    "this_file = 'infiles/2016_WandZ.json'\n",
    "with open(this_file, 'w') as json_file:\n",
    "    json.dump(filesets, json_file)"
   ]
  },
  {
   "cell_type": "code",
   "execution_count": 68,
   "metadata": {},
   "outputs": [
    {
     "name": "stdout",
     "output_type": "stream",
     "text": [
      "/TTToHadronic_TuneCP5_13TeV-powheg-pythia8/RunIIAutumn18NanoAODv7-Nano02Apr2020_102X_upgrade2018_realistic_v21-v1/NANOAODSIM\r\n",
      "/TTToHadronic_TuneCP5_13TeV-powheg-pythia8/RunIIAutumn18NanoAODv7-Nano02Apr2020_102X_upgrade2018_realistic_v21_ext2-v1/NANOAODSIM\r\n"
     ]
    }
   ],
   "source": [
    "!dasgoclient --query=\"dataset dataset=/TTToHadronic_TuneCP5_13TeV-powheg-pythia8/RunIIAutumn18NanoAODv7*/NANOAODSIM\""
   ]
  },
  {
   "cell_type": "code",
   "execution_count": 69,
   "metadata": {},
   "outputs": [
    {
     "name": "stdout",
     "output_type": "stream",
     "text": [
      "/TTToSemiLeptonic_TuneCP5_13TeV-powheg-pythia8/RunIIAutumn18NanoAODv7-Nano02Apr2020_102X_upgrade2018_realistic_v21-v1/NANOAODSIM\r\n",
      "/TTToSemiLeptonic_TuneCP5_13TeV-powheg-pythia8/RunIIAutumn18NanoAODv7-Nano02Apr2020_102X_upgrade2018_realistic_v21_ext3-v1/NANOAODSIM\r\n"
     ]
    }
   ],
   "source": [
    "!dasgoclient --query=\"dataset dataset=/TTToSemiLeptonic_TuneCP5_13TeV-powheg-pythia8/RunIIAutumn18NanoAODv7*/NANOAODSIM\""
   ]
  },
  {
   "cell_type": "code",
   "execution_count": 70,
   "metadata": {},
   "outputs": [
    {
     "name": "stdout",
     "output_type": "stream",
     "text": [
      "/ST_t-channel_antitop_4f_InclusiveDecays_TuneCP5_13TeV-powheg-madspin-pythia8/RunIIAutumn18NanoAODv7-Nano02Apr2020_102X_upgrade2018_realistic_v21-v1/NANOAODSIM\r\n"
     ]
    }
   ],
   "source": [
    "!dasgoclient --query=\"datset dataset=/ST_t-channel_antitop_4f_InclusiveDecays_TuneCP5_13TeV-powheg-madspin-pythia8/RunIIAutumn18NanoAODv7*/NANOAODSIM\""
   ]
  },
  {
   "cell_type": "code",
   "execution_count": 71,
   "metadata": {},
   "outputs": [
    {
     "name": "stdout",
     "output_type": "stream",
     "text": [
      "/ST_t-channel_top_4f_InclusiveDecays_TuneCP5_13TeV-powheg-madspin-pythia8/RunIIAutumn18NanoAODv7-Nano02Apr2020_102X_upgrade2018_realistic_v21-v1/NANOAODSIM\r\n"
     ]
    }
   ],
   "source": [
    "!dasgoclient --query=\"dataset dataset=/ST_t-channel_top_4f_InclusiveDecays_TuneCP5_13TeV-powheg-madspin-pythia8/RunIIAutumn18NanoAODv7*/NANOAODSIM\""
   ]
  },
  {
   "cell_type": "code",
   "execution_count": 72,
   "metadata": {},
   "outputs": [
    {
     "name": "stdout",
     "output_type": "stream",
     "text": [
      "/ST_tW_antitop_5f_inclusiveDecays_TuneCP5_13TeV-powheg-pythia8/RunIIAutumn18NanoAODv7-Nano02Apr2020_102X_upgrade2018_realistic_v21_ext1-v1/NANOAODSIM\r\n"
     ]
    }
   ],
   "source": [
    "!dasgoclient --query=\"dataset dataset=/ST_tW_antitop_5f_inclusiveDecays_TuneCP5_13TeV-powheg-pythia8/RunIIAutumn18NanoAODv7*/NANOAODSIM\""
   ]
  },
  {
   "cell_type": "code",
   "execution_count": 73,
   "metadata": {},
   "outputs": [
    {
     "name": "stdout",
     "output_type": "stream",
     "text": [
      "/ST_tW_top_5f_inclusiveDecays_TuneCP5_13TeV-powheg-pythia8/RunIIAutumn18NanoAODv7-Nano02Apr2020_102X_upgrade2018_realistic_v21_ext1-v1/NANOAODSIM\r\n"
     ]
    }
   ],
   "source": [
    "!dasgoclient --query=\"dataset dataset=/ST_tW_top_5f_inclusiveDecays_TuneCP5_13TeV-powheg-pythia8/RunIIAutumn18NanoAODv7*/NANOAODSIM\""
   ]
  },
  {
   "cell_type": "code",
   "execution_count": 74,
   "metadata": {},
   "outputs": [],
   "source": [
    "# 2018 top\n",
    "filesets = {}\n",
    "\n",
    "filesets['TTToHadronic_13TeV-powheg-pythia8'] = !dasgoclient --query=\"file dataset=/TTToHadronic_TuneCP5_13TeV-powheg-pythia8/RunIIAutumn18NanoAODv7-Nano02Apr2020_102X_upgrade2018_realistic_v21-v1/NANOAODSIM\"\n",
    "ext = !dasgoclient --query=\"file dataset=/TTToHadronic_TuneCP5_13TeV-powheg-pythia8/RunIIAutumn18NanoAODv7-Nano02Apr2020_102X_upgrade2018_realistic_v21_ext2-v1/NANOAODSIM\"\n",
    "filesets['TTToHadronic_13TeV-powheg-pythia8'] += ext\n",
    "\n",
    "filesets['TTToSemiLeptonic_13TeV-powheg-pythia8'] = !dasgoclient --query=\"file dataset=/TTToSemiLeptonic_TuneCP5_13TeV-powheg-pythia8/RunIIAutumn18NanoAODv7-Nano02Apr2020_102X_upgrade2018_realistic_v21-v1/NANOAODSIM\"\n",
    "ext = !dasgoclient --query=\"file dataset=/TTToSemiLeptonic_TuneCP5_13TeV-powheg-pythia8/RunIIAutumn18NanoAODv7-Nano02Apr2020_102X_upgrade2018_realistic_v21_ext3-v1/NANOAODSIM\"\n",
    "filesets['TTToSemiLeptonic_13TeV-powheg-pythia8'] += ext\n",
    "\n",
    "filesets['ST_t-channel_antitop_4f_inclusiveDecays_13TeV-powheg-madspin-pythia8'] = !dasgoclient --query=\"file dataset=/ST_t-channel_antitop_4f_InclusiveDecays_TuneCP5_13TeV-powheg-madspin-pythia8/RunIIAutumn18NanoAODv7-Nano02Apr2020_102X_upgrade2018_realistic_v21-v1/NANOAODSIM\"\n",
    "filesets['ST_t-channel_top_4f_inclusiveDecays_13TeV-powheg-madspin-pythia8'] = !dasgoclient --query=\"file dataset=/ST_t-channel_top_4f_InclusiveDecays_TuneCP5_13TeV-powheg-madspin-pythia8/RunIIAutumn18NanoAODv7-Nano02Apr2020_102X_upgrade2018_realistic_v21-v1/NANOAODSIM\"\n",
    "\n",
    "filesets['ST_tW_antitop_5f_inclusiveDecays_13TeV-powheg-pythia8'] = !dasgoclient --query=\"file dataset=/ST_tW_antitop_5f_inclusiveDecays_TuneCP5_13TeV-powheg-pythia8/RunIIAutumn18NanoAODv7-Nano02Apr2020_102X_upgrade2018_realistic_v21_ext1-v1/NANOAODSIM\"\n",
    "filesets['ST_tW_top_5f_inclusiveDecays_13TeV-powheg-pythia8'] = !dasgoclient --query=\"file dataset=/ST_tW_top_5f_inclusiveDecays_TuneCP5_13TeV-powheg-pythia8/RunIIAutumn18NanoAODv7-Nano02Apr2020_102X_upgrade2018_realistic_v21_ext1-v1/NANOAODSIM\"\n",
    "\n",
    "names = list(filesets.keys())\n",
    "\n",
    "# Add the xrootd prefix to all files and save to json\n",
    "prefix = 'root://cmsxrootd.fnal.gov/'\n",
    "for s in names:\n",
    "    filesets[s] = [prefix + f for f in filesets[s]]\n",
    "    \n",
    "this_file = 'infiles/2018_top.json'\n",
    "with open(this_file, 'w') as json_file:\n",
    "    json.dump(filesets, json_file)"
   ]
  },
  {
   "cell_type": "code",
   "execution_count": 75,
   "metadata": {},
   "outputs": [
    {
     "name": "stdout",
     "output_type": "stream",
     "text": [
      "/TTToHadronic_TuneCP5_PSweights_13TeV-powheg-pythia8/RunIIFall17NanoAODv7-PU2017_12Apr2018_Nano02Apr2020_new_pmx_102X_mc2017_realistic_v8-v1/NANOAODSIM\r\n"
     ]
    }
   ],
   "source": [
    "!dasgoclient --query=\"dataset dataset=/TTToHadronic_TuneCP5_PSweights_13TeV-powheg-pythia8/RunIIFall17NanoAODv7*/NANOAODSIM\""
   ]
  },
  {
   "cell_type": "code",
   "execution_count": 76,
   "metadata": {},
   "outputs": [
    {
     "name": "stdout",
     "output_type": "stream",
     "text": [
      "/TTToSemiLeptonic_TuneCP5_PSweights_13TeV-powheg-pythia8/RunIIFall17NanoAODv7-PU2017_12Apr2018_Nano02Apr2020_102X_mc2017_realistic_v8-v1/NANOAODSIM\r\n"
     ]
    }
   ],
   "source": [
    "!dasgoclient --query=\"dataset dataset=/TTToSemiLeptonic_TuneCP5_PSweights_13TeV-powheg-pythia8/RunIIFall17NanoAODv7*/NANOAODSIM\""
   ]
  },
  {
   "cell_type": "code",
   "execution_count": 77,
   "metadata": {},
   "outputs": [
    {
     "name": "stdout",
     "output_type": "stream",
     "text": [
      "/ST_t-channel_antitop_4f_inclusiveDecays_TuneCP5_13TeV-powhegV2-madspin-pythia8/RunIIFall17NanoAODv7-PU2017_12Apr2018_Nano02Apr2020_102X_mc2017_realistic_v8-v1/NANOAODSIM\r\n"
     ]
    }
   ],
   "source": [
    "!dasgoclient --query=\"dataset dataset=/ST_t-channel_antitop_4f_inclusiveDecays_TuneCP5_13TeV-powhegV2-madspin-pythia8/RunIIFall17NanoAODv7*/NANOAODSIM\""
   ]
  },
  {
   "cell_type": "code",
   "execution_count": 78,
   "metadata": {},
   "outputs": [
    {
     "name": "stdout",
     "output_type": "stream",
     "text": [
      "/ST_t-channel_top_4f_inclusiveDecays_TuneCP5_13TeV-powhegV2-madspin-pythia8/RunIIFall17NanoAODv7-PU2017_12Apr2018_Nano02Apr2020_new_pmx_102X_mc2017_realistic_v8-v1/NANOAODSIM\r\n"
     ]
    }
   ],
   "source": [
    "!dasgoclient --query=\"dataset dataset=/ST_t-channel_top_4f_inclusiveDecays_TuneCP5_13TeV-powhegV2-madspin-pythia8/RunIIFall17NanoAODv7*/NANOAODSIM\""
   ]
  },
  {
   "cell_type": "code",
   "execution_count": 79,
   "metadata": {},
   "outputs": [
    {
     "name": "stdout",
     "output_type": "stream",
     "text": [
      "/ST_tW_antitop_5f_inclusiveDecays_TuneCP5_13TeV-powheg-pythia8/RunIIFall17NanoAODv7-PU2017_12Apr2018_Nano02Apr2020_102X_mc2017_realistic_v8-v1/NANOAODSIM\r\n"
     ]
    }
   ],
   "source": [
    "!dasgoclient --query=\"dataset dataset=/ST_tW_antitop_5f_inclusiveDecays_TuneCP5_13TeV-powheg-pythia8/RunIIFall17NanoAODv7*/NANOAODSIM\""
   ]
  },
  {
   "cell_type": "code",
   "execution_count": 80,
   "metadata": {},
   "outputs": [
    {
     "name": "stdout",
     "output_type": "stream",
     "text": [
      "/ST_tW_top_5f_inclusiveDecays_TuneCP5_13TeV-powheg-pythia8/RunIIFall17NanoAODv7-PU2017_12Apr2018_Nano02Apr2020_102X_mc2017_realistic_v8-v1/NANOAODSIM\r\n"
     ]
    }
   ],
   "source": [
    "!dasgoclient --query=\"dataset dataset=/ST_tW_top_5f_inclusiveDecays_TuneCP5_13TeV-powheg-pythia8/RunIIFall17NanoAODv7*/NANOAODSIM\""
   ]
  },
  {
   "cell_type": "code",
   "execution_count": 81,
   "metadata": {},
   "outputs": [],
   "source": [
    "# 2017 top\n",
    "filesets = {}\n",
    "\n",
    "filesets['TTToHadronic_13TeV-powheg-pythia8'] = !dasgoclient --query=\"file dataset=/TTToHadronic_TuneCP5_PSweights_13TeV-powheg-pythia8/RunIIFall17NanoAODv7-PU2017_12Apr2018_Nano02Apr2020_new_pmx_102X_mc2017_realistic_v8-v1/NANOAODSIM\"\n",
    "filesets['TTToSemiLeptonic_13TeV-powheg-pythia8'] = !dasgoclient --query=\"file dataset=/TTToSemiLeptonic_TuneCP5_PSweights_13TeV-powheg-pythia8/RunIIFall17NanoAODv7-PU2017_12Apr2018_Nano02Apr2020_102X_mc2017_realistic_v8-v1/NANOAODSIM\"\n",
    "\n",
    "filesets['ST_t-channel_antitop_4f_inclusiveDecays_13TeV-powheg-madspin-pythia8'] = !dasgoclient --query=\"file dataset=/ST_t-channel_antitop_4f_inclusiveDecays_TuneCP5_13TeV-powhegV2-madspin-pythia8/RunIIFall17NanoAODv7-PU2017_12Apr2018_Nano02Apr2020_102X_mc2017_realistic_v8-v1/NANOAODSIM\"\n",
    "filesets['ST_t-channel_top_4f_inclusiveDecays_13TeV-powheg-madspin-pythia8'] = !dasgoclient --query=\"file dataset=/ST_t-channel_top_4f_inclusiveDecays_TuneCP5_13TeV-powhegV2-madspin-pythia8/RunIIFall17NanoAODv7-PU2017_12Apr2018_Nano02Apr2020_new_pmx_102X_mc2017_realistic_v8-v1/NANOAODSIM\"\n",
    "\n",
    "filesets['ST_tW_antitop_5f_inclusiveDecays_13TeV-powheg-pythia8'] = !dasgoclient --query=\"file dataset=/ST_tW_antitop_5f_inclusiveDecays_TuneCP5_13TeV-powheg-pythia8/RunIIFall17NanoAODv7-PU2017_12Apr2018_Nano02Apr2020_102X_mc2017_realistic_v8-v1/NANOAODSIM\"\n",
    "filesets['ST_tW_top_5f_inclusiveDecays_13TeV-powheg-pythia8'] = !dasgoclient --query=\"file dataset=/ST_tW_top_5f_inclusiveDecays_TuneCP5_13TeV-powheg-pythia8/RunIIFall17NanoAODv7-PU2017_12Apr2018_Nano02Apr2020_102X_mc2017_realistic_v8-v1/NANOAODSIM\"\n",
    "\n",
    "names = list(filesets.keys())\n",
    "\n",
    "# Add the xrootd prefix to all files and save to json\n",
    "prefix = 'root://cmsxrootd.fnal.gov/'\n",
    "for s in names:\n",
    "    filesets[s] = [prefix + f for f in filesets[s]]\n",
    "    \n",
    "this_file = 'infiles/2017_top.json'\n",
    "with open(this_file, 'w') as json_file:\n",
    "    json.dump(filesets, json_file)"
   ]
  },
  {
   "cell_type": "code",
   "execution_count": 82,
   "metadata": {},
   "outputs": [
    {
     "name": "stdout",
     "output_type": "stream",
     "text": [
      "/TT_TuneCUETP8M2T4_13TeV-powheg-pythia8/RunIISummer16NanoAODv7-PUMoriond17_Nano02Apr2020_102X_mcRun2_asymptotic_v8-v1/NANOAODSIM\r\n",
      "/TT_TuneCUETP8M2T4_13TeV-powheg-pythia8/RunIISummer16NanoAODv7-PUMoriond17_Nano02Apr2020_backup_102X_mcRun2_asymptotic_v8-v1/NANOAODSIM\r\n"
     ]
    }
   ],
   "source": [
    "!dasgoclient --query=\"dataset dataset=/TT_TuneCUETP8M2T4_13TeV-powheg-pythia8/RunIISummer16NanoAODv7*/NANOAODSIM\""
   ]
  },
  {
   "cell_type": "code",
   "execution_count": 83,
   "metadata": {},
   "outputs": [
    {
     "name": "stdout",
     "output_type": "stream",
     "text": [
      "/TTToHadronic_TuneCP5_PSweights_13TeV-powheg-pythia8/RunIISummer16NanoAODv7-PUMoriond17_Nano02Apr2020_102X_mcRun2_asymptotic_v8-v1/NANOAODSIM\r\n"
     ]
    }
   ],
   "source": [
    "!dasgoclient --query=\"dataset dataset=/TTToHadronic_TuneCP5_PSweights_13TeV-powheg-pythia8/RunIISummer16NanoAODv7*/NANOAODSIM\""
   ]
  },
  {
   "cell_type": "code",
   "execution_count": 84,
   "metadata": {},
   "outputs": [
    {
     "name": "stdout",
     "output_type": "stream",
     "text": [
      "/TTToSemiLeptonic_TuneCP5_PSweights_13TeV-powheg-pythia8/RunIISummer16NanoAODv7-PUMoriond17_Nano02Apr2020_102X_mcRun2_asymptotic_v8-v1/NANOAODSIM\r\n"
     ]
    }
   ],
   "source": [
    "!dasgoclient --query=\"dataset dataset=/TTToSemiLeptonic_TuneCP5_PSweights_13TeV-powheg-pythia8/RunIISummer16NanoAODv7*/NANOAODSIM\""
   ]
  },
  {
   "cell_type": "code",
   "execution_count": 85,
   "metadata": {},
   "outputs": [
    {
     "name": "stdout",
     "output_type": "stream",
     "text": [
      "/ST_t-channel_antitop_4f_inclusiveDecays_13TeV-powhegV2-madspin-pythia8_TuneCUETP8M1/RunIISummer16NanoAODv7-PUMoriond17_Nano02Apr2020_102X_mcRun2_asymptotic_v8-v1/NANOAODSIM\r\n"
     ]
    }
   ],
   "source": [
    "!dasgoclient --query=\"dataset dataset=/ST_t-channel_antitop_4f_inclusiveDecays_13TeV-powhegV2-madspin-pythia8_TuneCUETP8M1/RunIISummer16NanoAODv7*/NANOAODSIM\""
   ]
  },
  {
   "cell_type": "code",
   "execution_count": 86,
   "metadata": {},
   "outputs": [
    {
     "name": "stdout",
     "output_type": "stream",
     "text": [
      "/ST_t-channel_top_4f_inclusiveDecays_13TeV-powhegV2-madspin-pythia8_TuneCUETP8M1/RunIISummer16NanoAODv7-PUMoriond17_Nano02Apr2020_102X_mcRun2_asymptotic_v8-v2/NANOAODSIM\r\n"
     ]
    }
   ],
   "source": [
    "!dasgoclient --query=\"dataset dataset=/ST_t-channel_top_4f_inclusiveDecays_13TeV-powhegV2-madspin-pythia8_TuneCUETP8M1/RunIISummer16NanoAODv7*/NANOAODSIM\""
   ]
  },
  {
   "cell_type": "code",
   "execution_count": 87,
   "metadata": {},
   "outputs": [
    {
     "name": "stdout",
     "output_type": "stream",
     "text": [
      "/ST_tW_antitop_5f_inclusiveDecays_13TeV-powheg-pythia8_TuneCUETP8M1/RunIISummer16NanoAODv7-PUMoriond17_Nano02Apr2020_102X_mcRun2_asymptotic_v8_ext1-v1/NANOAODSIM\r\n"
     ]
    }
   ],
   "source": [
    "!dasgoclient --query=\"dataset dataset=/ST_tW_antitop_5f_inclusiveDecays_13TeV-powheg-pythia8_TuneCUETP8M1/RunIISummer16NanoAODv7*/NANOAODSIM\""
   ]
  },
  {
   "cell_type": "code",
   "execution_count": 88,
   "metadata": {},
   "outputs": [
    {
     "name": "stdout",
     "output_type": "stream",
     "text": [
      "/ST_tW_top_5f_inclusiveDecays_13TeV-powheg-pythia8_TuneCUETP8M1/RunIISummer16NanoAODv7-PUMoriond17_Nano02Apr2020_102X_mcRun2_asymptotic_v8_ext1-v1/NANOAODSIM\r\n"
     ]
    }
   ],
   "source": [
    "!dasgoclient --query=\"dataset dataset=/ST_tW_top_5f_inclusiveDecays_13TeV-powheg-pythia8_TuneCUETP8M1/RunIISummer16NanoAODv7*/NANOAODSIM\""
   ]
  },
  {
   "cell_type": "code",
   "execution_count": 89,
   "metadata": {},
   "outputs": [],
   "source": [
    "# 2016 top\n",
    "filesets = {}\n",
    "\n",
    "filesets['TT_13TeV-powheg-pythia8'] = !dasgoclient --query=\"file dataset=/TT_TuneCUETP8M2T4_13TeV-powheg-pythia8/RunIISummer16NanoAODv7-PUMoriond17_Nano02Apr2020_102X_mcRun2_asymptotic_v8-v1/NANOAODSIM\"\n",
    "\n",
    "filesets['TTToHadronic_13TeV-powheg-pythia8'] = !dasgoclient --query=\"file dataset=/TTToHadronic_TuneCP5_PSweights_13TeV-powheg-pythia8/RunIISummer16NanoAODv7-PUMoriond17_Nano02Apr2020_102X_mcRun2_asymptotic_v8-v1/NANOAODSIM\"\n",
    "filesets['TTToSemiLeptonic_TuneCP5_13TeV-powheg-pythia8'] = !dasgoclient --query=\"file dataset=/TTToSemiLeptonic_TuneCP5_PSweights_13TeV-powheg-pythia8/RunIISummer16NanoAODv7-PUMoriond17_Nano02Apr2020_102X_mcRun2_asymptotic_v8-v1/NANOAODSIM\"\n",
    "\n",
    "filesets['ST_t-channel_antitop_4f_inclusiveDecays_13TeV-powheg-madspin-pythia8'] = !dasgoclient --query=\"file dataset=/ST_t-channel_antitop_4f_inclusiveDecays_13TeV-powhegV2-madspin-pythia8_TuneCUETP8M1/RunIISummer16NanoAODv7-PUMoriond17_Nano02Apr2020_102X_mcRun2_asymptotic_v8-v1/NANOAODSIM\"\n",
    "filesets['ST_t-channel_top_4f_inclusiveDecays_13TeV-powheg-madspin-pythia8'] = !dasgoclient --query=\"file dataset=/ST_t-channel_top_4f_inclusiveDecays_13TeV-powhegV2-madspin-pythia8_TuneCUETP8M1/RunIISummer16NanoAODv7-PUMoriond17_Nano02Apr2020_102X_mcRun2_asymptotic_v8-v2/NANOAODSIM\"\n",
    "\n",
    "filesets['ST_tW_antitop_5f_inclusiveDecays_13TeV-powheg-pythia8'] = !dasgoclient --query=\"file dataset=/ST_tW_antitop_5f_inclusiveDecays_13TeV-powheg-pythia8_TuneCUETP8M1/RunIISummer16NanoAODv7-PUMoriond17_Nano02Apr2020_102X_mcRun2_asymptotic_v8_ext1-v1/NANOAODSIM\"\n",
    "\n",
    "filesets['ST_tW_top_5f_inclusiveDecays_13TeV-powheg-pythia8'] = !dasgoclient --query=\"file dataset=/ST_tW_top_5f_inclusiveDecays_13TeV-powheg-pythia8_TuneCUETP8M1/RunIISummer16NanoAODv7-PUMoriond17_Nano02Apr2020_102X_mcRun2_asymptotic_v8_ext1-v1/NANOAODSIM\"\n",
    "\n",
    "names = list(filesets.keys())\n",
    "\n",
    "# Add the xrootd prefix to all files and save to json\n",
    "prefix = 'root://cmsxrootd.fnal.gov/'\n",
    "for s in names:\n",
    "    filesets[s] = [prefix + f for f in filesets[s]]\n",
    "    \n",
    "this_file = 'infiles/2016_top.json'\n",
    "with open(this_file, 'w') as json_file:\n",
    "    json.dump(filesets, json_file)"
   ]
  },
  {
   "cell_type": "code",
   "execution_count": null,
   "metadata": {},
   "outputs": [],
   "source": []
  }
 ],
 "metadata": {
  "kernelspec": {
   "display_name": "Python 3",
   "language": "python",
   "name": "python3"
  },
  "language_info": {
   "codemirror_mode": {
    "name": "ipython",
    "version": 3
   },
   "file_extension": ".py",
   "mimetype": "text/x-python",
   "name": "python",
   "nbconvert_exporter": "python",
   "pygments_lexer": "ipython3",
   "version": "3.6.5"
  }
 },
 "nbformat": 4,
 "nbformat_minor": 2
}
