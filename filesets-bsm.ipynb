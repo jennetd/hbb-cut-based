{
 "cells": [
  {
   "cell_type": "code",
   "execution_count": 1,
   "metadata": {},
   "outputs": [],
   "source": [
    "# Jennet takes the dataset names from Martin at \n",
    "# https://github.com/kakwok/ZPrimePlusJet/blob/newTF/analysis/ggH/xSections.dat\n",
    "# NOT the same as AN2018_067_v16"
   ]
  },
  {
   "cell_type": "code",
   "execution_count": 2,
   "metadata": {},
   "outputs": [],
   "source": [
    "import os\n",
    "import json"
   ]
  },
  {
   "cell_type": "code",
   "execution_count": 3,
   "metadata": {},
   "outputs": [],
   "source": [
    "def split(year,filesets,tag,maxfiles_per_json=1):\n",
    "    \n",
    "    nfiles = 0\n",
    "    names = list(filesets.keys())\n",
    "    \n",
    "    for n in names:\n",
    "        \n",
    "        files_in_n = len(filesets[n])\n",
    "        print(n,files_in_n)\n",
    "        n_jsons = int(files_in_n) \n",
    "        \n",
    "        for i in range(0,n_jsons):\n",
    "            nfiles += 1\n",
    "            subfilesets = {}\n",
    "            subfilesets[n] = [filesets[n][i]]\n",
    "\n",
    "            this_file = 'infiles-bsm-'+tag+'/'+str(year)+'_'+str(nfiles)+'.json'\n",
    "            with open(this_file, 'w') as json_file:\n",
    "                json.dump(subfilesets, json_file)\n",
    "    print('Created ' + str(nfiles) + ' files')"
   ]
  },
  {
   "cell_type": "code",
   "execution_count": 4,
   "metadata": {},
   "outputs": [
    {
     "name": "stdout",
     "output_type": "stream",
     "text": [
      "WHiggs0L1f05ph0ToBB_M125_13TeV_JHUgenV7011_pythia8 7\n",
      "WHiggs0L1ToBB_M125_13TeV_JHUgenV7011_pythia8 5\n",
      "WHiggs0Mf05ph0ToBB_M125_13TeV_JHUGenV7011_pythia8 5\n",
      "WHiggs0MToBB_M125_13TeV_JHUGenV7011_pythia8 6\n",
      "WHiggs0PHf05ph0ToBB_M125_13TeV_JHUgenV7011_pythia8 7\n",
      "WHiggs0PHToBB_M125_13TeV_JHUGenV7011_pythia8 5\n",
      "WHiggs0PMToBB_M125_13TeV_JHUGenV7011_pythia8 5\n",
      "ZHiggs0L1f05ph0ToBB_M125_13TeV_JHUgenV7011_pythia8 6\n",
      "ZHiggs0L1ToBB_M125_13TeV_JHUgenV7011_pythia8 4\n",
      "ZHiggs0Mf05ph0ToBB_M125_13TeV_JHUGenV7011_pythia8 3\n",
      "ZHiggs0MToBB_M125_13TeV_JHUGenV7011_pythia8 6\n",
      "ZHiggs0PHf05ph0ToBB_M125_13TeV_JHUgenV7011_pythia8 5\n",
      "ZHiggs0PHToBB_M125_13TeV_JHUGenV7011_pythia8 6\n",
      "ZHiggs0PMToBB_M125_13TeV_JHUGenV7011_pythia8 5\n",
      "Created 75 files\n"
     ]
    }
   ],
   "source": [
    "# 2017\n",
    "with open('infiles-bsm-vh/JHUgen_VH.json') as f:\n",
    "  filesets = json.load(f)\n",
    "\n",
    "split(2017,filesets,'vh')"
   ]
  },
  {
   "cell_type": "code",
   "execution_count": 6,
   "metadata": {},
   "outputs": [
    {
     "name": "stdout",
     "output_type": "stream",
     "text": [
      "VBFHiggs0L1f05ph0ToBB_M125_13TeV_JHUGenV7011_pythia8 6\n",
      "VBFHiggs0L1ToBB_M125_13TeV_JHUgenV7011_pythia8 7\n",
      "VBFHiggs0Mf05ph0ToBB_M125_13TeV_JHUGenV7011_pythia8 9\n",
      "VBFHiggs0MToBB_M125_13TeV_JHUGenV7011_pythia8 4\n",
      "VBFHiggs0PHf05ph0ToBB_M125_13TeV_JHUgenV7011_pythia8 4\n",
      "VBFHiggs0PHToBB_M125_13TeV_JHUGenV7011_pythia8 5\n",
      "VBFHiggs0PMToBB_M125_13TeV_JHUGenV7011_pythia8 4\n",
      "Created 39 files\n"
     ]
    }
   ],
   "source": [
    "# 2017\n",
    "with open('infiles-bsm-vbf/JHUgen_VBF.json') as f:\n",
    "  filesets = json.load(f)\n",
    "\n",
    "split(2017,filesets,'vbf')"
   ]
  },
  {
   "cell_type": "code",
   "execution_count": null,
   "metadata": {},
   "outputs": [],
   "source": []
  }
 ],
 "metadata": {
  "kernelspec": {
   "display_name": "Python 3 (ipykernel)",
   "language": "python",
   "name": "python3"
  },
  "language_info": {
   "codemirror_mode": {
    "name": "ipython",
    "version": 3
   },
   "file_extension": ".py",
   "mimetype": "text/x-python",
   "name": "python",
   "nbconvert_exporter": "python",
   "pygments_lexer": "ipython3",
   "version": "3.8.11"
  }
 },
 "nbformat": 4,
 "nbformat_minor": 2
}
