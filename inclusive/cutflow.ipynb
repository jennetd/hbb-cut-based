{
 "cells": [
  {
   "cell_type": "code",
   "execution_count": 1,
   "metadata": {},
   "outputs": [],
   "source": [
    "import os, subprocess\n",
    "import json\n",
    "import uproot\n",
    "import awkward as ak\n",
    "import numpy as np\n",
    "from coffea import processor, util, hist\n",
    "\n",
    "%matplotlib inline\n",
    "from matplotlib import lines as mlines\n",
    "import matplotlib.pyplot as plt\n",
    "from cycler import cycler"
   ]
  },
  {
   "cell_type": "code",
   "execution_count": 2,
   "metadata": {},
   "outputs": [],
   "source": [
    "lumis = {}\n",
    "lumis['2016'] = 35.9\n",
    "lumis['2017'] = 41.1\n",
    "lumis['2018'] = 59.9\n",
    "\n",
    "nfiles_mc = {}\n",
    "nfiles_mc['2016'] = 113\n",
    "nfiles_mc['2017'] = 167\n",
    "nfiles_mc['2018'] = 201\n",
    "\n",
    "with open('xsec.json') as f:\n",
    "  xs = json.load(f)\n",
    "\n",
    "with open('pmap.json') as f:\n",
    "  pmap = json.load(f)"
   ]
  },
  {
   "cell_type": "code",
   "execution_count": 3,
   "metadata": {},
   "outputs": [],
   "source": [
    "year = '2017'\n",
    "outsum = processor.dict_accumulator()"
   ]
  },
  {
   "cell_type": "code",
   "execution_count": 4,
   "metadata": {},
   "outputs": [
    {
     "name": "stdout",
     "output_type": "stream",
     "text": [
      "1\n",
      "2\n",
      "3\n",
      "4\n",
      "5\n",
      "6\n",
      "7\n",
      "8\n",
      "9\n",
      "10\n",
      "11\n",
      "12\n",
      "13\n",
      "File condor/outfiles/2017_13.coffea is missing\n",
      "14\n",
      "15\n",
      "File condor/outfiles/2017_15.coffea is missing\n",
      "16\n",
      "File condor/outfiles/2017_16.coffea is missing\n",
      "17\n",
      "File condor/outfiles/2017_17.coffea is missing\n",
      "18\n",
      "File condor/outfiles/2017_18.coffea is missing\n",
      "19\n",
      "File condor/outfiles/2017_19.coffea is missing\n",
      "20\n",
      "File condor/outfiles/2017_20.coffea is missing\n",
      "21\n",
      "File condor/outfiles/2017_21.coffea is missing\n",
      "22\n",
      "File condor/outfiles/2017_22.coffea is missing\n",
      "23\n",
      "24\n",
      "File condor/outfiles/2017_24.coffea is missing\n",
      "25\n",
      "26\n",
      "27\n",
      "28\n",
      "29\n",
      "30\n",
      "File condor/outfiles/2017_30.coffea is missing\n",
      "31\n",
      "File condor/outfiles/2017_31.coffea is missing\n",
      "32\n",
      "File condor/outfiles/2017_32.coffea is missing\n",
      "33\n",
      "File condor/outfiles/2017_33.coffea is missing\n",
      "34\n",
      "File condor/outfiles/2017_34.coffea is missing\n",
      "35\n",
      "36\n",
      "37\n",
      "38\n",
      "File condor/outfiles/2017_38.coffea is missing\n",
      "39\n",
      "40\n",
      "File condor/outfiles/2017_40.coffea is missing\n",
      "41\n",
      "42\n",
      "43\n",
      "44\n",
      "45\n",
      "46\n",
      "47\n",
      "File condor/outfiles/2017_47.coffea is missing\n",
      "48\n",
      "File condor/outfiles/2017_48.coffea is missing\n",
      "49\n",
      "File condor/outfiles/2017_49.coffea is missing\n",
      "50\n",
      "File condor/outfiles/2017_50.coffea is missing\n",
      "51\n",
      "52\n",
      "53\n",
      "File condor/outfiles/2017_53.coffea is missing\n",
      "54\n",
      "File condor/outfiles/2017_54.coffea is missing\n",
      "55\n",
      "File condor/outfiles/2017_55.coffea is missing\n",
      "56\n",
      "File condor/outfiles/2017_56.coffea is missing\n",
      "57\n",
      "File condor/outfiles/2017_57.coffea is missing\n",
      "58\n",
      "File condor/outfiles/2017_58.coffea is missing\n",
      "59\n",
      "File condor/outfiles/2017_59.coffea is missing\n",
      "60\n",
      "File condor/outfiles/2017_60.coffea is missing\n",
      "61\n",
      "File condor/outfiles/2017_61.coffea is missing\n",
      "62\n",
      "File condor/outfiles/2017_62.coffea is missing\n",
      "63\n",
      "File condor/outfiles/2017_63.coffea is missing\n",
      "64\n",
      "65\n",
      "File condor/outfiles/2017_65.coffea is missing\n",
      "66\n",
      "File condor/outfiles/2017_66.coffea is missing\n",
      "67\n",
      "File condor/outfiles/2017_67.coffea is missing\n",
      "68\n",
      "File condor/outfiles/2017_68.coffea is missing\n",
      "69\n",
      "File condor/outfiles/2017_69.coffea is missing\n",
      "70\n",
      "File condor/outfiles/2017_70.coffea is missing\n",
      "71\n",
      "File condor/outfiles/2017_71.coffea is missing\n",
      "72\n",
      "73\n",
      "File condor/outfiles/2017_73.coffea is missing\n",
      "74\n",
      "File condor/outfiles/2017_74.coffea is missing\n",
      "75\n",
      "File condor/outfiles/2017_75.coffea is missing\n",
      "76\n",
      "File condor/outfiles/2017_76.coffea is missing\n",
      "77\n",
      "File condor/outfiles/2017_77.coffea is missing\n",
      "78\n",
      "File condor/outfiles/2017_78.coffea is missing\n",
      "79\n",
      "File condor/outfiles/2017_79.coffea is missing\n",
      "80\n",
      "File condor/outfiles/2017_80.coffea is missing\n",
      "81\n",
      "File condor/outfiles/2017_81.coffea is missing\n",
      "82\n",
      "File condor/outfiles/2017_82.coffea is missing\n",
      "83\n",
      "File condor/outfiles/2017_83.coffea is missing\n",
      "84\n",
      "File condor/outfiles/2017_84.coffea is missing\n",
      "85\n",
      "86\n",
      "87\n",
      "File condor/outfiles/2017_87.coffea is missing\n",
      "88\n",
      "File condor/outfiles/2017_88.coffea is missing\n",
      "89\n",
      "File condor/outfiles/2017_89.coffea is missing\n"
     ]
    }
   ],
   "source": [
    "# Load all MC\n",
    "for n in range(1,nfiles_mc[year]+1):\n",
    "    print(n)\n",
    "    filename = 'condor/outfiles/'+year+'_'+str(n)+'.coffea'\n",
    "    if os.path.isfile(filename):\n",
    "        out = util.load(filename)\n",
    "        outsum.add(out)\n",
    "    else:\n",
    "        print(\"File \" + filename + \" is missing\")\n",
    "        \n",
    "scale_lumi = {k: xs[k] * 1000 *lumis[year] / w for k, w in outsum['sumw'].items()}\n",
    "outsum['cutflow'].scale(scale_lumi, 'dataset')"
   ]
  },
  {
   "cell_type": "code",
   "execution_count": 5,
   "metadata": {},
   "outputs": [
    {
     "name": "stderr",
     "output_type": "stream",
     "text": [
      "/uscms_data/d3/jennetd/hbb-prod-modes/february-2021/inclusive/coffeaenv/lib/python3.7/site-packages/coffea/hist/hist_tools.py:347: RuntimeWarning: Not all requested indices present in <Cat (name=dataset) instance at 0x7fb3a92e6750>\n",
      "  warnings.warn(\"Not all requested indices present in %r\" % self, RuntimeWarning)\n"
     ]
    }
   ],
   "source": [
    "templates = outsum['cutflow'].group('dataset', hist.Cat('process', 'Process'), pmap)"
   ]
  },
  {
   "cell_type": "code",
   "execution_count": 6,
   "metadata": {},
   "outputs": [],
   "source": [
    "cutflow = templates.sum('genflavor').integrate('region','signal')"
   ]
  },
  {
   "cell_type": "code",
   "execution_count": 7,
   "metadata": {},
   "outputs": [
    {
     "data": {
      "text/plain": [
       "{('ZH',): array([1.98852207e+04, 1.98852207e+04, 8.34769019e+01, 7.79854123e+01,\n",
       "        7.79854123e+01, 4.56652251e+01, 2.24968474e+01, 1.64864151e+01,\n",
       "        1.17847395e+01, 4.73138589e+00, 0.00000000e+00]),\n",
       " ('WH',): array([7.86509728e+03, 7.86509728e+03, 2.80829382e+01, 2.56981307e+01,\n",
       "        2.56981307e+01, 1.54672639e+01, 6.82735015e+00, 6.47307119e+00,\n",
       "        4.85319605e+00, 1.95378632e+00, 0.00000000e+00]),\n",
       " ('QCD',): array([3.48032887e+07, 3.48032887e+07, 1.33970105e+07, 1.13321569e+07,\n",
       "        1.13321569e+07, 2.84696504e+06, 2.62893581e+06, 2.57618135e+06,\n",
       "        2.23474727e+06, 3.33287161e+04, 0.00000000e+00]),\n",
       " ('VV',): array([4.86367163e+06, 4.86367163e+06, 5.33244331e+03, 4.90298366e+03,\n",
       "        4.90298366e+03, 2.84779438e+03, 2.59117625e+03, 1.91288114e+03,\n",
       "        1.20003194e+03, 5.48382316e+01, 0.00000000e+00]),\n",
       " ('Wjets',): array([8.95208116e+06, 8.95208116e+06, 3.09004330e+05, 2.65881742e+05,\n",
       "        2.65881742e+05, 1.11223092e+05, 1.03167017e+05, 1.00375152e+05,\n",
       "        8.04017373e+04, 1.66739404e+03, 0.00000000e+00]),\n",
       " ('Zjets',): array([5.54962699e+06, 5.54962699e+06, 1.62471346e+05, 1.39342097e+05,\n",
       "        1.39342097e+05, 5.67660718e+04, 5.00694091e+04, 4.87021504e+04,\n",
       "        3.85685563e+04, 2.61228525e+03, 0.00000000e+00]),\n",
       " ('ttbar',): array([1.37981370e+07, 1.37981370e+07, 9.07083838e+04, 8.00981875e+04,\n",
       "        8.00981875e+04, 2.93494077e+04, 1.51926692e+04, 8.95893654e+03,\n",
       "        1.77723533e+03, 4.32348205e+02, 0.00000000e+00]),\n",
       " ('singlet',): array([2.83930250e+06, 2.83930250e+06, 1.75871538e+03, 1.58646075e+03,\n",
       "        1.58646075e+03, 5.87442814e+02, 3.48167761e+02, 3.10423174e+02,\n",
       "        1.95011620e+02, 1.72995949e+01, 0.00000000e+00])}"
      ]
     },
     "execution_count": 7,
     "metadata": {},
     "output_type": "execute_result"
    }
   ],
   "source": [
    "cutflow.values()"
   ]
  },
  {
   "cell_type": "code",
   "execution_count": 8,
   "metadata": {},
   "outputs": [],
   "source": [
    "import pandas as pd"
   ]
  },
  {
   "cell_type": "code",
   "execution_count": 9,
   "metadata": {},
   "outputs": [
    {
     "ename": "KeyError",
     "evalue": "('ggF',)",
     "output_type": "error",
     "traceback": [
      "\u001b[0;31m---------------------------------------------------------------------------\u001b[0m",
      "\u001b[0;31mKeyError\u001b[0m                                  Traceback (most recent call last)",
      "\u001b[0;32m<ipython-input-9-61fd88831da7>\u001b[0m in \u001b[0;36m<module>\u001b[0;34m\u001b[0m\n\u001b[1;32m      1\u001b[0m \u001b[0mdf1\u001b[0m \u001b[0;34m=\u001b[0m \u001b[0mpd\u001b[0m\u001b[0;34m.\u001b[0m\u001b[0mDataFrame\u001b[0m\u001b[0;34m(\u001b[0m\u001b[0;34m[\u001b[0m\u001b[0;34m]\u001b[0m\u001b[0;34m)\u001b[0m\u001b[0;34m\u001b[0m\u001b[0;34m\u001b[0m\u001b[0m\n\u001b[1;32m      2\u001b[0m \u001b[0;34m\u001b[0m\u001b[0m\n\u001b[0;32m----> 3\u001b[0;31m \u001b[0mdf1\u001b[0m\u001b[0;34m[\u001b[0m\u001b[0;34m'ggF'\u001b[0m\u001b[0;34m]\u001b[0m \u001b[0;34m=\u001b[0m \u001b[0mcutflow\u001b[0m\u001b[0;34m.\u001b[0m\u001b[0mvalues\u001b[0m\u001b[0;34m(\u001b[0m\u001b[0;34m)\u001b[0m\u001b[0;34m[\u001b[0m\u001b[0;34m(\u001b[0m\u001b[0;34m'ggF'\u001b[0m\u001b[0;34m,\u001b[0m\u001b[0;34m)\u001b[0m\u001b[0;34m]\u001b[0m\u001b[0;34m\u001b[0m\u001b[0;34m\u001b[0m\u001b[0m\n\u001b[0m\u001b[1;32m      4\u001b[0m \u001b[0mdf1\u001b[0m\u001b[0;34m[\u001b[0m\u001b[0;34m'VBF'\u001b[0m\u001b[0;34m]\u001b[0m \u001b[0;34m=\u001b[0m \u001b[0mcutflow\u001b[0m\u001b[0;34m.\u001b[0m\u001b[0mvalues\u001b[0m\u001b[0;34m(\u001b[0m\u001b[0;34m)\u001b[0m\u001b[0;34m[\u001b[0m\u001b[0;34m(\u001b[0m\u001b[0;34m'VBF'\u001b[0m\u001b[0;34m,\u001b[0m\u001b[0;34m)\u001b[0m\u001b[0;34m]\u001b[0m\u001b[0;34m\u001b[0m\u001b[0;34m\u001b[0m\u001b[0m\n\u001b[1;32m      5\u001b[0m \u001b[0mdf1\u001b[0m\u001b[0;34m[\u001b[0m\u001b[0;34m'WH'\u001b[0m\u001b[0;34m]\u001b[0m \u001b[0;34m=\u001b[0m \u001b[0mcutflow\u001b[0m\u001b[0;34m.\u001b[0m\u001b[0mvalues\u001b[0m\u001b[0;34m(\u001b[0m\u001b[0;34m)\u001b[0m\u001b[0;34m[\u001b[0m\u001b[0;34m(\u001b[0m\u001b[0;34m'WH'\u001b[0m\u001b[0;34m,\u001b[0m\u001b[0;34m)\u001b[0m\u001b[0;34m]\u001b[0m\u001b[0;34m\u001b[0m\u001b[0;34m\u001b[0m\u001b[0m\n",
      "\u001b[0;31mKeyError\u001b[0m: ('ggF',)"
     ]
    }
   ],
   "source": [
    "df1 = pd.DataFrame([])\n",
    "\n",
    "df1['ggF'] = cutflow.values()[('ggF',)]\n",
    "df1['VBF'] = cutflow.values()[('VBF',)]\n",
    "df1['WH'] = cutflow.values()[('WH',)]\n",
    "df1['ZH'] = cutflow.values()[('ZH',)]\n",
    "df1['ttH'] = cutflow.values()[('ttH',)]\n",
    "\n",
    "df1 = df1[3:-1].astype('int')\n",
    "df1.index = ['Jet kinematics','Jet ID','Jet $N_2^\\text{DDT}$','Opp. hem. b veto','MET $<$ 140 GeV','No leptons','DeepDoubleB']\n",
    "\n",
    "df1.to_latex(buf=year+'/cutflow-sig.tex')"
   ]
  },
  {
   "cell_type": "code",
   "execution_count": null,
   "metadata": {},
   "outputs": [],
   "source": [
    "df2 = pd.DataFrame([])\n",
    "\n",
    "df2['QCD'] = cutflow.values()[('QCD',)]\n",
    "df2['Wjets'] = cutflow.values()[('Wjets',)]\n",
    "df2['Zjets'] = cutflow.values()[('Zjets',)]\n",
    "df2['VV'] = cutflow.values()[('VV',)]\n",
    "df2['ttbar'] = cutflow.values()[('ttbar',)]\n",
    "df2['singlet'] = cutflow.values()[('singlet',)]\n",
    "\n",
    "df2 = df2[3:-1].astype('int')\n",
    "df2.index = ['Jet kinematics','Jet ID','Jet $N_2^\\text{DDT}$','Opp. hem. b veto','MET $<$ 140 GeV','No leptons','DeepDoubleB']\n",
    "\n",
    "df2.to_latex(buf=year+'/cutflow-bkg.tex')"
   ]
  },
  {
   "cell_type": "code",
   "execution_count": null,
   "metadata": {},
   "outputs": [],
   "source": []
  }
 ],
 "metadata": {
  "kernelspec": {
   "display_name": "Python 3",
   "language": "python",
   "name": "python3"
  },
  "language_info": {
   "codemirror_mode": {
    "name": "ipython",
    "version": 3
   },
   "file_extension": ".py",
   "mimetype": "text/x-python",
   "name": "python",
   "nbconvert_exporter": "python",
   "pygments_lexer": "ipython3",
   "version": "3.7.6"
  }
 },
 "nbformat": 4,
 "nbformat_minor": 2
}
