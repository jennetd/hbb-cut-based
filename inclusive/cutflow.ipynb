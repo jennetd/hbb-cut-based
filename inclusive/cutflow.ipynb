{
 "cells": [
  {
   "cell_type": "code",
   "execution_count": 11,
   "metadata": {},
   "outputs": [],
   "source": [
    "import os, subprocess\n",
    "import json\n",
    "import uproot\n",
    "import awkward as ak\n",
    "import numpy as np\n",
    "from coffea import processor, util, hist\n",
    "\n",
    "%matplotlib inline\n",
    "from matplotlib import lines as mlines\n",
    "import matplotlib.pyplot as plt\n",
    "from cycler import cycler"
   ]
  },
  {
   "cell_type": "code",
   "execution_count": 12,
   "metadata": {},
   "outputs": [],
   "source": [
    "lumis = {}\n",
    "lumis['2016'] = 35.9\n",
    "lumis['2017'] = 41.1\n",
    "lumis['2018'] = 59.9\n",
    "\n",
    "nfiles_mc = {}\n",
    "nfiles_mc['2016'] = 64\n",
    "nfiles_mc['2017'] = 89\n",
    "nfiles_mc['2018'] = 106\n",
    "\n",
    "with open('xsec.json') as f:\n",
    "  xs = json.load(f)\n",
    "\n",
    "with open('pmap.json') as f:\n",
    "  pmap = json.load(f)"
   ]
  },
  {
   "cell_type": "code",
   "execution_count": 13,
   "metadata": {},
   "outputs": [],
   "source": [
    "year = '2018'\n",
    "outsum = processor.dict_accumulator()"
   ]
  },
  {
   "cell_type": "code",
   "execution_count": 14,
   "metadata": {},
   "outputs": [
    {
     "name": "stdout",
     "output_type": "stream",
     "text": [
      "1\n",
      "2\n",
      "3\n",
      "4\n",
      "5\n",
      "6\n",
      "7\n",
      "8\n",
      "9\n",
      "10\n",
      "11\n",
      "12\n",
      "13\n",
      "14\n",
      "15\n",
      "16\n",
      "17\n",
      "18\n",
      "19\n",
      "20\n",
      "21\n",
      "22\n",
      "23\n",
      "24\n",
      "25\n",
      "26\n",
      "27\n",
      "28\n",
      "29\n",
      "30\n",
      "31\n",
      "32\n",
      "33\n",
      "34\n",
      "35\n",
      "36\n",
      "37\n",
      "38\n",
      "39\n",
      "40\n",
      "41\n",
      "42\n",
      "43\n",
      "44\n",
      "45\n",
      "46\n",
      "47\n",
      "48\n",
      "49\n",
      "50\n",
      "51\n",
      "52\n",
      "53\n",
      "54\n",
      "55\n",
      "56\n",
      "57\n",
      "58\n",
      "59\n",
      "60\n",
      "61\n",
      "62\n",
      "63\n",
      "64\n",
      "65\n",
      "66\n",
      "67\n",
      "68\n",
      "69\n",
      "70\n",
      "71\n",
      "72\n",
      "73\n",
      "74\n",
      "75\n",
      "76\n",
      "77\n",
      "78\n",
      "79\n",
      "80\n",
      "81\n",
      "82\n",
      "83\n",
      "84\n",
      "85\n",
      "86\n",
      "87\n",
      "88\n",
      "89\n",
      "90\n",
      "91\n",
      "92\n",
      "93\n",
      "94\n",
      "95\n",
      "96\n",
      "97\n",
      "98\n",
      "99\n",
      "100\n",
      "101\n",
      "102\n",
      "103\n",
      "104\n",
      "105\n",
      "106\n"
     ]
    }
   ],
   "source": [
    "# Load all MC\n",
    "for n in range(1,nfiles_mc[year]+1):\n",
    "    print(n)\n",
    "    filename = 'condor/outfiles/'+year+'_'+str(n)+'.coffea'\n",
    "    if os.path.isfile(filename):\n",
    "        out = util.load(filename)\n",
    "        outsum.add(out)\n",
    "    else:\n",
    "        print(\"File \" + filename + \" is missing\")\n",
    "        \n",
    "scale_lumi = {k: xs[k] * 1000 *lumis[year] / w for k, w in outsum['sumw'].items()}\n",
    "outsum['cutflow'].scale(scale_lumi, 'dataset')"
   ]
  },
  {
   "cell_type": "code",
   "execution_count": 15,
   "metadata": {},
   "outputs": [
    {
     "name": "stderr",
     "output_type": "stream",
     "text": [
      "/uscms/home/jennetd/.local/lib/python3.6/site-packages/coffea/hist/hist_tools.py:346: RuntimeWarning: Not all requested indices present in <Cat (name=dataset) instance at 0x7f9ff9c50630>\n",
      "  warnings.warn(\"Not all requested indices present in %r\" % self, RuntimeWarning)\n"
     ]
    }
   ],
   "source": [
    "templates = outsum['cutflow'].group('dataset', hist.Cat('process', 'Process'), pmap)"
   ]
  },
  {
   "cell_type": "code",
   "execution_count": 16,
   "metadata": {},
   "outputs": [],
   "source": [
    "#pmap = {}\n",
    "#pmap['otherH'] = ['ttH','WH','ZH','VBF']\n",
    "#pmap['ggF'] = ['ggF']\n",
    "#pmap['VV'] = ['VV']\n",
    "#pmap['top'] = ['ttbar','singlet']\n",
    "#pmap['Zjets'] = ['Zjets']\n",
    "#pmap['Wjets'] = ['Wjets']\n",
    "#pmap['QCD'] = ['QCD']\n",
    "\n",
    "cutflow = templates.sum('genflavor').integrate('region','signal')"
   ]
  },
  {
   "cell_type": "code",
   "execution_count": 17,
   "metadata": {},
   "outputs": [
    {
     "data": {
      "text/plain": [
       "{('ZH',): array([228.17614955, 228.17614955, 123.60794949, 114.38166466,\n",
       "        114.38166466,  68.7298133 ,  33.08095524,  23.63712481,\n",
       "         18.10985468,   6.73228909,   0.        ]),\n",
       " ('WH',): array([231.15181474, 231.15181474, 135.54101607, 126.68822354,\n",
       "        126.68822354,  78.9904871 ,  32.59748031,  30.21184778,\n",
       "         22.62380825,   8.07146629,   0.        ]),\n",
       " ('ttH',): array([968.85262776, 968.85262776, 628.72547372, 524.60738784,\n",
       "        524.60738784, 186.52347411,  55.5655823 ,  41.89660071,\n",
       "         16.17302953,   4.08260177,   0.        ]),\n",
       " ('VBF',): array([369.10938106, 369.10938106, 134.89638076, 125.91111582,\n",
       "        125.91111582,  71.94776556,  58.15957905,  56.20830311,\n",
       "         45.86749434,  27.43118304,   0.        ]),\n",
       " ('ggF',): array([897.10341639, 897.10341639, 374.70891126, 345.37823385,\n",
       "        345.37823385, 175.44640563, 133.00924972, 129.51608962,\n",
       "        102.19545871,  60.05142593,   0.        ]),\n",
       " ('QCD',): array([1.15516711e+08, 1.15516711e+08, 3.50941559e+07, 3.00879935e+07,\n",
       "        3.00879935e+07, 8.15355953e+06, 7.41943622e+06, 7.29219087e+06,\n",
       "        6.34614116e+06, 8.44874992e+04, 0.00000000e+00]),\n",
       " ('VV',): array([16280.36470496, 16280.36470496,  7635.6510451 ,  7039.91238484,\n",
       "         7039.91238484,  4173.67055188,  3722.61494346,  2721.84606944,\n",
       "         1701.29653421,    62.60907319,     0.        ]),\n",
       " ('Wjets',): array([1047765.23705018, 1047765.23705018,  424190.51407341,\n",
       "         368749.00161225,  368749.00161225,  165521.87883697,\n",
       "         151374.02610552,  148031.09496709,  120714.62054695,\n",
       "           2376.0746242 ,       0.        ]),\n",
       " ('Zjets',): array([488213.29411338, 488213.29411338, 201847.61094123, 174613.84265523,\n",
       "        174613.84265523,  77213.14100617,  67306.43128268,  65677.45338867,\n",
       "         52869.19884914,   3804.85081956,      0.        ]),\n",
       " ('ttbar',): array([558298.37827473, 558298.37827473, 310296.8436771 , 274020.85964473,\n",
       "        274020.85964473,  92379.34723755,  45771.75889424,  36266.62207354,\n",
       "         17764.17678065,   1857.96819865,      0.        ]),\n",
       " ('singlet',): array([67715.03062213, 67715.03062213, 33668.99810981, 30091.58764339,\n",
       "        30091.58764339, 14602.67556239,  6857.14250342,  5145.87426568,\n",
       "         2920.89283189,   247.62462097,     0.        ])}"
      ]
     },
     "execution_count": 17,
     "metadata": {},
     "output_type": "execute_result"
    }
   ],
   "source": [
    "cutflow.values()"
   ]
  },
  {
   "cell_type": "code",
   "execution_count": 18,
   "metadata": {},
   "outputs": [],
   "source": [
    "import pandas as pd"
   ]
  },
  {
   "cell_type": "code",
   "execution_count": 19,
   "metadata": {},
   "outputs": [],
   "source": [
    "df1 = pd.DataFrame([])\n",
    "\n",
    "df1['ggF'] = cutflow.values()[('ggF',)]\n",
    "df1['VBF'] = cutflow.values()[('VBF',)]\n",
    "df1['WH'] = cutflow.values()[('WH',)]\n",
    "df1['ZH'] = cutflow.values()[('ZH',)]\n",
    "df1['ttH'] = cutflow.values()[('ttH',)]\n",
    "\n",
    "df1 = df1[3:-1].astype('int')\n",
    "df1.index = ['Jet kinematics','Jet ID','Jet $N_2^\\text{DDT}$','Opp. hem. b veto','MET $<$ 140 GeV','No leptons','DeepDoubleB']\n",
    "\n",
    "df1.to_latex(buf=year+'/cutflow-sig.tex')"
   ]
  },
  {
   "cell_type": "code",
   "execution_count": 20,
   "metadata": {},
   "outputs": [],
   "source": [
    "df2 = pd.DataFrame([])\n",
    "\n",
    "df2['QCD'] = cutflow.values()[('QCD',)]\n",
    "df2['Wjets'] = cutflow.values()[('Wjets',)]\n",
    "df2['Zjets'] = cutflow.values()[('Zjets',)]\n",
    "df2['VV'] = cutflow.values()[('VV',)]\n",
    "df2['ttbar'] = cutflow.values()[('ttbar',)]\n",
    "df2['singlet'] = cutflow.values()[('singlet',)]\n",
    "\n",
    "df2 = df2[3:-1].astype('int')\n",
    "df2.index = ['Jet kinematics','Jet ID','Jet $N_2^\\text{DDT}$','Opp. hem. b veto','MET $<$ 140 GeV','No leptons','DeepDoubleB']\n",
    "\n",
    "df2.to_latex(buf=year+'/cutflow-bkg.tex')"
   ]
  },
  {
   "cell_type": "code",
   "execution_count": null,
   "metadata": {},
   "outputs": [],
   "source": []
  }
 ],
 "metadata": {
  "kernelspec": {
   "display_name": "Python 3",
   "language": "python",
   "name": "python3"
  },
  "language_info": {
   "codemirror_mode": {
    "name": "ipython",
    "version": 3
   },
   "file_extension": ".py",
   "mimetype": "text/x-python",
   "name": "python",
   "nbconvert_exporter": "python",
   "pygments_lexer": "ipython3",
   "version": "3.6.5"
  }
 },
 "nbformat": 4,
 "nbformat_minor": 2
}
