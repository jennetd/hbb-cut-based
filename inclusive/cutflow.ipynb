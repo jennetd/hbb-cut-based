{
 "cells": [
  {
   "cell_type": "code",
   "execution_count": 46,
   "metadata": {},
   "outputs": [],
   "source": [
    "import os, subprocess\n",
    "import json\n",
    "import uproot\n",
    "import awkward as ak\n",
    "import numpy as np\n",
    "from coffea import processor, util, hist\n",
    "\n",
    "%matplotlib inline\n",
    "from matplotlib import lines as mlines\n",
    "import matplotlib.pyplot as plt\n",
    "from cycler import cycler"
   ]
  },
  {
   "cell_type": "code",
   "execution_count": 47,
   "metadata": {},
   "outputs": [],
   "source": [
    "lumis = {}\n",
    "lumis['2016'] = 35.9\n",
    "lumis['2017'] = 41.1\n",
    "lumis['2018'] = 59.9\n",
    "\n",
    "nfiles_mc = {}\n",
    "nfiles_mc['2016'] = 64\n",
    "nfiles_mc['2017'] = 89\n",
    "nfiles_mc['2018'] = 106\n",
    "\n",
    "with open('xsec.json') as f:\n",
    "  xs = json.load(f)\n",
    "\n",
    "with open('pmap.json') as f:\n",
    "  pmap = json.load(f)"
   ]
  },
  {
   "cell_type": "code",
   "execution_count": 48,
   "metadata": {},
   "outputs": [],
   "source": [
    "year = '2018'\n",
    "outsum = processor.dict_accumulator()"
   ]
  },
  {
   "cell_type": "code",
   "execution_count": 49,
   "metadata": {},
   "outputs": [
    {
     "name": "stdout",
     "output_type": "stream",
     "text": [
      "1\n",
      "2\n",
      "3\n",
      "4\n",
      "5\n",
      "6\n",
      "7\n",
      "8\n",
      "9\n",
      "10\n",
      "11\n",
      "12\n",
      "13\n",
      "14\n",
      "15\n",
      "16\n",
      "17\n",
      "18\n",
      "19\n",
      "20\n",
      "21\n",
      "22\n",
      "23\n",
      "24\n",
      "25\n",
      "26\n",
      "27\n",
      "28\n",
      "29\n",
      "30\n",
      "31\n",
      "32\n",
      "33\n",
      "34\n",
      "35\n",
      "36\n",
      "37\n",
      "38\n",
      "39\n",
      "40\n",
      "41\n",
      "42\n",
      "43\n",
      "44\n",
      "45\n",
      "46\n",
      "47\n",
      "48\n",
      "49\n",
      "50\n",
      "51\n",
      "52\n",
      "53\n",
      "54\n",
      "55\n",
      "56\n",
      "57\n",
      "58\n",
      "59\n",
      "60\n",
      "61\n",
      "62\n",
      "63\n",
      "64\n",
      "65\n",
      "66\n",
      "67\n",
      "68\n",
      "69\n",
      "70\n",
      "71\n",
      "72\n",
      "73\n",
      "74\n",
      "75\n",
      "76\n",
      "77\n",
      "78\n",
      "79\n",
      "80\n",
      "81\n",
      "82\n",
      "83\n",
      "84\n",
      "85\n",
      "86\n",
      "87\n",
      "88\n",
      "89\n",
      "90\n",
      "91\n",
      "92\n",
      "93\n",
      "94\n",
      "95\n",
      "96\n",
      "97\n",
      "98\n",
      "99\n",
      "100\n",
      "101\n",
      "102\n",
      "103\n",
      "104\n",
      "105\n",
      "106\n"
     ]
    }
   ],
   "source": [
    "# Load all MC\n",
    "for n in range(1,nfiles_mc[year]+1):\n",
    "    print(n)\n",
    "    filename = 'condor/outfiles/'+year+'_'+str(n)+'.coffea'\n",
    "    if os.path.isfile(filename):\n",
    "        out = util.load(filename)\n",
    "        outsum.add(out)\n",
    "    else:\n",
    "        print(\"File \" + filename + \" is missing\")\n",
    "        \n",
    "scale_lumi = {k: xs[k] * 1000 *lumis[year] / w for k, w in outsum['sumw'].items()}\n",
    "outsum['cutflow'].scale(scale_lumi, 'dataset')"
   ]
  },
  {
   "cell_type": "code",
   "execution_count": 50,
   "metadata": {},
   "outputs": [
    {
     "name": "stderr",
     "output_type": "stream",
     "text": [
      "/uscms/home/jennetd/.local/lib/python3.6/site-packages/coffea/hist/hist_tools.py:346: RuntimeWarning: Not all requested indices present in <Cat (name=dataset) instance at 0x7f927cc185c0>\n",
      "  warnings.warn(\"Not all requested indices present in %r\" % self, RuntimeWarning)\n"
     ]
    }
   ],
   "source": [
    "templates = outsum['cutflow'].group('dataset', hist.Cat('process', 'Process'), pmap)"
   ]
  },
  {
   "cell_type": "code",
   "execution_count": 51,
   "metadata": {},
   "outputs": [],
   "source": [
    "#pmap = {}\n",
    "#pmap['otherH'] = ['ttH','WH','ZH','VBF']\n",
    "#pmap['ggF'] = ['ggF']\n",
    "#pmap['VV'] = ['VV']\n",
    "#pmap['top'] = ['ttbar','singlet']\n",
    "#pmap['Zjets'] = ['Zjets']\n",
    "#pmap['Wjets'] = ['Wjets']\n",
    "#pmap['QCD'] = ['QCD']\n",
    "\n",
    "cutflow = templates.sum('genflavor').integrate('region','signal')"
   ]
  },
  {
   "cell_type": "code",
   "execution_count": 52,
   "metadata": {},
   "outputs": [
    {
     "data": {
      "text/plain": [
       "{('ZH',): array([228.17614837, 228.17614837, 123.60794883, 114.38166405,\n",
       "        114.38166405,  68.72981293,  33.08095507,  23.63712468,\n",
       "         18.10985458,   6.73228906,   0.        ]),\n",
       " ('WH',): array([231.1518157 , 231.1518157 , 135.54101663, 126.68822406,\n",
       "        126.68822406,  78.99048743,  32.59748044,  30.21184791,\n",
       "         22.62380834,   8.07146633,   0.        ]),\n",
       " ('ttH',): array([968.85262986, 968.85262986, 628.72547509, 524.60738898,\n",
       "        524.60738898, 186.52347452,  55.56558242,  41.8966008 ,\n",
       "         16.17302956,   4.08260178,   0.        ]),\n",
       " ('VBF',): array([369.10938335, 369.10938335, 134.8963816 , 125.9111166 ,\n",
       "        125.9111166 ,  71.947766  ,  58.15957941,  56.20830346,\n",
       "         45.86749462,  27.43118321,   0.        ]),\n",
       " ('ggF',): array([897.10341568, 897.10341568, 374.70891096, 345.37823357,\n",
       "        345.37823357, 175.44640549, 133.00924962, 129.51608951,\n",
       "        102.19545863,  60.05142588,   0.        ]),\n",
       " ('QCD',): array([1.15516711e+08, 1.15516711e+08, 3.50941560e+07, 3.00879936e+07,\n",
       "        3.00879936e+07, 8.15355955e+06, 7.41943624e+06, 7.29219089e+06,\n",
       "        6.34614118e+06, 8.44874994e+04, 0.00000000e+00]),\n",
       " ('VV',): array([16280.36474423, 16280.36474423,  7635.65106316,  7039.91240157,\n",
       "         7039.91240157,  4173.67056123,  3722.61495246,  2721.84607624,\n",
       "         1701.29653897,    62.60907322,     0.        ]),\n",
       " ('Wjets',): array([1047765.2353369 , 1047765.2353369 ,  424190.51327973,\n",
       "         368749.00092284,  368749.00092284,  165521.87852764,\n",
       "         151374.02582264,  148031.09469047,  120714.62032123,\n",
       "           2376.07461973,       0.        ]),\n",
       " ('Zjets',): array([488213.2943883 , 488213.2943883 , 201847.61098051, 174613.84268938,\n",
       "        174613.84268938,  77213.14102146,  67306.43129604,  65677.4534017 ,\n",
       "         52869.19885961,   3804.85082029,      0.        ]),\n",
       " ('ttbar',): array([558298.3828107 , 558298.3828107 , 310296.84622592, 274020.86189123,\n",
       "        274020.86189123,  92379.34797373,  45771.75926402,  36266.62239015,\n",
       "         17764.1769552 ,   1857.96821569,      0.        ]),\n",
       " ('singlet',): array([67715.0304321 , 67715.0304321 , 33668.9980069 , 30091.58755127,\n",
       "        30091.58755127, 14602.67551504,  6857.14248188,  5145.87425013,\n",
       "         2920.89282337,   247.62462033,     0.        ])}"
      ]
     },
     "execution_count": 52,
     "metadata": {},
     "output_type": "execute_result"
    }
   ],
   "source": [
    "cutflow.values()"
   ]
  },
  {
   "cell_type": "code",
   "execution_count": 53,
   "metadata": {},
   "outputs": [],
   "source": [
    "import pandas as pd"
   ]
  },
  {
   "cell_type": "code",
   "execution_count": 54,
   "metadata": {},
   "outputs": [],
   "source": [
    "df1 = pd.DataFrame([])\n",
    "\n",
    "df1['ggF'] = cutflow.values()[('ggF',)]\n",
    "df1['VBF'] = cutflow.values()[('VBF',)]\n",
    "df1['WH'] = cutflow.values()[('WH',)]\n",
    "df1['ZH'] = cutflow.values()[('ZH',)]\n",
    "df1['ttH'] = cutflow.values()[('ttH',)]\n",
    "\n",
    "df1 = df1[3:-1].astype('int')\n",
    "df1.index = ['Jet kinematics','Jet ID','Jet $N_2^\\text{DDT}$','Opp. hem. b veto','MET $<$ 140 GeV','No leptons','DeepDoubleB']\n",
    "\n",
    "df1.to_latex(buf=year+'/cutflow-sig.tex')"
   ]
  },
  {
   "cell_type": "code",
   "execution_count": 55,
   "metadata": {},
   "outputs": [],
   "source": [
    "df2 = pd.DataFrame([])\n",
    "\n",
    "df2['QCD'] = cutflow.values()[('QCD',)]\n",
    "df2['Wjets'] = cutflow.values()[('Wjets',)]\n",
    "df2['Zjets'] = cutflow.values()[('Zjets',)]\n",
    "df2['VV'] = cutflow.values()[('VV',)]\n",
    "df2['ttbar'] = cutflow.values()[('ttbar',)]\n",
    "df2['singlet'] = cutflow.values()[('singlet',)]\n",
    "\n",
    "df2 = df2[3:-1].astype('int')\n",
    "df2.index = ['Jet kinematics','Jet ID','Jet $N_2^\\text{DDT}$','Opp. hem. b veto','MET $<$ 140 GeV','No leptons','DeepDoubleB']\n",
    "\n",
    "df2.to_latex(buf=year+'/cutflow-bkg.tex')"
   ]
  },
  {
   "cell_type": "code",
   "execution_count": null,
   "metadata": {},
   "outputs": [],
   "source": []
  }
 ],
 "metadata": {
  "kernelspec": {
   "display_name": "Python 3",
   "language": "python",
   "name": "python3"
  },
  "language_info": {
   "codemirror_mode": {
    "name": "ipython",
    "version": 3
   },
   "file_extension": ".py",
   "mimetype": "text/x-python",
   "name": "python",
   "nbconvert_exporter": "python",
   "pygments_lexer": "ipython3",
   "version": "3.6.5"
  }
 },
 "nbformat": 4,
 "nbformat_minor": 2
}
