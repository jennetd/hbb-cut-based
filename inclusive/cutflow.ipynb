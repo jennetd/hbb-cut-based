{
 "cells": [
  {
   "cell_type": "code",
   "execution_count": 1,
   "metadata": {},
   "outputs": [],
   "source": [
    "import os, subprocess\n",
    "import json\n",
    "import uproot\n",
    "import awkward as ak\n",
    "import numpy as np\n",
    "from coffea import processor, util, hist\n",
    "\n",
    "%matplotlib inline\n",
    "from matplotlib import lines as mlines\n",
    "import matplotlib.pyplot as plt\n",
    "from cycler import cycler"
   ]
  },
  {
   "cell_type": "code",
   "execution_count": 2,
   "metadata": {},
   "outputs": [],
   "source": [
    "lumis = {}\n",
    "lumis['2016'] = 35.9\n",
    "lumis['2017'] = 41.1\n",
    "lumis['2018'] = 59.9\n",
    "\n",
    "nfiles_mc = {}\n",
    "nfiles_mc['2016'] = 64\n",
    "nfiles_mc['2017'] = 89\n",
    "nfiles_mc['2018'] = 106\n",
    "\n",
    "with open('xsec.json') as f:\n",
    "  xs = json.load(f)\n",
    "\n",
    "with open('pmap.json') as f:\n",
    "  pmap = json.load(f)"
   ]
  },
  {
   "cell_type": "code",
   "execution_count": 3,
   "metadata": {},
   "outputs": [],
   "source": [
    "year = '2017'\n",
    "outsum = processor.dict_accumulator()"
   ]
  },
  {
   "cell_type": "code",
   "execution_count": 4,
   "metadata": {},
   "outputs": [
    {
     "name": "stdout",
     "output_type": "stream",
     "text": [
      "1\n",
      "2\n",
      "3\n",
      "4\n",
      "5\n",
      "6\n",
      "7\n",
      "8\n",
      "9\n",
      "10\n",
      "11\n",
      "12\n",
      "13\n",
      "14\n",
      "15\n",
      "16\n",
      "17\n",
      "18\n",
      "19\n",
      "20\n",
      "21\n",
      "22\n",
      "23\n",
      "24\n",
      "25\n",
      "26\n",
      "27\n",
      "28\n",
      "29\n",
      "30\n",
      "31\n",
      "32\n",
      "33\n",
      "34\n",
      "35\n",
      "36\n",
      "37\n",
      "38\n",
      "39\n",
      "40\n",
      "41\n",
      "42\n",
      "43\n",
      "44\n",
      "45\n",
      "46\n",
      "47\n",
      "48\n",
      "49\n",
      "50\n",
      "51\n",
      "52\n",
      "53\n",
      "54\n",
      "55\n",
      "56\n",
      "57\n",
      "58\n",
      "59\n",
      "60\n",
      "61\n",
      "62\n",
      "63\n",
      "64\n",
      "65\n",
      "66\n",
      "67\n",
      "68\n",
      "69\n",
      "70\n",
      "71\n",
      "72\n",
      "73\n",
      "74\n",
      "75\n",
      "76\n",
      "77\n",
      "78\n",
      "79\n",
      "80\n",
      "81\n",
      "82\n",
      "83\n",
      "84\n",
      "85\n",
      "86\n",
      "87\n",
      "88\n",
      "89\n"
     ]
    }
   ],
   "source": [
    "# Load all MC\n",
    "for n in range(1,nfiles_mc[year]+1):\n",
    "    print(n)\n",
    "    filename = 'condor/outfiles/'+year+'_'+str(n)+'.coffea'\n",
    "    if os.path.isfile(filename):\n",
    "        out = util.load(filename)\n",
    "        outsum.add(out)\n",
    "    else:\n",
    "        print(\"File \" + filename + \" is missing\")\n",
    "        \n",
    "scale_lumi = {k: xs[k] * 1000 *lumis[year] / w for k, w in outsum['sumw'].items()}\n",
    "outsum['cutflow'].scale(scale_lumi, 'dataset')"
   ]
  },
  {
   "cell_type": "code",
   "execution_count": 5,
   "metadata": {},
   "outputs": [
    {
     "name": "stderr",
     "output_type": "stream",
     "text": [
      "/uscms/home/jennetd/.local/lib/python3.6/site-packages/coffea/hist/hist_tools.py:346: RuntimeWarning: Not all requested indices present in <Cat (name=dataset) instance at 0x7fe04e70dcf8>\n",
      "  warnings.warn(\"Not all requested indices present in %r\" % self, RuntimeWarning)\n"
     ]
    }
   ],
   "source": [
    "templates = outsum['cutflow'].group('dataset', hist.Cat('process', 'Process'), pmap)"
   ]
  },
  {
   "cell_type": "code",
   "execution_count": 6,
   "metadata": {},
   "outputs": [],
   "source": [
    "#pmap = {}\n",
    "#pmap['otherH'] = ['ttH','WH','ZH','VBF']\n",
    "#pmap['ggF'] = ['ggF']\n",
    "#pmap['VV'] = ['VV']\n",
    "#pmap['top'] = ['ttbar','singlet']\n",
    "#pmap['Zjets'] = ['Zjets']\n",
    "#pmap['Wjets'] = ['Wjets']\n",
    "#pmap['QCD'] = ['QCD']\n",
    "\n",
    "cutflow = templates.sum('genflavor').integrate('region','signal')"
   ]
  },
  {
   "cell_type": "code",
   "execution_count": 7,
   "metadata": {},
   "outputs": [
    {
     "data": {
      "text/plain": [
       "{('ZH',): array([174.18392503, 174.18392503,  83.45180041,  77.96161234,\n",
       "         77.96161234,  45.66447444,  22.49749974,  16.48989197,\n",
       "         15.31191159,   6.07479185,   0.        ]),\n",
       " ('WH',): array([171.6207834 , 171.6207834 ,  91.29798653,  84.8858634 ,\n",
       "         84.8858634 ,  50.77807897,  22.6219888 ,  20.99389898,\n",
       "         19.64278087,   6.95914943,   0.        ]),\n",
       " ('ttH',): array([757.1606004 , 757.1606004 , 437.62353496, 363.5583228 ,\n",
       "        363.5583228 , 126.51982336,  41.54010013,  31.03419963,\n",
       "         19.36214128,   5.19279633,   0.        ]),\n",
       " ('VBF',): array([299.34603485, 299.34603485,  91.70098391,  85.73033852,\n",
       "         85.73033852,  47.43507135,  38.72485992,  37.33776814,\n",
       "         35.57059528,  23.29943366,   0.        ]),\n",
       " ('ggF',): array([727.52485495, 727.52485495, 254.37955509, 234.98566787,\n",
       "        234.98566787, 112.15920378,  88.71344419,  85.5445165 ,\n",
       "         81.15868831,  49.32000262,   0.        ]),\n",
       " ('QCD',): array([9.54814791e+07, 9.54814791e+07, 2.28498732e+07, 1.95607666e+07,\n",
       "        1.95607666e+07, 5.07655043e+06, 4.69558281e+06, 4.60739963e+06,\n",
       "        4.45756321e+06, 6.76272324e+04, 0.00000000e+00]),\n",
       " ('VV',): array([13233.38014645, 13233.38014645,  5332.44330523,  4902.98366217,\n",
       "         4902.98366217,  2847.7943792 ,  2591.17624591,  1912.88114382,\n",
       "         1462.79847209,    69.72717814,     0.        ]),\n",
       " ('Wjets',): array([955648.63637583, 955648.63637583, 308570.85542206, 265686.32146382,\n",
       "        265686.32146382, 111164.94467091, 103156.60748349, 100405.16176915,\n",
       "         95081.65078296,   2068.34369044,      0.        ]),\n",
       " ('Zjets',): array([497517.77131988, 497517.77131988, 162213.50093805, 139009.52147837,\n",
       "        139009.52147837,  56661.13295187,  49988.94676854,  48603.05888876,\n",
       "         45913.6367634 ,   3125.57423761,      0.        ]),\n",
       " ('ttbar',): array([429570.64233224, 429570.64233224, 214641.13053305, 189152.39550813,\n",
       "        189152.39550813,  62304.05045293,  32977.44226606,  25848.43573487,\n",
       "         18050.04899475,   2140.78822821,      0.        ]),\n",
       " ('singlet',): array([56362.35242508, 56362.35242508, 24292.5518799 , 21709.18711156,\n",
       "        21709.18711156, 10167.73534922,  5094.42235741,  3859.19218714,\n",
       "         2895.11579939,   267.97909869,     0.        ])}"
      ]
     },
     "execution_count": 7,
     "metadata": {},
     "output_type": "execute_result"
    }
   ],
   "source": [
    "cutflow.values()"
   ]
  },
  {
   "cell_type": "code",
   "execution_count": 8,
   "metadata": {},
   "outputs": [],
   "source": [
    "import pandas as pd"
   ]
  },
  {
   "cell_type": "code",
   "execution_count": 9,
   "metadata": {},
   "outputs": [],
   "source": [
    "df1 = pd.DataFrame([])\n",
    "\n",
    "df1['ggF'] = cutflow.values()[('ggF',)]\n",
    "df1['VBF'] = cutflow.values()[('VBF',)]\n",
    "df1['WH'] = cutflow.values()[('WH',)]\n",
    "df1['ZH'] = cutflow.values()[('ZH',)]\n",
    "df1['ttH'] = cutflow.values()[('ttH',)]\n",
    "\n",
    "df1 = df1[3:-1].astype('int')\n",
    "df1.index = ['Jet kinematics','Jet ID','Jet $N_2^\\text{DDT}$','Opp. hem. b veto','MET $<$ 140 GeV','No leptons','DeepDoubleB']\n",
    "\n",
    "df1.to_latex(buf=year+'/cutflow-sig.tex')"
   ]
  },
  {
   "cell_type": "code",
   "execution_count": 10,
   "metadata": {},
   "outputs": [],
   "source": [
    "df2 = pd.DataFrame([])\n",
    "\n",
    "df2['QCD'] = cutflow.values()[('QCD',)]\n",
    "df2['Wjets'] = cutflow.values()[('Wjets',)]\n",
    "df2['Zjets'] = cutflow.values()[('Zjets',)]\n",
    "df2['VV'] = cutflow.values()[('VV',)]\n",
    "df2['ttbar'] = cutflow.values()[('ttbar',)]\n",
    "df2['singlet'] = cutflow.values()[('singlet',)]\n",
    "\n",
    "df2 = df2[3:-1].astype('int')\n",
    "df2.index = ['Jet kinematics','Jet ID','Jet $N_2^\\text{DDT}$','Opp. hem. b veto','MET $<$ 140 GeV','No leptons','DeepDoubleB']\n",
    "\n",
    "df2.to_latex(buf=year+'/cutflow-bkg.tex')"
   ]
  },
  {
   "cell_type": "code",
   "execution_count": null,
   "metadata": {},
   "outputs": [],
   "source": []
  }
 ],
 "metadata": {
  "kernelspec": {
   "display_name": "Python 3",
   "language": "python",
   "name": "python3"
  },
  "language_info": {
   "codemirror_mode": {
    "name": "ipython",
    "version": 3
   },
   "file_extension": ".py",
   "mimetype": "text/x-python",
   "name": "python",
   "nbconvert_exporter": "python",
   "pygments_lexer": "ipython3",
   "version": "3.6.5"
  }
 },
 "nbformat": 4,
 "nbformat_minor": 2
}
