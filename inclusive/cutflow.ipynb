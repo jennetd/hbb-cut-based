{
 "cells": [
  {
   "cell_type": "code",
   "execution_count": 1,
   "metadata": {},
   "outputs": [],
   "source": [
    "import os, subprocess\n",
    "import json\n",
    "import uproot\n",
    "import awkward as ak\n",
    "import numpy as np\n",
    "from coffea import processor, util, hist\n",
    "import pandas as pd\n",
    "\n",
    "%matplotlib inline\n",
    "from matplotlib import lines as mlines\n",
    "import matplotlib.pyplot as plt\n",
    "from cycler import cycler\n",
    "\n",
    "import mplhep as hep\n",
    "plt.style.use([hep.style.CMS])"
   ]
  },
  {
   "cell_type": "code",
   "execution_count": 2,
   "metadata": {},
   "outputs": [],
   "source": [
    "lumis = {}\n",
    "lumis['2016'] = 35.9\n",
    "lumis['2017'] = 41.5\n",
    "lumis['2018'] = 59.9\n",
    "\n",
    "with open('xsec.json') as f:\n",
    "  xs = json.load(f)\n",
    "\n",
    "with open('pmap.json') as f:\n",
    "  pmap = json.load(f)"
   ]
  },
  {
   "cell_type": "code",
   "execution_count": 3,
   "metadata": {},
   "outputs": [],
   "source": [
    "year = '2018'\n",
    "nfiles = len(subprocess.getoutput(\"ls infiles-split/\"+year+\"*.json\").split())\n",
    "outsum = processor.dict_accumulator()"
   ]
  },
  {
   "cell_type": "code",
   "execution_count": 4,
   "metadata": {},
   "outputs": [
    {
     "name": "stdout",
     "output_type": "stream",
     "text": [
      "ok\n"
     ]
    }
   ],
   "source": [
    "# Load all files\n",
    "for n in range(1,nfiles+1):\n",
    "\n",
    "    with open('infiles-split/'+year+'_'+str(n)+'.json') as f:\n",
    "      infiles = json.load(f)\n",
    "    \n",
    "    filename = '/myeosdir/inclusive/outfiles/'+year+'_'+str(n)+'.coffea'\n",
    "    #filename = 'outfiles/'+year+'_'+str(n)+'.coffea'\n",
    "    if os.path.isfile(filename):\n",
    "        out = util.load(filename)\n",
    "        outsum.add(out)\n",
    "    else:\n",
    "        print(n,infiles.keys())\n",
    "        #print(\"File \" + filename + \" is missing\")\n",
    "    \n",
    "scale_lumi = {k: xs[k] * 1000 *lumis[year] / w for k, w in outsum['sumw'].items()}\n",
    "scale_lumi['JetHT'] = 1\n",
    "scale_lumi['SingleMuon'] = 1\n",
    "\n",
    "outsum['cutflow'].scale(scale_lumi, 'dataset')\n",
    "print('ok')"
   ]
  },
  {
   "cell_type": "code",
   "execution_count": 5,
   "metadata": {},
   "outputs": [
    {
     "name": "stderr",
     "output_type": "stream",
     "text": [
      "/opt/conda/lib/python3.8/site-packages/coffea/hist/hist_tools.py:347: RuntimeWarning: Not all requested indices present in <Cat (name=dataset) instance at 0x7f5f9dc982b0>\n",
      "  warnings.warn(\"Not all requested indices present in %r\" % self, RuntimeWarning)\n"
     ]
    },
    {
     "data": {
      "text/plain": [
       "{('ZH',): array([3.12033935e+04, 3.12033935e+04, 3.12033935e+04, 1.38076095e+02,\n",
       "        1.38076095e+02, 1.30405423e+02, 8.14398908e+01, 3.74893147e+01,\n",
       "        2.78374766e+01, 2.41635698e+01, 8.87292486e+00]),\n",
       " ('WH',): array([4.36713093e+04, 4.36713093e+04, 4.36713093e+04, 1.76614983e+02,\n",
       "        1.76614983e+02, 1.67200069e+02, 1.01521393e+02, 5.13206187e+01,\n",
       "        3.54712239e+01, 3.11473808e+01, 1.11907438e+01]),\n",
       " ('ggF',): array([9.32646289e+05, 9.32646289e+05, 9.32646289e+05, 3.66405552e+02,\n",
       "        3.66405552e+02, 3.49889985e+02, 1.79292766e+02, 1.36392254e+02,\n",
       "        1.33660739e+02, 1.30036482e+02, 7.70616706e+01]),\n",
       " ('ggF-powheg',): array([1.64726909e+06, 1.64726909e+06, 1.64726909e+06, 6.69207156e+02,\n",
       "        6.69207156e+02, 6.41220091e+02, 3.34385417e+02, 2.70267410e+02,\n",
       "        2.64773800e+02, 2.57414484e+02, 1.58992017e+02]),\n",
       " ('QCD',): array([1.62783470e+10, 1.62783470e+10, 1.62783470e+10, 3.30954119e+07,\n",
       "        3.30954119e+07, 3.07084046e+07, 8.39215898e+06, 7.64010674e+06,\n",
       "        7.55810323e+06, 7.37601346e+06, 1.04440542e+05]),\n",
       " ('VV',): array([6.59230337e+06, 6.59230337e+06, 6.59230337e+06, 7.38308586e+03,\n",
       "        7.38308586e+03, 7.00881795e+03, 4.14749142e+03, 3.71623123e+03,\n",
       "        2.78418583e+03, 2.15548354e+03, 9.38515646e+01]),\n",
       " ('Wjets',): array([3.42237842e+07, 3.42237842e+07, 3.42237842e+07, 5.64241826e+05,\n",
       "        5.64241826e+05, 5.12486508e+05, 2.17759196e+05, 1.99563083e+05,\n",
       "        1.79169627e+05, 1.56068636e+05, 3.10165693e+03]),\n",
       " ('Zjets',): array([5.47388770e+06, 5.47388770e+06, 5.47388770e+06, 2.35438666e+05,\n",
       "        2.35438666e+05, 2.13388989e+05, 1.02560307e+05, 9.03073830e+04,\n",
       "        8.83982132e+04, 6.65335082e+04, 4.71923168e+03]),\n",
       " ('ttbar',): array([4.19461637e+07, 4.19461637e+07, 4.19461637e+07, 3.27478428e+05,\n",
       "        3.27478428e+05, 2.95150956e+05, 1.04921025e+05, 5.16653283e+04,\n",
       "        4.05063203e+04, 2.80217641e+04, 3.08572068e+03]),\n",
       " ('singlet',): array([8.49049953e+06, 8.49049953e+06, 8.49049953e+06, 2.90863527e+04,\n",
       "        2.90863527e+04, 2.65951708e+04, 1.35353873e+04, 6.19823238e+03,\n",
       "        4.63772276e+03, 3.49295014e+03, 2.81590427e+02]),\n",
       " ('data',): array([3.81233858e+08, 1.74548872e+08, 1.67094044e+08, 3.13914270e+07,\n",
       "        3.13914270e+07, 2.94256490e+07, 8.53340500e+06, 7.53285600e+06,\n",
       "        7.25704900e+06, 6.98680100e+06, 1.04065000e+05]),\n",
       " ('muondata',): array([5.109769e+07, 5.178388e+06, 4.972366e+06, 1.137238e+06,\n",
       "        1.137238e+06, 1.036619e+06, 3.312000e+05, 2.289670e+05,\n",
       "        1.872820e+05, 1.597310e+05, 8.929000e+03])}"
      ]
     },
     "execution_count": 5,
     "metadata": {},
     "output_type": "execute_result"
    }
   ],
   "source": [
    "templates = outsum['cutflow'].group('dataset', hist.Cat('process', 'Process'), pmap)\n",
    "cutflow = templates.sum('genflavor').integrate('region','signal')\n",
    "cutflow.values()"
   ]
  },
  {
   "cell_type": "code",
   "execution_count": 8,
   "metadata": {},
   "outputs": [],
   "source": [
    "df1 = pd.DataFrame([])\n",
    "\n",
    "df1['ggF'] = cutflow.values()[('ggF',)]\n",
    "#df1['VBF'] = cutflow.values()[('VBF',)]\n",
    "df1['WH'] = cutflow.values()[('WH',)]\n",
    "df1['ZH'] = cutflow.values()[('ZH',)]\n",
    "#df1['ttH'] = cutflow.values()[('ttH',)]\n",
    "\n",
    "df1 = df1[3:].astype('int')\n",
    "df1.index = ['Jet kinematics','Jet ID','Jet acceptance','Jet $N_2^\\text{DDT}$','Opp. hem. b veto','MET $<$ 140 GeV','No leptons','DeepDoubleB']\n",
    "\n",
    "df1.to_latex(buf=year+'/cutflow-sig.tex')"
   ]
  },
  {
   "cell_type": "code",
   "execution_count": 9,
   "metadata": {},
   "outputs": [],
   "source": [
    "df2 = pd.DataFrame([])\n",
    "\n",
    "df2['QCD'] = cutflow.values()[('QCD',)]\n",
    "df2['Wjets'] = cutflow.values()[('Wjets',)]\n",
    "df2['Zjets'] = cutflow.values()[('Zjets',)]\n",
    "df2['VV'] = cutflow.values()[('VV',)]\n",
    "df2['ttbar'] = cutflow.values()[('ttbar',)]\n",
    "df2['singlet'] = cutflow.values()[('singlet',)]\n",
    "\n",
    "df2 = df2[3:].astype('int')\n",
    "df2.index = ['Jet kinematics','Jet ID','Jet acceptance','Jet $N_2^\\text{DDT}$','Opp. hem. b veto','MET $<$ 140 GeV','No leptons','DeepDoubleB']\n",
    "\n",
    "df2.to_latex(buf=year+'/cutflow-bkg.tex')"
   ]
  },
  {
   "cell_type": "code",
   "execution_count": null,
   "metadata": {},
   "outputs": [],
   "source": []
  }
 ],
 "metadata": {
  "kernelspec": {
   "display_name": "Python 3",
   "language": "python",
   "name": "python3"
  },
  "language_info": {
   "codemirror_mode": {
    "name": "ipython",
    "version": 3
   },
   "file_extension": ".py",
   "mimetype": "text/x-python",
   "name": "python",
   "nbconvert_exporter": "python",
   "pygments_lexer": "ipython3",
   "version": "3.8.8"
  }
 },
 "nbformat": 4,
 "nbformat_minor": 2
}
