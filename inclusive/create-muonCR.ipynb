{
 "cells": [
  {
   "cell_type": "code",
   "execution_count": 14,
   "metadata": {},
   "outputs": [],
   "source": [
    "import os, subprocess\n",
    "import json\n",
    "import uproot\n",
    "import awkward as ak\n",
    "import numpy as np\n",
    "from coffea import processor, util, hist\n",
    "\n",
    "%matplotlib inline\n",
    "from matplotlib import lines as mlines\n",
    "import matplotlib.pyplot as plt\n",
    "from cycler import cycler"
   ]
  },
  {
   "cell_type": "code",
   "execution_count": 15,
   "metadata": {},
   "outputs": [],
   "source": [
    "lumis = {}\n",
    "lumis['2016'] = 35.9\n",
    "lumis['2017'] = 41.5\n",
    "lumis['2018'] = 59.9\n",
    "\n",
    "nfiles = {}\n",
    "nfiles['2016'] = 43\n",
    "nfiles['2017'] = 43\n",
    "nfiles['2018'] = 51\n",
    "\n",
    "with open('xsec.json') as f:\n",
    "  xs = json.load(f)"
   ]
  },
  {
   "cell_type": "code",
   "execution_count": 16,
   "metadata": {},
   "outputs": [
    {
     "name": "stdout",
     "output_type": "stream",
     "text": [
      "1\n",
      "2\n",
      "3\n",
      "4\n",
      "5\n",
      "6\n",
      "7\n",
      "8\n",
      "9\n",
      "10\n",
      "11\n",
      "12\n",
      "13\n",
      "14\n",
      "15\n",
      "16\n",
      "17\n",
      "18\n",
      "19\n",
      "20\n",
      "21\n",
      "22\n",
      "23\n",
      "24\n",
      "25\n",
      "26\n",
      "27\n",
      "28\n",
      "29\n",
      "30\n",
      "31\n",
      "32\n",
      "33\n",
      "34\n",
      "35\n",
      "36\n",
      "37\n",
      "38\n",
      "39\n",
      "40\n",
      "41\n",
      "42\n",
      "43\n"
     ]
    }
   ],
   "source": [
    "outsum = processor.dict_accumulator()\n",
    "\n",
    "for year in ['2017']: #['2016','2017','2018']:\n",
    "    for n in range(1,nfiles[year]+1):\n",
    "        print(n)\n",
    "        out = util.load('condor/outfiles/'+year+'_'+str(n)+'.coffea')\n",
    "        #print(out)\n",
    "        outsum.add(out)\n",
    "        \n",
    "scale_lumi = {k: xs[k] * 1000 *lumis[year] / w for k, w in outsum['sumw'].items()}\n",
    "outsum['templates'].scale(scale_lumi, 'dataset')"
   ]
  },
  {
   "cell_type": "code",
   "execution_count": 17,
   "metadata": {},
   "outputs": [],
   "source": [
    "pmap = {}\n",
    "\n",
    "pmap['ZH'] = ['ZH_HToBB_ZToQQ_M125_13TeV_powheg_pythia8',\n",
    "              'ZH_HToBB_ZToNuNu_M125_13TeV_powheg_pythia8',\n",
    "              'ggZH_HToBB_ZToQQ_M125_13TeV_powheg_pythia8',\n",
    "              'ggZH_HToBB_ZToNuNu_M125_13TeV_powheg_pythia8',\n",
    "             ]\n",
    "pmap['WH'] = ['WminusH_HToBB_WToQQ_M125_13TeV_powheg_pythia8',\n",
    "              'WplusH_HToBB_WToQQ_M125_13TeV_powheg_pythia8',\n",
    "             ]\n",
    "pmap['ttH'] = ['ttHTobb_M125_13TeV-powheg-pythia8']\n",
    "pmap['VBF'] = ['VBFHToBB_M-125_13TeV_powheg_pythia8']\n",
    "#pmap['ggF-powheg'] = ['GluGluHToBB_M125_13TeV_powheg_pythia8']\n",
    "pmap['ggF'] = ['GluGluHToBB_M-125_13TeV_powheg_MINLO_NNLOPS_pythia8']\n",
    "#pmap['ggF-amcnlo'] = ['GluGluHToBB_M125_LHEHpT_250-Inf_13TeV_amcatnloFXFX_pythia8']\n",
    "\n",
    "pmap['QCD'] = ['QCD_HT500to700_13TeV-madgraphMLM-pythia8',\n",
    "               'QCD_HT700to1000_13TeV-madgraphMLM-pythia8',\n",
    "               'QCD_HT1000to1500_13TeV-madgraphMLM-pythia8',\n",
    "               'QCD_HT1500to2000_13TeV-madgraphMLM-pythia8',\n",
    "               'QCD_HT2000toInf_13TeV-madgraphMLM-pythia8',\n",
    "             ]\n",
    "\n",
    "pmap['VV'] = ['WW_13TeV-pythia8',\n",
    "              'ZZ_13TeV-pythia8',\n",
    "              'WZ_13TeV-pythia8',\n",
    "             ]\n",
    "\n",
    "pmap['Wjets'] = ['WJetsToQQ_HT800toInf_qc19_3j_13TeV-madgraphMLM-pythia8',\n",
    "                  'WJetsToQQ_HT400to600_qc19_3j_13TeV-madgraphMLM-pythia8',\n",
    "                  'WJetsToQQ_HT600to800_qc19_3j_13TeV-madgraphMLM-pythia8',\n",
    "                 ]\n",
    "\n",
    "pmap['Zjets'] = ['ZJetsToQQ_HT800toInf_qc19_4j_13TeV-madgraphMLM-pythia8',\n",
    "                  'ZJetsToQQ_HT400to600_qc19_4j_13TeV-madgraphMLM-pythia8',\n",
    "                  'ZJetsToQQ_HT600to800_qc19_4j_13TeV-madgraphMLM-pythia8',\n",
    "                 ]\n",
    "\n",
    "pmap['ttbar'] = ['TTToHadronic_13TeV-powheg-pythia8',\n",
    "               'TTToSemiLeptonic_13TeV-powheg-pythia8',\n",
    "               'ST_t-channel_antitop_4f_inclusiveDecays_13TeV-powheg-madspin-pythia8'\n",
    "                ]\n",
    "\n",
    "pmap['singlet'] = ['ST_t-channel_top_4f_inclusiveDecays_13TeV-powheg-madspin-pythia8',\n",
    "                   'ST_tW_antitop_5f_inclusiveDecays_13TeV-powheg-pythia8',\n",
    "                   'ST_tW_top_5f_inclusiveDecays_13TeV-powheg-pythia8',\n",
    "                  ]"
   ]
  },
  {
   "cell_type": "code",
   "execution_count": 18,
   "metadata": {},
   "outputs": [],
   "source": [
    "templates = outsum['templates'].group('dataset', hist.Cat('process', 'Process'), pmap)"
   ]
  },
  {
   "cell_type": "code",
   "execution_count": 19,
   "metadata": {},
   "outputs": [],
   "source": [
    "ptbins = [450, 500, 550, 600, 675, 800, 1200]"
   ]
  },
  {
   "cell_type": "code",
   "execution_count": 20,
   "metadata": {},
   "outputs": [
    {
     "name": "stdout",
     "output_type": "stream",
     "text": [
      "[<StringBin (muoncontrol) instance at 0x7f73022f6fd0>, <StringBin (noselection) instance at 0x7f73022f6240>, <StringBin (signal) instance at 0x7f73022f66d8>]\n"
     ]
    }
   ],
   "source": [
    "print(templates.identifiers('region'))"
   ]
  },
  {
   "cell_type": "code",
   "execution_count": 21,
   "metadata": {},
   "outputs": [],
   "source": [
    "os.system('rm muonCR.root')\n",
    "fout = uproot.create('muonCR.root')\n",
    "for p in pmap.keys():  \n",
    "    h = templates.sum('rho1','pt1').integrate('region', 'muoncontrol').integrate('ddb1',int_range=slice(0.89,1)).integrate('process',p)\n",
    "    fout[p+\"_pass\"] = hist.export1d(h)\n",
    "    h = templates.sum('rho1','pt1').integrate('region', 'muoncontrol').integrate('ddb1',int_range=slice(0,0.89)).integrate('process',p)\n",
    "    fout[p+\"_fail\"] = hist.export1d(h)\n",
    "\n",
    "fout.close()"
   ]
  },
  {
   "cell_type": "code",
   "execution_count": null,
   "metadata": {},
   "outputs": [],
   "source": []
  }
 ],
 "metadata": {
  "kernelspec": {
   "display_name": "Python 3",
   "language": "python",
   "name": "python3"
  },
  "language_info": {
   "codemirror_mode": {
    "name": "ipython",
    "version": 3
   },
   "file_extension": ".py",
   "mimetype": "text/x-python",
   "name": "python",
   "nbconvert_exporter": "python",
   "pygments_lexer": "ipython3",
   "version": "3.6.5"
  }
 },
 "nbformat": 4,
 "nbformat_minor": 2
}
