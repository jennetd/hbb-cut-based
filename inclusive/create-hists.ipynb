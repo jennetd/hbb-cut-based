{
 "cells": [
  {
   "cell_type": "code",
   "execution_count": 11,
   "metadata": {},
   "outputs": [],
   "source": [
    "import os, subprocess\n",
    "import json\n",
    "import uproot\n",
    "import awkward as ak\n",
    "import numpy as np\n",
    "from coffea import processor, util, hist\n",
    "\n",
    "%matplotlib inline\n",
    "from matplotlib import lines as mlines\n",
    "import matplotlib.pyplot as plt\n",
    "from cycler import cycler\n",
    "\n",
    "import mplhep as hep\n",
    "plt.style.use([hep.style.CMS])"
   ]
  },
  {
   "cell_type": "code",
   "execution_count": 12,
   "metadata": {},
   "outputs": [],
   "source": [
    "lumis = {}\n",
    "lumis['2016'] = 35.9\n",
    "lumis['2017'] = 41.5\n",
    "lumis['2018'] = 59.9\n",
    "\n",
    "nfiles_mc = {}\n",
    "nfiles_mc['2016'] = 64\n",
    "nfiles_mc['2017'] = 89\n",
    "nfiles_mc['2018'] = 106\n",
    "\n",
    "nfiles_data = {}\n",
    "nfiles_data['2016'] = 54\n",
    "nfiles_data['2017'] = 52\n",
    "nfiles_data['2018'] = 68\n",
    "\n",
    "with open('xsec.json') as f:\n",
    "  xs = json.load(f)\n",
    "\n",
    "with open('pmap.json') as f:\n",
    "  pmap = json.load(f)"
   ]
  },
  {
   "cell_type": "code",
   "execution_count": 13,
   "metadata": {},
   "outputs": [],
   "source": [
    "year = '2017'\n",
    "outsum = processor.dict_accumulator()"
   ]
  },
  {
   "cell_type": "code",
   "execution_count": 14,
   "metadata": {},
   "outputs": [
    {
     "name": "stdout",
     "output_type": "stream",
     "text": [
      "1\n",
      "2\n",
      "3\n",
      "4\n",
      "5\n",
      "6\n",
      "7\n",
      "8\n",
      "9\n",
      "10\n",
      "11\n",
      "12\n",
      "13\n",
      "14\n",
      "15\n",
      "16\n",
      "17\n",
      "18\n",
      "19\n",
      "20\n",
      "21\n",
      "22\n",
      "23\n",
      "24\n",
      "25\n",
      "26\n",
      "27\n",
      "28\n",
      "29\n",
      "30\n",
      "31\n",
      "32\n",
      "33\n",
      "34\n",
      "35\n",
      "36\n",
      "37\n",
      "38\n",
      "39\n",
      "40\n",
      "41\n",
      "42\n",
      "43\n",
      "44\n",
      "45\n",
      "46\n",
      "47\n",
      "48\n",
      "49\n",
      "50\n",
      "51\n",
      "52\n",
      "53\n",
      "54\n",
      "55\n",
      "56\n",
      "57\n",
      "58\n",
      "59\n",
      "60\n",
      "61\n",
      "62\n",
      "63\n",
      "64\n",
      "65\n",
      "66\n",
      "67\n",
      "68\n",
      "69\n",
      "70\n",
      "71\n",
      "72\n",
      "73\n",
      "74\n",
      "75\n",
      "76\n",
      "77\n",
      "78\n",
      "79\n",
      "80\n",
      "81\n",
      "82\n",
      "83\n",
      "84\n",
      "85\n",
      "86\n",
      "87\n",
      "88\n",
      "89\n"
     ]
    }
   ],
   "source": [
    "# Load all MC\n",
    "for n in range(1,nfiles_mc[year]+1):\n",
    "    print(n)\n",
    "    filename = 'condor/outfiles/'+year+'_'+str(n)+'.coffea'\n",
    "    if os.path.isfile(filename):\n",
    "        out = util.load(filename)\n",
    "        outsum.add(out)\n",
    "    else:\n",
    "        print(\"File \" + filename + \" is missing\")\n",
    "        \n",
    "scale_lumi = {k: xs[k] * 1000 *lumis[year] / w for k, w in outsum['sumw'].items()}\n",
    "outsum['templates1'].scale(scale_lumi, 'dataset')\n",
    "outsum['templates2'].scale(scale_lumi, 'dataset')"
   ]
  },
  {
   "cell_type": "code",
   "execution_count": 15,
   "metadata": {},
   "outputs": [
    {
     "name": "stdout",
     "output_type": "stream",
     "text": [
      "1\n",
      "2\n",
      "3\n",
      "4\n",
      "5\n",
      "6\n",
      "7\n",
      "8\n",
      "9\n",
      "10\n",
      "11\n",
      "12\n",
      "13\n",
      "14\n",
      "15\n",
      "16\n",
      "17\n",
      "18\n",
      "19\n",
      "20\n",
      "21\n",
      "22\n",
      "23\n",
      "24\n",
      "25\n",
      "26\n",
      "27\n",
      "28\n",
      "29\n",
      "30\n",
      "31\n",
      "32\n",
      "33\n",
      "34\n",
      "35\n",
      "36\n",
      "37\n",
      "38\n",
      "39\n",
      "40\n",
      "41\n",
      "42\n",
      "43\n",
      "44\n",
      "45\n",
      "46\n",
      "47\n",
      "48\n",
      "File condor/outdata/2017_48.coffea is missing\n",
      "49\n",
      "50\n",
      "File condor/outdata/2017_50.coffea is missing\n",
      "51\n",
      "52\n"
     ]
    }
   ],
   "source": [
    "# Load all data\n",
    "for n in range(1,nfiles_data[year]+1):\n",
    "    print(n)\n",
    "    filename = 'condor/outdata/'+year+'_'+str(n)+'.coffea'\n",
    "    if os.path.isfile(filename):\n",
    "        out = util.load(filename)\n",
    "        outsum.add(out)\n",
    "    else:\n",
    "        print(\"File \" + filename + \" is missing\")\n",
    "        \n",
    "# BE CAREFUL NOT TO UNBLIND\n",
    "# Can you figure out how to blind it at this step???"
   ]
  },
  {
   "cell_type": "code",
   "execution_count": 16,
   "metadata": {},
   "outputs": [
    {
     "name": "stderr",
     "output_type": "stream",
     "text": [
      "/uscms/home/jennetd/.local/lib/python3.6/site-packages/coffea/hist/hist_tools.py:346: RuntimeWarning: Not all requested indices present in <Cat (name=dataset) instance at 0x7f97cd367198>\n",
      "  warnings.warn(\"Not all requested indices present in %r\" % self, RuntimeWarning)\n"
     ]
    }
   ],
   "source": [
    "templates = outsum['templates1'].group('dataset', hist.Cat('process', 'Process'), pmap)"
   ]
  },
  {
   "cell_type": "code",
   "execution_count": 17,
   "metadata": {},
   "outputs": [
    {
     "data": {
      "text/plain": [
       "{('ZH', 'signal'): array([7.1250694 , 4.77887452]),\n",
       " ('ZH', 'muoncontrol'): array([0.02136154, 0.        ]),\n",
       " ('ZH', 'noselection'): array([58.90838578, 19.93360621]),\n",
       " ('WH', 'signal'): array([10.33612884,  5.85663214]),\n",
       " ('WH', 'muoncontrol'): array([0., 0.]),\n",
       " ('WH', 'noselection'): array([72.26671621, 13.58024814]),\n",
       " ('ttH', 'signal'): array([8.53593598, 3.11621619]),\n",
       " ('ttH', 'muoncontrol'): array([0.15485731, 0.03959827]),\n",
       " ('ttH', 'noselection'): array([312.57504596,  57.49553512]),\n",
       " ('VBF', 'signal'): array([10.63812092, 19.64727897]),\n",
       " ('VBF', 'muoncontrol'): array([0., 0.]),\n",
       " ('VBF', 'noselection'): array([49.83568396, 36.76928733]),\n",
       " ('ggF', 'signal'): array([27.49966808, 42.38279308]),\n",
       " ('ggF', 'muoncontrol'): array([0.06999241, 0.        ]),\n",
       " ('ggF', 'noselection'): array([155.53441459,  82.00689193]),\n",
       " ('QCD', 'signal'): array([3978690.39133291,   56860.88868066]),\n",
       " ('QCD', 'muoncontrol'): array([97.07409997,  9.0884958 ]),\n",
       " ('QCD', 'noselection'): array([19597285.37453608,   153853.69819114]),\n",
       " ('VV', 'signal'): array([1155.83761793,   55.37193705]),\n",
       " ('VV', 'muoncontrol'): array([0.13156519, 0.        ]),\n",
       " ('VV', 'noselection'): array([4776.54204279,  182.29815748]),\n",
       " ('Wjets', 'signal'): array([79416.37869526,  1704.44373965]),\n",
       " ('Wjets', 'muoncontrol'): array([1.87915426, 0.16279542]),\n",
       " ('Wjets', 'noselection'): array([265692.34725103,   3395.37512769]),\n",
       " ('Zjets', 'signal'): array([36168.49235584,  2624.6577772 ]),\n",
       " ('Zjets', 'muoncontrol'): array([3.80581746, 0.37091575]),\n",
       " ('Zjets', 'noselection'): array([134826.25352288,   5926.76274647]),\n",
       " ('ttbar', 'signal'): array([11195.6446399 ,  1441.30307234]),\n",
       " ('ttbar', 'muoncontrol'): array([59.68936776,  6.69009587]),\n",
       " ('ttbar', 'noselection'): array([177092.2714402 ,  15070.73173898]),\n",
       " ('singlet', 'signal'): array([1997.19645543,  195.48636574]),\n",
       " ('singlet', 'muoncontrol'): array([8.02298183, 0.50846698]),\n",
       " ('singlet', 'noselection'): array([20568.47442644,  1421.93760334]),\n",
       " ('data', 'signal'): array([3854690.,   58679.]),\n",
       " ('data', 'muoncontrol'): array([151.,  12.]),\n",
       " ('data', 'noselection'): array([22641738.,   201903.]),\n",
       " ('muondata', 'signal'): array([53788.,  3621.]),\n",
       " ('muondata', 'muoncontrol'): array([142.,  12.]),\n",
       " ('muondata', 'noselection'): array([484490.,  17039.])}"
      ]
     },
     "execution_count": 17,
     "metadata": {},
     "output_type": "execute_result"
    }
   ],
   "source": [
    "templates.sum('pt1','msd1').values()"
   ]
  },
  {
   "cell_type": "code",
   "execution_count": 29,
   "metadata": {},
   "outputs": [
    {
     "data": {
      "text/plain": [
       "{('ZH', 'signal'): array([7.1250694 , 4.77887452]),\n",
       " ('ZH', 'muoncontrol'): array([0.02136154, 0.        ]),\n",
       " ('ZH', 'noselection'): array([58.90838578, 19.93360621]),\n",
       " ('WH', 'signal'): array([10.33612884,  5.85663214]),\n",
       " ('WH', 'muoncontrol'): array([0., 0.]),\n",
       " ('WH', 'noselection'): array([72.26671621, 13.58024814]),\n",
       " ('ttH', 'signal'): array([8.53593598, 3.11621619]),\n",
       " ('ttH', 'muoncontrol'): array([0.15485731, 0.03959827]),\n",
       " ('ttH', 'noselection'): array([312.57504596,  57.49553512]),\n",
       " ('VBF', 'signal'): array([10.63812092, 19.64727897]),\n",
       " ('VBF', 'muoncontrol'): array([0., 0.]),\n",
       " ('VBF', 'noselection'): array([49.83568396, 36.76928733]),\n",
       " ('ggF', 'signal'): array([27.49966808, 42.38279308]),\n",
       " ('ggF', 'muoncontrol'): array([0.06999241, 0.        ]),\n",
       " ('ggF', 'noselection'): array([155.53441459,  82.00689193]),\n",
       " ('QCD', 'signal'): array([3978690.39133291,   56860.88868066]),\n",
       " ('QCD', 'muoncontrol'): array([97.07409997,  9.0884958 ]),\n",
       " ('QCD', 'noselection'): array([19597285.37453608,   153853.69819114]),\n",
       " ('VV', 'signal'): array([1155.83761793,   55.37193705]),\n",
       " ('VV', 'muoncontrol'): array([0.13156519, 0.        ]),\n",
       " ('VV', 'noselection'): array([4776.54204279,  182.29815748]),\n",
       " ('Wjets', 'signal'): array([79416.37869526,  1704.44373965]),\n",
       " ('Wjets', 'muoncontrol'): array([1.87915426, 0.16279542]),\n",
       " ('Wjets', 'noselection'): array([265692.34725103,   3395.37512769]),\n",
       " ('Zjets', 'signal'): array([36168.49235584,  2624.6577772 ]),\n",
       " ('Zjets', 'muoncontrol'): array([3.80581746, 0.37091575]),\n",
       " ('Zjets', 'noselection'): array([134826.25352288,   5926.76274647]),\n",
       " ('ttbar', 'signal'): array([11195.6446399 ,  1441.30307234]),\n",
       " ('ttbar', 'muoncontrol'): array([59.68936776,  6.69009587]),\n",
       " ('ttbar', 'noselection'): array([177092.2714402 ,  15070.73173898]),\n",
       " ('singlet', 'signal'): array([1997.19645543,  195.48636574]),\n",
       " ('singlet', 'muoncontrol'): array([8.02298183, 0.50846698]),\n",
       " ('singlet', 'noselection'): array([20568.47442644,  1421.93760334]),\n",
       " ('data', 'signal'): array([3854690.,   58679.]),\n",
       " ('data', 'muoncontrol'): array([151.,  12.]),\n",
       " ('data', 'noselection'): array([22641738.,   201903.]),\n",
       " ('muondata', 'signal'): array([53788.,  3621.]),\n",
       " ('muondata', 'muoncontrol'): array([142.,  12.]),\n",
       " ('muondata', 'noselection'): array([484490.,  17039.])}"
      ]
     },
     "execution_count": 29,
     "metadata": {},
     "output_type": "execute_result"
    }
   ],
   "source": [
    "templates.sum('msd1','pt1').values()"
   ]
  },
  {
   "cell_type": "code",
   "execution_count": null,
   "metadata": {},
   "outputs": [],
   "source": [
    "ptbins = [450, 500, 550, 600, 675, 800, 1200]"
   ]
  },
  {
   "cell_type": "code",
   "execution_count": null,
   "metadata": {},
   "outputs": [],
   "source": [
    "os.system('rm '+year+'/signalregion.root')\n",
    "fout = uproot.create(year+'/signalregion.root')\n",
    "for i,b in enumerate(ptbins[:-1]):\n",
    "    for p in pmap.keys():  \n",
    "        h = templates.integrate('region', 'signal').integrate('pt1',int_range=slice(ptbins[i],ptbins[i+1])).integrate('ddb1',int_range=slice(0.89,1)).integrate('process',p)\n",
    "        fout[p+\"_pass_pt\"+str(i+1)] = hist.export1d(h)\n",
    "        h = templates.integrate('region', 'signal').integrate('pt1',int_range=slice(ptbins[i],ptbins[i+1])).integrate('ddb1',int_range=slice(0,0.89)).integrate('process',p)\n",
    "        fout[p+\"_fail_pt\"+str(i+1)] = hist.export1d(h)\n",
    "\n",
    "fout.close()"
   ]
  },
  {
   "cell_type": "code",
   "execution_count": null,
   "metadata": {},
   "outputs": [],
   "source": [
    "hist.plot1d(templates.integrate('region', 'signal').integrate('pt1',int_range=slice(ptbins[0],ptbins[1])).integrate('process','QCD'),overlay='ddb1',density=True)\n",
    "plt.savefig(year+'/plot-all/qcd-msd-pt1.png')"
   ]
  },
  {
   "cell_type": "code",
   "execution_count": null,
   "metadata": {},
   "outputs": [],
   "source": [
    "hist.plot1d(templates.integrate('region', 'signal').integrate('pt1',int_range=slice(ptbins[1],ptbins[2])).integrate('process','QCD'),overlay='ddb1',density=True)\n",
    "plt.savefig(year+'/plot-all/qcd-msd-pt2.png')"
   ]
  },
  {
   "cell_type": "code",
   "execution_count": null,
   "metadata": {},
   "outputs": [],
   "source": [
    "hist.plot1d(templates.integrate('region', 'signal').integrate('pt1',int_range=slice(ptbins[2],ptbins[3])).integrate('process','QCD'),overlay='ddb1',density=True)\n",
    "plt.savefig(year+'/plot-all/qcd-msd-pt3.png')"
   ]
  },
  {
   "cell_type": "code",
   "execution_count": null,
   "metadata": {},
   "outputs": [],
   "source": [
    "hist.plot1d(templates.integrate('region', 'signal').integrate('pt1',int_range=slice(ptbins[3],ptbins[4])).integrate('process','QCD'),overlay='ddb1',density=True)\n",
    "plt.savefig(year+'/plot-all/qcd-msd-pt4.png')"
   ]
  },
  {
   "cell_type": "code",
   "execution_count": null,
   "metadata": {},
   "outputs": [],
   "source": [
    "hist.plot1d(templates.integrate('region', 'signal').integrate('pt1',int_range=slice(ptbins[4],ptbins[5])).integrate('process','QCD'),overlay='ddb1',density=True)\n",
    "plt.savefig(year+'/plot-all/qcd-msd-pt5.png')"
   ]
  },
  {
   "cell_type": "code",
   "execution_count": null,
   "metadata": {},
   "outputs": [],
   "source": [
    "hist.plot1d(templates.integrate('region', 'signal').integrate('pt1',int_range=slice(ptbins[5],ptbins[6])).integrate('process','QCD'),overlay='ddb1',density=True)\n",
    "plt.savefig(year+'/plot-all/qcd-msd-pt6.png')"
   ]
  },
  {
   "cell_type": "code",
   "execution_count": null,
   "metadata": {},
   "outputs": [],
   "source": [
    "hist.plot1d(templates.integrate('region', 'signal').sum('pt1').integrate('process','QCD'),overlay='ddb1',density=True)\n",
    "plt.savefig(year+'/plot-all/qcd-msd-all.png')"
   ]
  },
  {
   "cell_type": "code",
   "execution_count": 22,
   "metadata": {},
   "outputs": [],
   "source": [
    "#templates2 = outsum['templates2'].group('dataset', hist.Cat('process', 'Process'), pmap)\n",
    "\n",
    "os.system('rm '+year+'/muonCR.root')\n",
    "fout = uproot.create(year+'/muonCR.root')\n",
    "for p in pmap.keys():  \n",
    "    h = templates.integrate('region', 'muoncontrol').sum('pt1').integrate('ddb1',int_range=slice(0.89,1)).integrate('process',p)\n",
    "    fout[p+\"_pass\"] = hist.export1d(h)\n",
    "    h = templates.integrate('region', 'muoncontrol').sum('pt1').integrate('ddb1',int_range=slice(0,0.89)).integrate('process',p)\n",
    "    fout[p+\"_fail\"] = hist.export1d(h)\n",
    "\n",
    "fout.close()"
   ]
  },
  {
   "cell_type": "code",
   "execution_count": 26,
   "metadata": {},
   "outputs": [
    {
     "name": "stderr",
     "output_type": "stream",
     "text": [
      "findfont: Font family ['cursive'] not found. Falling back to DejaVu Sans.\n"
     ]
    },
    {
     "data": {
      "image/png": "[encoded data removed]",
      "text/plain": [
       "<Figure size 720x720 with 1 Axes>"
      ]
     },
     "metadata": {
      "needs_background": "light"
     },
     "output_type": "display_data"
    }
   ],
   "source": [
    "hist.plot1d(templates.integrate('region', 'muoncontrol').sum('pt1').integrate('process','muondata'),overlay='ddb1',density=True)\n",
    "plt.savefig(year+'/plot-all/qcd-msd-muondata.png')"
   ]
  },
  {
   "cell_type": "code",
   "execution_count": 28,
   "metadata": {},
   "outputs": [
    {
     "data": {
      "image/png": "[encoded data removed]",
      "text/plain": [
       "<Figure size 720x720 with 1 Axes>"
      ]
     },
     "metadata": {
      "needs_background": "light"
     },
     "output_type": "display_data"
    }
   ],
   "source": [
    "hist.plot1d(templates.integrate('region', 'muoncontrol').sum('pt1').integrate('process','ttbar'),overlay='ddb1',density=True)\n",
    "plt.savefig(year+'/plot-all/qcd-msd-muondata.png')"
   ]
  },
  {
   "cell_type": "code",
   "execution_count": null,
   "metadata": {},
   "outputs": [],
   "source": []
  }
 ],
 "metadata": {
  "kernelspec": {
   "display_name": "Python 3",
   "language": "python",
   "name": "python3"
  },
  "language_info": {
   "codemirror_mode": {
    "name": "ipython",
    "version": 3
   },
   "file_extension": ".py",
   "mimetype": "text/x-python",
   "name": "python",
   "nbconvert_exporter": "python",
   "pygments_lexer": "ipython3",
   "version": "3.6.5"
  }
 },
 "nbformat": 4,
 "nbformat_minor": 2
}
