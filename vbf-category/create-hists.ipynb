{
 "cells": [
  {
   "cell_type": "code",
   "execution_count": 1,
   "metadata": {},
   "outputs": [],
   "source": [
    "import os, subprocess\n",
    "import json\n",
    "import uproot\n",
    "import awkward as ak\n",
    "import numpy as np\n",
    "from coffea import processor, util, hist\n",
    "\n",
    "%matplotlib inline\n",
    "from matplotlib import lines as mlines\n",
    "import matplotlib.pyplot as plt\n",
    "from cycler import cycler\n",
    "\n",
    "import mplhep as hep\n",
    "plt.style.use([hep.style.ROOT, hep.style.CMS])"
   ]
  },
  {
   "cell_type": "code",
   "execution_count": 2,
   "metadata": {},
   "outputs": [],
   "source": [
    "lumis = {}\n",
    "lumis['2016'] = 35.9\n",
    "lumis['2017'] = 41.5\n",
    "lumis['2018'] = 59.9\n",
    "\n",
    "nfiles_mc = {}\n",
    "nfiles_mc['2016'] = 113\n",
    "nfiles_mc['2017'] = 167\n",
    "nfiles_mc['2018'] = 201\n",
    "\n",
    "nfiles_data = {}\n",
    "nfiles_data['2016'] = 23\n",
    "nfiles_data['2017'] = 25\n",
    "nfiles_data['2018'] = 29\n",
    "\n",
    "with open('xsec.json') as f:\n",
    "  xs = json.load(f)\n",
    "\n",
    "with open('pmap.json') as f:\n",
    "  pmap = json.load(f)"
   ]
  },
  {
   "cell_type": "code",
   "execution_count": 3,
   "metadata": {},
   "outputs": [],
   "source": [
    "year = '2016'\n",
    "outsum = processor.dict_accumulator()"
   ]
  },
  {
   "cell_type": "code",
   "execution_count": null,
   "metadata": {},
   "outputs": [
    {
     "name": "stdout",
     "output_type": "stream",
     "text": [
      "1\n",
      "2\n",
      "3\n",
      "4\n",
      "5\n",
      "6\n",
      "7\n",
      "8\n",
      "9\n",
      "10\n",
      "11\n",
      "12\n",
      "13\n",
      "14\n",
      "15\n",
      "16\n",
      "17\n",
      "18\n",
      "19\n",
      "20\n",
      "21\n",
      "22\n",
      "23\n",
      "24\n",
      "25\n",
      "26\n",
      "27\n",
      "28\n",
      "29\n",
      "30\n",
      "31\n",
      "32\n",
      "33\n",
      "34\n",
      "35\n",
      "36\n",
      "37\n",
      "38\n",
      "39\n",
      "40\n",
      "41\n",
      "42\n",
      "43\n",
      "44\n",
      "45\n",
      "46\n",
      "47\n",
      "48\n",
      "49\n",
      "50\n",
      "51\n",
      "52\n",
      "53\n",
      "54\n",
      "55\n",
      "56\n"
     ]
    }
   ],
   "source": [
    "# Load all MC\n",
    "for n in range(1,nfiles_mc[year]+1):\n",
    "    print(n)\n",
    "    filename = 'condor/outfiles/'+year+'_'+str(n)+'.coffea'\n",
    "    if os.path.isfile(filename):\n",
    "        out = util.load(filename)\n",
    "        outsum.add(out)\n",
    "    else:\n",
    "        print(\"File \" + filename + \" is missing\")\n",
    "        \n",
    "scale_lumi = {k: xs[k] * 1000 *lumis[year] / w for k, w in outsum['sumw'].items()}\n",
    "outsum['templates1'].scale(scale_lumi, 'dataset')\n",
    "outsum['templates2'].scale(scale_lumi, 'dataset')"
   ]
  },
  {
   "cell_type": "code",
   "execution_count": null,
   "metadata": {},
   "outputs": [],
   "source": [
    "# Load all data\n",
    "for n in range(1,nfiles_data[year]+1):\n",
    "    print(n)\n",
    "    filename = 'condor/outdata/'+year+'_'+str(n)+'.coffea'\n",
    "    if os.path.isfile(filename):\n",
    "        out = util.load(filename)\n",
    "        outsum.add(out)\n",
    "    else:\n",
    "        print(\"File \" + filename + \" is missing\")\n",
    "        \n",
    "# BE CAREFUL NOT TO UNBLIND\n",
    "# Can you figure out how to blind it at this step???"
   ]
  },
  {
   "cell_type": "code",
   "execution_count": null,
   "metadata": {},
   "outputs": [],
   "source": [
    "templates_mjj = outsum['templates2'].group('dataset', hist.Cat('process', 'Process'), pmap)\n",
    "templates_pt = outsum['templates1'].group('dataset', hist.Cat('process', 'Process'), pmap)"
   ]
  },
  {
   "cell_type": "code",
   "execution_count": null,
   "metadata": {},
   "outputs": [],
   "source": [
    "templates_mjj = templates_mjj.sum('qgl1','qgl2').integrate('deta',int_range=slice(3.5,7))\n",
    "templates_pt = templates_pt.integrate('mjj',int_range=slice(1000,4000)).integrate('deta',int_range=slice(3.5,7))"
   ]
  },
  {
   "cell_type": "code",
   "execution_count": null,
   "metadata": {},
   "outputs": [],
   "source": [
    "os.system('rm '+year+'/1-signalregion.root')\n",
    "fout = uproot.create(year+'/1-signalregion.root')\n",
    "for p in pmap.keys():  \n",
    "    h = templates_pt.integrate('region', 'signal').sum('pt1').integrate('ddb1',int_range=slice(0.89,1)).integrate('process',p)\n",
    "    fout[p+\"_pass\"] = hist.export1d(h)\n",
    "    h = templates_pt.integrate('region', 'signal').sum('pt1').integrate('ddb1',int_range=slice(0,0.89)).integrate('process',p)\n",
    "    fout[p+\"_fail\"] = hist.export1d(h)\n",
    "\n",
    "fout.close()"
   ]
  },
  {
   "cell_type": "code",
   "execution_count": null,
   "metadata": {},
   "outputs": [],
   "source": [
    "hist.plot1d(templates_pt.integrate('region', 'signal').sum('pt1').integrate('process','QCD'),overlay='ddb1',density=True)\n",
    "plt.title('VBF category, inclusive ('+year+')')\n",
    "plt.savefig(year+'/plot-all/qcd-msd-all.png')"
   ]
  },
  {
   "cell_type": "code",
   "execution_count": null,
   "metadata": {},
   "outputs": [],
   "source": [
    "ptbins = [450, 500, 550, 600, 675, 800, 1200]"
   ]
  },
  {
   "cell_type": "code",
   "execution_count": null,
   "metadata": {},
   "outputs": [],
   "source": [
    "os.system('rm '+year+'/pt6-signalregion.root')\n",
    "fout = uproot.create(year+'/pt6-signalregion.root')\n",
    "for i,b in enumerate(ptbins[:-1]):\n",
    "    for p in pmap.keys():  \n",
    "        h = templates_pt.integrate('region', 'signal').integrate('pt1',int_range=slice(ptbins[i],ptbins[i+1])).integrate('ddb1',int_range=slice(0.89,1)).integrate('process',p)\n",
    "        fout[p+\"_pass_pt\"+str(i+1)] = hist.export1d(h)\n",
    "        h = templates_pt.integrate('region', 'signal').integrate('pt1',int_range=slice(ptbins[i],ptbins[i+1])).integrate('ddb1',int_range=slice(0,0.89)).integrate('process',p)\n",
    "        fout[p+\"_fail_pt\"+str(i+1)] = hist.export1d(h)\n",
    "\n",
    "fout.close()"
   ]
  },
  {
   "cell_type": "code",
   "execution_count": null,
   "metadata": {},
   "outputs": [],
   "source": [
    "hist.plot1d(templates_pt.integrate('region', 'signal').integrate('pt1',int_range=slice(ptbins[0],ptbins[1])).integrate('process','QCD'),overlay='ddb1',density=True)\n",
    "plt.title('VBF category, pT bin 1 ('+year+')')\n",
    "plt.savefig(year+'/plot-all/qcd-msd-pt1.png')"
   ]
  },
  {
   "cell_type": "code",
   "execution_count": null,
   "metadata": {},
   "outputs": [],
   "source": [
    "hist.plot1d(templates_pt.integrate('region', 'signal').integrate('pt1',int_range=slice(ptbins[1],ptbins[2])).integrate('process','QCD'),overlay='ddb1',density=True)\n",
    "plt.title('VBF category, pT bin 2 ('+year+')')\n",
    "plt.savefig(year+'/plot-all/qcd-msd-pt2.png')"
   ]
  },
  {
   "cell_type": "code",
   "execution_count": null,
   "metadata": {},
   "outputs": [],
   "source": [
    "hist.plot1d(templates_pt.integrate('region', 'signal').integrate('pt1',int_range=slice(ptbins[2],ptbins[3])).integrate('process','QCD'),overlay='ddb1',density=True)\n",
    "plt.title('VBF category, pT bin 3 ('+year+')')\n",
    "plt.savefig(year+'/plot-all/qcd-msd-pt3.png')"
   ]
  },
  {
   "cell_type": "code",
   "execution_count": null,
   "metadata": {},
   "outputs": [],
   "source": [
    "hist.plot1d(templates_pt.integrate('region', 'signal').integrate('pt1',int_range=slice(ptbins[3],ptbins[4])).integrate('process','QCD'),overlay='ddb1',density=True)\n",
    "plt.title('VBF category, pT bin 4 ('+year+')')\n",
    "plt.savefig(year+'/plot-all/qcd-msd-pt4.png')"
   ]
  },
  {
   "cell_type": "code",
   "execution_count": null,
   "metadata": {},
   "outputs": [],
   "source": [
    "hist.plot1d(templates_pt.integrate('region', 'signal').integrate('pt1',int_range=slice(ptbins[4],ptbins[5])).integrate('process','QCD'),overlay='ddb1',density=True)\n",
    "plt.title('VBF category, pT bin 5 ('+year+')')\n",
    "plt.savefig(year+'/plot-all/qcd-msd-pt5.png')"
   ]
  },
  {
   "cell_type": "code",
   "execution_count": null,
   "metadata": {},
   "outputs": [],
   "source": [
    "hist.plot1d(templates_pt.integrate('region', 'signal').integrate('pt1',int_range=slice(ptbins[5],ptbins[6])).integrate('process','QCD'),overlay='ddb1',density=True)\n",
    "plt.title('VBF category, pT bin 6 ('+year+')')\n",
    "plt.savefig(year+'/plot-all/qcd-msd-pt6.png')"
   ]
  },
  {
   "cell_type": "code",
   "execution_count": null,
   "metadata": {},
   "outputs": [],
   "source": [
    "mjjbins = [1000,2000,3000,4000]"
   ]
  },
  {
   "cell_type": "code",
   "execution_count": null,
   "metadata": {},
   "outputs": [],
   "source": [
    "os.system('rm '+year+'/mjj3-signalregion.root')\n",
    "fout = uproot.create(year+'/mjj3-signalregion.root')\n",
    "for i,b in enumerate(mjjbins[:-1]):\n",
    "    for p in pmap.keys():  \n",
    "        h = templates_mjj.integrate('region', 'signal').integrate('mjj',int_range=slice(mjjbins[i],mjjbins[i+1])).integrate('ddb1',int_range=slice(0.89,1)).integrate('process',p)\n",
    "        fout[p+\"_pass_mjj\"+str(i+1)] = hist.export1d(h)\n",
    "        h = templates_mjj.integrate('region', 'signal').integrate('mjj',int_range=slice(mjjbins[i],mjjbins[i+1])).integrate('ddb1',int_range=slice(0,0.89)).integrate('process',p)\n",
    "        fout[p+\"_fail_mjj\"+str(i+1)] = hist.export1d(h)\n",
    "\n",
    "fout.close()"
   ]
  },
  {
   "cell_type": "code",
   "execution_count": null,
   "metadata": {},
   "outputs": [],
   "source": [
    "hist.plot1d(templates_mjj.integrate('region', 'signal').integrate('mjj',int_range=slice(mjjbins[0],mjjbins[1])).integrate('process','QCD'),overlay='ddb1',density=True)\n",
    "plt.title('VBF category, mjj bin 1 ('+year+')')\n",
    "plt.savefig(year+'/plot-all/qcd-msd-mjj1.png')"
   ]
  },
  {
   "cell_type": "code",
   "execution_count": null,
   "metadata": {},
   "outputs": [],
   "source": [
    "hist.plot1d(templates_mjj.integrate('region', 'signal').integrate('mjj',int_range=slice(mjjbins[1],mjjbins[2])).integrate('process','QCD'),overlay='ddb1',density=True)\n",
    "plt.title('VBF category, mjj bin 2 ('+year+')')\n",
    "plt.savefig(year+'/plot-all/qcd-msd-mjj2.png')"
   ]
  },
  {
   "cell_type": "code",
   "execution_count": null,
   "metadata": {},
   "outputs": [],
   "source": [
    "hist.plot1d(templates_mjj.integrate('region', 'signal').integrate('mjj',int_range=slice(mjjbins[2],mjjbins[3])).integrate('process','QCD'),overlay='ddb1',density=True)\n",
    "plt.title('VBF category, mjj bin 3 ('+year+')')\n",
    "plt.savefig(year+'/plot-all/qcd-msd-mjj3.png')"
   ]
  },
  {
   "cell_type": "code",
   "execution_count": null,
   "metadata": {},
   "outputs": [],
   "source": [
    "os.system('rm '+year+'/muonCR.root')\n",
    "fout = uproot.create(year+'/muonCR.root')\n",
    "for p in pmap.keys():  \n",
    "    h = templates_pt.sum('pt1').integrate('region', 'muoncontrol').integrate('ddb1',int_range=slice(0.89,1)).integrate('process',p)\n",
    "    fout[p+\"_pass\"] = hist.export1d(h)\n",
    "    h = templates_pt.sum('pt1').integrate('region', 'muoncontrol').integrate('ddb1',int_range=slice(0,0.89)).integrate('process',p)\n",
    "    fout[p+\"_fail\"] = hist.export1d(h)\n",
    "\n",
    "fout.close()"
   ]
  },
  {
   "cell_type": "code",
   "execution_count": null,
   "metadata": {},
   "outputs": [],
   "source": []
  }
 ],
 "metadata": {
  "kernelspec": {
   "display_name": "Python 3",
   "language": "python",
   "name": "python3"
  },
  "language_info": {
   "codemirror_mode": {
    "name": "ipython",
    "version": 3
   },
   "file_extension": ".py",
   "mimetype": "text/x-python",
   "name": "python",
   "nbconvert_exporter": "python",
   "pygments_lexer": "ipython3",
   "version": "3.7.6"
  }
 },
 "nbformat": 4,
 "nbformat_minor": 2
}
