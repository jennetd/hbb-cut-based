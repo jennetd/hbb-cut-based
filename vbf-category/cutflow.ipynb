{
 "cells": [
  {
   "cell_type": "code",
   "execution_count": 1,
   "metadata": {},
   "outputs": [],
   "source": [
    "import os, subprocess\n",
    "import json\n",
    "import uproot\n",
    "import awkward as ak\n",
    "import numpy as np\n",
    "from coffea import processor, util, hist\n",
    "import pandas as pd\n",
    "\n",
    "%matplotlib inline\n",
    "from matplotlib import lines as mlines\n",
    "import matplotlib.pyplot as plt\n",
    "from cycler import cycler\n",
    "\n",
    "import mplhep as hep\n",
    "plt.style.use([hep.style.CMS])"
   ]
  },
  {
   "cell_type": "code",
   "execution_count": 2,
   "metadata": {},
   "outputs": [],
   "source": [
    "lumis = {}\n",
    "lumis['2016'] = 35.9\n",
    "lumis['2017'] = 41.5\n",
    "lumis['2018'] = 59.9\n",
    "\n",
    "with open('xsec.json') as f:\n",
    "  xs = json.load(f)\n",
    "\n",
    "with open('pmap.json') as f:\n",
    "  pmap = json.load(f)"
   ]
  },
  {
   "cell_type": "code",
   "execution_count": 3,
   "metadata": {},
   "outputs": [],
   "source": [
    "year = '2016'\n",
    "nfiles = len(subprocess.getoutput(\"ls infiles-split/\"+year+\"*.json\").split())\n",
    "outsum = processor.dict_accumulator()"
   ]
  },
  {
   "cell_type": "code",
   "execution_count": 4,
   "metadata": {},
   "outputs": [
    {
     "name": "stdout",
     "output_type": "stream",
     "text": [
      "ok\n"
     ]
    }
   ],
   "source": [
    "# Load all files\n",
    "for n in range(1,nfiles+1):\n",
    "\n",
    "    with open('infiles-split/'+year+'_'+str(n)+'.json') as f:\n",
    "        infiles = json.load(f)\n",
    "    \n",
    "    filename = '/myeosdir/vbf-category/outfiles/'+year+'_'+str(n)+'.coffea'\n",
    "    if os.path.isfile(filename):\n",
    "        out = util.load(filename)\n",
    "        outsum.add(out)\n",
    "    else:\n",
    "        print(n,infiles.keys())\n",
    "        #print(\"File \" + filename + \" is missing\")\n",
    "        \n",
    "scale_lumi = {k: xs[k] * 1000 *lumis[year] / w for k, w in outsum['sumw'].items()}\n",
    "outsum['cutflow'].scale(scale_lumi, 'dataset')\n",
    "print('ok')"
   ]
  },
  {
   "cell_type": "code",
   "execution_count": 5,
   "metadata": {},
   "outputs": [
    {
     "name": "stderr",
     "output_type": "stream",
     "text": [
      "/opt/conda/lib/python3.8/site-packages/coffea/hist/hist_tools.py:347: RuntimeWarning: Not all requested indices present in <Cat (name=dataset) instance at 0x7f6dbc4b94f0>\n",
      "  warnings.warn(\"Not all requested indices present in %r\" % self, RuntimeWarning)\n"
     ]
    }
   ],
   "source": [
    "templates = outsum['cutflow'].group('dataset', hist.Cat('process', 'Process'), pmap)"
   ]
  },
  {
   "cell_type": "code",
   "execution_count": 6,
   "metadata": {},
   "outputs": [
    {
     "data": {
      "text/plain": [
       "<Hist (process,cut) instance at 0x7f6db4d27e20>"
      ]
     },
     "execution_count": 6,
     "metadata": {},
     "output_type": "execute_result"
    }
   ],
   "source": [
    "cutflow = templates.sum('genflavor').integrate('region','signal-vbf')\n",
    "cutflow"
   ]
  },
  {
   "cell_type": "code",
   "execution_count": 7,
   "metadata": {},
   "outputs": [
    {
     "data": {
      "text/plain": [
       "{('ZH',): array([5.50621125e+03, 5.50621125e+03, 5.50621125e+03, 2.90058789e+01,\n",
       "        2.90058789e+01, 2.73817148e+01, 1.55299352e+01, 9.53835408e+00,\n",
       "        3.19797692e+00, 1.02287733e+00, 7.77878429e-02, 6.78309021e-02,\n",
       "        2.61183212e-02, 0.00000000e+00, 0.00000000e+00]),\n",
       " ('WH',): array([8.52750939e+03, 8.52750939e+03, 8.52750939e+03, 2.98620460e+01,\n",
       "        2.98620460e+01, 2.84034050e+01, 1.44712959e+01, 1.26972382e+01,\n",
       "        2.94519613e+00, 5.60400679e-01, 2.45239872e-02, 2.09284462e-02,\n",
       "        7.17907555e-03, 0.00000000e+00, 0.00000000e+00]),\n",
       " ('VBF',): array([7.19234165e+04, 7.19234165e+04, 7.19234165e+04, 1.00297962e+02,\n",
       "        1.00297962e+02, 9.79805667e+01, 5.24014636e+01, 4.18383037e+01,\n",
       "        4.10917927e+01, 3.98142096e+01, 1.72550871e+01, 1.63211343e+01,\n",
       "        8.95972822e+00, 0.00000000e+00, 0.00000000e+00]),\n",
       " ('ggF',): array([5.51373724e+05, 5.51373724e+05, 5.51373724e+05, 2.90864882e+02,\n",
       "        2.90864882e+02, 2.75850854e+02, 1.14217158e+02, 7.96853335e+01,\n",
       "        7.96853335e+01, 7.96853335e+01, 2.63723231e+00, 2.63723231e+00,\n",
       "        0.00000000e+00, 0.00000000e+00, 0.00000000e+00]),\n",
       " ('ggF-powheg',): array([9.73940351e+05, 9.73940351e+05, 9.73940351e+05, 5.65093867e+02,\n",
       "        5.65093867e+02, 5.44717151e+02, 2.65845372e+02, 2.12728935e+02,\n",
       "        2.08805707e+02, 2.04122565e+02, 1.58923869e+01, 1.42517872e+01,\n",
       "        7.79803579e+00, 0.00000000e+00, 0.00000000e+00]),\n",
       " ('QCD',): array([3.72715863e+08, 3.72715863e+08, 3.72715863e+08, 2.78017209e+07,\n",
       "        2.78017209e+07, 2.59541404e+07, 6.22324532e+06, 5.55916620e+06,\n",
       "        5.51786824e+06, 5.38995299e+06, 2.27003045e+05, 1.84350894e+05,\n",
       "        3.38862400e+03, 0.00000000e+00, 0.00000000e+00]),\n",
       " ('VV',): array([3.29782385e+06, 3.29782385e+06, 3.29782385e+06, 5.10782672e+03,\n",
       "        5.10782672e+03, 4.86769638e+03, 2.66792015e+03, 2.36134852e+03,\n",
       "        1.79965232e+03, 1.41049378e+03, 5.95548543e+01, 4.59582576e+01,\n",
       "        1.90594441e+00, 0.00000000e+00, 0.00000000e+00]),\n",
       " ('Wjets',): array([2.47477396e+07, 2.47477396e+07, 2.47477396e+07, 4.83441453e+05,\n",
       "        4.83441453e+05, 4.42916953e+05, 1.70552618e+05, 1.53997244e+05,\n",
       "        1.42814578e+05, 1.28138658e+05, 5.13616704e+03, 4.13625943e+03,\n",
       "        9.72587015e+01, 0.00000000e+00, 0.00000000e+00]),\n",
       " ('Zjets',): array([2.86871583e+06, 2.86871583e+06, 2.86871583e+06, 1.30850217e+05,\n",
       "        1.30850217e+05, 1.20065725e+05, 5.25117140e+04, 4.55636158e+04,\n",
       "        4.47605401e+04, 3.45241851e+04, 1.44021651e+03, 1.15767486e+03,\n",
       "        8.07310784e+01, 0.00000000e+00, 0.00000000e+00]),\n",
       " ('ttbar',): array([2.48972889e+07, 2.48972889e+07, 2.48972889e+07, 2.33493530e+05,\n",
       "        2.33493530e+05, 2.13284415e+05, 7.97745035e+04, 3.97586021e+04,\n",
       "        3.12973377e+04, 2.16073673e+04, 8.26074811e+02, 7.16901823e+02,\n",
       "        7.62582707e+01, 0.00000000e+00, 0.00000000e+00]),\n",
       " ('singlet',): array([9.53457692e+06, 9.53457692e+06, 9.53457692e+06, 2.59143325e+04,\n",
       "        2.59143325e+04, 2.41408447e+04, 1.19440246e+04, 5.61692156e+03,\n",
       "        4.41766658e+03, 3.41243300e+03, 1.80079785e+02, 1.55535144e+02,\n",
       "        1.74473119e+01, 0.00000000e+00, 0.00000000e+00]),\n",
       " ('data',): array([3.8437116e+08, 1.8329729e+08, 1.7981353e+08, 2.3691359e+07,\n",
       "        2.3691359e+07, 2.2239486e+07, 6.3429700e+06, 5.5757020e+06,\n",
       "        5.4627790e+06, 5.2609530e+06, 2.5603800e+05, 2.0861000e+05,\n",
       "        3.9180000e+03, 0.0000000e+00, 0.0000000e+00]),\n",
       " ('muondata',): array([4.0017229e+07, 3.8764040e+06, 3.8043940e+06, 6.2118100e+05,\n",
       "        6.2118100e+05, 5.7122400e+05, 1.7883700e+05, 1.2341000e+05,\n",
       "        1.0935000e+05, 9.1716000e+04, 4.4930000e+03, 3.7400000e+03,\n",
       "        3.0000000e+02, 0.0000000e+00, 0.0000000e+00])}"
      ]
     },
     "execution_count": 7,
     "metadata": {},
     "output_type": "execute_result"
    }
   ],
   "source": [
    "cutflow.values()"
   ]
  },
  {
   "cell_type": "code",
   "execution_count": 8,
   "metadata": {},
   "outputs": [],
   "source": [
    "df1 = pd.DataFrame([])\n",
    "\n",
    "df1['ggF'] = cutflow.values()[('ggF',)]\n",
    "df1['VBF'] = cutflow.values()[('VBF',)]\n",
    "df1['WH'] = cutflow.values()[('WH',)]\n",
    "df1['ZH'] = cutflow.values()[('ZH',)]\n",
    "#df1['ttH'] = cutflow.values()[('ttH',)]\n",
    "\n",
    "df1 = df1[3:-3].astype('int')\n",
    "df1.index = ['Jet kinematics','Jet ID','Jet acceptance','Jet $N_2^\\text{DDT}$','Opp. hem. b veto','MET $<$ 140 GeV','No leptons','2 AK4 jets','DeepDoubleB']\n",
    "\n",
    "df1.to_latex(buf=year+'/cutflow-sig.tex')"
   ]
  },
  {
   "cell_type": "code",
   "execution_count": 9,
   "metadata": {},
   "outputs": [],
   "source": [
    "df2 = pd.DataFrame([])\n",
    "\n",
    "df2['QCD'] = cutflow.values()[('QCD',)]\n",
    "df2['Wjets'] = cutflow.values()[('Wjets',)]\n",
    "df2['Zjets'] = cutflow.values()[('Zjets',)]\n",
    "df2['VV'] = cutflow.values()[('VV',)]\n",
    "df2['ttbar'] = cutflow.values()[('ttbar',)]\n",
    "df2['singlet'] = cutflow.values()[('singlet',)]\n",
    "\n",
    "df2 = df2[3:-3].astype('int')\n",
    "df2.index = ['Jet kinematics','Jet ID','Jet acceptance','Jet $N_2^\\text{DDT}$','Opp. hem. b veto','MET $<$ 140 GeV','No leptons','2 AK4 jets','DeepDoubleB']\n",
    "\n",
    "df2.to_latex(buf=year+'/cutflow-bkg.tex')"
   ]
  },
  {
   "cell_type": "code",
   "execution_count": null,
   "metadata": {},
   "outputs": [],
   "source": []
  }
 ],
 "metadata": {
  "kernelspec": {
   "display_name": "Python 3",
   "language": "python",
   "name": "python3"
  },
  "language_info": {
   "codemirror_mode": {
    "name": "ipython",
    "version": 3
   },
   "file_extension": ".py",
   "mimetype": "text/x-python",
   "name": "python",
   "nbconvert_exporter": "python",
   "pygments_lexer": "ipython3",
   "version": "3.8.8"
  }
 },
 "nbformat": 4,
 "nbformat_minor": 2
}
