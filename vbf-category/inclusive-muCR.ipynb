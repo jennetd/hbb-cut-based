{
 "cells": [
  {
   "cell_type": "code",
   "execution_count": 1,
   "metadata": {},
   "outputs": [],
   "source": [
    "import os, subprocess\n",
    "import json\n",
    "import uproot3\n",
    "import awkward as ak\n",
    "import numpy as np\n",
    "from coffea import processor, util, hist\n",
    "\n",
    "from plotter import *"
   ]
  },
  {
   "cell_type": "code",
   "execution_count": 2,
   "metadata": {},
   "outputs": [],
   "source": [
    "lumis = {}\n",
    "lumis['2016'] = 35.9\n",
    "lumis['2017'] = 41.5\n",
    "lumis['2018'] = 59.9\n",
    "\n",
    "with open('xsec.json') as f:\n",
    "  xs = json.load(f)\n",
    "\n",
    "with open('pmap.json') as f:\n",
    "  pmap = json.load(f)\n",
    "\n",
    "systematics = ['nominal',\n",
    "               'jet_triggerUp','jet_triggerDown',\n",
    "               'btagWeightUp','btagWeightDown','btagEffStatUp','btagEffStatDown',\n",
    "               'UESUp','UESDown','JESUp','JESDown','JERUp','JERDown',\n",
    "              ]"
   ]
  },
  {
   "cell_type": "code",
   "execution_count": 3,
   "metadata": {},
   "outputs": [],
   "source": [
    "year = '2016'\n",
    "nfiles = len(subprocess.getoutput(\"ls infiles-split/\"+year+\"*.json\").split())\n",
    "outsum = processor.dict_accumulator()"
   ]
  },
  {
   "cell_type": "code",
   "execution_count": null,
   "metadata": {},
   "outputs": [
    {
     "name": "stdout",
     "output_type": "stream",
     "text": [
      "1 dict_keys(['DYJetsToLL_M-50_HT-1200to2500_TuneCUETP8M1_13TeV-madgraphMLM-pythia8'])\n",
      "3 dict_keys(['DYJetsToLL_M-50_HT-2500toInf_TuneCUETP8M1_13TeV-madgraphMLM-pythia8'])\n",
      "5 dict_keys(['DYJetsToLL_M-50_HT-400to600_TuneCUETP8M1_13TeV-madgraphMLM-pythia8'])\n",
      "6 dict_keys(['DYJetsToLL_M-50_HT-400to600_TuneCUETP8M1_13TeV-madgraphMLM-pythia8'])\n",
      "7 dict_keys(['DYJetsToLL_M-50_HT-400to600_TuneCUETP8M1_13TeV-madgraphMLM-pythia8'])\n",
      "8 dict_keys(['DYJetsToLL_M-50_HT-400to600_TuneCUETP8M1_13TeV-madgraphMLM-pythia8'])\n",
      "9 dict_keys(['DYJetsToLL_M-50_HT-400to600_TuneCUETP8M1_13TeV-madgraphMLM-pythia8'])\n",
      "10 dict_keys(['DYJetsToLL_M-50_HT-400to600_TuneCUETP8M1_13TeV-madgraphMLM-pythia8'])\n",
      "11 dict_keys(['DYJetsToLL_M-50_HT-400to600_TuneCUETP8M1_13TeV-madgraphMLM-pythia8'])\n",
      "13 dict_keys(['DYJetsToLL_M-50_HT-600to800_TuneCUETP8M1_13TeV-madgraphMLM-pythia8'])\n",
      "14 dict_keys(['DYJetsToLL_M-50_HT-600to800_TuneCUETP8M1_13TeV-madgraphMLM-pythia8'])\n",
      "15 dict_keys(['DYJetsToLL_M-50_HT-600to800_TuneCUETP8M1_13TeV-madgraphMLM-pythia8'])\n",
      "16 dict_keys(['DYJetsToLL_M-50_HT-600to800_TuneCUETP8M1_13TeV-madgraphMLM-pythia8'])\n",
      "17 dict_keys(['DYJetsToLL_M-50_HT-600to800_TuneCUETP8M1_13TeV-madgraphMLM-pythia8'])\n",
      "18 dict_keys(['DYJetsToLL_M-50_HT-600to800_TuneCUETP8M1_13TeV-madgraphMLM-pythia8'])\n",
      "20 dict_keys(['DYJetsToLL_M-50_HT-800to1200_TuneCUETP8M1_13TeV-madgraphMLM-pythia8'])\n",
      "21 dict_keys(['DYJetsToLL_M-50_HT-800to1200_TuneCUETP8M1_13TeV-madgraphMLM-pythia8'])\n",
      "25 dict_keys(['GluGluHToBB_M125_13TeV_powheg_pythia8'])\n",
      "26 dict_keys(['GluGluHToBB_M125_13TeV_powheg_pythia8'])\n"
     ]
    }
   ],
   "source": [
    "# Load all files\n",
    "for n in range(1,nfiles+1):\n",
    "\n",
    "    with open('infiles-split/'+year+'_'+str(n)+'.json') as f:\n",
    "      infiles = json.load(f)\n",
    "    \n",
    "    filename = '/myeosdir/vbf-category/outfiles/'+year+'_'+str(n)+'.coffea'\n",
    "    if os.path.isfile(filename):\n",
    "        out = util.load(filename)\n",
    "        outsum.add(out)\n",
    "    else:\n",
    "        print(n,infiles.keys())\n",
    "        #print(\"File \" + filename + \" is missing\")\n",
    "        \n",
    "scale_lumi = {k: xs[k] * 1000 *lumis[year] / w for k, w in outsum['sumw'].items()}\n",
    "outsum['templates'].scale(scale_lumi, 'dataset')\n",
    "outsum['templates-vbf'].scale(scale_lumi, 'dataset')\n",
    "outsum['muonkin'].scale(scale_lumi, 'dataset')\n",
    "outsum['mujetkin'].scale(scale_lumi, 'dataset')\n",
    "outsum['cutflow_msd'].scale(scale_lumi, 'dataset')"
   ]
  },
  {
   "cell_type": "code",
   "execution_count": null,
   "metadata": {},
   "outputs": [],
   "source": [
    "cutflow = outsum['cutflow_msd'].group('dataset', hist.Cat('process', 'Process'), pmap).sum('genflavor').integrate('region','muoncontrol').sum('msd')"
   ]
  },
  {
   "cell_type": "code",
   "execution_count": null,
   "metadata": {},
   "outputs": [],
   "source": [
    "cutflow.integrate('process','muondata').values()"
   ]
  },
  {
   "cell_type": "code",
   "execution_count": null,
   "metadata": {},
   "outputs": [],
   "source": [
    "cutflow.integrate('process','ttbar').values()"
   ]
  },
  {
   "cell_type": "code",
   "execution_count": null,
   "metadata": {},
   "outputs": [],
   "source": [
    "templates = outsum['templates'].group('dataset', hist.Cat('process', 'Process'), pmap).integrate('systematic','nominal')\n",
    "muonkin = outsum['muonkin'].group('dataset', hist.Cat('process', 'Process'), pmap).integrate('systematic','nominal')\n",
    "mujetkin = outsum['mujetkin'].group('dataset', hist.Cat('process', 'Process'), pmap).integrate('systematic','nominal')"
   ]
  },
  {
   "cell_type": "code",
   "execution_count": null,
   "metadata": {},
   "outputs": [],
   "source": [
    "h = templates.sum('ddb1','pt1').integrate('region', 'muoncontrol')\n",
    "plot_datamc(h,year+'/inclusive/muCR_msd1',year+\" muon CR\")"
   ]
  },
  {
   "cell_type": "code",
   "execution_count": null,
   "metadata": {},
   "outputs": [],
   "source": [
    "h = mujetkin.integrate('region', 'muoncontrol').sum('msd1','eta1','ddb1')\n",
    "plot_datamc(h,year+'/inclusive/muCR_pt1',year+\" muon CR\")"
   ]
  },
  {
   "cell_type": "code",
   "execution_count": null,
   "metadata": {},
   "outputs": [],
   "source": [
    "h = mujetkin.integrate('region', 'muoncontrol').sum('msd1','pt1','ddb1')\n",
    "plot_datamc(h,year+'/inclusive/muCR_eta1',year+\" muon CR\")"
   ]
  },
  {
   "cell_type": "code",
   "execution_count": null,
   "metadata": {},
   "outputs": [],
   "source": [
    "h = mujetkin.integrate('region', 'muoncontrol').sum('msd1','pt1','eta1')\n",
    "plot_datamc(h,year+'/inclusive/muCR_ddb1',year+\" muon CR\")"
   ]
  },
  {
   "cell_type": "code",
   "execution_count": null,
   "metadata": {},
   "outputs": [],
   "source": [
    "h = muonkin.integrate('region', 'muoncontrol').sum('ptmu','etamu').integrate('ddb1',int_range=slice(0.89,1))\n",
    "plot_datamc(h,year+'/inclusive/muCR_msd1_pass',year+\" muon CR, DBB pass\")\n",
    "h = muonkin.integrate('region', 'muoncontrol').sum('ptmu','etamu').integrate('ddb1',int_range=slice(0,0.89))\n",
    "plot_datamc(h,year+'/inclusive/muCR_msd1_fail',year+\" muon CR, DDB fail\")\n",
    "h = muonkin.integrate('region', 'muoncontrol').sum('ptmu','etamu','ddb1')\n",
    "plot_datamc(h,year+'/inclusive/muCR_msd1',year+\" muon CR\")  "
   ]
  },
  {
   "cell_type": "code",
   "execution_count": null,
   "metadata": {},
   "outputs": [],
   "source": [
    "h = muonkin.integrate('region', 'muoncontrol').sum('msd1','etamu').integrate('ddb1',int_range=slice(0.89,1))\n",
    "plot_datamc(h,year+'/inclusive/muCR_ptmu_pass',year+\" muon CR, DDB pass\")\n",
    "h = muonkin.integrate('region', 'muoncontrol').sum('msd1','etamu').integrate('ddb1',int_range=slice(0,0.89))\n",
    "plot_datamc(h,year+'/inclusive/muCR_ptmu_fail',year+\" muon CR, DDB fail\")\n",
    "h = muonkin.integrate('region', 'muoncontrol').sum('msd1','etamu','ddb1')\n",
    "plot_datamc(h,year+'/inclusive/muCR_ptmu',year+\" muon CR\")"
   ]
  },
  {
   "cell_type": "code",
   "execution_count": null,
   "metadata": {},
   "outputs": [],
   "source": [
    "h = muonkin.integrate('region', 'muoncontrol').sum('msd1','ptmu').integrate('ddb1',int_range=slice(0.89,1))\n",
    "plot_datamc(h,year+'/inclusive/muCR_etamu_pass',year+\" muon CR, DDB pass\")\n",
    "h = muonkin.integrate('region', 'muoncontrol').sum('msd1','ptmu').integrate('ddb1',int_range=slice(0,0.89))\n",
    "plot_datamc(h,year+'/inclusive/muCR_etamu_fail',year+\" muon CR, DDB fail\")\n",
    "h = muonkin.integrate('region', 'muoncontrol').sum('msd1','ptmu','ddb1')\n",
    "plot_datamc(h,year+'/inclusive/muCR_etamu',year+\" muon CR\")"
   ]
  },
  {
   "cell_type": "code",
   "execution_count": null,
   "metadata": {},
   "outputs": [],
   "source": []
  }
 ],
 "metadata": {
  "kernelspec": {
   "display_name": "Python 3",
   "language": "python",
   "name": "python3"
  },
  "language_info": {
   "codemirror_mode": {
    "name": "ipython",
    "version": 3
   },
   "file_extension": ".py",
   "mimetype": "text/x-python",
   "name": "python",
   "nbconvert_exporter": "python",
   "pygments_lexer": "ipython3",
   "version": "3.8.8"
  }
 },
 "nbformat": 4,
 "nbformat_minor": 2
}
