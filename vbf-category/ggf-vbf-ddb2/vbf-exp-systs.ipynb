{
 "cells": [
  {
   "cell_type": "code",
   "execution_count": 1,
   "metadata": {},
   "outputs": [],
   "source": [
    "import os, subprocess\n",
    "import json\n",
    "import uproot3\n",
    "import awkward as ak\n",
    "import numpy as np\n",
    "from coffea import processor, util, hist\n",
    "import pickle\n",
    "\n",
    "from plotter import *\n",
    "\n",
    "import matplotlib\n",
    "matplotlib.rcParams.update({'font.size': 18})\n",
    "\n",
    "import warnings\n",
    "warnings.filterwarnings('ignore')"
   ]
  },
  {
   "cell_type": "code",
   "execution_count": 2,
   "metadata": {},
   "outputs": [],
   "source": [
    "lumis = {}\n",
    "lumis['2016'] = 35.9\n",
    "lumis['2017'] = 41.5\n",
    "lumis['2018'] = 59.2\n",
    "\n",
    "with open('xsec.json') as f:\n",
    "  xs = json.load(f)\n",
    "\n",
    "with open('pmap.json') as f:\n",
    "  pmap = json.load(f)\n",
    "\n",
    "systematics = ['nominal',\n",
    "               'jet_triggerUp','jet_triggerDown','mu_triggerUp','mu_triggerDown',\n",
    "               'btagWeightUp','btagWeightDown','btagEffStatUp','btagEffStatDown',\n",
    "               'UESUp','UESDown','JESUp','JESDown','JERUp','JERDown',\n",
    "               'pileup_weightUp','pileup_weightDown',\n",
    "               'mu_idweightUp','mu_idweightDown','mu_isoweightUp','mu_isoweightDown',  \n",
    "               'L1Prefiring'\n",
    "              ]"
   ]
  },
  {
   "cell_type": "code",
   "execution_count": 3,
   "metadata": {},
   "outputs": [],
   "source": [
    "year = '2017'\n",
    "ddbthr = 0.64"
   ]
  },
  {
   "cell_type": "code",
   "execution_count": 4,
   "metadata": {},
   "outputs": [],
   "source": [
    "ggf = pickle.load(open(str(year)+'/templates-mc.pkl','rb')).integrate('region','signal-ggf').integrate('mjj',overflow='allnan')\n",
    "vbf = pickle.load(open(str(year)+'/templates-mc.pkl','rb')).integrate('region','signal-vbf').integrate('mjj',overflow='allnan')\n",
    "mucr = pickle.load(open(str(year)+'/templates-mc.pkl','rb')).integrate('region','muoncontrol').integrate('mjj',overflow='allnan')"
   ]
  },
  {
   "cell_type": "code",
   "execution_count": 5,
   "metadata": {},
   "outputs": [
    {
     "data": {
      "text/plain": [
       "[<StringBin (JERDown) instance at 0x7f00bcfa7850>,\n",
       " <StringBin (JERUp) instance at 0x7f00bcfa77f0>,\n",
       " <StringBin (JESDown) instance at 0x7f00bcfa76d0>,\n",
       " <StringBin (JESUp) instance at 0x7f00bcfa7670>,\n",
       " <StringBin (L1PrefiringDown) instance at 0x7f00bcfa7550>,\n",
       " <StringBin (L1PrefiringUp) instance at 0x7f00bcfa9c70>,\n",
       " <StringBin (LHEScale_0) instance at 0x7f00bcfa78b0>,\n",
       " <StringBin (LHEScale_1) instance at 0x7f00bcfa7910>,\n",
       " <StringBin (LHEScale_2) instance at 0x7f00bcfa7970>,\n",
       " <StringBin (LHEScale_3) instance at 0x7f00bcfa79d0>,\n",
       " <StringBin (LHEScale_4) instance at 0x7f00bcfa7a30>,\n",
       " <StringBin (LHEScale_5) instance at 0x7f00bcfa7a90>,\n",
       " <StringBin (LHEScale_6) instance at 0x7f00bcfa7af0>,\n",
       " <StringBin (LHEScale_7) instance at 0x7f00bcfa7b50>,\n",
       " <StringBin (LHEScale_8) instance at 0x7f00bcfa7bb0>,\n",
       " <StringBin (PDF_weightDown) instance at 0x7f00bcfa7370>,\n",
       " <StringBin (PDF_weightUp) instance at 0x7f00bcfa9df0>,\n",
       " <StringBin (PDFaS_weightDown) instance at 0x7f00bcfa7490>,\n",
       " <StringBin (PDFaS_weightUp) instance at 0x7f00bcfa7070>,\n",
       " <StringBin (UEPS_FSRDown) instance at 0x7f00bcfa9fd0>,\n",
       " <StringBin (UEPS_FSRUp) instance at 0x7f00bcfa71f0>,\n",
       " <StringBin (UEPS_ISRDown) instance at 0x7f00bcfa7610>,\n",
       " <StringBin (UEPS_ISRUp) instance at 0x7f00bcfa9f10>,\n",
       " <StringBin (UESDown) instance at 0x7f00bcfa7790>,\n",
       " <StringBin (UESUp) instance at 0x7f00bcfa7730>,\n",
       " <StringBin (W_d2kappa_EWDown) instance at 0x7f00bcfa7f70>,\n",
       " <StringBin (W_d2kappa_EWUp) instance at 0x7f00bcfa7eb0>,\n",
       " <StringBin (W_d3kappa_EWDown) instance at 0x7f00bcfa7d90>,\n",
       " <StringBin (W_d3kappa_EWUp) instance at 0x7f00bcfa7c10>,\n",
       " <StringBin (Z_d2kappa_EWDown) instance at 0x7f00bcfad130>,\n",
       " <StringBin (Z_d2kappa_EWUp) instance at 0x7f00bcfad1f0>,\n",
       " <StringBin (Z_d3kappa_EWDown) instance at 0x7f00bcfad190>,\n",
       " <StringBin (Z_d3kappa_EWUp) instance at 0x7f00bcfad0d0>,\n",
       " <StringBin (aS_weightDown) instance at 0x7f00bcfa9d90>,\n",
       " <StringBin (aS_weightUp) instance at 0x7f00bcfa9bb0>,\n",
       " <StringBin (btagEffStatDown) instance at 0x7f00bcfa9e50>,\n",
       " <StringBin (btagEffStatUp) instance at 0x7f00bcfa70d0>,\n",
       " <StringBin (btagWeightDown) instance at 0x7f00bcfa9d30>,\n",
       " <StringBin (btagWeightUp) instance at 0x7f00bcfa7430>,\n",
       " <StringBin (d1K_NLODown) instance at 0x7f00bcfa7c70>,\n",
       " <StringBin (d1K_NLOUp) instance at 0x7f00bcfa7f10>,\n",
       " <StringBin (d1kappa_EWDown) instance at 0x7f00bcfa7fd0>,\n",
       " <StringBin (d1kappa_EWUp) instance at 0x7f00bcfa7df0>,\n",
       " <StringBin (d2K_NLODown) instance at 0x7f00bcfad070>,\n",
       " <StringBin (d2K_NLOUp) instance at 0x7f00bcfa7e50>,\n",
       " <StringBin (d3K_NLODown) instance at 0x7f00bcfa7d30>,\n",
       " <StringBin (d3K_NLOUp) instance at 0x7f00bcfa7cd0>,\n",
       " <StringBin (jet_triggerDown) instance at 0x7f00bcfa9f70>,\n",
       " <StringBin (jet_triggerUp) instance at 0x7f00bcfa7130>,\n",
       " <StringBin (mu_idweightDown) instance at 0x7f00bcfa9af0>,\n",
       " <StringBin (mu_idweightUp) instance at 0x7f00bcfa74f0>,\n",
       " <StringBin (mu_isoweightDown) instance at 0x7f00bcfa9cd0>,\n",
       " <StringBin (mu_isoweightUp) instance at 0x7f00bcfa9b50>,\n",
       " <StringBin (mu_triggerDown) instance at 0x7f00bcfa7250>,\n",
       " <StringBin (mu_triggerUp) instance at 0x7f00bcfa73d0>,\n",
       " <StringBin (nominal) instance at 0x7f00bcfa9a90>,\n",
       " <StringBin (pileup_weightDown) instance at 0x7f00bcfa72b0>,\n",
       " <StringBin (pileup_weightUp) instance at 0x7f00bcfa7190>,\n",
       " <StringBin (scalevar_3ptDown) instance at 0x7f00bcfa9c10>,\n",
       " <StringBin (scalevar_3ptUp) instance at 0x7f00bcfa7310>,\n",
       " <StringBin (scalevar_7ptDown) instance at 0x7f00bcfa75b0>,\n",
       " <StringBin (scalevar_7ptUp) instance at 0x7f00bcfa9eb0>]"
      ]
     },
     "execution_count": 5,
     "metadata": {},
     "output_type": "execute_result"
    }
   ],
   "source": [
    "ggf.identifiers('systematic')"
   ]
  },
  {
   "cell_type": "code",
   "execution_count": null,
   "metadata": {},
   "outputs": [],
   "source": [
    "ggf_pass = ggf.sum('pt1').integrate('ddb1',int_range=slice(ddbthr,1))\n",
    "vbf_pass = vbf.sum('pt1').integrate('ddb1',int_range=slice(ddbthr,1))\n",
    "mucr_pass = mucr.sum('pt1').integrate('ddb1',int_range=slice(ddbthr,1))\n",
    "\n",
    "ggf_all = ggf.sum('ddb1','pt1')\n",
    "vbf_all = vbf.sum('ddb1','pt1')\n",
    "mucr_all = mucr.sum('ddb1','pt1')"
   ]
  },
  {
   "cell_type": "code",
   "execution_count": null,
   "metadata": {},
   "outputs": [],
   "source": [
    "s = 'JES'\n",
    "plot_syst_allbkg(ggf_all, vbf_all, s, '$m_{sd}$ [GeV]', year+' '+s, year+'/bkg_'+s)\n",
    "plot_syst_allbkg(ggf_pass, vbf_pass, s, '$m_{sd}$ [GeV]', year+' '+s+' DDB pass', year+'/bkg_'+s+'_pass')\n",
    "\n",
    "plot_syst_allsig(ggf_all, vbf_all, s, '$m_{sd}$ [GeV]', year+' '+s, year+'/sig_'+s)\n",
    "plot_syst_allsig(ggf_pass, vbf_pass, s, '$m_{sd}$ [GeV]', year+' '+s+' DDB pass', year+'/sig_'+s+'_pass')"
   ]
  },
  {
   "cell_type": "code",
   "execution_count": null,
   "metadata": {},
   "outputs": [],
   "source": [
    "s = 'JER'\n",
    "plot_syst_allbkg(ggf_all, vbf_all, s, '$m_{sd}$ [GeV]', year+' '+s, year+'/bkg_'+s)\n",
    "plot_syst_allbkg(ggf_pass, vbf_pass, s, '$m_{sd}$ [GeV]', year+' '+s+' DDB pass', year+'/bkg_'+s+'_pass')\n",
    "\n",
    "plot_syst_allsig(ggf_all, vbf_all, s, '$m_{sd}$ [GeV]', year+' '+s, year+'/sig_'+s)\n",
    "plot_syst_allsig(ggf_pass, vbf_pass, s, '$m_{sd}$ [GeV]', year+' '+s+' DDB pass', year+'/sig_'+s+'_pass')"
   ]
  },
  {
   "cell_type": "code",
   "execution_count": null,
   "metadata": {},
   "outputs": [],
   "source": [
    "s = 'UES'\n",
    "plot_syst_allbkg(ggf_all, vbf_all, s, '$m_{sd}$ [GeV]', year+' '+s, year+'/bkg_'+s)\n",
    "plot_syst_allbkg(ggf_pass, vbf_pass, s, '$m_{sd}$ [GeV]', year+' '+s+' DDB pass', year+'/bkg_'+s+'_pass')\n",
    "\n",
    "plot_syst_allsig(ggf_all, vbf_all, s, '$m_{sd}$ [GeV]', year+' '+s, year+'/sig_'+s)\n",
    "plot_syst_allsig(ggf_pass, vbf_pass, s, '$m_{sd}$ [GeV]', year+' '+s+' DDB pass', year+'/sig_'+s+'_pass')"
   ]
  },
  {
   "cell_type": "code",
   "execution_count": null,
   "metadata": {},
   "outputs": [],
   "source": [
    "s = 'btagWeight'\n",
    "plot_syst_allbkg(ggf_all, vbf_all, s, '$m_{sd}$ [GeV]', year+' '+s, year+'/bkg_'+s)\n",
    "plot_syst_allbkg(ggf_pass, vbf_pass, s, '$m_{sd}$ [GeV]', year+' '+s+' DDB pass', year+'/bkg_'+s+'_pass')\n",
    "\n",
    "plot_syst_allsig(ggf_all, vbf_all, s, '$m_{sd}$ [GeV]', year+' '+s, year+'/sig_'+s)\n",
    "plot_syst_allsig(ggf_pass, vbf_pass, s, '$m_{sd}$ [GeV]', year+' '+s+' DDB pass', year+'/sig_'+s+'_pass')"
   ]
  },
  {
   "cell_type": "code",
   "execution_count": null,
   "metadata": {},
   "outputs": [],
   "source": [
    "s = 'btagEffStat'\n",
    "plot_syst_allbkg(ggf_all, vbf_all, s, '$m_{sd}$ [GeV]', year+' '+s, year+'/bkg_'+s)\n",
    "plot_syst_allbkg(ggf_pass, vbf_pass, s, '$m_{sd}$ [GeV]', year+' '+s+' DDB pass', year+'/bkg_'+s+'_pass')\n",
    "\n",
    "plot_syst_allsig(ggf_all, vbf_all, s, '$m_{sd}$ [GeV]', year+' '+s, year+'/sig_'+s)\n",
    "plot_syst_allsig(ggf_pass, vbf_pass, s, '$m_{sd}$ [GeV]', year+' '+s+' DDB pass', year+'/sig_'+s+'_pass')"
   ]
  },
  {
   "cell_type": "code",
   "execution_count": null,
   "metadata": {},
   "outputs": [],
   "source": [
    "s = 'jet_trigger'\n",
    "plot_syst_allbkg(ggf_all, vbf_all, s, '$m_{sd}$ [GeV]', year+' '+s, year+'/bkg_'+s)\n",
    "plot_syst_allbkg(ggf_pass, vbf_pass, s, '$m_{sd}$ [GeV]', year+' '+s+' DDB pass', year+'/bkg_'+s+'_pass')\n",
    "\n",
    "plot_syst_allsig(ggf_all, vbf_all, s, '$m_{sd}$ [GeV]', year+' '+s, year+'/sig_'+s)\n",
    "plot_syst_allsig(ggf_pass, vbf_pass, s, '$m_{sd}$ [GeV]', year+' '+s+' DDB pass', year+'/sig_'+s+'_pass')"
   ]
  },
  {
   "cell_type": "code",
   "execution_count": null,
   "metadata": {},
   "outputs": [],
   "source": [
    "s = 'pileup_weight'\n",
    "plot_syst_allbkg(ggf_all, vbf_all, s, '$m_{sd}$ [GeV]', year+' '+s, year+'/bkg_'+s)\n",
    "plot_syst_allbkg(ggf_pass, vbf_pass, s, '$m_{sd}$ [GeV]', year+' '+s+' DDB pass', year+'/bkg_'+s+'_pass')\n",
    "\n",
    "plot_syst_allsig(ggf_all, vbf_all, s, '$m_{sd}$ [GeV]', year+' '+s, year+'/sig_'+s)\n",
    "plot_syst_allsig(ggf_pass, vbf_pass, s, '$m_{sd}$ [GeV]', year+' '+s+' DDB pass', year+'/sig_'+s+'_pass')"
   ]
  },
  {
   "cell_type": "code",
   "execution_count": null,
   "metadata": {},
   "outputs": [],
   "source": [
    "s = 'mu_trigger'\n",
    "plot_syst_mucr(mucr_all, s, '$m_{sd}$ [GeV]', year+' muonsyst', year+'/mucr_'+s)\n",
    "plot_syst_mucr(mucr_pass, s,'$m_{sd}$ [GeV]', year+' muonsyst DDB pass', year+'/mucr_'+s+'_pass')"
   ]
  },
  {
   "cell_type": "code",
   "execution_count": null,
   "metadata": {},
   "outputs": [],
   "source": [
    "s = 'mu_idweight'\n",
    "plot_syst_mucr(mucr_all, s, '$m_{sd}$ [GeV]', year+' muonsyst', year+'/mucr_'+s)\n",
    "plot_syst_mucr(mucr_pass, s,'$m_{sd}$ [GeV]', year+' muonsyst DDB pass', year+'/mucr_'+s+'_pass')"
   ]
  },
  {
   "cell_type": "code",
   "execution_count": null,
   "metadata": {},
   "outputs": [],
   "source": [
    "s = 'mu_isoweight'\n",
    "plot_syst_mucr(mucr_all, s, '$m_{sd}$ [GeV]', year+' muonsyst', year+'/mucr_'+s)\n",
    "plot_syst_mucr(mucr_pass, s,'$m_{sd}$ [GeV]', year+' muonsyst DDB pass', year+'/mucr_'+s+'_pass')"
   ]
  },
  {
   "cell_type": "code",
   "execution_count": null,
   "metadata": {},
   "outputs": [],
   "source": [
    "s = 'JES'\n",
    "plot_syst_mucr(mucr_all, s, '$m_{sd}$ [GeV]', year+' muonsyst', year+'/bkg_mucr_'+s)\n",
    "plot_syst_mucr(mucr_pass, s,'$m_{sd}$ [GeV]', year+' muonsyst DDB pass', year+'/bkg_mucr_'+s+'_pass')"
   ]
  },
  {
   "cell_type": "code",
   "execution_count": null,
   "metadata": {},
   "outputs": [],
   "source": [
    "s = 'JER'\n",
    "plot_syst_mucr(mucr_all, s, '$m_{sd}$ [GeV]', year+' muonsyst', year+'/bkg_mucr_'+s)\n",
    "plot_syst_mucr(mucr_pass, s,'$m_{sd}$ [GeV]', year+' muonsyst DDB pass', year+'/bkg_mucr_'+s+'_pass')"
   ]
  },
  {
   "cell_type": "code",
   "execution_count": null,
   "metadata": {},
   "outputs": [],
   "source": [
    "s = 'UES'\n",
    "plot_syst_mucr(mucr_all, s, '$m_{sd}$ [GeV]', year+' muonsyst', year+'/bkg_mucr_'+s)\n",
    "plot_syst_mucr(mucr_pass, s,'$m_{sd}$ [GeV]', year+' muonsyst DDB pass', year+'/bkg_mucr_'+s+'_pass')"
   ]
  },
  {
   "cell_type": "code",
   "execution_count": null,
   "metadata": {},
   "outputs": [],
   "source": [
    "s = 'btagWeight'\n",
    "plot_syst_mucr(mucr_all, s, '$m_{sd}$ [GeV]', year+' muonsyst', year+'/bkg_mucr_'+s)\n",
    "plot_syst_mucr(mucr_pass, s,'$m_{sd}$ [GeV]', year+' muonsyst DDB pass', year+'/bkg_mucr_'+s+'_pass')"
   ]
  },
  {
   "cell_type": "code",
   "execution_count": null,
   "metadata": {},
   "outputs": [],
   "source": [
    "s = 'btagEffStat'\n",
    "plot_syst_mucr(mucr_all, s, '$m_{sd}$ [GeV]', year+' muonsyst', year+'/bkg_mucr_'+s)\n",
    "plot_syst_mucr(mucr_pass, s,'$m_{sd}$ [GeV]', year+' muonsyst DDB pass', year+'/bkg_mucr_'+s+'_pass')"
   ]
  },
  {
   "cell_type": "code",
   "execution_count": null,
   "metadata": {},
   "outputs": [],
   "source": [
    "s = 'pileup_weight'\n",
    "plot_syst_mucr(mucr_all, s, '$m_{sd}$ [GeV]', year+' muonsyst', year+'/bkg_mucr_'+s)\n",
    "plot_syst_mucr(mucr_pass, s,'$m_{sd}$ [GeV]', year+' muonsyst DDB pass', year+'/bkg_mucr_'+s+'_pass')"
   ]
  },
  {
   "cell_type": "code",
   "execution_count": null,
   "metadata": {},
   "outputs": [],
   "source": []
  }
 ],
 "metadata": {
  "kernelspec": {
   "display_name": "Python 3 (ipykernel)",
   "language": "python",
   "name": "python3"
  },
  "language_info": {
   "codemirror_mode": {
    "name": "ipython",
    "version": 3
   },
   "file_extension": ".py",
   "mimetype": "text/x-python",
   "name": "python",
   "nbconvert_exporter": "python",
   "pygments_lexer": "ipython3",
   "version": "3.8.12"
  }
 },
 "nbformat": 4,
 "nbformat_minor": 2
}
