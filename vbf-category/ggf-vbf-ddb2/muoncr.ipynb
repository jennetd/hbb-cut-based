{
 "cells": [
  {
   "cell_type": "code",
   "execution_count": 1,
   "metadata": {},
   "outputs": [],
   "source": [
    "import os, subprocess\n",
    "import json\n",
    "import uproot3\n",
    "import awkward as ak\n",
    "import numpy as np\n",
    "from coffea import processor, util, hist\n",
    "import pandas as pd\n",
    "import pickle\n",
    "\n",
    "from plotter import *"
   ]
  },
  {
   "cell_type": "code",
   "execution_count": 2,
   "metadata": {},
   "outputs": [],
   "source": [
    "lumis = {}\n",
    "lumis['2016'] = 35.9\n",
    "lumis['2017'] = 41.5\n",
    "lumis['2018'] = 59.2\n",
    "\n",
    "with open('xsec.json') as f:\n",
    "  xs = json.load(f)\n",
    "\n",
    "with open('pmap.json') as f:\n",
    "  pmap = json.load(f)"
   ]
  },
  {
   "cell_type": "code",
   "execution_count": 3,
   "metadata": {},
   "outputs": [],
   "source": [
    "year = '2017'\n",
    "nfiles = len(subprocess.getoutput(\"ls infiles-split/\"+year+\"*.json\").split())\n",
    "outsum = processor.dict_accumulator()\n",
    "\n",
    "ddbthr = 0.64"
   ]
  },
  {
   "cell_type": "code",
   "execution_count": 4,
   "metadata": {},
   "outputs": [],
   "source": [
    "nfiles = len(subprocess.getoutput(\"ls infiles-split/\"+year+\"*.json\").split())\n",
    "coffeadir_prefix = '/myeosdir/ggf-vbf/outfiles-ddb2/'\n",
    "\n",
    "repickle = True\n",
    "# Check if pickle exists, remove it if it does\n",
    "picklename = year+'/cutflow.pkl'\n",
    "if os.path.isfile(picklename):\n",
    "    repickle = False"
   ]
  },
  {
   "cell_type": "code",
   "execution_count": 5,
   "metadata": {},
   "outputs": [],
   "source": [
    "cutflow = pickle.load(open(year+'/cutflow.pkl','rb'))\n",
    "cutflow = cutflow.sum('genflavor').integrate('region','muoncontrol')"
   ]
  },
  {
   "cell_type": "code",
   "execution_count": 6,
   "metadata": {},
   "outputs": [
    {
     "data": {
      "text/plain": [
       "{(): array([2.9164308e+07, 1.6151331e+07, 1.5599882e+07, 1.5572901e+07,\n",
       "        5.3629900e+05, 5.3629900e+05, 1.7552300e+05, 4.8836000e+04,\n",
       "        7.6880000e+03, 6.9120000e+03, 3.7220000e+03, 2.1000000e+01,\n",
       "        0.0000000e+00, 0.0000000e+00, 0.0000000e+00])}"
      ]
     },
     "execution_count": 6,
     "metadata": {},
     "output_type": "execute_result"
    }
   ],
   "source": [
    "cutflow.integrate('process','muondata').values()"
   ]
  },
  {
   "cell_type": "code",
   "execution_count": 7,
   "metadata": {},
   "outputs": [
    {
     "data": {
      "text/plain": [
       "{(): array([1.60568646e+07, 1.60568646e+07, 1.60568646e+07, 1.60388813e+07,\n",
       "        3.04317271e+05, 3.04317271e+05, 1.13865087e+05, 5.50176179e+04,\n",
       "        8.79411839e+03, 6.16420911e+03, 3.46178827e+03, 2.49713469e+01,\n",
       "        0.00000000e+00, 0.00000000e+00, 0.00000000e+00])}"
      ]
     },
     "execution_count": 7,
     "metadata": {},
     "output_type": "execute_result"
    }
   ],
   "source": [
    "cutflow.integrate('process','ttbar').values()"
   ]
  },
  {
   "cell_type": "code",
   "execution_count": 8,
   "metadata": {},
   "outputs": [],
   "source": [
    "df1 = pd.DataFrame([])\n",
    "\n",
    "df1['QCD'] = cutflow.values()[('QCD',)]\n",
    "df1['Wjets'] = cutflow.values()[('Wjets',)]\n",
    "df1['Zjets'] = cutflow.values()[('Zjets',)]\n",
    "df1['VV'] = cutflow.values()[('VV',)]\n",
    "df1['ttbar'] = cutflow.values()[('ttbar',)]\n",
    "df1['singlet'] = cutflow.values()[('singlet',)]\n",
    "df1['data'] = cutflow.values()[('muondata',)]\n",
    "\n",
    "df1 = df1.astype('int')[:12]\n",
    "df1.index=['nothing','muontrigger','lumimask','metfilter','minjetkinmu', 'jetid', 'n2ddt', 'ak4btagMedium08', 'onemuon', 'muonkin', 'muonDphiAK8','ddbpass']\n",
    "df1[1:12].to_latex(buf=year+'/cutflow-muoncr.tex')"
   ]
  },
  {
   "cell_type": "code",
   "execution_count": 9,
   "metadata": {},
   "outputs": [
    {
     "data": {
      "text/html": [
       "<div>\n",
       "<style scoped>\n",
       "    .dataframe tbody tr th:only-of-type {\n",
       "        vertical-align: middle;\n",
       "    }\n",
       "\n",
       "    .dataframe tbody tr th {\n",
       "        vertical-align: top;\n",
       "    }\n",
       "\n",
       "    .dataframe thead th {\n",
       "        text-align: right;\n",
       "    }\n",
       "</style>\n",
       "<table border=\"1\" class=\"dataframe\">\n",
       "  <thead>\n",
       "    <tr style=\"text-align: right;\">\n",
       "      <th></th>\n",
       "      <th>QCD</th>\n",
       "      <th>Wjets</th>\n",
       "      <th>Zjets</th>\n",
       "      <th>VV</th>\n",
       "      <th>ttbar</th>\n",
       "      <th>singlet</th>\n",
       "      <th>data</th>\n",
       "    </tr>\n",
       "  </thead>\n",
       "  <tbody>\n",
       "    <tr>\n",
       "      <th>nothing</th>\n",
       "      <td>840306638</td>\n",
       "      <td>15693856</td>\n",
       "      <td>1829470</td>\n",
       "      <td>1689611</td>\n",
       "      <td>16056864</td>\n",
       "      <td>3983803</td>\n",
       "      <td>29164308</td>\n",
       "    </tr>\n",
       "    <tr>\n",
       "      <th>muontrigger</th>\n",
       "      <td>840306638</td>\n",
       "      <td>15693856</td>\n",
       "      <td>1829470</td>\n",
       "      <td>1689611</td>\n",
       "      <td>16056864</td>\n",
       "      <td>3983803</td>\n",
       "      <td>16151331</td>\n",
       "    </tr>\n",
       "    <tr>\n",
       "      <th>lumimask</th>\n",
       "      <td>840306638</td>\n",
       "      <td>15693856</td>\n",
       "      <td>1829470</td>\n",
       "      <td>1689611</td>\n",
       "      <td>16056864</td>\n",
       "      <td>3983803</td>\n",
       "      <td>15599882</td>\n",
       "    </tr>\n",
       "    <tr>\n",
       "      <th>metfilter</th>\n",
       "      <td>838508867</td>\n",
       "      <td>15667695</td>\n",
       "      <td>1823776</td>\n",
       "      <td>1687963</td>\n",
       "      <td>16038881</td>\n",
       "      <td>3980052</td>\n",
       "      <td>15572901</td>\n",
       "    </tr>\n",
       "    <tr>\n",
       "      <th>minjetkinmu</th>\n",
       "      <td>29665292</td>\n",
       "      <td>491339</td>\n",
       "      <td>202573</td>\n",
       "      <td>6878</td>\n",
       "      <td>304317</td>\n",
       "      <td>32568</td>\n",
       "      <td>536299</td>\n",
       "    </tr>\n",
       "    <tr>\n",
       "      <th>jetid</th>\n",
       "      <td>29665292</td>\n",
       "      <td>491339</td>\n",
       "      <td>202573</td>\n",
       "      <td>6878</td>\n",
       "      <td>304317</td>\n",
       "      <td>32568</td>\n",
       "      <td>536299</td>\n",
       "    </tr>\n",
       "    <tr>\n",
       "      <th>n2ddt</th>\n",
       "      <td>7637940</td>\n",
       "      <td>193956</td>\n",
       "      <td>91579</td>\n",
       "      <td>3957</td>\n",
       "      <td>113865</td>\n",
       "      <td>15206</td>\n",
       "      <td>175523</td>\n",
       "    </tr>\n",
       "    <tr>\n",
       "      <th>ak4btagMedium08</th>\n",
       "      <td>617971</td>\n",
       "      <td>13865</td>\n",
       "      <td>10381</td>\n",
       "      <td>344</td>\n",
       "      <td>55017</td>\n",
       "      <td>7672</td>\n",
       "      <td>48836</td>\n",
       "    </tr>\n",
       "    <tr>\n",
       "      <th>onemuon</th>\n",
       "      <td>3725</td>\n",
       "      <td>829</td>\n",
       "      <td>198</td>\n",
       "      <td>17</td>\n",
       "      <td>8794</td>\n",
       "      <td>975</td>\n",
       "      <td>7688</td>\n",
       "    </tr>\n",
       "    <tr>\n",
       "      <th>muonkin</th>\n",
       "      <td>601</td>\n",
       "      <td>533</td>\n",
       "      <td>99</td>\n",
       "      <td>7</td>\n",
       "      <td>6164</td>\n",
       "      <td>600</td>\n",
       "      <td>6912</td>\n",
       "    </tr>\n",
       "    <tr>\n",
       "      <th>muonDphiAK8</th>\n",
       "      <td>454</td>\n",
       "      <td>213</td>\n",
       "      <td>32</td>\n",
       "      <td>4</td>\n",
       "      <td>3461</td>\n",
       "      <td>404</td>\n",
       "      <td>3722</td>\n",
       "    </tr>\n",
       "    <tr>\n",
       "      <th>ddbpass</th>\n",
       "      <td>0</td>\n",
       "      <td>0</td>\n",
       "      <td>0</td>\n",
       "      <td>0</td>\n",
       "      <td>24</td>\n",
       "      <td>1</td>\n",
       "      <td>21</td>\n",
       "    </tr>\n",
       "  </tbody>\n",
       "</table>\n",
       "</div>"
      ],
      "text/plain": [
       "                       QCD     Wjets    Zjets       VV     ttbar  singlet  \\\n",
       "nothing          840306638  15693856  1829470  1689611  16056864  3983803   \n",
       "muontrigger      840306638  15693856  1829470  1689611  16056864  3983803   \n",
       "lumimask         840306638  15693856  1829470  1689611  16056864  3983803   \n",
       "metfilter        838508867  15667695  1823776  1687963  16038881  3980052   \n",
       "minjetkinmu       29665292    491339   202573     6878    304317    32568   \n",
       "jetid             29665292    491339   202573     6878    304317    32568   \n",
       "n2ddt              7637940    193956    91579     3957    113865    15206   \n",
       "ak4btagMedium08     617971     13865    10381      344     55017     7672   \n",
       "onemuon               3725       829      198       17      8794      975   \n",
       "muonkin                601       533       99        7      6164      600   \n",
       "muonDphiAK8            454       213       32        4      3461      404   \n",
       "ddbpass                  0         0        0        0        24        1   \n",
       "\n",
       "                     data  \n",
       "nothing          29164308  \n",
       "muontrigger      16151331  \n",
       "lumimask         15599882  \n",
       "metfilter        15572901  \n",
       "minjetkinmu        536299  \n",
       "jetid              536299  \n",
       "n2ddt              175523  \n",
       "ak4btagMedium08     48836  \n",
       "onemuon              7688  \n",
       "muonkin              6912  \n",
       "muonDphiAK8          3722  \n",
       "ddbpass                21  "
      ]
     },
     "execution_count": 9,
     "metadata": {},
     "output_type": "execute_result"
    }
   ],
   "source": [
    "df1"
   ]
  },
  {
   "cell_type": "code",
   "execution_count": 10,
   "metadata": {},
   "outputs": [],
   "source": [
    "templates_mc = pickle.load(open(year+'/templates-mc.pkl','rb')).integrate('region','muoncontrol').integrate('systematic','nominal').sum('pt1','genflavor').integrate('mjj',overflow='allnan')\n",
    "templates_data = pickle.load(open(year+'/templates-data.pkl','rb')).integrate('region','muoncontrol').integrate('systematic','nominal').sum('pt1','genflavor').integrate('mjj',overflow='allnan')"
   ]
  },
  {
   "cell_type": "code",
   "execution_count": 11,
   "metadata": {},
   "outputs": [
    {
     "data": {
      "text/plain": [
       "{('ZH',): array([0.14973315, 0.00225279, 0.00038142]),\n",
       " ('WH',): array([0.46459573, 0.02443302, 0.00623868]),\n",
       " ('ttH',): array([5.75931632, 0.29543697, 0.0741754 ]),\n",
       " ('VBF',): array([0.03414412, 0.        , 0.        ]),\n",
       " ('ggF',): array([0., 0., 0.]),\n",
       " ('ggF-powheg',): array([0.4298711, 0.       , 0.       ]),\n",
       " ('QCD',): array([454.2559105,   0.       ,   0.       ]),\n",
       " ('VV',): array([4.67309544e+00, 2.03030517e-03, 0.00000000e+00]),\n",
       " ('Wjets',): array([2.13069148e+02, 2.09646386e-01, 1.65950633e-02]),\n",
       " ('Zjets',): array([32.48213567,  0.22715723,  0.        ]),\n",
       " ('ttbar',): array([3.43584476e+03, 2.31241261e+01, 1.84722078e+00]),\n",
       " ('singlet',): array([4.03129287e+02, 1.21749068e+00, 1.80103805e-01])}"
      ]
     },
     "execution_count": 11,
     "metadata": {},
     "output_type": "execute_result"
    }
   ],
   "source": [
    "templates_mc.sum('msd1').values()"
   ]
  },
  {
   "cell_type": "code",
   "execution_count": 12,
   "metadata": {},
   "outputs": [
    {
     "data": {
      "text/plain": [
       "{('data',): array([3.066e+03, 1.300e+01, 3.000e+00]),\n",
       " ('muondata',): array([3.701e+03, 1.800e+01, 3.000e+00])}"
      ]
     },
     "execution_count": 12,
     "metadata": {},
     "output_type": "execute_result"
    }
   ],
   "source": [
    "templates_data.sum('msd1').values()"
   ]
  },
  {
   "cell_type": "code",
   "execution_count": 13,
   "metadata": {},
   "outputs": [
    {
     "data": {
      "image/png": "[encoded data removed]",
      "text/plain": [
       "<Figure size 720x720 with 2 Axes>"
      ]
     },
     "metadata": {
      "needs_background": "light"
     },
     "output_type": "display_data"
    }
   ],
   "source": [
    "fig = plt.figure()\n",
    "plt.suptitle(year + ' Muon CR')\n",
    "\n",
    "ax1 = fig.add_subplot(4,1,(1,3))\n",
    "plt.subplots_adjust(hspace=0)\n",
    "\n",
    "# https://matplotlib.org/stable/gallery/color/named_colors.html                                                       \n",
    "labels = ['Higgs','VV','W+jets','Z+jets','QCD','single t','tt']\n",
    "mc = ['ttbar','singlet','QCD','Wjets','Zjets','VV',['ZH','WH','ttH','ggF']]                                                     \n",
    "colors=['purple','hotpink','gray','deepskyblue','blue','darkorange','gold']\n",
    "\n",
    "mc = [x for x in reversed(mc)]\n",
    "colors = [x for x in reversed(colors)]\n",
    "labels = [x for x in reversed(labels)]                                                                  \n",
    "        \n",
    "hmc = templates_mc.sum('ddb1')\n",
    "hdata = templates_data.sum('ddb1')\n",
    "# Plot stacked hist                                                                                                   \n",
    "hist.plot1d(hmc,order=mc,stack=True,fill_opts={'color':colors,'edgecolor':'black'})                              \n",
    "# Overlay data                                                                                                            \n",
    "hist.plot1d(hdata.integrate('process','muondata'),error_opts={'marker':'o','color':'k','markersize':5}) \n",
    "labels = ['Process'] + labels + ['Data']\n",
    "\n",
    "ax1.get_xaxis().set_visible(False)                                                                                               \n",
    "plt.legend(labels=labels,bbox_to_anchor=(1.05, 1), loc='upper left')    \n",
    "\n",
    "allweights = hist.export1d(hdata.integrate('process','muondata')).numpy()[0] \n",
    "ax1.set_yscale('log')\n",
    "ax1.set_ylim(0.01,5*np.amax(allweights)) \n",
    "\n",
    "# ratio                                                                                                                   \n",
    "ax2 = fig.add_subplot(4,1,(4,4))\n",
    "hist.plotratio(num=hdata.integrate('process','muondata'),denom=hmc.integrate('process'),ax=ax2,unc='num',error_opts={'marker':'o','color':'k','markersize':5},guide_opts={})\n",
    "ax2.set_ylabel('Ratio')    \n",
    "ax2.set_xlabel('Jet $m_{sd}$ [GeV]') \n",
    "ax2.set_xlim(ax1.get_xlim())\n",
    "\n",
    "name = year+'/datamc_mucr_msd1'\n",
    "png_name = name+'.png'\n",
    "plt.savefig(png_name,bbox_inches='tight')\n",
    "\n",
    "pdf_name = name+'.pdf'\n",
    "plt.savefig(pdf_name,bbox_inches='tight')"
   ]
  },
  {
   "cell_type": "code",
   "execution_count": 14,
   "metadata": {},
   "outputs": [
    {
     "name": "stderr",
     "output_type": "stream",
     "text": [
      "/opt/conda/lib/python3.8/site-packages/coffea/hist/hist_tools.py:376: RuntimeWarning: Not all requested indices present in <Cat (name=process) instance at 0x7f5516afa550>\n",
      "  warnings.warn(\n",
      "/opt/conda/lib/python3.8/site-packages/coffea/hist/plot.py:43: RuntimeWarning: All sumw are zero!  Cannot compute meaningful error bars\n",
      "  warnings.warn(\n",
      "/opt/conda/lib/python3.8/site-packages/coffea/hist/hist_tools.py:376: RuntimeWarning: Not all requested indices present in <Cat (name=process) instance at 0x7f5516afa550>\n",
      "  warnings.warn(\n",
      "/opt/conda/lib/python3.8/site-packages/coffea/hist/plot.py:423: RuntimeWarning: invalid value encountered in true_divide\n",
      "  rsumw = sumw_num / sumw_denom\n",
      "/opt/conda/lib/python3.8/site-packages/coffea/hist/plot.py:435: RuntimeWarning: invalid value encountered in true_divide\n",
      "  poisson_interval(rsumw, sumw2_num / sumw_denom ** 2) - rsumw\n"
     ]
    },
    {
     "data": {
      "image/png": "[encoded data removed]",
      "text/plain": [
       "<Figure size 864x432 with 4 Axes>"
      ]
     },
     "metadata": {
      "needs_background": "light"
     },
     "output_type": "display_data"
    }
   ],
   "source": [
    "fig, ((ax1,ax2),(ax3,ax4)) = plt.subplots(2, 2, gridspec_kw={'height_ratios': [3,1]},figsize=(12,6))\n",
    "plt.subplots_adjust(hspace=0)\n",
    "    \n",
    "# https://matplotlib.org/stable/gallery/color/named_colors.html                                                       \n",
    "labels = ['Higgs','VV','W+jets','Z+jets','QCD','single t','tt']\n",
    "mc = ['ttbar','singlet','QCD','Wjets','Zjets','VV',['ZH','WH','ttH','ggF']]                                                     \n",
    "colors=['purple','hotpink','gray','deepskyblue','blue','darkorange','gold']\n",
    "\n",
    "mc = [x for x in reversed(mc)]\n",
    "colors = [x for x in reversed(colors)]\n",
    "labels = [x for x in reversed(labels)]  \n",
    "    \n",
    "hpassmc = templates_mc.integrate('ddb1',int_range=slice(0.64,1))\n",
    "hfailmc = templates_mc.integrate('ddb1',int_range=slice(0,0.64))\n",
    "\n",
    "hpassdata = templates_data.integrate('ddb1',int_range=slice(0.64,1))\n",
    "hfaildata = templates_data.integrate('ddb1',int_range=slice(0,0.64))\n",
    "                           \n",
    "hist.plot1d(hfailmc,order=mc,stack=True,fill_opts={'color':colors,'edgecolor':'black'},ax=ax1)\n",
    "ax1.get_legend().remove()\n",
    "muondata = hfaildata.integrate('process','muondata')\n",
    "x=muondata.axes()[0].centers()\n",
    "bins=muondata.axes()[0].edges()\n",
    "ax1.errorbar(x=x,y=muondata.values()[()],yerr=np.sqrt(muondata.values()[()]),marker='o',linestyle='',color='black')\n",
    "\n",
    "ax1.get_xaxis().set_visible(False)\n",
    "\n",
    "allweights =  hist.export1d(hfaildata.integrate('process','muondata')).numpy()[0] \n",
    "ax1.set_yscale('log')\n",
    "ax1.set_ylim(0.01,5*np.amax(allweights))         \n",
    "    \n",
    "ax1.title.set_text(\"DDB fail\")\n",
    "\n",
    "# ratio                                                                                                                   \n",
    "hist.plotratio(num=hfaildata.integrate('process','muondata'),denom=hfailmc.integrate('process',mc),unc='num',error_opts={'marker':'o','color':'k','markersize':5},guide_opts={},ax=ax3)   \n",
    "ax3.set_ylabel(\"Ratio\")\n",
    "if ax3.get_ylim()[1] > 5:\n",
    "    ax3.set_ylim(ax3.get_ylim()[0],5)\n",
    "ax3.set_xlabel('Jet $m_{sd}$ [GeV]') \n",
    "ax3.set_xlim(ax1.get_xlim())\n",
    "                                                                                        \n",
    "hist.plot1d(hpassmc,order=mc,stack=True,fill_opts={'color':colors,'edgecolor':'black'},ax=ax2,legend_opts={'labels':labels,'bbox_to_anchor':(1.05, 1),'loc':'upper left'})\n",
    "muondata = hpassdata.integrate('process','muondata')\n",
    "x=muondata.axes()[0].centers()\n",
    "bins=muondata.axes()[0].edges()\n",
    "ax2.errorbar(x=x,y=muondata.values()[()],yerr=np.sqrt(muondata.values()[()]),marker='o',linestyle='',color='black') \n",
    "    \n",
    "ax2.title.set_text(\"DDB pass\")\n",
    "    \n",
    "ax2.set_xlim(ax1.get_xlim())\n",
    "ax2.get_xaxis().set_visible(False)    \n",
    "ax2.set_ylabel(\"\")\n",
    "allweights =  hist.export1d(hpassdata.integrate('process','muondata')).numpy()[0] \n",
    "ax2.set_yscale('log')\n",
    "ax2.set_ylim(0.01,5*np.amax(allweights))   \n",
    "\n",
    "# ratio                                                                                                                   \n",
    "hist.plotratio(num=hpassdata.integrate('process','muondata'),denom=hpassmc.integrate('process',mc),unc='num',error_opts={'marker':'o','color':'k','markersize':5},guide_opts={},ax=ax4)  \n",
    "    \n",
    "ax4.set_ylabel(\"\")\n",
    "if(ax4.get_ylim()[1] > 5):\n",
    "    ax4.set_ylim(ax4.get_ylim()[0],5)\n",
    "ax4.set_xlabel('Jet $m_{sd}$ [GeV]') \n",
    "ax4.set_xlim(ax1.get_xlim())\n",
    "\n",
    "name = year+'/datamc_mucr_msd1'\n",
    "png_name = name+'_PF.png'\n",
    "plt.savefig(png_name,bbox_inches='tight')\n",
    "\n",
    "pdf_name = name+'_PF.pdf'\n",
    "plt.savefig(pdf_name,bbox_inches='tight')"
   ]
  }
 ],
 "metadata": {
  "kernelspec": {
   "display_name": "Python 3 (ipykernel)",
   "language": "python",
   "name": "python3"
  },
  "language_info": {
   "codemirror_mode": {
    "name": "ipython",
    "version": 3
   },
   "file_extension": ".py",
   "mimetype": "text/x-python",
   "name": "python",
   "nbconvert_exporter": "python",
   "pygments_lexer": "ipython3",
   "version": "3.8.12"
  }
 },
 "nbformat": 4,
 "nbformat_minor": 2
}
