{
 "cells": [
  {
   "cell_type": "code",
   "execution_count": 28,
   "metadata": {},
   "outputs": [],
   "source": [
    "import os, subprocess\n",
    "import json\n",
    "import uproot3\n",
    "import awkward as ak\n",
    "import numpy as np\n",
    "from coffea import processor, util, hist\n",
    "import pandas as pd\n",
    "import pickle\n",
    "\n",
    "from plotter import *"
   ]
  },
  {
   "cell_type": "code",
   "execution_count": 29,
   "metadata": {},
   "outputs": [],
   "source": [
    "lumis = {}\n",
    "lumis['2016'] = 35.9\n",
    "lumis['2017'] = 41.5\n",
    "lumis['2018'] = 59.2\n",
    "\n",
    "with open('xsec.json') as f:\n",
    "  xs = json.load(f)\n",
    "\n",
    "with open('pmap.json') as f:\n",
    "  pmap = json.load(f)"
   ]
  },
  {
   "cell_type": "code",
   "execution_count": 30,
   "metadata": {},
   "outputs": [],
   "source": [
    "year = '2016'\n",
    "nfiles = len(subprocess.getoutput(\"ls infiles-split/\"+year+\"*.json\").split())\n",
    "outsum = processor.dict_accumulator()\n",
    "\n",
    "ddbthr = 0.64"
   ]
  },
  {
   "cell_type": "code",
   "execution_count": 31,
   "metadata": {},
   "outputs": [],
   "source": [
    "nfiles = len(subprocess.getoutput(\"ls infiles-split/\"+year+\"*.json\").split())\n",
    "coffeadir_prefix = '/myeosdir/ggf-vbf/outfiles-ddb2/'\n",
    "\n",
    "repickle = True\n",
    "# Check if pickle exists, remove it if it does\n",
    "picklename = 'pickles/'+str(year)+'_cutflow.pkl'\n",
    "if os.path.isfile(picklename):\n",
    "    repickle = False"
   ]
  },
  {
   "cell_type": "code",
   "execution_count": 32,
   "metadata": {},
   "outputs": [
    {
     "name": "stderr",
     "output_type": "stream",
     "text": [
      "/opt/conda/lib/python3.8/site-packages/coffea/hist/hist_tools.py:376: RuntimeWarning: Not all requested indices present in <Cat (name=dataset) instance at 0x7fc4a1f0c7f0>\n",
      "  warnings.warn(\n"
     ]
    }
   ],
   "source": [
    "if repickle:\n",
    "\n",
    "    for n in range(1,nfiles+1):\n",
    "    \n",
    "        with open('infiles-split/'+year+'_'+str(n)+'.json') as f:\n",
    "            infiles = json.load(f)\n",
    "    \n",
    "        filename = coffeadir_prefix+year+'_'+str(n)+'.coffea'\n",
    "        if os.path.isfile(filename):\n",
    "            out = util.load(filename)\n",
    "\n",
    "            if n == 1:\n",
    "                outsum['cutflow'] = out['cutflow']\n",
    "                outsum['sumw'] = out['sumw']\n",
    "            else:\n",
    "                outsum['cutflow'].add(out['cutflow'])\n",
    "                outsum['sumw'].add(out['sumw'])\n",
    "            \n",
    "    scale_lumi = {k: xs[k] * 1000 *lumis[year] / w for k, w in outsum['sumw'].items()}\n",
    "    outsum['cutflow'].scale(scale_lumi, 'dataset')\n",
    "    cutflow = outsum['cutflow'].group('dataset', hist.Cat('process', 'Process'), pmap)\n",
    "    \n",
    "    outfile = open(picklename, 'wb')\n",
    "    pickle.dump(cutflow, outfile, protocol=-1)\n",
    "    outfile.close()"
   ]
  },
  {
   "cell_type": "code",
   "execution_count": 33,
   "metadata": {},
   "outputs": [],
   "source": [
    "cutflow = pickle.load(open('pickles/'+str(year)+'_cutflow.pkl','rb'))\n",
    "cutflow = cutflow.sum('genflavor').integrate('region','muoncontrol')"
   ]
  },
  {
   "cell_type": "code",
   "execution_count": 34,
   "metadata": {},
   "outputs": [
    {
     "data": {
      "text/plain": [
       "{(): array([4.0017229e+07, 1.0919550e+06, 1.0919550e+06, 3.4411500e+05,\n",
       "        1.0858200e+05, 1.1222000e+04, 7.2410000e+03, 3.8790000e+03,\n",
       "        3.6830000e+03, 3.6350000e+03, 2.0000000e+01, 0.0000000e+00,\n",
       "        0.0000000e+00, 0.0000000e+00, 0.0000000e+00])}"
      ]
     },
     "execution_count": 34,
     "metadata": {},
     "output_type": "execute_result"
    }
   ],
   "source": [
    "cutflow.integrate('process','muondata').values()"
   ]
  },
  {
   "cell_type": "code",
   "execution_count": 35,
   "metadata": {},
   "outputs": [
    {
     "data": {
      "text/plain": [
       "{(): array([2.45037266e+07, 3.42253072e+05, 3.42253072e+05, 1.38608815e+05,\n",
       "        7.02034556e+04, 8.69602838e+03, 6.09044144e+03, 3.44972338e+03,\n",
       "        3.44972338e+03, 3.44972338e+03, 2.27631301e+01, 0.00000000e+00,\n",
       "        0.00000000e+00, 0.00000000e+00, 0.00000000e+00])}"
      ]
     },
     "execution_count": 35,
     "metadata": {},
     "output_type": "execute_result"
    }
   ],
   "source": [
    "cutflow.integrate('process','ttbar').values()"
   ]
  },
  {
   "cell_type": "code",
   "execution_count": 36,
   "metadata": {},
   "outputs": [],
   "source": [
    "df1 = pd.DataFrame([])\n",
    "\n",
    "df1['QCD'] = cutflow.values()[('QCD',)]\n",
    "df1['Wjets'] = cutflow.values()[('Wjets',)]\n",
    "df1['Zjets'] = cutflow.values()[('Zjets',)]\n",
    "df1['VV'] = cutflow.values()[('VV',)]\n",
    "df1['ttbar'] = cutflow.values()[('ttbar',)]\n",
    "df1['singlet'] = cutflow.values()[('singlet',)]\n",
    "df1['data'] = cutflow.values()[('muondata',)]\n",
    "\n",
    "df1 = df1.astype('int')[:11]\n",
    "df1.index=['nothing', 'minjetkinmu', 'jetid', 'n2ddt', 'ak4btagMedium08', 'onemuon', 'muonkin', 'muonDphiAK8', 'muontrigger', 'lumimask','ddbpass']\n",
    "#df1.index = ['Jet kinematics', 'Jet ID', 'n2ddt', 'b-tag', 'no e/tau', 'one muon', 'Dphi(muon,AK8)','DeepDoubleB']\n",
    "df1[1:11].to_latex(buf=year+'/cutflow-muoncr.tex')"
   ]
  },
  {
   "cell_type": "code",
   "execution_count": 37,
   "metadata": {},
   "outputs": [
    {
     "data": {
      "text/html": [
       "<div>\n",
       "<style scoped>\n",
       "    .dataframe tbody tr th:only-of-type {\n",
       "        vertical-align: middle;\n",
       "    }\n",
       "\n",
       "    .dataframe tbody tr th {\n",
       "        vertical-align: top;\n",
       "    }\n",
       "\n",
       "    .dataframe thead th {\n",
       "        text-align: right;\n",
       "    }\n",
       "</style>\n",
       "<table border=\"1\" class=\"dataframe\">\n",
       "  <thead>\n",
       "    <tr style=\"text-align: right;\">\n",
       "      <th></th>\n",
       "      <th>QCD</th>\n",
       "      <th>Wjets</th>\n",
       "      <th>Zjets</th>\n",
       "      <th>VV</th>\n",
       "      <th>ttbar</th>\n",
       "      <th>singlet</th>\n",
       "      <th>data</th>\n",
       "    </tr>\n",
       "  </thead>\n",
       "  <tbody>\n",
       "    <tr>\n",
       "      <th>nothing</th>\n",
       "      <td>371373188</td>\n",
       "      <td>23187997</td>\n",
       "      <td>4293797</td>\n",
       "      <td>3254018</td>\n",
       "      <td>24503726</td>\n",
       "      <td>9411117</td>\n",
       "      <td>40017229</td>\n",
       "    </tr>\n",
       "    <tr>\n",
       "      <th>minjetkinmu</th>\n",
       "      <td>48413035</td>\n",
       "      <td>623735</td>\n",
       "      <td>244755</td>\n",
       "      <td>7453</td>\n",
       "      <td>342253</td>\n",
       "      <td>37672</td>\n",
       "      <td>1091955</td>\n",
       "    </tr>\n",
       "    <tr>\n",
       "      <th>jetid</th>\n",
       "      <td>48413035</td>\n",
       "      <td>623735</td>\n",
       "      <td>244755</td>\n",
       "      <td>7453</td>\n",
       "      <td>342253</td>\n",
       "      <td>37672</td>\n",
       "      <td>1091955</td>\n",
       "    </tr>\n",
       "    <tr>\n",
       "      <th>n2ddt</th>\n",
       "      <td>11534243</td>\n",
       "      <td>236173</td>\n",
       "      <td>100994</td>\n",
       "      <td>4092</td>\n",
       "      <td>138608</td>\n",
       "      <td>19025</td>\n",
       "      <td>344115</td>\n",
       "    </tr>\n",
       "    <tr>\n",
       "      <th>ak4btagMedium08</th>\n",
       "      <td>1209849</td>\n",
       "      <td>22343</td>\n",
       "      <td>14035</td>\n",
       "      <td>468</td>\n",
       "      <td>70203</td>\n",
       "      <td>10099</td>\n",
       "      <td>108582</td>\n",
       "    </tr>\n",
       "    <tr>\n",
       "      <th>onemuon</th>\n",
       "      <td>2445</td>\n",
       "      <td>909</td>\n",
       "      <td>166</td>\n",
       "      <td>16</td>\n",
       "      <td>8696</td>\n",
       "      <td>986</td>\n",
       "      <td>11222</td>\n",
       "    </tr>\n",
       "    <tr>\n",
       "      <th>muonkin</th>\n",
       "      <td>530</td>\n",
       "      <td>578</td>\n",
       "      <td>91</td>\n",
       "      <td>9</td>\n",
       "      <td>6090</td>\n",
       "      <td>604</td>\n",
       "      <td>7241</td>\n",
       "    </tr>\n",
       "    <tr>\n",
       "      <th>muonDphiAK8</th>\n",
       "      <td>353</td>\n",
       "      <td>213</td>\n",
       "      <td>26</td>\n",
       "      <td>5</td>\n",
       "      <td>3449</td>\n",
       "      <td>406</td>\n",
       "      <td>3879</td>\n",
       "    </tr>\n",
       "    <tr>\n",
       "      <th>muontrigger</th>\n",
       "      <td>353</td>\n",
       "      <td>213</td>\n",
       "      <td>26</td>\n",
       "      <td>5</td>\n",
       "      <td>3449</td>\n",
       "      <td>406</td>\n",
       "      <td>3683</td>\n",
       "    </tr>\n",
       "    <tr>\n",
       "      <th>lumimask</th>\n",
       "      <td>353</td>\n",
       "      <td>213</td>\n",
       "      <td>26</td>\n",
       "      <td>5</td>\n",
       "      <td>3449</td>\n",
       "      <td>406</td>\n",
       "      <td>3635</td>\n",
       "    </tr>\n",
       "    <tr>\n",
       "      <th>ddbpass</th>\n",
       "      <td>0</td>\n",
       "      <td>0</td>\n",
       "      <td>0</td>\n",
       "      <td>0</td>\n",
       "      <td>22</td>\n",
       "      <td>3</td>\n",
       "      <td>20</td>\n",
       "    </tr>\n",
       "  </tbody>\n",
       "</table>\n",
       "</div>"
      ],
      "text/plain": [
       "                       QCD     Wjets    Zjets       VV     ttbar  singlet  \\\n",
       "nothing          371373188  23187997  4293797  3254018  24503726  9411117   \n",
       "minjetkinmu       48413035    623735   244755     7453    342253    37672   \n",
       "jetid             48413035    623735   244755     7453    342253    37672   \n",
       "n2ddt             11534243    236173   100994     4092    138608    19025   \n",
       "ak4btagMedium08    1209849     22343    14035      468     70203    10099   \n",
       "onemuon               2445       909      166       16      8696      986   \n",
       "muonkin                530       578       91        9      6090      604   \n",
       "muonDphiAK8            353       213       26        5      3449      406   \n",
       "muontrigger            353       213       26        5      3449      406   \n",
       "lumimask               353       213       26        5      3449      406   \n",
       "ddbpass                  0         0        0        0        22        3   \n",
       "\n",
       "                     data  \n",
       "nothing          40017229  \n",
       "minjetkinmu       1091955  \n",
       "jetid             1091955  \n",
       "n2ddt              344115  \n",
       "ak4btagMedium08    108582  \n",
       "onemuon             11222  \n",
       "muonkin              7241  \n",
       "muonDphiAK8          3879  \n",
       "muontrigger          3683  \n",
       "lumimask             3635  \n",
       "ddbpass                20  "
      ]
     },
     "execution_count": 37,
     "metadata": {},
     "output_type": "execute_result"
    }
   ],
   "source": [
    "df1"
   ]
  },
  {
   "cell_type": "code",
   "execution_count": null,
   "metadata": {},
   "outputs": [],
   "source": []
  }
 ],
 "metadata": {
  "kernelspec": {
   "display_name": "Python 3 (ipykernel)",
   "language": "python",
   "name": "python3"
  },
  "language_info": {
   "codemirror_mode": {
    "name": "ipython",
    "version": 3
   },
   "file_extension": ".py",
   "mimetype": "text/x-python",
   "name": "python",
   "nbconvert_exporter": "python",
   "pygments_lexer": "ipython3",
   "version": "3.8.10"
  }
 },
 "nbformat": 4,
 "nbformat_minor": 2
}
