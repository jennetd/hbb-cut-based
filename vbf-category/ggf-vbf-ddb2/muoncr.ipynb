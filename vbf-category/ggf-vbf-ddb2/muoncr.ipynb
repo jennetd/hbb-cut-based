{
 "cells": [
  {
   "cell_type": "code",
   "execution_count": 28,
   "metadata": {},
   "outputs": [],
   "source": [
    "import os, subprocess\n",
    "import json\n",
    "import uproot3\n",
    "import awkward as ak\n",
    "import numpy as np\n",
    "from coffea import processor, util, hist\n",
    "import pandas as pd\n",
    "import pickle\n",
    "\n",
    "from plotter import *"
   ]
  },
  {
   "cell_type": "code",
   "execution_count": 29,
   "metadata": {},
   "outputs": [],
   "source": [
    "lumis = {}\n",
    "lumis['2016'] = 35.9\n",
    "lumis['2017'] = 41.5\n",
    "lumis['2018'] = 59.2\n",
    "\n",
    "with open('xsec.json') as f:\n",
    "  xs = json.load(f)\n",
    "\n",
    "with open('pmap.json') as f:\n",
    "  pmap = json.load(f)"
   ]
  },
  {
   "cell_type": "code",
   "execution_count": 30,
   "metadata": {},
   "outputs": [],
   "source": [
    "year = '2018'\n",
    "nfiles = len(subprocess.getoutput(\"ls infiles-split/\"+year+\"*.json\").split())\n",
    "outsum = processor.dict_accumulator()\n",
    "\n",
    "ddbthr = 0.64"
   ]
  },
  {
   "cell_type": "code",
   "execution_count": 31,
   "metadata": {},
   "outputs": [],
   "source": [
    "nfiles = len(subprocess.getoutput(\"ls infiles-split/\"+year+\"*.json\").split())\n",
    "coffeadir_prefix = '/myeosdir/ggf-vbf/outfiles-ddb2/'\n",
    "\n",
    "repickle = True\n",
    "# Check if pickle exists, remove it if it does\n",
    "picklename = year+'/cutflow.pkl'\n",
    "if os.path.isfile(picklename):\n",
    "    repickle = False"
   ]
  },
  {
   "cell_type": "code",
   "execution_count": 32,
   "metadata": {},
   "outputs": [],
   "source": [
    "cutflow = pickle.load(open(year+'/cutflow.pkl','rb'))\n",
    "cutflow = cutflow.sum('genflavor').integrate('region','muoncontrol')"
   ]
  },
  {
   "cell_type": "code",
   "execution_count": 33,
   "metadata": {},
   "outputs": [
    {
     "data": {
      "text/plain": [
       "{(): array([5.1097690e+07, 2.1904928e+07, 2.1050041e+07, 2.1012888e+07,\n",
       "        7.0518700e+05, 7.0518700e+05, 2.5061900e+05, 8.0598000e+04,\n",
       "        1.2456000e+04, 1.1162000e+04, 6.0010000e+03, 3.2000000e+01,\n",
       "        0.0000000e+00, 0.0000000e+00, 0.0000000e+00])}"
      ]
     },
     "execution_count": 33,
     "metadata": {},
     "output_type": "execute_result"
    }
   ],
   "source": [
    "cutflow.integrate('process','muondata').values()"
   ]
  },
  {
   "cell_type": "code",
   "execution_count": 34,
   "metadata": {},
   "outputs": [
    {
     "data": {
      "text/plain": [
       "{(): array([2.22210610e+07, 2.22210610e+07, 2.22210610e+07, 2.22059247e+07,\n",
       "        4.92557740e+05, 4.92557740e+05, 1.88897203e+05, 9.69234623e+04,\n",
       "        1.35705931e+04, 9.41536574e+03, 5.32155996e+03, 3.66590073e+01,\n",
       "        0.00000000e+00, 0.00000000e+00, 0.00000000e+00])}"
      ]
     },
     "execution_count": 34,
     "metadata": {},
     "output_type": "execute_result"
    }
   ],
   "source": [
    "cutflow.integrate('process','ttbar').values()"
   ]
  },
  {
   "cell_type": "code",
   "execution_count": 35,
   "metadata": {},
   "outputs": [],
   "source": [
    "df1 = pd.DataFrame([])\n",
    "\n",
    "df1['QCD'] = cutflow.values()[('QCD',)]\n",
    "df1['Wjets'] = cutflow.values()[('Wjets',)]\n",
    "df1['Zjets'] = cutflow.values()[('Zjets',)]\n",
    "df1['VV'] = cutflow.values()[('VV',)]\n",
    "df1['ttbar'] = cutflow.values()[('ttbar',)]\n",
    "df1['singlet'] = cutflow.values()[('singlet',)]\n",
    "df1['data'] = cutflow.values()[('muondata',)]\n",
    "\n",
    "df1 = df1.astype('int')[:12]\n",
    "df1.index=['nothing','muontrigger','lumimask','metfilter','minjetkinmu', 'jetid', 'n2ddt', 'ak4btagMedium08', 'onemuon', 'muonkin', 'muonDphiAK8','ddbpass']\n",
    "df1[1:12].to_latex(buf=year+'/cutflow-muoncr.tex')"
   ]
  },
  {
   "cell_type": "code",
   "execution_count": 36,
   "metadata": {},
   "outputs": [
    {
     "data": {
      "text/html": [
       "<div>\n",
       "<style scoped>\n",
       "    .dataframe tbody tr th:only-of-type {\n",
       "        vertical-align: middle;\n",
       "    }\n",
       "\n",
       "    .dataframe tbody tr th {\n",
       "        vertical-align: top;\n",
       "    }\n",
       "\n",
       "    .dataframe thead th {\n",
       "        text-align: right;\n",
       "    }\n",
       "</style>\n",
       "<table border=\"1\" class=\"dataframe\">\n",
       "  <thead>\n",
       "    <tr style=\"text-align: right;\">\n",
       "      <th></th>\n",
       "      <th>QCD</th>\n",
       "      <th>Wjets</th>\n",
       "      <th>Zjets</th>\n",
       "      <th>VV</th>\n",
       "      <th>ttbar</th>\n",
       "      <th>singlet</th>\n",
       "      <th>data</th>\n",
       "    </tr>\n",
       "  </thead>\n",
       "  <tbody>\n",
       "    <tr>\n",
       "      <th>nothing</th>\n",
       "      <td>1542533361</td>\n",
       "      <td>25156826</td>\n",
       "      <td>3340706</td>\n",
       "      <td>2372304</td>\n",
       "      <td>22221060</td>\n",
       "      <td>3412929</td>\n",
       "      <td>51097690</td>\n",
       "    </tr>\n",
       "    <tr>\n",
       "      <th>muontrigger</th>\n",
       "      <td>1542533361</td>\n",
       "      <td>25156826</td>\n",
       "      <td>3340706</td>\n",
       "      <td>2372304</td>\n",
       "      <td>22221060</td>\n",
       "      <td>3412929</td>\n",
       "      <td>21904928</td>\n",
       "    </tr>\n",
       "    <tr>\n",
       "      <th>lumimask</th>\n",
       "      <td>1542533361</td>\n",
       "      <td>25156826</td>\n",
       "      <td>3340706</td>\n",
       "      <td>2372304</td>\n",
       "      <td>22221060</td>\n",
       "      <td>3412929</td>\n",
       "      <td>21050041</td>\n",
       "    </tr>\n",
       "    <tr>\n",
       "      <th>metfilter</th>\n",
       "      <td>1540122249</td>\n",
       "      <td>25125157</td>\n",
       "      <td>3333096</td>\n",
       "      <td>2371047</td>\n",
       "      <td>22205924</td>\n",
       "      <td>3410935</td>\n",
       "      <td>21012888</td>\n",
       "    </tr>\n",
       "    <tr>\n",
       "      <th>minjetkinmu</th>\n",
       "      <td>56594272</td>\n",
       "      <td>851948</td>\n",
       "      <td>348268</td>\n",
       "      <td>11054</td>\n",
       "      <td>492557</td>\n",
       "      <td>42035</td>\n",
       "      <td>705187</td>\n",
       "    </tr>\n",
       "    <tr>\n",
       "      <th>jetid</th>\n",
       "      <td>56594272</td>\n",
       "      <td>851948</td>\n",
       "      <td>348268</td>\n",
       "      <td>11054</td>\n",
       "      <td>492557</td>\n",
       "      <td>42035</td>\n",
       "      <td>705187</td>\n",
       "    </tr>\n",
       "    <tr>\n",
       "      <th>n2ddt</th>\n",
       "      <td>15345526</td>\n",
       "      <td>352917</td>\n",
       "      <td>160380</td>\n",
       "      <td>6584</td>\n",
       "      <td>188897</td>\n",
       "      <td>21583</td>\n",
       "      <td>250619</td>\n",
       "    </tr>\n",
       "    <tr>\n",
       "      <th>ak4btagMedium08</th>\n",
       "      <td>1431554</td>\n",
       "      <td>31053</td>\n",
       "      <td>21034</td>\n",
       "      <td>708</td>\n",
       "      <td>96923</td>\n",
       "      <td>11879</td>\n",
       "      <td>80598</td>\n",
       "    </tr>\n",
       "    <tr>\n",
       "      <th>onemuon</th>\n",
       "      <td>5537</td>\n",
       "      <td>1620</td>\n",
       "      <td>326</td>\n",
       "      <td>35</td>\n",
       "      <td>13570</td>\n",
       "      <td>1362</td>\n",
       "      <td>12456</td>\n",
       "    </tr>\n",
       "    <tr>\n",
       "      <th>muonkin</th>\n",
       "      <td>1064</td>\n",
       "      <td>1031</td>\n",
       "      <td>170</td>\n",
       "      <td>20</td>\n",
       "      <td>9415</td>\n",
       "      <td>814</td>\n",
       "      <td>11162</td>\n",
       "    </tr>\n",
       "    <tr>\n",
       "      <th>muonDphiAK8</th>\n",
       "      <td>706</td>\n",
       "      <td>454</td>\n",
       "      <td>56</td>\n",
       "      <td>15</td>\n",
       "      <td>5321</td>\n",
       "      <td>565</td>\n",
       "      <td>6001</td>\n",
       "    </tr>\n",
       "    <tr>\n",
       "      <th>ddbpass</th>\n",
       "      <td>0</td>\n",
       "      <td>0</td>\n",
       "      <td>0</td>\n",
       "      <td>0</td>\n",
       "      <td>36</td>\n",
       "      <td>2</td>\n",
       "      <td>32</td>\n",
       "    </tr>\n",
       "  </tbody>\n",
       "</table>\n",
       "</div>"
      ],
      "text/plain": [
       "                        QCD     Wjets    Zjets       VV     ttbar  singlet  \\\n",
       "nothing          1542533361  25156826  3340706  2372304  22221060  3412929   \n",
       "muontrigger      1542533361  25156826  3340706  2372304  22221060  3412929   \n",
       "lumimask         1542533361  25156826  3340706  2372304  22221060  3412929   \n",
       "metfilter        1540122249  25125157  3333096  2371047  22205924  3410935   \n",
       "minjetkinmu        56594272    851948   348268    11054    492557    42035   \n",
       "jetid              56594272    851948   348268    11054    492557    42035   \n",
       "n2ddt              15345526    352917   160380     6584    188897    21583   \n",
       "ak4btagMedium08     1431554     31053    21034      708     96923    11879   \n",
       "onemuon                5537      1620      326       35     13570     1362   \n",
       "muonkin                1064      1031      170       20      9415      814   \n",
       "muonDphiAK8             706       454       56       15      5321      565   \n",
       "ddbpass                   0         0        0        0        36        2   \n",
       "\n",
       "                     data  \n",
       "nothing          51097690  \n",
       "muontrigger      21904928  \n",
       "lumimask         21050041  \n",
       "metfilter        21012888  \n",
       "minjetkinmu        705187  \n",
       "jetid              705187  \n",
       "n2ddt              250619  \n",
       "ak4btagMedium08     80598  \n",
       "onemuon             12456  \n",
       "muonkin             11162  \n",
       "muonDphiAK8          6001  \n",
       "ddbpass                32  "
      ]
     },
     "execution_count": 36,
     "metadata": {},
     "output_type": "execute_result"
    }
   ],
   "source": [
    "df1"
   ]
  },
  {
   "cell_type": "code",
   "execution_count": null,
   "metadata": {},
   "outputs": [],
   "source": []
  }
 ],
 "metadata": {
  "kernelspec": {
   "display_name": "Python 3 (ipykernel)",
   "language": "python",
   "name": "python3"
  },
  "language_info": {
   "codemirror_mode": {
    "name": "ipython",
    "version": 3
   },
   "file_extension": ".py",
   "mimetype": "text/x-python",
   "name": "python",
   "nbconvert_exporter": "python",
   "pygments_lexer": "ipython3",
   "version": "3.8.11"
  }
 },
 "nbformat": 4,
 "nbformat_minor": 2
}
