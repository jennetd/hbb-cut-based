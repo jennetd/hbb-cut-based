{
 "cells": [
  {
   "cell_type": "code",
   "execution_count": 6,
   "metadata": {},
   "outputs": [],
   "source": [
    "# Jennet takes the datasets"
   ]
  },
  {
   "cell_type": "code",
   "execution_count": 7,
   "metadata": {},
   "outputs": [],
   "source": [
    "import os\n",
    "import json"
   ]
  },
  {
   "cell_type": "code",
   "execution_count": 8,
   "metadata": {},
   "outputs": [],
   "source": [
    "def split(year,filesets,maxfiles_per_json):\n",
    "    \n",
    "    nfiles = 0\n",
    "    names = list(filesets.keys())\n",
    "    prefix = 'root://cmsxrootd.fnal.gov/'\n",
    "    \n",
    "    for n in names:\n",
    "        filesets[n] = [prefix + f for f in filesets[n]]\n",
    "    \n",
    "        files_in_n = len(filesets[n])\n",
    "        n_jsons = int(files_in_n/maxfiles_per_json) + 1\n",
    "        \n",
    "        for i in range(0,n_jsons):\n",
    "            nfiles += 1\n",
    "            subfilesets = {}\n",
    "            subfilesets[n] = filesets[n][i*maxfiles_per_json:(i+1)*maxfiles_per_json]\n",
    "\n",
    "            this_file = 'indata/'+str(year)+'_'+str(nfiles)+'.json'\n",
    "            with open(this_file, 'w') as json_file:\n",
    "                json.dump(subfilesets, json_file)\n",
    "    print('Created ' + str(nfiles) + ' files')"
   ]
  },
  {
   "cell_type": "code",
   "execution_count": 9,
   "metadata": {},
   "outputs": [],
   "source": [
    "maxfiles_per_json = 50"
   ]
  },
  {
   "cell_type": "code",
   "execution_count": 10,
   "metadata": {},
   "outputs": [
    {
     "name": "stdout",
     "output_type": "stream",
     "text": [
      "Created 27 files\n"
     ]
    }
   ],
   "source": [
    "# 2018 \n",
    "filesets = {}\n",
    "\n",
    "seta = !dasgoclient --query=\"file dataset=/JetHT/Run2018A-02Apr2020-v1/NANOAOD\"\n",
    "setb = !dasgoclient --query=\"file dataset=/JetHT/Run2018B-02Apr2020-v1/NANOAOD\"\n",
    "setc = !dasgoclient --query=\"file dataset=/JetHT/Run2018C-02Apr2020-v1/NANOAOD\"\n",
    "setd = !dasgoclient --query=\"file dataset=/JetHT/Run2018D-02Apr2020-v1/NANOAOD\"\n",
    "filesets['JetHT'] = seta + setb + setc + setd\n",
    "\n",
    "seta = !dasgoclient --query=\"file dataset=/SingleMuon/Run2018A-02Apr2020-v1/NANOAOD\"\n",
    "setb = !dasgoclient --query=\"file dataset=/SingleMuon/Run2018B-02Apr2020-v1/NANOAOD\"\n",
    "setc = !dasgoclient --query=\"file dataset=/SingleMuon/Run2018C-02Apr2020-v1/NANOAOD\"\n",
    "setd = !dasgoclient --query=\"file dataset=/SingleMuon/Run2018D-02Apr2020-v1/NANOAOD\"\n",
    "filesets['SingleMuon'] = seta + setb + setc + setd\n",
    "\n",
    "split(2018,filesets,maxfiles_per_json)"
   ]
  },
  {
   "cell_type": "code",
   "execution_count": 11,
   "metadata": {},
   "outputs": [
    {
     "name": "stdout",
     "output_type": "stream",
     "text": [
      "Created 19 files\n"
     ]
    }
   ],
   "source": [
    "# 2017 \n",
    "filesets = {}\n",
    "\n",
    "setb = !dasgoclient --query=\"file dataset=/JetHT/Run2017B-02Apr2020-v1/NANOAOD\"\n",
    "setc = !dasgoclient --query=\"file dataset=/JetHT/Run2017C-02Apr2020-v1/NANOAOD\"\n",
    "setd = !dasgoclient --query=\"file dataset=/JetHT/Run2017D-02Apr2020-v1/NANOAOD\"\n",
    "sete = !dasgoclient --query=\"file dataset=/JetHT/Run2017E-02Apr2020-v1/NANOAOD\"\n",
    "setf = !dasgoclient --query=\"file dataset=/JetHT/Run2017F-02Apr2020-v1/NANOAOD\"\n",
    "filesets['JetHT'] = setb + setc + setd + sete + setf\n",
    "\n",
    "setb = !dasgoclient --query=\"file dataset=/SingleMuon/Run2017B-02Apr2020-v1/NANOAOD\"\n",
    "setc = !dasgoclient --query=\"file dataset=/SingleMuon/Run2017C-02Apr2020-v1/NANOAOD\"\n",
    "setd = !dasgoclient --query=\"file dataset=/SingleMuon/Run2017D-02Apr2020-v1/NANOAOD\"\n",
    "sete = !dasgoclient --query=\"file dataset=/SingleMuon/Run2017E-02Apr2020-v1/NANOAOD\"\n",
    "setf = !dasgoclient --query=\"file dataset=/SingleMuon/Run2017F-02Apr2020-v1/NANOAOD\"\n",
    "filesets['SingleMuon'] = setb + setc + setd + sete + setf\n",
    "\n",
    "split(2017,filesets,maxfiles_per_json)"
   ]
  },
  {
   "cell_type": "code",
   "execution_count": 12,
   "metadata": {},
   "outputs": [
    {
     "name": "stdout",
     "output_type": "stream",
     "text": [
      "Created 16 files\n"
     ]
    }
   ],
   "source": [
    "# 2016 \n",
    "filesets = {}\n",
    "\n",
    "setb = !dasgoclient --query=\"file dataset=/JetHT/Run2016B-02Apr2020-v1/NANOAOD\"\n",
    "setc = !dasgoclient --query=\"file dataset=/JetHT/Run2016C-02Apr2020-v1/NANOAOD\"\n",
    "setd = !dasgoclient --query=\"file dataset=/JetHT/Run2016D-02Apr2020-v1/NANOAOD\"\n",
    "sete = !dasgoclient --query=\"file dataset=/JetHT/Run2016E-02Apr2020-v1/NANOAOD\"\n",
    "setf = !dasgoclient --query=\"file dataset=/JetHT/Run2016F-02Apr2020-v1/NANOAOD\"\n",
    "setg = !dasgoclient --query=\"file dataset=/JetHT/Run2016G-02Apr2020-v1/NANOAOD\"\n",
    "filesets['JetHT'] = setb + setc + setd + sete + setf + setg\n",
    "\n",
    "setb = !dasgoclient --query=\"file dataset=/SingleMuon/Run2016B-02Apr2020-v1/NANOAOD\"\n",
    "setc = !dasgoclient --query=\"file dataset=/SingleMuon/Run2016C-02Apr2020-v1/NANOAOD\"\n",
    "setd = !dasgoclient --query=\"file dataset=/SingleMuon/Run2016D-02Apr2020-v1/NANOAOD\"\n",
    "sete = !dasgoclient --query=\"file dataset=/SingleMuon/Run2016E-02Apr2020-v1/NANOAOD\"\n",
    "setf = !dasgoclient --query=\"file dataset=/SingleMuon/Run2016F-02Apr2020-v1/NANOAOD\"\n",
    "setg = !dasgoclient --query=\"file dataset=/SingleMuon/Run2016G-02Apr2020-v1/NANOAOD\"\n",
    "filesets['SingleMuon'] = setb + setc + setd + sete + setf + setg\n",
    "\n",
    "split(2016,filesets,maxfiles_per_json)"
   ]
  },
  {
   "cell_type": "code",
   "execution_count": null,
   "metadata": {},
   "outputs": [],
   "source": []
  }
 ],
 "metadata": {
  "kernelspec": {
   "display_name": "Python 3",
   "language": "python",
   "name": "python3"
  },
  "language_info": {
   "codemirror_mode": {
    "name": "ipython",
    "version": 3
   },
   "file_extension": ".py",
   "mimetype": "text/x-python",
   "name": "python",
   "nbconvert_exporter": "python",
   "pygments_lexer": "ipython3",
   "version": "3.6.5"
  }
 },
 "nbformat": 4,
 "nbformat_minor": 2
}
