{
 "cells": [
  {
   "cell_type": "code",
   "execution_count": 1,
   "metadata": {},
   "outputs": [],
   "source": [
    "# Jennet takes the datasets"
   ]
  },
  {
   "cell_type": "code",
   "execution_count": 2,
   "metadata": {},
   "outputs": [],
   "source": [
    "import os\n",
    "import json"
   ]
  },
  {
   "cell_type": "code",
   "execution_count": 3,
   "metadata": {},
   "outputs": [],
   "source": [
    "def split(year,filesets,maxfiles_per_json):\n",
    "    \n",
    "    nfiles = 0\n",
    "    names = list(filesets.keys())\n",
    "    prefix = 'root://cmsxrootd.fnal.gov/'\n",
    "    \n",
    "    for n in names:\n",
    "        filesets[n] = [prefix + f for f in filesets[n]]\n",
    "    \n",
    "        files_in_n = len(filesets[n])\n",
    "        n_jsons = int(files_in_n/maxfiles_per_json) + 1\n",
    "        \n",
    "        print(n)\n",
    "        print(nfiles+1)\n",
    "        for i in range(0,n_jsons):\n",
    "            nfiles += 1\n",
    "            subfilesets = {}\n",
    "            subfilesets[n] = filesets[n][i*maxfiles_per_json:(i+1)*maxfiles_per_json]\n",
    "\n",
    "            this_file = 'indata/'+str(year)+'_'+str(nfiles)+'.json'\n",
    "            with open(this_file, 'w') as json_file:\n",
    "                json.dump(subfilesets, json_file)\n",
    "        print(nfiles)\n",
    "    print('Created ' + str(nfiles) + ' files')"
   ]
  },
  {
   "cell_type": "code",
   "execution_count": 4,
   "metadata": {},
   "outputs": [],
   "source": [
    "maxfiles_per_json = 50"
   ]
  },
  {
   "cell_type": "code",
   "execution_count": 5,
   "metadata": {},
   "outputs": [
    {
     "name": "stdout",
     "output_type": "stream",
     "text": [
      "JetHT_2018A\n",
      "1\n",
      "4\n",
      "JetHT_2018B\n",
      "5\n",
      "6\n",
      "JetHT_2018C\n",
      "7\n",
      "8\n",
      "JetHT_2018D\n",
      "9\n",
      "13\n",
      "SingleMuon_2018A\n",
      "14\n",
      "18\n",
      "SingleMuon_2018B\n",
      "19\n",
      "21\n",
      "SingleMuon_2018C\n",
      "22\n",
      "23\n",
      "SingleMuon_2018D\n",
      "24\n",
      "29\n",
      "Created 29 files\n"
     ]
    }
   ],
   "source": [
    "# 2018 \n",
    "filesets = {}\n",
    "\n",
    "filesets['JetHT_2018A'] = !dasgoclient --query=\"file dataset=/JetHT/Run2018A-02Apr2020-v1/NANOAOD\"\n",
    "filesets['JetHT_2018B'] = !dasgoclient --query=\"file dataset=/JetHT/Run2018B-02Apr2020-v1/NANOAOD\"\n",
    "filesets['JetHT_2018C'] = !dasgoclient --query=\"file dataset=/JetHT/Run2018C-02Apr2020-v1/NANOAOD\"\n",
    "filesets['JetHT_2018D'] = !dasgoclient --query=\"file dataset=/JetHT/Run2018D-02Apr2020-v1/NANOAOD\"\n",
    "\n",
    "filesets['SingleMuon_2018A'] = !dasgoclient --query=\"file dataset=/SingleMuon/Run2018A-02Apr2020-v1/NANOAOD\"\n",
    "filesets['SingleMuon_2018B'] = !dasgoclient --query=\"file dataset=/SingleMuon/Run2018B-02Apr2020-v1/NANOAOD\"\n",
    "filesets['SingleMuon_2018C'] = !dasgoclient --query=\"file dataset=/SingleMuon/Run2018C-02Apr2020-v1/NANOAOD\"\n",
    "filesets['SingleMuon_2018D'] = !dasgoclient --query=\"file dataset=/SingleMuon/Run2018D-02Apr2020-v1/NANOAOD\"\n",
    "\n",
    "split(2018,filesets,maxfiles_per_json)"
   ]
  },
  {
   "cell_type": "code",
   "execution_count": 6,
   "metadata": {},
   "outputs": [
    {
     "name": "stdout",
     "output_type": "stream",
     "text": [
      "JetHT_2017B\n",
      "1\n",
      "2\n",
      "JetHT_2017C\n",
      "3\n",
      "5\n",
      "JetHT_2017D\n",
      "6\n",
      "6\n",
      "JetHT_2017E\n",
      "7\n",
      "8\n",
      "JetHT_2017F\n",
      "9\n",
      "11\n",
      "SingleMuon_2017B\n",
      "12\n",
      "13\n",
      "SingleMuon_2017C\n",
      "14\n",
      "16\n",
      "SingleMuon_2017D\n",
      "17\n",
      "18\n",
      "SingleMuon_2017E\n",
      "19\n",
      "21\n",
      "SingleMuon_2017F\n",
      "22\n",
      "25\n",
      "Created 25 files\n"
     ]
    }
   ],
   "source": [
    "# 2017 \n",
    "filesets = {}\n",
    "\n",
    "filesets['JetHT_2017B'] = !dasgoclient --query=\"file dataset=/JetHT/Run2017B-02Apr2020-v1/NANOAOD\"\n",
    "filesets['JetHT_2017C'] = !dasgoclient --query=\"file dataset=/JetHT/Run2017C-02Apr2020-v1/NANOAOD\"\n",
    "filesets['JetHT_2017D'] = !dasgoclient --query=\"file dataset=/JetHT/Run2017D-02Apr2020-v1/NANOAOD\"\n",
    "filesets['JetHT_2017E'] = !dasgoclient --query=\"file dataset=/JetHT/Run2017E-02Apr2020-v1/NANOAOD\"\n",
    "filesets['JetHT_2017F'] = !dasgoclient --query=\"file dataset=/JetHT/Run2017F-02Apr2020-v1/NANOAOD\"\n",
    "\n",
    "filesets['SingleMuon_2017B'] = !dasgoclient --query=\"file dataset=/SingleMuon/Run2017B-02Apr2020-v1/NANOAOD\"\n",
    "filesets['SingleMuon_2017C'] = !dasgoclient --query=\"file dataset=/SingleMuon/Run2017C-02Apr2020-v1/NANOAOD\"\n",
    "filesets['SingleMuon_2017D'] = !dasgoclient --query=\"file dataset=/SingleMuon/Run2017D-02Apr2020-v1/NANOAOD\"\n",
    "filesets['SingleMuon_2017E'] = !dasgoclient --query=\"file dataset=/SingleMuon/Run2017E-02Apr2020-v1/NANOAOD\"\n",
    "filesets['SingleMuon_2017F'] = !dasgoclient --query=\"file dataset=/SingleMuon/Run2017F-02Apr2020-v1/NANOAOD\"\n",
    "\n",
    "split(2017,filesets,maxfiles_per_json)"
   ]
  },
  {
   "cell_type": "code",
   "execution_count": 7,
   "metadata": {},
   "outputs": [
    {
     "name": "stdout",
     "output_type": "stream",
     "text": [
      "JetHT_2016B\n",
      "1\n",
      "3\n",
      "JetHT_2016C\n",
      "4\n",
      "4\n",
      "JetHT_2016D\n",
      "5\n",
      "6\n",
      "JetHT_2016E\n",
      "7\n",
      "8\n",
      "JetHT_2016F\n",
      "9\n",
      "9\n",
      "JetHT_2016G\n",
      "10\n",
      "12\n",
      "SingleMuon_2016B\n",
      "13\n",
      "14\n",
      "SingleMuon_2016C\n",
      "15\n",
      "15\n",
      "SingleMuon_2016D\n",
      "16\n",
      "17\n",
      "SingleMuon_2016E\n",
      "18\n",
      "19\n",
      "SingleMuon_2016F\n",
      "20\n",
      "21\n",
      "SingleMuon_2016G\n",
      "22\n",
      "23\n",
      "Created 23 files\n"
     ]
    }
   ],
   "source": [
    "# 2016 \n",
    "filesets = {}\n",
    "\n",
    "filesets['JetHT_2016B'] = !dasgoclient --query=\"file dataset=/JetHT/Run2016B-02Apr2020_ver2-v1/NANOAOD\"\n",
    "filesets['JetHT_2016C'] = !dasgoclient --query=\"file dataset=/JetHT/Run2016C-02Apr2020-v1/NANOAOD\"\n",
    "filesets['JetHT_2016D'] = !dasgoclient --query=\"file dataset=/JetHT/Run2016D-02Apr2020-v1/NANOAOD\"\n",
    "filesets['JetHT_2016E'] = !dasgoclient --query=\"file dataset=/JetHT/Run2016E-02Apr2020-v1/NANOAOD\"\n",
    "filesets['JetHT_2016F'] = !dasgoclient --query=\"file dataset=/JetHT/Run2016F-02Apr2020-v1/NANOAOD\"\n",
    "filesets['JetHT_2016G'] = !dasgoclient --query=\"file dataset=/JetHT/Run2016G-02Apr2020-v1/NANOAOD\"\n",
    "\n",
    "filesets['SingleMuon_2016B'] = !dasgoclient --query=\"file dataset=/SingleMuon/Run2016B-02Apr2020_ver2-v1/NANOAOD\"\n",
    "filesets['SingleMuon_2016C'] = !dasgoclient --query=\"file dataset=/SingleMuon/Run2016C-02Apr2020-v1/NANOAOD\"\n",
    "filesets['SingleMuon_2016D'] = !dasgoclient --query=\"file dataset=/SingleMuon/Run2016D-02Apr2020-v1/NANOAOD\"\n",
    "filesets['SingleMuon_2016E'] = !dasgoclient --query=\"file dataset=/SingleMuon/Run2016E-02Apr2020-v1/NANOAOD\"\n",
    "filesets['SingleMuon_2016F'] = !dasgoclient --query=\"file dataset=/SingleMuon/Run2016F-02Apr2020-v1/NANOAOD\"\n",
    "filesets['SingleMuon_2016G'] = !dasgoclient --query=\"file dataset=/SingleMuon/Run2016G-02Apr2020-v1/NANOAOD\"\n",
    "\n",
    "split(2016,filesets,maxfiles_per_json)"
   ]
  },
  {
   "cell_type": "code",
   "execution_count": null,
   "metadata": {},
   "outputs": [],
   "source": []
  }
 ],
 "metadata": {
  "kernelspec": {
   "display_name": "Python 3",
   "language": "python",
   "name": "python3"
  },
  "language_info": {
   "codemirror_mode": {
    "name": "ipython",
    "version": 3
   },
   "file_extension": ".py",
   "mimetype": "text/x-python",
   "name": "python",
   "nbconvert_exporter": "python",
   "pygments_lexer": "ipython3",
   "version": "3.6.5"
  }
 },
 "nbformat": 4,
 "nbformat_minor": 2
}
