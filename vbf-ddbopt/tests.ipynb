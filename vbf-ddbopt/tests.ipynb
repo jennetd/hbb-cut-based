{
 "cells": [
  {
   "cell_type": "code",
   "execution_count": 60,
   "metadata": {},
   "outputs": [],
   "source": [
    "# First import a bunch of useful stuff\n",
    "\n",
    "import os, subprocess\n",
    "import json\n",
    "import uproot\n",
    "import awkward1 as ak\n",
    "import numpy as np\n",
    "from coffea import processor, util, hist\n",
    "\n",
    "%matplotlib inline\n",
    "import matplotlib.pyplot as plt\n",
    "from cycler import cycler\n",
    "\n",
    "import mplhep as hep\n",
    "plt.style.use([hep.style.CMS])"
   ]
  },
  {
   "cell_type": "code",
   "execution_count": 61,
   "metadata": {},
   "outputs": [],
   "source": [
    "# This gives the integrated luminosity (the amount of data collected) for each year\n",
    "lumis = {}\n",
    "lumis['2016'] = 35.9\n",
    "lumis['2017'] = 41.5\n",
    "lumis['2018'] = 59.9"
   ]
  },
  {
   "cell_type": "code",
   "execution_count": 62,
   "metadata": {},
   "outputs": [],
   "source": [
    "# This gives the number of files of simulated date for each year\n",
    "nfiles_mc = {}\n",
    "nfiles_mc['2016'] = 113\n",
    "nfiles_mc['2017'] = 167\n",
    "nfiles_mc['2018'] = 201"
   ]
  },
  {
   "cell_type": "code",
   "execution_count": 63,
   "metadata": {},
   "outputs": [
    {
     "name": "stdout",
     "output_type": "stream",
     "text": [
      "{'QCD_HT300to500_TuneCP5_13TeV-madgraphMLM-pythia8': 322600, 'QCD_HT500to700_TuneCP5_13TeV-madgraphMLM-pythia8': 29980, 'QCD_HT700to1000_TuneCP5_13TeV-madgraphMLM-pythia8': 6334, 'QCD_HT1000to1500_TuneCP5_13TeV-madgraphMLM-pythia8': 1088, 'QCD_HT1500to2000_TuneCP5_13TeV-madgraphMLM-pythia8': 99.11, 'QCD_HT2000toInf_TuneCP5_13TeV-madgraphMLM-pythia8': 20.23, 'QCD_HT300to500_TuneCUETP8M1_13TeV-madgraphMLM-pythia8': 347700, 'QCD_HT500to700_TuneCUETP8M1_13TeV-madgraphMLM-pythia8': 32100, 'QCD_HT700to1000_TuneCUETP8M1_13TeV-madgraphMLM-pythia8': 6831, 'QCD_HT1000to1500_TuneCUETP8M1_13TeV-madgraphMLM-pythia8': 1207, 'QCD_HT1500to2000_TuneCUETP8M1_13TeV-madgraphMLM-pythia8': 119.9, 'QCD_HT2000toInf_TuneCUETP8M1_13TeV-madgraphMLM-pythia8': 25.24, 'WJetsToQQ_HT400to600_qc19_3j_13TeV-madgraphMLM-pythia8': 315.6, 'WJetsToQQ_HT600to800_qc19_3j_13TeV-madgraphMLM-pythia8': 68.57, 'WJetsToQQ_HT800toInf_qc19_3j_13TeV-madgraphMLM-pythia8': 34.9, 'ZJetsToQQ_HT400to600_qc19_4j_13TeV-madgraphMLM-pythia8': 145.4, 'ZJetsToQQ_HT600to800_qc19_4j_13TeV-madgraphMLM-pythia8': 34.0, 'ZJetsToQQ_HT800toInf_qc19_4j_13TeV-madgraphMLM-pythia8': 18.67, 'WW_13TeV-pythia8': 75.82, 'ZZ_13TeV-pythia8': 12.14, 'WZ_13TeV-pythia8': 27.6, 'TTToHadronic_13TeV-powheg-pythia8': 377.96, 'TTToSemiLeptonic_13TeV-powheg-pythia8': 365.34, 'ST_t-channel_antitop_4f_inclusiveDecays_13TeV-powheg-madspin-pythia8': 67.91, 'ST_t-channel_top_4f_inclusiveDecays_13TeV-powheg-madspin-pythia8': 113.3, 'ST_tW_antitop_5f_inclusiveDecays_13TeV-powheg-pythia8': 34.97, 'ST_tW_top_5f_inclusiveDecays_13TeV-powheg-pythia8': 34.91, 'ST_s-channel_4f_leptonicDecays_13TeV-amcatnlo-pythia8': 0, 'ST_s-channel_4f_hadronicDecays_13TeV-amcatnlo-pythia8': 0, 'ST_s-channel_4f_InclusiveDecays_13TeV-amcatnlo-pythia8': 0, 'GluGluHToBB_M125_13TeV_powheg_pythia8': 28.45024, 'GluGluHToBB_M125_13TeV_powheg_MINLO_NNLOPS_pythia8': 16.17, 'VBFHToBB_M125_13TeV_powheg_pythia8': 2.2026368, 'WminusH_HToBB_WToQQ_M125_13TeV_powheg_pythia8': 0.20926660285440005, 'WplusH_HToBB_WToQQ_M125_13TeV_powheg_pythia8': 0.32992482432000003, 'ggZH_HToBB_ZToNuNu_M125_13TeV_powheg_pythia8': 0.014365700294400001, 'ggZH_HToBB_ZToQQ_M125_13TeV_powheg_pythia8': 0.04992370974, 'ZH_HToBB_ZToQQ_M125_13TeV_powheg_pythia8': 0.35941216698150397, 'ZH_HToBB_ZToNuNu_M125_13TeV_powheg_pythia8': 0.1034868988608, 'ttHToBB_M125_13TeV-powheg-pythia8': 0.29533504}\n"
     ]
    }
   ],
   "source": [
    "# This dictionary gives the cross section (expected rate) of each simulated process\n",
    "# Number of events of process P = integrated luminosity * cross section of process P\n",
    "with open('xsec.json') as f:\n",
    "  xs = json.load(f)\n",
    "print(xs)"
   ]
  },
  {
   "cell_type": "code",
   "execution_count": 64,
   "metadata": {},
   "outputs": [
    {
     "name": "stdout",
     "output_type": "stream",
     "text": [
      "{'ZH': ['ZH_HToBB_ZToQQ_M125_13TeV_powheg_pythia8', 'ZH_HToBB_ZToNuNu_M125_13TeV_powheg_pythia8', 'ggZH_HToBB_ZToQQ_M125_13TeV_powheg_pythia8', 'ggZH_HToBB_ZToNuNu_M125_13TeV_powheg_pythia8'], 'WH': ['WminusH_HToBB_WToQQ_M125_13TeV_powheg_pythia8', 'WplusH_HToBB_WToQQ_M125_13TeV_powheg_pythia8'], 'ttH': ['ttHToBB_M125_13TeV-powheg-pythia8'], 'VBF': ['VBFHToBB_M125_13TeV_powheg_pythia8'], 'ggF': ['GluGluHToBB_M125_13TeV_powheg_MINLO_NNLOPS_pythia8'], 'QCD': ['QCD_HT500to700_TuneCP5_13TeV-madgraphMLM-pythia8', 'QCD_HT700to1000_TuneCP5_13TeV-madgraphMLM-pythia8', 'QCD_HT1000to1500_TuneCP5_13TeV-madgraphMLM-pythia8', 'QCD_HT1500to2000_TuneCP5_13TeV-madgraphMLM-pythia8', 'QCD_HT2000toInf_TuneCP5_13TeV-madgraphMLM-pythia8', 'QCD_HT500to700_TuneCUETP8M1_13TeV-madgraphMLM-pythia8', 'QCD_HT700to1000_TuneCUETP8M1_13TeV-madgraphMLM-pythia8', 'QCD_HT1000to1500_TuneCUETP8M1_13TeV-madgraphMLM-pythia8', 'QCD_HT1500to2000_TuneCUETP8M1_13TeV-madgraphMLM-pythia8', 'QCD_HT2000toInf_TuneCUETP8M1_13TeV-madgraphMLM-pythia8'], 'VV': ['WW_13TeV-pythia8', 'ZZ_13TeV-pythia8', 'WZ_13TeV-pythia8'], 'Wjets': ['WJetsToQQ_HT800toInf_qc19_3j_13TeV-madgraphMLM-pythia8', 'WJetsToQQ_HT400to600_qc19_3j_13TeV-madgraphMLM-pythia8', 'WJetsToQQ_HT600to800_qc19_3j_13TeV-madgraphMLM-pythia8'], 'Zjets': ['ZJetsToQQ_HT800toInf_qc19_4j_13TeV-madgraphMLM-pythia8', 'ZJetsToQQ_HT400to600_qc19_4j_13TeV-madgraphMLM-pythia8', 'ZJetsToQQ_HT600to800_qc19_4j_13TeV-madgraphMLM-pythia8'], 'ttbar': ['TTToHadronic_13TeV-powheg-pythia8', 'TTToSemiLeptonic_13TeV-powheg-pythia8'], 'singlet': ['ST_t-channel_top_4f_inclusiveDecays_13TeV-powheg-madspin-pythia8', 'ST_t-channel_antitop_4f_inclusiveDecays_13TeV-powheg-madspin-pythia8', 'ST_tW_antitop_5f_inclusiveDecays_13TeV-powheg-pythia8', 'ST_tW_top_5f_inclusiveDecays_13TeV-powheg-pythia8', 'ST_s-channel_4f_leptonicDecays_13TeV-amcatnlo-pythia8']}\n"
     ]
    }
   ],
   "source": [
    "# This dictionary tells us how to group the simulated samples together sensibly\n",
    "# For example, QCD is generated separately for different energies. Combine them\n",
    "with open('pmap_mc.json') as f:\n",
    "  pmap = json.load(f)\n",
    "print(pmap)"
   ]
  },
  {
   "cell_type": "code",
   "execution_count": 65,
   "metadata": {},
   "outputs": [],
   "source": [
    "# I like to run this for one year at a time\n",
    "year = '2018'\n",
    "outsum = processor.dict_accumulator()"
   ]
  },
  {
   "cell_type": "code",
   "execution_count": 66,
   "metadata": {},
   "outputs": [],
   "source": [
    "# Higgs mass window\n",
    "mbb_min = 110\n",
    "mbb_max = 138"
   ]
  },
  {
   "cell_type": "code",
   "execution_count": 67,
   "metadata": {},
   "outputs": [],
   "source": [
    "# Number-counting significance as a function of the number of signal (s) and background (b) events\n",
    "def significance(s,b):\n",
    "    if b==0:\n",
    "        return 0\n",
    "    z_squared = 2.0*(s+b)*np.log(1.0+1.0*s/b) - 2.0*s\n",
    "    return np.sqrt(z_squared)"
   ]
  },
  {
   "cell_type": "code",
   "execution_count": 68,
   "metadata": {},
   "outputs": [],
   "source": [
    "# Plotting function where processes are overlaid in a variable name\n",
    "def plot_overlay(x,name):\n",
    "    x.label = 'Events'\n",
    "    axes = hist.plotgrid(x, overlay='process', line_opts={}, order=['QCD','Zjets','Wjets','ttbar','singlet','VV','ggF','VBF','WH','ZH','ttH'])\n",
    "    #axes[0, 0].set_prop_cycle(cycler(color=colors.values()))\n",
    "    axes[0, 0].set_yscale('log')\n",
    "    axes[0, 0].set_ylim(.001, 100000)\n",
    "    plt.legend(bbox_to_anchor=(1.05, 1), loc='upper left')\n",
    "    \n",
    "    png_name = year+'/plot-all/'+name+'.png'\n",
    "    plt.savefig(png_name,bbox_inches='tight')\n",
    "    pdf_name = year+'/plot-all/'+name+'.pdf'\n",
    "    plt.savefig(pdf_name,bbox_inches='tight')"
   ]
  },
  {
   "cell_type": "code",
   "execution_count": 69,
   "metadata": {},
   "outputs": [],
   "source": [
    "# Plotting function where processes are stacked in a variable name\n",
    "def plot_stack(x,name):\n",
    "    x.label = 'Events'\n",
    "    axes = hist.plot1d(x, overlay='process', fill_opts={'edgecolor': (0,0,0,1)}, stack=True, order=['ttH','ZH','WH','VBF','ggF','VV','ttbar','singlet','Wjets','Zjets','QCD'])\n",
    "    #axes.set_prop_cycle(cycler(color=colors.values()))\n",
    "    axes.set_yscale('log')\n",
    "    axes.set_ylim(.001, 100000)\n",
    "    plt.legend(bbox_to_anchor=(1.05, 1), loc='upper left')\n",
    "    \n",
    "    png_name = year+'/plot-all/'+name+'_stack.png'\n",
    "    plt.savefig(png_name,bbox_inches='tight')\n",
    "    pdf_name = year+'/plot-all/'+name+'_stack.pdf'\n",
    "    plt.savefig(pdf_name,bbox_inches='tight')"
   ]
  },
  {
   "cell_type": "code",
   "execution_count": 70,
   "metadata": {},
   "outputs": [
    {
     "name": "stdout",
     "output_type": "stream",
     "text": [
      "1\n",
      "2\n",
      "3\n",
      "4\n",
      "5\n",
      "6\n",
      "7\n",
      "8\n",
      "9\n",
      "10\n",
      "11\n",
      "12\n",
      "13\n",
      "14\n",
      "15\n",
      "16\n",
      "17\n",
      "18\n",
      "19\n",
      "20\n",
      "21\n",
      "22\n",
      "23\n",
      "24\n",
      "25\n",
      "26\n",
      "27\n",
      "28\n",
      "29\n",
      "30\n",
      "31\n",
      "32\n",
      "33\n",
      "34\n",
      "35\n",
      "36\n",
      "37\n",
      "38\n",
      "File condor/outfiles/2018_38.coffea is missing\n",
      "39\n",
      "File condor/outfiles/2018_39.coffea is missing\n",
      "40\n",
      "File condor/outfiles/2018_40.coffea is missing\n",
      "41\n",
      "42\n",
      "43\n",
      "44\n",
      "File condor/outfiles/2018_44.coffea is missing\n",
      "45\n",
      "File condor/outfiles/2018_45.coffea is missing\n",
      "46\n",
      "47\n",
      "48\n",
      "49\n",
      "50\n",
      "51\n",
      "52\n",
      "53\n",
      "54\n",
      "55\n",
      "56\n",
      "57\n",
      "58\n",
      "59\n",
      "60\n",
      "61\n",
      "62\n",
      "63\n",
      "64\n",
      "65\n",
      "66\n",
      "67\n",
      "68\n",
      "69\n",
      "70\n",
      "71\n",
      "72\n",
      "73\n",
      "74\n",
      "75\n",
      "76\n",
      "77\n",
      "File condor/outfiles/2018_77.coffea is missing\n",
      "78\n",
      "79\n",
      "80\n",
      "81\n",
      "82\n",
      "83\n",
      "84\n",
      "85\n",
      "86\n",
      "87\n",
      "88\n",
      "89\n",
      "90\n",
      "91\n",
      "92\n",
      "93\n",
      "94\n",
      "95\n",
      "96\n",
      "97\n",
      "98\n",
      "99\n",
      "100\n",
      "101\n",
      "102\n",
      "103\n",
      "104\n",
      "105\n",
      "106\n",
      "107\n",
      "108\n",
      "109\n",
      "110\n",
      "111\n",
      "112\n",
      "113\n",
      "114\n",
      "115\n",
      "116\n",
      "117\n",
      "118\n",
      "119\n",
      "120\n",
      "121\n",
      "122\n",
      "File condor/outfiles/2018_122.coffea is missing\n",
      "123\n",
      "File condor/outfiles/2018_123.coffea is missing\n",
      "124\n",
      "File condor/outfiles/2018_124.coffea is missing\n",
      "125\n",
      "File condor/outfiles/2018_125.coffea is missing\n",
      "126\n",
      "File condor/outfiles/2018_126.coffea is missing\n",
      "127\n",
      "File condor/outfiles/2018_127.coffea is missing\n",
      "128\n",
      "File condor/outfiles/2018_128.coffea is missing\n",
      "129\n",
      "File condor/outfiles/2018_129.coffea is missing\n",
      "130\n",
      "File condor/outfiles/2018_130.coffea is missing\n",
      "131\n",
      "132\n",
      "133\n",
      "134\n",
      "135\n",
      "136\n",
      "137\n",
      "138\n",
      "139\n",
      "140\n",
      "141\n",
      "142\n",
      "143\n",
      "144\n",
      "145\n",
      "File condor/outfiles/2018_145.coffea is missing\n",
      "146\n",
      "File condor/outfiles/2018_146.coffea is missing\n",
      "147\n",
      "148\n",
      "File condor/outfiles/2018_148.coffea is missing\n",
      "149\n",
      "File condor/outfiles/2018_149.coffea is missing\n",
      "150\n",
      "File condor/outfiles/2018_150.coffea is missing\n",
      "151\n",
      "File condor/outfiles/2018_151.coffea is missing\n",
      "152\n",
      "File condor/outfiles/2018_152.coffea is missing\n",
      "153\n",
      "154\n",
      "155\n",
      "156\n",
      "157\n",
      "158\n",
      "159\n",
      "160\n",
      "161\n",
      "162\n",
      "163\n",
      "164\n",
      "165\n",
      "166\n",
      "167\n",
      "168\n",
      "169\n",
      "170\n",
      "171\n",
      "172\n",
      "173\n",
      "174\n",
      "175\n",
      "176\n",
      "177\n",
      "File condor/outfiles/2018_177.coffea is missing\n",
      "178\n",
      "File condor/outfiles/2018_178.coffea is missing\n",
      "179\n",
      "File condor/outfiles/2018_179.coffea is missing\n",
      "180\n",
      "File condor/outfiles/2018_180.coffea is missing\n",
      "181\n",
      "File condor/outfiles/2018_181.coffea is missing\n",
      "182\n",
      "File condor/outfiles/2018_182.coffea is missing\n",
      "183\n",
      "File condor/outfiles/2018_183.coffea is missing\n",
      "184\n",
      "File condor/outfiles/2018_184.coffea is missing\n",
      "185\n",
      "File condor/outfiles/2018_185.coffea is missing\n",
      "186\n",
      "File condor/outfiles/2018_186.coffea is missing\n",
      "187\n",
      "File condor/outfiles/2018_187.coffea is missing\n",
      "188\n",
      "File condor/outfiles/2018_188.coffea is missing\n",
      "189\n",
      "File condor/outfiles/2018_189.coffea is missing\n",
      "190\n",
      "File condor/outfiles/2018_190.coffea is missing\n",
      "191\n",
      "File condor/outfiles/2018_191.coffea is missing\n",
      "192\n",
      "File condor/outfiles/2018_192.coffea is missing\n",
      "193\n",
      "194\n",
      "File condor/outfiles/2018_194.coffea is missing\n",
      "195\n",
      "196\n",
      "File condor/outfiles/2018_196.coffea is missing\n",
      "197\n",
      "File condor/outfiles/2018_197.coffea is missing\n",
      "198\n",
      "File condor/outfiles/2018_198.coffea is missing\n",
      "199\n",
      "File condor/outfiles/2018_199.coffea is missing\n",
      "200\n",
      "File condor/outfiles/2018_200.coffea is missing\n",
      "201\n",
      "File condor/outfiles/2018_201.coffea is missing\n"
     ]
    }
   ],
   "source": [
    "# Load all simulated data files\n",
    "for n in range(1,nfiles_mc[year]+1):\n",
    "    print(n)\n",
    "    filename = 'condor/outfiles/'+year+'_'+str(n)+'.coffea'\n",
    "    if os.path.isfile(filename):\n",
    "        out = util.load(filename)\n",
    "        outsum.add(out)\n",
    "    else:\n",
    "        print(\"File \" + filename + \" is missing\")\n",
    "        \n",
    "# Scale factor accounts for luminosity and cross section\n",
    "scale_lumi = {k: xs[k] * 1000 *lumis[year] / w for k, w in outsum['sumw'].items()}\n",
    "outsum['templates1'].scale(scale_lumi, 'dataset')\n",
    "\n",
    "# Any missing files will be listed here. Let me know so I can find/fix them"
   ]
  },
  {
   "cell_type": "code",
   "execution_count": 71,
   "metadata": {},
   "outputs": [
    {
     "name": "stderr",
     "output_type": "stream",
     "text": [
      "/uscms_data/d3/jennetd/hbb-prod-modes/february-2021/vbf-ddbopt/coffeaenv/lib/python3.7/site-packages/coffea/hist/hist_tools.py:347: RuntimeWarning: Not all requested indices present in <Cat (name=dataset) instance at 0x7fc3b46cc7d0>\n",
      "  warnings.warn(\"Not all requested indices present in %r\" % self, RuntimeWarning)\n"
     ]
    }
   ],
   "source": [
    "# Use pmap to group the datasets together\n",
    "templates = outsum['templates1'].group('dataset', hist.Cat('process', 'Process'), pmap)\n",
    "\n",
    "# Select out the signal region\n",
    "templates = templates.integrate('region', 'signal')"
   ]
  },
  {
   "cell_type": "code",
   "execution_count": 72,
   "metadata": {},
   "outputs": [
    {
     "data": {
      "text/plain": [
       "{('ZH',): 0.11893238949572832,\n",
       " ('WH',): 0.13967039140380816,\n",
       " ('ttH',): 0.14866136196028773,\n",
       " ('VBF',): 3.607413987379867,\n",
       " ('ggF',): 2.057553338442441,\n",
       " ('QCD',): 58761.57114496573,\n",
       " ('VV',): 12.611630008419809,\n",
       " ('Wjets',): 1044.2332085151124,\n",
       " ('Zjets',): 473.3629965676637,\n",
       " ('ttbar',): 219.50537205035658,\n",
       " ('singlet',): 20.082130344121985}"
      ]
     },
     "execution_count": 72,
     "metadata": {},
     "output_type": "execute_result"
    }
   ],
   "source": [
    "# Print the total number of events per process\n",
    "templates.sum('msd1','pt1','deta','mjj','ddb1').values()"
   ]
  },
  {
   "cell_type": "code",
   "execution_count": 73,
   "metadata": {},
   "outputs": [],
   "source": [
    "# Sum the histogram over all but one variable\n",
    "x = templates.sum('pt1','deta','mjj','ddb1')"
   ]
  },
  {
   "cell_type": "code",
   "execution_count": 74,
   "metadata": {},
   "outputs": [
    {
     "name": "stderr",
     "output_type": "stream",
     "text": [
      "'texgyreheros-regular.otf' can not be subsetted into a Type 3 font. The entire font will be embedded in the output.\n",
      "'texgyreheros-regular.otf' can not be subsetted into a Type 3 font. The entire font will be embedded in the output.\n"
     ]
    },
    {
     "data": {
      "image/png": "[encoded data removed]",
      "text/plain": [
       "<Figure size 720x720 with 1 Axes>"
      ]
     },
     "metadata": {
      "needs_background": "light"
     },
     "output_type": "display_data"
    }
   ],
   "source": [
    "# draw the overlay plot\n",
    "plot_overlay(x,'msd1')"
   ]
  },
  {
   "cell_type": "code",
   "execution_count": 75,
   "metadata": {},
   "outputs": [
    {
     "name": "stderr",
     "output_type": "stream",
     "text": [
      "'texgyreheros-regular.otf' can not be subsetted into a Type 3 font. The entire font will be embedded in the output.\n",
      "'texgyreheros-regular.otf' can not be subsetted into a Type 3 font. The entire font will be embedded in the output.\n"
     ]
    },
    {
     "data": {
      "image/png": "[encoded data removed]",
      "text/plain": [
       "<Figure size 720x720 with 1 Axes>"
      ]
     },
     "metadata": {
      "needs_background": "light"
     },
     "output_type": "display_data"
    }
   ],
   "source": [
    "# draw the stacked plot\n",
    "plot_stack(x,'msd1')"
   ]
  },
  {
   "cell_type": "code",
   "execution_count": 76,
   "metadata": {},
   "outputs": [],
   "source": [
    "# Select out events in the Higgs mass window\n",
    "templates_window=templates.integrate('msd1',int_range=slice(mbb_min,mbb_max))"
   ]
  },
  {
   "cell_type": "code",
   "execution_count": 77,
   "metadata": {},
   "outputs": [
    {
     "name": "stdout",
     "output_type": "stream",
     "text": [
      "{('ZH',): 0.01750855529900326, ('WH',): 0.06662457271543915, ('ttH',): 0.07342191298702014, ('VBF',): 2.741389560996794, ('ggF',): 1.3462593532586846, ('QCD',): 10710.921916012472, ('VV',): 0.0, ('Wjets',): 117.12718963191288, ('Zjets',): 53.161459738088226, ('ttbar',): 51.90033880241352, ('singlet',): 1.9132558450380843}\n"
     ]
    }
   ],
   "source": [
    "# Apply a cut\n",
    "templates_cut = templates_window.integrate('deta',int_range=slice(3.5,7)).integrate('mjj',int_range=slice(1000,4000))\n",
    "\n",
    "# Print the number of events passing the cut per process\n",
    "sr = templates_cut.sum('pt1','ddb1').values()\n",
    "print(sr)"
   ]
  },
  {
   "cell_type": "code",
   "execution_count": 78,
   "metadata": {},
   "outputs": [
    {
     "name": "stdout",
     "output_type": "stream",
     "text": [
      "0.026212767659270608\n"
     ]
    }
   ],
   "source": [
    "# Get the number of signal and background events\n",
    "s = sr[('VBF',)] \n",
    "b = sr[('QCD',)] + sr[('Zjets',)] + sr[('Wjets',)] + sr[('VV',)] + sr[('ttbar',)] +sr[('singlet',)] + sr[('ggF',)] + sr[('WH',)] + sr[('ZH',)] + sr[('ttH',)]\n",
    "\n",
    "# Print the significance\n",
    "print(significance(s,b))\n",
    "# Note: this only makes sense in the mass window of Higgs"
   ]
  },
  {
   "cell_type": "code",
   "execution_count": null,
   "metadata": {},
   "outputs": [],
   "source": []
  }
 ],
 "metadata": {
  "kernelspec": {
   "display_name": "Python 3",
   "language": "python",
   "name": "python3"
  },
  "language_info": {
   "codemirror_mode": {
    "name": "ipython",
    "version": 3
   },
   "file_extension": ".py",
   "mimetype": "text/x-python",
   "name": "python",
   "nbconvert_exporter": "python",
   "pygments_lexer": "ipython3",
   "version": "3.7.6"
  }
 },
 "nbformat": 4,
 "nbformat_minor": 2
}
