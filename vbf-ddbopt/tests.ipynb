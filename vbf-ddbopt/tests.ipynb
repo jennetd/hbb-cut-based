{
 "cells": [
  {
   "cell_type": "code",
   "execution_count": 14,
   "metadata": {},
   "outputs": [],
   "source": [
    "# First import a bunch of useful stuff\n",
    "\n",
    "import os, subprocess\n",
    "import json\n",
    "import uproot3\n",
    "import awkward as ak\n",
    "import numpy as np\n",
    "from coffea import processor, util, hist\n",
    "import pickle\n",
    "\n",
    "from plotter import *"
   ]
  },
  {
   "cell_type": "code",
   "execution_count": 15,
   "metadata": {},
   "outputs": [],
   "source": [
    "# This gives the integrated luminosity (the amount of data collected) for each year\n",
    "lumis = {}\n",
    "lumis['2016'] = 35.9\n",
    "lumis['2017'] = 41.5\n",
    "lumis['2018'] = 59.9"
   ]
  },
  {
   "cell_type": "code",
   "execution_count": 16,
   "metadata": {},
   "outputs": [
    {
     "name": "stdout",
     "output_type": "stream",
     "text": [
      "{'QCD_HT500to700_TuneCUETP8M1_13TeV-madgraphMLM-pythia8': 32200, 'QCD_HT700to1000_TuneCUETP8M1_13TeV-madgraphMLM-pythia8': 6839, 'QCD_HT1000to1500_TuneCUETP8M1_13TeV-madgraphMLM-pythia8': 1207, 'QCD_HT1500to2000_TuneCUETP8M1_13TeV-madgraphMLM-pythia8': 120.1, 'QCD_HT2000toInf_TuneCUETP8M1_13TeV-madgraphMLM-pythia8': 25.24, 'QCD_HT300to500_TuneCP5_13TeV-madgraph-pythia8': 322600, 'QCD_HT500to700_TuneCP5_13TeV-madgraph-pythia8': 29980, 'QCD_HT700to1000_TuneCP5_13TeV-madgraph-pythia8': 6334, 'QCD_HT1000to1500_TuneCP5_13TeV-madgraph-pythia8': 1088, 'QCD_HT1500to2000_TuneCP5_13TeV-madgraph-pythia8': 99.11, 'QCD_HT2000toInf_TuneCP5_13TeV-madgraph-pythia8': 20.23, 'QCD_HT300to500_TuneCP5_13TeV-madgraphMLM-pythia8': 322600, 'QCD_HT500to700_TuneCP5_13TeV-madgraphMLM-pythia8': 29980, 'QCD_HT700to1000_TuneCP5_13TeV-madgraphMLM-pythia8': 6334, 'QCD_HT1000to1500_TuneCP5_13TeV-madgraphMLM-pythia8': 1088, 'QCD_HT1500to2000_TuneCP5_13TeV-madgraphMLM-pythia8': 99.11, 'QCD_HT2000toInf_TuneCP5_13TeV-madgraphMLM-pythia8': 20.23, 'WJetsToQQ_HT400to600_qc19_3j_TuneCUETP8M1_13TeV-madgraphMLM-pythia8': 269.9, 'WJetsToQQ_HT600to800_qc19_3j_TuneCUETP8M1_13TeV-madgraphMLM-pythia8': 59.52, 'WJetsToQQ_HT-800toInf_qc19_3j_TuneCUETP8M1_13TeV-madgraphMLM-pythia8': 30.17, 'WJetsToQQ_HT400to600_qc19_3j_TuneCP5_13TeV-madgraphMLM-pythia8': 314.9, 'WJetsToQQ_HT600to800_qc19_3j_TuneCP5_13TeV-madgraphMLM-pythia8': 68.64, 'WJetsToQQ_HT-800toInf_qc19_3j_TuneCP5_13TeV-madgraphMLM-pythia8': 34.7, 'ZJetsToQQ_HT400to600_qc19_4j_TuneCUETP8M1_13TeV-madgraphMLM-pythia8': 116.7, 'ZJetsToQQ_HT600to800_qc19_4j_TuneCUETP8M1_13TeV-madgraphMLM-pythia8': 27.37, 'ZJetsToQQ_HT-800toInf_qc19_4j_TuneCUETP8M1_13TeV-madgraphMLM-pythia8': 15.01, 'ZJetsToQQ_HT400to600_qc19_4j_TuneCP5_13TeV-madgraphMLM-pythia8': 144.7, 'ZJetsToQQ_HT600to800_qc19_4j_TuneCP5_13TeV-madgraphMLM-pythia8': 34.06, 'ZJetsToQQ_HT-800toInf_qc19_4j_TuneCP5_13TeV-madgraphMLM-pythia8': 18.57, 'WJetsToLNu_HT-200To400_TuneCUETP8M1_13TeV-madgraphMLM-pythia8': 515.8098, 'WJetsToLNu_HT-400To600_TuneCUETP8M1_13TeV-madgraphMLM-pythia8': 74.93012, 'WJetsToLNu_HT-600To800_TuneCUETP8M1_13TeV-madgraphMLM-pythia8': 12.0982, 'WJetsToLNu_HT-800To1200_TuneCUETP8M1_13TeV-madgraphMLM-pythia8': 5.523004, 'WJetsToLNu_HT-1200To2500_TuneCUETP8M1_13TeV-madgraphMLM-pythia8': 1.334316, 'WJetsToLNu_HT-2500ToInf_TuneCUETP8M1_13TeV-madgraphMLM-pythia8': 0.03228864, 'WJetsToLNu_HT-200To400_TuneCP5_13TeV-madgraphMLM-pythia8': 476.0193, 'WJetsToLNu_HT-400To600_TuneCP5_13TeV-madgraphMLM-pythia8': 67.07916, 'WJetsToLNu_HT-600To800_TuneCP5_13TeV-madgraphMLM-pythia8': 15.01929, 'WJetsToLNu_HT-800To1200_TuneCP5_13TeV-madgraphMLM-pythia8': 6.262122, 'WJetsToLNu_HT-1200To2500_TuneCP5_13TeV-madgraphMLM-pythia8': 1.2533580000000002, 'WJetsToLNu_HT-2500ToInf_TuneCP5_13TeV-madgraphMLM-pythia8': 0.009337167, 'DYJetsToLL_M-50_HT-400to600_TuneCUETP8M1_13TeV-madgraphMLM-pythia8': 8.482932, 'DYJetsToLL_M-50_HT-600to800_TuneCUETP8M1_13TeV-madgraphMLM-pythia8': 1.557013, 'DYJetsToLL_M-50_HT-800to1200_TuneCUETP8M1_13TeV-madgraphMLM-pythia8': 0.7180255999999999, 'DYJetsToLL_M-50_HT-1200to2500_TuneCUETP8M1_13TeV-madgraphMLM-pythia8': 0.1724446, 'DYJetsToLL_M-50_HT-2500toInf_TuneCUETP8M1_13TeV-madgraphMLM-pythia8': 0.004060535, 'DYJetsToLL_M-50_HT-400to600_TuneCP5_13TeV-madgraphMLM-pythia8': 7.922616, 'DYJetsToLL_M-50_HT-600to800_TuneCP5_13TeV-madgraphMLM-pythia8': 1.981791, 'DYJetsToLL_M-50_HT-800to1200_TuneCP5_13TeV-madgraphMLM-pythia8': 0.9155124, 'DYJetsToLL_M-50_HT-1200to2500_TuneCP5_13TeV-madgraphMLM-pythia8': 0.2197821, 'DYJetsToLL_M-50_HT-2500toInf_TuneCP5_13TeV-madgraphMLM-pythia8': 0.003943116, 'DYJetsToLL_M-50_HT-400to600_TuneCP5_PSweights_13TeV-madgraphMLM-pythia8': 7.922616, 'DYJetsToLL_M-50_HT-600to800_TuneCP5_PSweights_13TeV-madgraphMLM-pythia8': 1.981791, 'DYJetsToLL_M-50_HT-800to1200_TuneCP5_PSweights_13TeV-madgraphMLM-pythia8': 0.9155124, 'DYJetsToLL_M-50_HT-1200to2500_TuneCP5_PSweights_13TeV-madgraphMLM-pythia8': 0.2197821, 'DYJetsToLL_M-50_HT-2500toInf_TuneCP5_PSweights_13TeV-madgraphMLM-pythia8': 0.003943116, 'TTToHadronic_TuneCP5_13TeV-powheg-pythia8': 377.96, 'TTToSemiLeptonic_TuneCP5_13TeV-powheg-pythia8': 365.34, 'TTTo2L2Nu_TuneCP5_13TeV-powheg-pythia8': 88.29, 'TTToHadronic_TuneCP5_PSweights_13TeV-powheg-pythia8': 377.96, 'TTToSemiLeptonic_TuneCP5_PSweights_13TeV-powheg-pythia8': 365.34, 'TTTo2L2Nu_TuneCP5_PSweights_13TeV-powheg-pythia8': 88.29, 'ST_s-channel_4f_hadronicDecays_TuneCP5_13TeV-amcatnlo-pythia8': 11.24, 'ST_s-channel_4f_leptonDecays_TuneCP5_13TeV-amcatnlo-pythia8': 3.36, 'ST_s-channel_4f_hadronicDecays_TuneCP5_PSweights_13TeV-amcatnlo-pythia8': 11.24, 'ST_s-channel_4f_leptonDecays_TuneCP5_PSweights_13TeV-amcatnlo-pythia8': 3.36, 'ST_s-channel_antitop_leptonDecays_13TeV-PSweights_powheg-pythia': 1.2934, 'ST_s-channel_top_leptonDecays_13TeV-PSweights_powheg-pythia': 2.0688, 'ST_t-channel_antitop_4f_inclusiveDecays_TuneCP5_13TeV-powhegV2-madspin-pythia8': 80.95, 'ST_t-channel_top_4f_inclusiveDecays_TuneCP5_13TeV-powhegV2-madspin-pythia8': 136.02, 'ST_t-channel_antitop_4f_InclusiveDecays_TuneCP5_PSweights_13TeV-powheg-pythia8': 80.95, 'ST_t-channel_top_4f_InclusiveDecays_TuneCP5_PSweights_13TeV-powheg-pythia8': 136.02, 'ST_t-channel_antitop_4f_InclusiveDecays_TuneCP5_13TeV-powheg-madspin-pythia8': 80.95, 'ST_t-channel_top_4f_InclusiveDecays_TuneCP5_13TeV-powheg-madspin-pythia8': 136.02, 'ST_tW_antitop_5f_inclusiveDecays_TuneCP5_13TeV-powheg-pythia8': 35.85, 'ST_tW_top_5f_inclusiveDecays_TuneCP5_13TeV-powheg-pythia8': 35.85, 'ST_tW_antitop_5f_inclusiveDecays_TuneCP5_PSweights_13TeV-powheg-pythia8': 35.85, 'ST_tW_top_5f_inclusiveDecays_TuneCP5_PSweights_13TeV-powheg-pythia8': 35.85, 'WW_TuneCUETP8M1_13TeV-pythia8': 64.3, 'WZ_TuneCUETP8M1_13TeV-pythia8': 23.43, 'ZZ_TuneCUETP8M1_13TeV-pythia8': 10.16, 'WW_TuneCP5_13TeV-pythia8': 75.9, 'WZ_TuneCP5_13TeV-pythia8': 27.57, 'ZZ_TuneCP5_13TeV-pythia8': 12.14, 'WW_TuneCP5_PSweights_13TeV-pythia8': 75.9, 'WZ_TuneCP5_PSweights_13TeV-pythia8': 27.57, 'ZZ_TuneCP5_PSweights_13TeV-pythia8': 12.14, 'ZH_HToBB_ZToQQ_M125_13TeV_powheg_pythia8': 0.35941216698150397, 'ZH_HToBB_ZToLL_M125_13TeV_powheg_pythia8': 0.051884294157696, 'ZH_HToBB_ZToNuNu_M125_13TeV_powheg_pythia8': 0.1034868988608, 'GluGluHToBB_M-125_13TeV_powheg_MINLO_NNLOPS_pythia8': 16.190720000000002, 'GluGluHToBB_M125_TuneCP5_13TeV-powheg-pythia8': 28.45024, 'GluGluHToBB_M125_13TeV_powheg_pythia8': 28.45024, 'VBFHToBB_M-125_13TeV_powheg_pythia8_weightfix': 2.2026368, 'WminusH_HToBB_WToQQ_M125_13TeV_powheg_pythia8': 0.20926660285440005, 'WplusH_HToBB_WToQQ_M125_13TeV_powheg_pythia8': 0.32992482432000003, 'WminusH_HToBB_WToLNu_M125_13TeV_powheg_pythia8': 0.10103611714560003, 'WplusH_HToBB_WToLNu_M125_13TeV_powheg_pythia8': 0.15929117568000004, 'ttHTobb_M125_TuneCP5_13TeV-powheg-pythia8': 0.29533504, 'ggZH_HToBB_ZToNuNu_M125_13TeV_powheg_pythia8': 0.014365700294400001, 'ggZH_HToBB_ZToQQ_M125_13TeV_powheg_pythia8': 0.049858111227959995, 'ggZH_HToBB_ZToLL_M125_13TeV_powheg_pythia8': 0.0072024017345280016}\n"
     ]
    }
   ],
   "source": [
    "# This dictionary gives the cross section (expected rate) of each simulated process\n",
    "# Number of events of process P = integrated luminosity * cross section of process P\n",
    "with open('xsec.json') as f:\n",
    "  xs = json.load(f)\n",
    "print(xs)"
   ]
  },
  {
   "cell_type": "code",
   "execution_count": 17,
   "metadata": {},
   "outputs": [
    {
     "name": "stdout",
     "output_type": "stream",
     "text": [
      "{'ZH': ['ZH_HToBB_ZToQQ_M125_13TeV_powheg_pythia8', 'ZH_HToBB_ZToNuNu_M125_13TeV_powheg_pythia8', 'ZH_HToBB_ZToLL_M125_13TeV_powheg_pythia8', 'ggZH_HToBB_ZToQQ_M125_13TeV_powheg_pythia8', 'ggZH_HToBB_ZToNuNu_M125_13TeV_powheg_pythia8', 'ggZH_HToBB_ZToLL_M125_13TeV_powheg_pythia8,'], 'WH': ['WminusH_HToBB_WToLNu_M125_13TeV_powheg_pythia8', 'WminusH_HToBB_WToQQ_M125_13TeV_powheg_pythia8', 'WplusH_HToBB_WToLNu_M125_13TeV_powheg_pythia8', 'WplusH_HToBB_WToQQ_M125_13TeV_powheg_pythia8'], 'ttH': ['ttHTobb_M125_TuneCP5_13TeV-powheg-pythia8'], 'VBF': ['VBFHToBB_M-125_13TeV_powheg_pythia8_weightfix'], 'ggF': ['GluGluHToBB_M-125_13TeV_powheg_MINLO_NNLOPS_pythia8'], 'ggF-powheg': ['GluGluHToBB_M125_TuneCP5_13TeV-powheg-pythia8', 'GluGluHToBB_M125_13TeV_powheg_pythia8'], 'QCD': ['QCD_HT300to500_TuneCP5_13TeV-madgraph-pythia8', 'QCD_HT500to700_TuneCP5_13TeV-madgraph-pythia8', 'QCD_HT700to1000_TuneCP5_13TeV-madgraph-pythia8', 'QCD_HT1000to1500_TuneCP5_13TeV-madgraph-pythia8', 'QCD_HT1500to2000_TuneCP5_13TeV-madgraph-pythia8', 'QCD_HT2000toInf_TuneCP5_13TeV-madgraph-pythia8', 'QCD_HT300to500_TuneCP5_13TeV-madgraphMLM-pythia8', 'QCD_HT500to700_TuneCP5_13TeV-madgraphMLM-pythia8', 'QCD_HT700to1000_TuneCP5_13TeV-madgraphMLM-pythia8', 'QCD_HT1000to1500_TuneCP5_13TeV-madgraphMLM-pythia8', 'QCD_HT1500to2000_TuneCP5_13TeV-madgraphMLM-pythia8', 'QCD_HT2000toInf_TuneCP5_13TeV-madgraphMLM-pythia8', 'QCD_HT500to700_TuneCUETP8M1_13TeV-madgraphMLM-pythia8', 'QCD_HT700to1000_TuneCUETP8M1_13TeV-madgraphMLM-pythia8', 'QCD_HT1000to1500_TuneCUETP8M1_13TeV-madgraphMLM-pythia8', 'QCD_HT1500to2000_TuneCUETP8M1_13TeV-madgraphMLM-pythia8', 'QCD_HT2000toInf_TuneCUETP8M1_13TeV-madgraphMLM-pythia8'], 'VV': ['WW_TuneCP5_13TeV-pythia8', 'ZZ_TuneCP5_13TeV-pythia8', 'WZ_TuneCP5_13TeV-pythia8', 'WW_TuneCP5_PSweights_13TeV-pythia8', 'ZZ_TuneCP5_PSweights_13TeV-pythia8', 'WZ_TuneCP5_PSweights_13TeV-pythia8', 'WW_TuneCUETP8M1_13TeV-pythia8', 'WZ_TuneCUETP8M1_13TeV-pythia8', 'ZZ_TuneCUETP8M1_13TeV-pythia8'], 'Wjets': ['WJetsToQQ_HT-800toInf_qc19_3j_TuneCP5_13TeV-madgraphMLM-pythia8', 'WJetsToQQ_HT400to600_qc19_3j_TuneCP5_13TeV-madgraphMLM-pythia8', 'WJetsToQQ_HT600to800_qc19_3j_TuneCP5_13TeV-madgraphMLM-pythia8', 'WJetsToLNu_HT-1200To2500_TuneCP5_13TeV-madgraphMLM-pythia8', 'WJetsToLNu_HT-200To400_TuneCP5_13TeV-madgraphMLM-pythia8', 'WJetsToLNu_HT-2500ToInf_TuneCP5_13TeV-madgraphMLM-pythia8', 'WJetsToLNu_HT-400To600_TuneCP5_13TeV-madgraphMLM-pythia8', 'WJetsToLNu_HT-600To800_TuneCP5_13TeV-madgraphMLM-pythia8', 'WJetsToLNu_HT-800To1200_TuneCP5_13TeV-madgraphMLM-pythia8', 'WJetsToQQ_HT-800toInf_qc19_3j_TuneCUETP8M1_13TeV-madgraphMLM-pythia8', 'WJetsToQQ_HT400to600_qc19_3j_TuneCUETP8M1_13TeV-madgraphMLM-pythia8', 'WJetsToQQ_HT600to800_qc19_3j_TuneCUETP8M1_13TeV-madgraphMLM-pythia8', 'WJetsToLNu_HT-1200To2500_TuneCUETP8M1_13TeV-madgraphMLM-pythia8', 'WJetsToLNu_HT-200To400_TuneCUETP8M1_13TeV-madgraphMLM-pythia8', 'WJetsToLNu_HT-2500ToInf_TuneCUETP8M1_13TeV-madgraphMLM-pythia8', 'WJetsToLNu_HT-400To600_TuneCUETP8M1_13TeV-madgraphMLM-pythia8', 'WJetsToLNu_HT-600To800_TuneCUETP8M1_13TeV-madgraphMLM-pythia8', 'WJetsToLNu_HT-800To1200_TuneCUETP8M1_13TeV-madgraphMLM-pythia8'], 'Zjets': ['ZJetsToQQ_HT-800toInf_qc19_4j_TuneCP5_13TeV-madgraphMLM-pythia8', 'ZJetsToQQ_HT400to600_qc19_4j_TuneCP5_13TeV-madgraphMLM-pythia8', 'ZJetsToQQ_HT600to800_qc19_4j_TuneCP5_13TeV-madgraphMLM-pythia8', 'DYJetsToLL_M-50_HT-1200to2500_TuneCP5_PSweights_13TeV-madgraphMLM-pythia8', 'DYJetsToLL_M-50_HT-2500toInf_TuneCP5_PSweights_13TeV-madgraphMLM-pythia8', 'DYJetsToLL_M-50_HT-400to600_TuneCP5_PSweights_13TeV-madgraphMLM-pythia8', 'DYJetsToLL_M-50_HT-600to800_TuneCP5_PSweights_13TeV-madgraphMLM-pythia8', 'DYJetsToLL_M-50_HT-800to1200_TuneCP5_PSweights_13TeV-madgraphMLM-pythia8', 'DYJetsToLL_M-50_HT-1200to2500_TuneCP5_13TeV-madgraphMLM-pythia8', 'DYJetsToLL_M-50_HT-2500toInf_TuneCP5_13TeV-madgraphMLM-pythia8', 'DYJetsToLL_M-50_HT-400to600_TuneCP5_13TeV-madgraphMLM-pythia8', 'DYJetsToLL_M-50_HT-600to800_TuneCP5_13TeV-madgraphMLM-pythia8', 'DYJetsToLL_M-50_HT-800to1200_TuneCP5_13TeV-madgraphMLM-pythia8', 'ZJetsToQQ_HT-800toInf_qc19_4j_TuneCUETP8M1_13TeV-madgraphMLM-pythia8', 'ZJetsToQQ_HT400to600_qc19_4j_TuneCUETP8M1_13TeV-madgraphMLM-pythia8', 'ZJetsToQQ_HT600to800_qc19_4j_TuneCUETP8M1_13TeV-madgraphMLM-pythia8', 'DYJetsToLL_M-50_HT-1200to2500_TuneCUETP8M1_13TeV-madgraphMLM-pythia8', 'DYJetsToLL_M-50_HT-2500toInf_TuneCUETP8M1_13TeV-madgraphMLM-pythia8', 'DYJetsToLL_M-50_HT-400to600_TuneCUETP8M1_13TeV-madgraphMLM-pythia8', 'DYJetsToLL_M-50_HT-600to800_TuneCUETP8M1_13TeV-madgraphMLM-pythia8', 'DYJetsToLL_M-50_HT-800to1200_TuneCUETP8M1_13TeV-madgraphMLM-pythia8'], 'ttbar': ['TTTo2L2Nu_TuneCP5_13TeV-powheg-pythia8', 'TTToHadronic_TuneCP5_13TeV-powheg-pythia8', 'TTToSemiLeptonic_TuneCP5_13TeV-powheg-pythia8', 'TTTo2L2Nu_TuneCP5_PSweights_13TeV-powheg-pythia8', 'TTToHadronic_TuneCP5_PSweights_13TeV-powheg-pythia8', 'TTToSemiLeptonic_TuneCP5_PSweights_13TeV-powheg-pythia8'], 'singlet': ['ST_s-channel_4f_leptonDecays_TuneCP5_PSweights_13TeV-amcatnlo-pythia8', 'ST_t-channel_antitop_4f_InclusiveDecays_TuneCP5_PSweights_13TeV-powheg-pythia8', 'ST_t-channel_top_4f_InclusiveDecays_TuneCP5_PSweights_13TeV-powheg-pythia8', 'ST_tW_antitop_5f_inclusiveDecays_TuneCP5_PSweights_13TeV-powheg-pythia8', 'ST_tW_top_5f_inclusiveDecays_TuneCP5_PSweights_13TeV-powheg-pythia8', 'ST_s-channel_4f_hadronicDecays_TuneCP5_13TeV-amcatnlo-pythia8', 'ST_s-channel_4f_leptonDecays_TuneCP5_13TeV-amcatnlo-pythia8', 'ST_t-channel_antitop_4f_inclusiveDecays_TuneCP5_13TeV-powhegV2-madspin-pythia8', 'ST_t-channel_top_4f_inclusiveDecays_TuneCP5_13TeV-powhegV2-madspin-pythia8', 'ST_tW_antitop_5f_inclusiveDecays_TuneCP5_13TeV-powheg-pythia8', 'ST_tW_top_5f_inclusiveDecays_TuneCP5_13TeV-powheg-pythia8', 'ST_s-channel_antitop_leptonDecays_13TeV-PSweights_powheg-pythia', 'ST_s-channel_top_leptonDecays_13TeV-PSweights_powheg-pythia', 'ST_t-channel_antitop_4f_InclusiveDecays_TuneCP5_13TeV-powheg-madspin-pythia8', 'ST_t-channel_top_4f_InclusiveDecays_TuneCP5_13TeV-powheg-madspin-pythia8']}\n"
     ]
    }
   ],
   "source": [
    "# This dictionary tells us how to group the simulated samples together sensibly\n",
    "# For example, QCD is generated separately for different energies. Combine them\n",
    "with open('pmap_mc.json') as f:\n",
    "  pmap = json.load(f)\n",
    "print(pmap)"
   ]
  },
  {
   "cell_type": "code",
   "execution_count": 18,
   "metadata": {},
   "outputs": [],
   "source": [
    "# I like to run this for one year at a time\n",
    "year = '2017'\n",
    "outsum = processor.dict_accumulator()"
   ]
  },
  {
   "cell_type": "code",
   "execution_count": 19,
   "metadata": {},
   "outputs": [],
   "source": [
    "# Higgs mass window\n",
    "mbb_min = 110\n",
    "mbb_max = 138"
   ]
  },
  {
   "cell_type": "code",
   "execution_count": 20,
   "metadata": {},
   "outputs": [],
   "source": [
    "# Number-counting significance as a function of the number of signal (s) and background (b) events\n",
    "def significance(s,b):\n",
    "    if b==0:\n",
    "        return 0\n",
    "    z_squared = 2.0*(s+b)*np.log(1.0+1.0*s/b) - 2.0*s\n",
    "    return np.sqrt(z_squared)"
   ]
  },
  {
   "cell_type": "code",
   "execution_count": 21,
   "metadata": {},
   "outputs": [],
   "source": [
    "# The quickest option here: copy the pickle file from my area:\n",
    "# /uscms/home/jennetd/nobackup/hbb-prod-modes/march-2021/vbf-ddbopt/pickles/templates.pkl\n",
    "\n",
    "# To save time, I run the \"load all files\" step below once and pickle templates\n",
    "# Then read in one histogram instead of loading all files each time\n",
    "# First time I run with repickle=True. Else run with repickle=False\n",
    "repickle=True\n",
    "\n",
    "# Check if pickle exists, and don't re-create it if it does\n",
    "picklename = 'pickles/templates.pkl'\n",
    "if os.path.isfile(picklename):\n",
    "    repickle=False"
   ]
  },
  {
   "cell_type": "code",
   "execution_count": 22,
   "metadata": {},
   "outputs": [
    {
     "name": "stdout",
     "output_type": "stream",
     "text": [
      "Loaded file 1\n",
      "Loaded file 2\n"
     ]
    },
    {
     "ename": "ValueError",
     "evalue": "Cannot add this histogram with histogram <Hist (dataset,region,systematic,pt1,msd1,ddb1,deta,mjj) instance at 0x7f7dd2f6a640> of dissimilar dimensions",
     "output_type": "error",
     "traceback": [
      "\u001b[0;31m---------------------------------------------------------------------------\u001b[0m",
      "\u001b[0;31mValueError\u001b[0m                                Traceback (most recent call last)",
      "\u001b[0;32m<ipython-input-22-8d0a19a8f63d>\u001b[0m in \u001b[0;36m<module>\u001b[0;34m\u001b[0m\n\u001b[1;32m     17\u001b[0m         \u001b[0;32mif\u001b[0m \u001b[0mos\u001b[0m\u001b[0;34m.\u001b[0m\u001b[0mpath\u001b[0m\u001b[0;34m.\u001b[0m\u001b[0misfile\u001b[0m\u001b[0;34m(\u001b[0m\u001b[0mfilename\u001b[0m\u001b[0;34m)\u001b[0m\u001b[0;34m:\u001b[0m\u001b[0;34m\u001b[0m\u001b[0;34m\u001b[0m\u001b[0m\n\u001b[1;32m     18\u001b[0m             \u001b[0mout\u001b[0m \u001b[0;34m=\u001b[0m \u001b[0mutil\u001b[0m\u001b[0;34m.\u001b[0m\u001b[0mload\u001b[0m\u001b[0;34m(\u001b[0m\u001b[0mfilename\u001b[0m\u001b[0;34m)\u001b[0m\u001b[0;34m\u001b[0m\u001b[0;34m\u001b[0m\u001b[0m\n\u001b[0;32m---> 19\u001b[0;31m             \u001b[0moutsum\u001b[0m\u001b[0;34m.\u001b[0m\u001b[0madd\u001b[0m\u001b[0;34m(\u001b[0m\u001b[0mout\u001b[0m\u001b[0;34m)\u001b[0m\u001b[0;34m\u001b[0m\u001b[0;34m\u001b[0m\u001b[0m\n\u001b[0m\u001b[1;32m     20\u001b[0m             \u001b[0mprint\u001b[0m\u001b[0;34m(\u001b[0m\u001b[0;34m'Loaded file '\u001b[0m\u001b[0;34m+\u001b[0m\u001b[0mstr\u001b[0m\u001b[0;34m(\u001b[0m\u001b[0mn\u001b[0m\u001b[0;34m)\u001b[0m\u001b[0;34m)\u001b[0m\u001b[0;34m\u001b[0m\u001b[0;34m\u001b[0m\u001b[0m\n\u001b[1;32m     21\u001b[0m         \u001b[0;32melse\u001b[0m\u001b[0;34m:\u001b[0m\u001b[0;34m\u001b[0m\u001b[0;34m\u001b[0m\u001b[0m\n",
      "\u001b[0;32m/opt/conda/lib/python3.8/site-packages/coffea/processor/accumulator.py\u001b[0m in \u001b[0;36madd\u001b[0;34m(self, other)\u001b[0m\n\u001b[1;32m    283\u001b[0m                     \u001b[0;32melse\u001b[0m\u001b[0;34m:\u001b[0m\u001b[0;34m\u001b[0m\u001b[0;34m\u001b[0m\u001b[0m\n\u001b[1;32m    284\u001b[0m                         \u001b[0;32mraise\u001b[0m \u001b[0mValueError\u001b[0m\u001b[0;34m\u001b[0m\u001b[0;34m\u001b[0m\u001b[0m\n\u001b[0;32m--> 285\u001b[0;31m                 \u001b[0mself\u001b[0m\u001b[0;34m[\u001b[0m\u001b[0mkey\u001b[0m\u001b[0;34m]\u001b[0m \u001b[0;34m+=\u001b[0m \u001b[0mvalue\u001b[0m\u001b[0;34m\u001b[0m\u001b[0;34m\u001b[0m\u001b[0m\n\u001b[0m\u001b[1;32m    286\u001b[0m         \u001b[0;32melse\u001b[0m\u001b[0;34m:\u001b[0m\u001b[0;34m\u001b[0m\u001b[0;34m\u001b[0m\u001b[0m\n\u001b[1;32m    287\u001b[0m             \u001b[0;32mraise\u001b[0m \u001b[0mValueError\u001b[0m\u001b[0;34m\u001b[0m\u001b[0;34m\u001b[0m\u001b[0m\n",
      "\u001b[0;32m/opt/conda/lib/python3.8/site-packages/coffea/processor/accumulator.py\u001b[0m in \u001b[0;36m__iadd__\u001b[0;34m(self, other)\u001b[0m\n\u001b[1;32m    186\u001b[0m \u001b[0;34m\u001b[0m\u001b[0m\n\u001b[1;32m    187\u001b[0m     \u001b[0;32mdef\u001b[0m \u001b[0m__iadd__\u001b[0m\u001b[0;34m(\u001b[0m\u001b[0mself\u001b[0m\u001b[0;34m,\u001b[0m \u001b[0mother\u001b[0m\u001b[0;34m)\u001b[0m\u001b[0;34m:\u001b[0m\u001b[0;34m\u001b[0m\u001b[0;34m\u001b[0m\u001b[0m\n\u001b[0;32m--> 188\u001b[0;31m         \u001b[0mself\u001b[0m\u001b[0;34m.\u001b[0m\u001b[0madd\u001b[0m\u001b[0;34m(\u001b[0m\u001b[0mother\u001b[0m\u001b[0;34m)\u001b[0m\u001b[0;34m\u001b[0m\u001b[0;34m\u001b[0m\u001b[0m\n\u001b[0m\u001b[1;32m    189\u001b[0m         \u001b[0;32mreturn\u001b[0m \u001b[0mself\u001b[0m\u001b[0;34m\u001b[0m\u001b[0;34m\u001b[0m\u001b[0m\n\u001b[1;32m    190\u001b[0m \u001b[0;34m\u001b[0m\u001b[0m\n",
      "\u001b[0;32m/opt/conda/lib/python3.8/site-packages/coffea/hist/hist_tools.py\u001b[0m in \u001b[0;36madd\u001b[0;34m(self, other)\u001b[0m\n\u001b[1;32m    960\u001b[0m         \u001b[0;34m\"\"\"Add another histogram into this one, in-place\"\"\"\u001b[0m\u001b[0;34m\u001b[0m\u001b[0;34m\u001b[0m\u001b[0m\n\u001b[1;32m    961\u001b[0m         \u001b[0;32mif\u001b[0m \u001b[0;32mnot\u001b[0m \u001b[0mself\u001b[0m\u001b[0;34m.\u001b[0m\u001b[0mcompatible\u001b[0m\u001b[0;34m(\u001b[0m\u001b[0mother\u001b[0m\u001b[0;34m)\u001b[0m\u001b[0;34m:\u001b[0m\u001b[0;34m\u001b[0m\u001b[0;34m\u001b[0m\u001b[0m\n\u001b[0;32m--> 962\u001b[0;31m             raise ValueError(\n\u001b[0m\u001b[1;32m    963\u001b[0m                 \u001b[0;34m\"Cannot add this histogram with histogram %r of dissimilar dimensions\"\u001b[0m\u001b[0;34m\u001b[0m\u001b[0;34m\u001b[0m\u001b[0m\n\u001b[1;32m    964\u001b[0m                 \u001b[0;34m%\u001b[0m \u001b[0mother\u001b[0m\u001b[0;34m\u001b[0m\u001b[0;34m\u001b[0m\u001b[0m\n",
      "\u001b[0;31mValueError\u001b[0m: Cannot add this histogram with histogram <Hist (dataset,region,systematic,pt1,msd1,ddb1,deta,mjj) instance at 0x7f7dd2f6a640> of dissimilar dimensions"
     ]
    }
   ],
   "source": [
    "# Load all files - this takes a while\n",
    "if repickle:\n",
    "    nfiles = len(subprocess.getoutput(\"ls infiles-split/\"+year+\"*.json\").split())\n",
    "    for n in range(1,nfiles+1):\n",
    "\n",
    "        with open('infiles-split/'+year+'_'+str(n)+'.json') as f:\n",
    "            infiles = json.load(f)\n",
    "        \n",
    "        # Skip data - we are dealing with only simulation right now\n",
    "        if 'JetHT' in infiles.keys():\n",
    "            continue\n",
    "        if 'SingleMuon' in infiles.keys():\n",
    "            continue\n",
    "    \n",
    "        filename = '/myeosdir/vbf-ddbopt/outfiles/'+year+'_'+str(n)+'.coffea'\n",
    "        #filename = 'outfiles/'+year+'_'+str(n)+'.coffea'\n",
    "        if os.path.isfile(filename):\n",
    "            out = util.load(filename)\n",
    "            outsum.add(out)\n",
    "            print('Loaded file '+str(n))\n",
    "        else:\n",
    "            print('Missing file '+str(n),infiles.keys())\n",
    "            #print(\"File \" + filename + \" is missing\")\n",
    "        \n",
    "    scale_lumi = {k: xs[k] * 1000 *lumis[year] / w for k, w in outsum['sumw'].items()}\n",
    "    outsum['templates1'].scale(scale_lumi, 'dataset')\n",
    "    \n",
    "    # Use pmap to group the datasets together\n",
    "    templates = outsum['templates1'].group('dataset', hist.Cat('process', 'Process'), pmap)\n",
    "    \n",
    "    # Select out the signal region\n",
    "    templates = templates.integrate('region', 'signal')\n",
    "\n",
    "    outfile = open(picklename, 'wb')\n",
    "    pickle.dump(templates, outfile, protocol=-1)\n",
    "    outfile.close()"
   ]
  },
  {
   "cell_type": "code",
   "execution_count": null,
   "metadata": {},
   "outputs": [],
   "source": [
    "# Read the histogram from the pickle file\n",
    "templates = pickle.load(open(picklename,'rb'))"
   ]
  },
  {
   "cell_type": "code",
   "execution_count": null,
   "metadata": {},
   "outputs": [],
   "source": [
    "# Sum over all bins and print the total number of events per process\n",
    "templates.sum('msd1','deta','mjj','ddb1').values()"
   ]
  },
  {
   "cell_type": "code",
   "execution_count": null,
   "metadata": {},
   "outputs": [],
   "source": [
    "# Sum the histogram over all but one variable\n",
    "x = templates.sum('deta','mjj','ddb1')"
   ]
  },
  {
   "cell_type": "code",
   "execution_count": null,
   "metadata": {},
   "outputs": [],
   "source": [
    "# draw the plot of soft drop mass\n",
    "# NB: the Higgs mass window is 110-138 GeV\n",
    "plot_mconly_vbf(x,'msd1','msd1')"
   ]
  },
  {
   "cell_type": "code",
   "execution_count": null,
   "metadata": {},
   "outputs": [],
   "source": [
    "# Select out events in the Higgs mass window\n",
    "templates_window=templates.integrate('msd1',int_range=slice(mbb_min,mbb_max))"
   ]
  },
  {
   "cell_type": "code",
   "execution_count": null,
   "metadata": {},
   "outputs": [],
   "source": [
    "# Apply a cut\n",
    "templates_cut = templates_window.integrate('deta',int_range=slice(3.5,7)).integrate('mjj',int_range=slice(1000,4000))\n",
    "\n",
    "# Print the number of events passing the cut per process\n",
    "templates_cut.sum('ddb1').values()"
   ]
  },
  {
   "cell_type": "code",
   "execution_count": null,
   "metadata": {},
   "outputs": [],
   "source": [
    "sr = templates_cut.sum().values()\n",
    "\n",
    "# Get the number of signal and background events\n",
    "s = sr[('VBF',)] \n",
    "b = sr[('QCD',)] + sr[('Zjets',)] + sr[('Wjets',)] + sr[('VV',)] + sr[('ttbar',)] +sr[('singlet',)] + sr[('ggF',)] + sr[('WH',)] + sr[('ZH',)] + sr[('ttH',)]\n",
    "\n",
    "# Print the significance\n",
    "print(significance(s,b))\n",
    "# Note: this only makes sense in the mass window of Higgs"
   ]
  },
  {
   "cell_type": "code",
   "execution_count": null,
   "metadata": {},
   "outputs": [],
   "source": []
  }
 ],
 "metadata": {
  "kernelspec": {
   "display_name": "Python 3",
   "language": "python",
   "name": "python3"
  },
  "language_info": {
   "codemirror_mode": {
    "name": "ipython",
    "version": 3
   },
   "file_extension": ".py",
   "mimetype": "text/x-python",
   "name": "python",
   "nbconvert_exporter": "python",
   "pygments_lexer": "ipython3",
   "version": "3.8.8"
  }
 },
 "nbformat": 4,
 "nbformat_minor": 2
}
