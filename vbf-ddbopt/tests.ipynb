{
 "cells": [
  {
   "cell_type": "code",
   "execution_count": 1,
   "metadata": {},
   "outputs": [],
   "source": [
    "# First import a bunch of useful stuff\n",
    "\n",
    "import os, subprocess\n",
    "import json\n",
    "import uproot3\n",
    "import awkward as ak\n",
    "import numpy as np\n",
    "from coffea import processor, util, hist\n",
    "import pickle\n",
    "from tqdm.notebook import tqdm\n",
    "import matplotlib.pyplot as plt\n",
    "\n",
    "from plotter import *"
   ]
  },
  {
   "cell_type": "code",
   "execution_count": 2,
   "metadata": {},
   "outputs": [],
   "source": [
    "# This gives the integrated luminosity (the amount of data collected) for each year\n",
    "lumis = {}\n",
    "lumis['2016'] = 35.9\n",
    "lumis['2017'] = 41.5\n",
    "lumis['2018'] = 59.9"
   ]
  },
  {
   "cell_type": "code",
   "execution_count": 3,
   "metadata": {},
   "outputs": [
    {
     "name": "stdout",
     "output_type": "stream",
     "text": [
      "{'QCD_HT500to700_TuneCUETP8M1_13TeV-madgraphMLM-pythia8': 32200, 'QCD_HT700to1000_TuneCUETP8M1_13TeV-madgraphMLM-pythia8': 6839, 'QCD_HT1000to1500_TuneCUETP8M1_13TeV-madgraphMLM-pythia8': 1207, 'QCD_HT1500to2000_TuneCUETP8M1_13TeV-madgraphMLM-pythia8': 120.1, 'QCD_HT2000toInf_TuneCUETP8M1_13TeV-madgraphMLM-pythia8': 25.24, 'QCD_HT300to500_TuneCP5_13TeV-madgraph-pythia8': 322600, 'QCD_HT500to700_TuneCP5_13TeV-madgraph-pythia8': 29980, 'QCD_HT700to1000_TuneCP5_13TeV-madgraph-pythia8': 6334, 'QCD_HT1000to1500_TuneCP5_13TeV-madgraph-pythia8': 1088, 'QCD_HT1500to2000_TuneCP5_13TeV-madgraph-pythia8': 99.11, 'QCD_HT2000toInf_TuneCP5_13TeV-madgraph-pythia8': 20.23, 'QCD_HT300to500_TuneCP5_13TeV-madgraphMLM-pythia8': 322600, 'QCD_HT500to700_TuneCP5_13TeV-madgraphMLM-pythia8': 29980, 'QCD_HT700to1000_TuneCP5_13TeV-madgraphMLM-pythia8': 6334, 'QCD_HT1000to1500_TuneCP5_13TeV-madgraphMLM-pythia8': 1088, 'QCD_HT1500to2000_TuneCP5_13TeV-madgraphMLM-pythia8': 99.11, 'QCD_HT2000toInf_TuneCP5_13TeV-madgraphMLM-pythia8': 20.23, 'WJetsToQQ_HT400to600_qc19_3j_TuneCUETP8M1_13TeV-madgraphMLM-pythia8': 269.9, 'WJetsToQQ_HT600to800_qc19_3j_TuneCUETP8M1_13TeV-madgraphMLM-pythia8': 59.52, 'WJetsToQQ_HT-800toInf_qc19_3j_TuneCUETP8M1_13TeV-madgraphMLM-pythia8': 30.17, 'WJetsToQQ_HT400to600_qc19_3j_TuneCP5_13TeV-madgraphMLM-pythia8': 314.9, 'WJetsToQQ_HT600to800_qc19_3j_TuneCP5_13TeV-madgraphMLM-pythia8': 68.64, 'WJetsToQQ_HT-800toInf_qc19_3j_TuneCP5_13TeV-madgraphMLM-pythia8': 34.7, 'ZJetsToQQ_HT400to600_qc19_4j_TuneCUETP8M1_13TeV-madgraphMLM-pythia8': 116.7, 'ZJetsToQQ_HT600to800_qc19_4j_TuneCUETP8M1_13TeV-madgraphMLM-pythia8': 27.37, 'ZJetsToQQ_HT-800toInf_qc19_4j_TuneCUETP8M1_13TeV-madgraphMLM-pythia8': 15.01, 'ZJetsToQQ_HT400to600_qc19_4j_TuneCP5_13TeV-madgraphMLM-pythia8': 144.7, 'ZJetsToQQ_HT600to800_qc19_4j_TuneCP5_13TeV-madgraphMLM-pythia8': 34.06, 'ZJetsToQQ_HT-800toInf_qc19_4j_TuneCP5_13TeV-madgraphMLM-pythia8': 18.57, 'WJetsToLNu_HT-200To400_TuneCUETP8M1_13TeV-madgraphMLM-pythia8': 515.8098, 'WJetsToLNu_HT-400To600_TuneCUETP8M1_13TeV-madgraphMLM-pythia8': 74.93012, 'WJetsToLNu_HT-600To800_TuneCUETP8M1_13TeV-madgraphMLM-pythia8': 12.0982, 'WJetsToLNu_HT-800To1200_TuneCUETP8M1_13TeV-madgraphMLM-pythia8': 5.523004, 'WJetsToLNu_HT-1200To2500_TuneCUETP8M1_13TeV-madgraphMLM-pythia8': 1.334316, 'WJetsToLNu_HT-2500ToInf_TuneCUETP8M1_13TeV-madgraphMLM-pythia8': 0.03228864, 'WJetsToLNu_HT-200To400_TuneCP5_13TeV-madgraphMLM-pythia8': 476.0193, 'WJetsToLNu_HT-400To600_TuneCP5_13TeV-madgraphMLM-pythia8': 67.07916, 'WJetsToLNu_HT-600To800_TuneCP5_13TeV-madgraphMLM-pythia8': 15.01929, 'WJetsToLNu_HT-800To1200_TuneCP5_13TeV-madgraphMLM-pythia8': 6.262122, 'WJetsToLNu_HT-1200To2500_TuneCP5_13TeV-madgraphMLM-pythia8': 1.2533580000000002, 'WJetsToLNu_HT-2500ToInf_TuneCP5_13TeV-madgraphMLM-pythia8': 0.009337167, 'DYJetsToLL_M-50_HT-400to600_TuneCUETP8M1_13TeV-madgraphMLM-pythia8': 8.482932, 'DYJetsToLL_M-50_HT-600to800_TuneCUETP8M1_13TeV-madgraphMLM-pythia8': 1.557013, 'DYJetsToLL_M-50_HT-800to1200_TuneCUETP8M1_13TeV-madgraphMLM-pythia8': 0.7180255999999999, 'DYJetsToLL_M-50_HT-1200to2500_TuneCUETP8M1_13TeV-madgraphMLM-pythia8': 0.1724446, 'DYJetsToLL_M-50_HT-2500toInf_TuneCUETP8M1_13TeV-madgraphMLM-pythia8': 0.004060535, 'DYJetsToLL_M-50_HT-400to600_TuneCP5_13TeV-madgraphMLM-pythia8': 7.922616, 'DYJetsToLL_M-50_HT-600to800_TuneCP5_13TeV-madgraphMLM-pythia8': 1.981791, 'DYJetsToLL_M-50_HT-800to1200_TuneCP5_13TeV-madgraphMLM-pythia8': 0.9155124, 'DYJetsToLL_M-50_HT-1200to2500_TuneCP5_13TeV-madgraphMLM-pythia8': 0.2197821, 'DYJetsToLL_M-50_HT-2500toInf_TuneCP5_13TeV-madgraphMLM-pythia8': 0.003943116, 'DYJetsToLL_M-50_HT-400to600_TuneCP5_PSweights_13TeV-madgraphMLM-pythia8': 7.922616, 'DYJetsToLL_M-50_HT-600to800_TuneCP5_PSweights_13TeV-madgraphMLM-pythia8': 1.981791, 'DYJetsToLL_M-50_HT-800to1200_TuneCP5_PSweights_13TeV-madgraphMLM-pythia8': 0.9155124, 'DYJetsToLL_M-50_HT-1200to2500_TuneCP5_PSweights_13TeV-madgraphMLM-pythia8': 0.2197821, 'DYJetsToLL_M-50_HT-2500toInf_TuneCP5_PSweights_13TeV-madgraphMLM-pythia8': 0.003943116, 'TTToHadronic_TuneCP5_13TeV-powheg-pythia8': 377.96, 'TTToSemiLeptonic_TuneCP5_13TeV-powheg-pythia8': 365.34, 'TTTo2L2Nu_TuneCP5_13TeV-powheg-pythia8': 88.29, 'TTToHadronic_TuneCP5_PSweights_13TeV-powheg-pythia8': 377.96, 'TTToSemiLeptonic_TuneCP5_PSweights_13TeV-powheg-pythia8': 365.34, 'TTTo2L2Nu_TuneCP5_PSweights_13TeV-powheg-pythia8': 88.29, 'ST_s-channel_4f_hadronicDecays_TuneCP5_13TeV-amcatnlo-pythia8': 11.24, 'ST_s-channel_4f_leptonDecays_TuneCP5_13TeV-amcatnlo-pythia8': 3.36, 'ST_s-channel_4f_hadronicDecays_TuneCP5_PSweights_13TeV-amcatnlo-pythia8': 11.24, 'ST_s-channel_4f_leptonDecays_TuneCP5_PSweights_13TeV-amcatnlo-pythia8': 3.36, 'ST_s-channel_antitop_leptonDecays_13TeV-PSweights_powheg-pythia': 1.2934, 'ST_s-channel_top_leptonDecays_13TeV-PSweights_powheg-pythia': 2.0688, 'ST_t-channel_antitop_4f_inclusiveDecays_TuneCP5_13TeV-powhegV2-madspin-pythia8': 80.95, 'ST_t-channel_top_4f_inclusiveDecays_TuneCP5_13TeV-powhegV2-madspin-pythia8': 136.02, 'ST_t-channel_antitop_4f_InclusiveDecays_TuneCP5_PSweights_13TeV-powheg-pythia8': 80.95, 'ST_t-channel_top_4f_InclusiveDecays_TuneCP5_PSweights_13TeV-powheg-pythia8': 136.02, 'ST_t-channel_antitop_4f_InclusiveDecays_TuneCP5_13TeV-powheg-madspin-pythia8': 80.95, 'ST_t-channel_top_4f_InclusiveDecays_TuneCP5_13TeV-powheg-madspin-pythia8': 136.02, 'ST_tW_antitop_5f_inclusiveDecays_TuneCP5_13TeV-powheg-pythia8': 35.85, 'ST_tW_top_5f_inclusiveDecays_TuneCP5_13TeV-powheg-pythia8': 35.85, 'ST_tW_antitop_5f_inclusiveDecays_TuneCP5_PSweights_13TeV-powheg-pythia8': 35.85, 'ST_tW_top_5f_inclusiveDecays_TuneCP5_PSweights_13TeV-powheg-pythia8': 35.85, 'WW_TuneCUETP8M1_13TeV-pythia8': 64.3, 'WZ_TuneCUETP8M1_13TeV-pythia8': 23.43, 'ZZ_TuneCUETP8M1_13TeV-pythia8': 10.16, 'WW_TuneCP5_13TeV-pythia8': 75.9, 'WZ_TuneCP5_13TeV-pythia8': 27.57, 'ZZ_TuneCP5_13TeV-pythia8': 12.14, 'WW_TuneCP5_PSweights_13TeV-pythia8': 75.9, 'WZ_TuneCP5_PSweights_13TeV-pythia8': 27.57, 'ZZ_TuneCP5_PSweights_13TeV-pythia8': 12.14, 'ZH_HToBB_ZToQQ_M125_13TeV_powheg_pythia8': 0.35941216698150397, 'ZH_HToBB_ZToLL_M125_13TeV_powheg_pythia8': 0.051884294157696, 'ZH_HToBB_ZToNuNu_M125_13TeV_powheg_pythia8': 0.1034868988608, 'GluGluHToBB_M-125_13TeV_powheg_MINLO_NNLOPS_pythia8': 16.190720000000002, 'GluGluHToBB_M125_TuneCP5_13TeV-powheg-pythia8': 28.45024, 'GluGluHToBB_M125_13TeV_powheg_pythia8': 28.45024, 'VBFHToBB_M-125_13TeV_powheg_pythia8_weightfix': 2.2026368, 'WminusH_HToBB_WToQQ_M125_13TeV_powheg_pythia8': 0.20926660285440005, 'WplusH_HToBB_WToQQ_M125_13TeV_powheg_pythia8': 0.32992482432000003, 'WminusH_HToBB_WToLNu_M125_13TeV_powheg_pythia8': 0.10103611714560003, 'WplusH_HToBB_WToLNu_M125_13TeV_powheg_pythia8': 0.15929117568000004, 'ttHTobb_M125_TuneCP5_13TeV-powheg-pythia8': 0.29533504, 'ggZH_HToBB_ZToNuNu_M125_13TeV_powheg_pythia8': 0.014365700294400001, 'ggZH_HToBB_ZToQQ_M125_13TeV_powheg_pythia8': 0.049858111227959995, 'ggZH_HToBB_ZToLL_M125_13TeV_powheg_pythia8': 0.0072024017345280016}\n"
     ]
    }
   ],
   "source": [
    "# This dictionary gives the cross section (expected rate) of each simulated process\n",
    "# Number of events of process P = integrated luminosity * cross section of process P\n",
    "with open('xsec.json') as f:\n",
    "  xs = json.load(f)\n",
    "print(xs)"
   ]
  },
  {
   "cell_type": "code",
   "execution_count": 4,
   "metadata": {},
   "outputs": [
    {
     "name": "stdout",
     "output_type": "stream",
     "text": [
      "{'ZH': ['ZH_HToBB_ZToQQ_M125_13TeV_powheg_pythia8', 'ZH_HToBB_ZToNuNu_M125_13TeV_powheg_pythia8', 'ZH_HToBB_ZToLL_M125_13TeV_powheg_pythia8', 'ggZH_HToBB_ZToQQ_M125_13TeV_powheg_pythia8', 'ggZH_HToBB_ZToNuNu_M125_13TeV_powheg_pythia8', 'ggZH_HToBB_ZToLL_M125_13TeV_powheg_pythia8,'], 'WH': ['WminusH_HToBB_WToLNu_M125_13TeV_powheg_pythia8', 'WminusH_HToBB_WToQQ_M125_13TeV_powheg_pythia8', 'WplusH_HToBB_WToLNu_M125_13TeV_powheg_pythia8', 'WplusH_HToBB_WToQQ_M125_13TeV_powheg_pythia8'], 'ttH': ['ttHTobb_M125_TuneCP5_13TeV-powheg-pythia8'], 'VBF': ['VBFHToBB_M-125_13TeV_powheg_pythia8_weightfix'], 'ggF': ['GluGluHToBB_M-125_13TeV_powheg_MINLO_NNLOPS_pythia8'], 'ggF-powheg': ['GluGluHToBB_M125_TuneCP5_13TeV-powheg-pythia8', 'GluGluHToBB_M125_13TeV_powheg_pythia8'], 'QCD': ['QCD_HT300to500_TuneCP5_13TeV-madgraph-pythia8', 'QCD_HT500to700_TuneCP5_13TeV-madgraph-pythia8', 'QCD_HT700to1000_TuneCP5_13TeV-madgraph-pythia8', 'QCD_HT1000to1500_TuneCP5_13TeV-madgraph-pythia8', 'QCD_HT1500to2000_TuneCP5_13TeV-madgraph-pythia8', 'QCD_HT2000toInf_TuneCP5_13TeV-madgraph-pythia8', 'QCD_HT300to500_TuneCP5_13TeV-madgraphMLM-pythia8', 'QCD_HT500to700_TuneCP5_13TeV-madgraphMLM-pythia8', 'QCD_HT700to1000_TuneCP5_13TeV-madgraphMLM-pythia8', 'QCD_HT1000to1500_TuneCP5_13TeV-madgraphMLM-pythia8', 'QCD_HT1500to2000_TuneCP5_13TeV-madgraphMLM-pythia8', 'QCD_HT2000toInf_TuneCP5_13TeV-madgraphMLM-pythia8', 'QCD_HT500to700_TuneCUETP8M1_13TeV-madgraphMLM-pythia8', 'QCD_HT700to1000_TuneCUETP8M1_13TeV-madgraphMLM-pythia8', 'QCD_HT1000to1500_TuneCUETP8M1_13TeV-madgraphMLM-pythia8', 'QCD_HT1500to2000_TuneCUETP8M1_13TeV-madgraphMLM-pythia8', 'QCD_HT2000toInf_TuneCUETP8M1_13TeV-madgraphMLM-pythia8'], 'VV': ['WW_TuneCP5_13TeV-pythia8', 'ZZ_TuneCP5_13TeV-pythia8', 'WZ_TuneCP5_13TeV-pythia8', 'WW_TuneCP5_PSweights_13TeV-pythia8', 'ZZ_TuneCP5_PSweights_13TeV-pythia8', 'WZ_TuneCP5_PSweights_13TeV-pythia8', 'WW_TuneCUETP8M1_13TeV-pythia8', 'WZ_TuneCUETP8M1_13TeV-pythia8', 'ZZ_TuneCUETP8M1_13TeV-pythia8'], 'Wjets': ['WJetsToQQ_HT-800toInf_qc19_3j_TuneCP5_13TeV-madgraphMLM-pythia8', 'WJetsToQQ_HT400to600_qc19_3j_TuneCP5_13TeV-madgraphMLM-pythia8', 'WJetsToQQ_HT600to800_qc19_3j_TuneCP5_13TeV-madgraphMLM-pythia8', 'WJetsToLNu_HT-1200To2500_TuneCP5_13TeV-madgraphMLM-pythia8', 'WJetsToLNu_HT-200To400_TuneCP5_13TeV-madgraphMLM-pythia8', 'WJetsToLNu_HT-2500ToInf_TuneCP5_13TeV-madgraphMLM-pythia8', 'WJetsToLNu_HT-400To600_TuneCP5_13TeV-madgraphMLM-pythia8', 'WJetsToLNu_HT-600To800_TuneCP5_13TeV-madgraphMLM-pythia8', 'WJetsToLNu_HT-800To1200_TuneCP5_13TeV-madgraphMLM-pythia8', 'WJetsToQQ_HT-800toInf_qc19_3j_TuneCUETP8M1_13TeV-madgraphMLM-pythia8', 'WJetsToQQ_HT400to600_qc19_3j_TuneCUETP8M1_13TeV-madgraphMLM-pythia8', 'WJetsToQQ_HT600to800_qc19_3j_TuneCUETP8M1_13TeV-madgraphMLM-pythia8', 'WJetsToLNu_HT-1200To2500_TuneCUETP8M1_13TeV-madgraphMLM-pythia8', 'WJetsToLNu_HT-200To400_TuneCUETP8M1_13TeV-madgraphMLM-pythia8', 'WJetsToLNu_HT-2500ToInf_TuneCUETP8M1_13TeV-madgraphMLM-pythia8', 'WJetsToLNu_HT-400To600_TuneCUETP8M1_13TeV-madgraphMLM-pythia8', 'WJetsToLNu_HT-600To800_TuneCUETP8M1_13TeV-madgraphMLM-pythia8', 'WJetsToLNu_HT-800To1200_TuneCUETP8M1_13TeV-madgraphMLM-pythia8'], 'Zjets': ['ZJetsToQQ_HT-800toInf_qc19_4j_TuneCP5_13TeV-madgraphMLM-pythia8', 'ZJetsToQQ_HT400to600_qc19_4j_TuneCP5_13TeV-madgraphMLM-pythia8', 'ZJetsToQQ_HT600to800_qc19_4j_TuneCP5_13TeV-madgraphMLM-pythia8', 'DYJetsToLL_M-50_HT-1200to2500_TuneCP5_PSweights_13TeV-madgraphMLM-pythia8', 'DYJetsToLL_M-50_HT-2500toInf_TuneCP5_PSweights_13TeV-madgraphMLM-pythia8', 'DYJetsToLL_M-50_HT-400to600_TuneCP5_PSweights_13TeV-madgraphMLM-pythia8', 'DYJetsToLL_M-50_HT-600to800_TuneCP5_PSweights_13TeV-madgraphMLM-pythia8', 'DYJetsToLL_M-50_HT-800to1200_TuneCP5_PSweights_13TeV-madgraphMLM-pythia8', 'DYJetsToLL_M-50_HT-1200to2500_TuneCP5_13TeV-madgraphMLM-pythia8', 'DYJetsToLL_M-50_HT-2500toInf_TuneCP5_13TeV-madgraphMLM-pythia8', 'DYJetsToLL_M-50_HT-400to600_TuneCP5_13TeV-madgraphMLM-pythia8', 'DYJetsToLL_M-50_HT-600to800_TuneCP5_13TeV-madgraphMLM-pythia8', 'DYJetsToLL_M-50_HT-800to1200_TuneCP5_13TeV-madgraphMLM-pythia8', 'ZJetsToQQ_HT-800toInf_qc19_4j_TuneCUETP8M1_13TeV-madgraphMLM-pythia8', 'ZJetsToQQ_HT400to600_qc19_4j_TuneCUETP8M1_13TeV-madgraphMLM-pythia8', 'ZJetsToQQ_HT600to800_qc19_4j_TuneCUETP8M1_13TeV-madgraphMLM-pythia8', 'DYJetsToLL_M-50_HT-1200to2500_TuneCUETP8M1_13TeV-madgraphMLM-pythia8', 'DYJetsToLL_M-50_HT-2500toInf_TuneCUETP8M1_13TeV-madgraphMLM-pythia8', 'DYJetsToLL_M-50_HT-400to600_TuneCUETP8M1_13TeV-madgraphMLM-pythia8', 'DYJetsToLL_M-50_HT-600to800_TuneCUETP8M1_13TeV-madgraphMLM-pythia8', 'DYJetsToLL_M-50_HT-800to1200_TuneCUETP8M1_13TeV-madgraphMLM-pythia8'], 'ttbar': ['TTTo2L2Nu_TuneCP5_13TeV-powheg-pythia8', 'TTToHadronic_TuneCP5_13TeV-powheg-pythia8', 'TTToSemiLeptonic_TuneCP5_13TeV-powheg-pythia8', 'TTTo2L2Nu_TuneCP5_PSweights_13TeV-powheg-pythia8', 'TTToHadronic_TuneCP5_PSweights_13TeV-powheg-pythia8', 'TTToSemiLeptonic_TuneCP5_PSweights_13TeV-powheg-pythia8'], 'singlet': ['ST_s-channel_4f_leptonDecays_TuneCP5_PSweights_13TeV-amcatnlo-pythia8', 'ST_t-channel_antitop_4f_InclusiveDecays_TuneCP5_PSweights_13TeV-powheg-pythia8', 'ST_t-channel_top_4f_InclusiveDecays_TuneCP5_PSweights_13TeV-powheg-pythia8', 'ST_tW_antitop_5f_inclusiveDecays_TuneCP5_PSweights_13TeV-powheg-pythia8', 'ST_tW_top_5f_inclusiveDecays_TuneCP5_PSweights_13TeV-powheg-pythia8', 'ST_s-channel_4f_hadronicDecays_TuneCP5_13TeV-amcatnlo-pythia8', 'ST_s-channel_4f_leptonDecays_TuneCP5_13TeV-amcatnlo-pythia8', 'ST_t-channel_antitop_4f_inclusiveDecays_TuneCP5_13TeV-powhegV2-madspin-pythia8', 'ST_t-channel_top_4f_inclusiveDecays_TuneCP5_13TeV-powhegV2-madspin-pythia8', 'ST_tW_antitop_5f_inclusiveDecays_TuneCP5_13TeV-powheg-pythia8', 'ST_tW_top_5f_inclusiveDecays_TuneCP5_13TeV-powheg-pythia8', 'ST_s-channel_antitop_leptonDecays_13TeV-PSweights_powheg-pythia', 'ST_s-channel_top_leptonDecays_13TeV-PSweights_powheg-pythia', 'ST_t-channel_antitop_4f_InclusiveDecays_TuneCP5_13TeV-powheg-madspin-pythia8', 'ST_t-channel_top_4f_InclusiveDecays_TuneCP5_13TeV-powheg-madspin-pythia8']}\n"
     ]
    }
   ],
   "source": [
    "# This dictionary tells us how to group the simulated samples together sensibly\n",
    "# For example, QCD is generated separately for different energies. Combine them\n",
    "with open('pmap_mc.json') as f:\n",
    "  pmap = json.load(f)\n",
    "print(pmap)"
   ]
  },
  {
   "cell_type": "code",
   "execution_count": 5,
   "metadata": {},
   "outputs": [],
   "source": [
    "# I like to run this for one year at a time\n",
    "year = '2017'\n",
    "outsum = processor.dict_accumulator()\n",
    "\n",
    "year_2 = '2017'\n",
    "outsum_2 = processor.dict_accumulator()"
   ]
  },
  {
   "cell_type": "code",
   "execution_count": 6,
   "metadata": {},
   "outputs": [],
   "source": [
    "# Higgs mass window\n",
    "mbb_min = 110\n",
    "mbb_max = 138"
   ]
  },
  {
   "cell_type": "code",
   "execution_count": 7,
   "metadata": {},
   "outputs": [],
   "source": [
    "# Number-counting significance as a function of the number of signal (s) and background (b) events\n",
    "def significance(s,b,q, cutq=False):\n",
    "    if cutq and q<20:\n",
    "        return 0\n",
    "    if b<1:\n",
    "        return 0\n",
    "    z_squared = 2.0*(s+b)*np.log(1.0+1.0*s/b) - 2.0*s\n",
    "    return np.sqrt(z_squared)"
   ]
  },
  {
   "cell_type": "code",
   "execution_count": 8,
   "metadata": {},
   "outputs": [],
   "source": [
    "# The quickest option here: copy the pickle file from my area:\n",
    "# /uscms/home/jennetd/nobackup/hbb-prod-modes/march-2021/vbf-ddbopt/pickles/templates.pkl\n",
    "\n",
    "# To save time, I run the \"load all files\" step below once and pickle templates\n",
    "# Then read in one histogram instead of loading all files each time\n",
    "# First time I run with repickle=True. Else run with repickle=False\n",
    "repickle=True\n",
    "\n",
    "# Check if pickle exists, and don't re-create it if it does\n",
    "picklename = 'pickles/templates.pkl'\n",
    "if os.path.isfile(picklename):\n",
    "    repickle=False\n",
    "    \n",
    "repickle_2=True\n",
    "\n",
    "# Check if pickle exists, and don't re-create it if it does\n",
    "picklename_2 = 'pickles/templates_2.pkl'\n",
    "if os.path.isfile(picklename_2):\n",
    "    repickle_2=False"
   ]
  },
  {
   "cell_type": "code",
   "execution_count": 9,
   "metadata": {
    "scrolled": true
   },
   "outputs": [],
   "source": [
    "# Load all files - this takes a while\n",
    "if repickle:\n",
    "    nfiles = len(subprocess.getoutput(\"ls infiles-split/\"+year+\"*.json\").split())\n",
    "    for n in range(1,nfiles+1):\n",
    "\n",
    "        with open('infiles-split/'+year+'_'+str(n)+'.json') as f:\n",
    "            infiles = json.load(f)\n",
    "        \n",
    "        # Skip data - we are dealing with only simulation right now\n",
    "        if 'JetHT' in infiles.keys():\n",
    "            continue\n",
    "        if 'SingleMuon' in infiles.keys():\n",
    "            continue\n",
    "    \n",
    "        filename = '/myeosdir/vbf-ddbopt/outfiles/'+year+'_'+str(n)+'.coffea'\n",
    "        #filename = 'outfiles/'+year+'_'+str(n)+'.coffea'\n",
    "        if os.path.isfile(filename):\n",
    "            out = util.load(filename)\n",
    "            outsum.add(out)\n",
    "        else:\n",
    "            print('Missing file '+str(n),infiles.keys())\n",
    "            #print(\"File \" + filename + \" is missing\")\n",
    "        \n",
    "    scale_lumi = {k: xs[k] * 1000 *lumis[year] / w for k, w in outsum['sumw'].items()}\n",
    "    outsum['templates1'].scale(scale_lumi, 'dataset')\n",
    "    \n",
    "    # Use pmap to group the datasets together\n",
    "    templates = outsum['templates1'].group('dataset', hist.Cat('process', 'Process'), pmap)\n",
    "    \n",
    "    # Select out the signal region\n",
    "    templates = templates.integrate('region', 'signal')\n",
    "\n",
    "    outfile = open(picklename, 'wb')\n",
    "    pickle.dump(templates, outfile, protocol=-1)\n",
    "    outfile.close()\n",
    "    \n",
    "    \n",
    "if repickle_2:\n",
    "    nfiles = len(subprocess.getoutput(\"ls infiles-split/\"+year+\"*.json\").split())\n",
    "    for n in range(1,nfiles+1):\n",
    "\n",
    "        with open('infiles-split/'+year+'_'+str(n)+'.json') as f:\n",
    "            infiles = json.load(f)\n",
    "        \n",
    "        # Skip data - we are dealing with only simulation right now\n",
    "        if 'JetHT' in infiles.keys():\n",
    "            continue\n",
    "        if 'SingleMuon' in infiles.keys():\n",
    "            continue\n",
    "    \n",
    "        #filename_2 = 'vbf-ddbopt/outfiles-ddb2/'+year+'_'+str(n)+'.coffea'\n",
    "        filename_2 = 'outfiles-ddb2/'+year+'_'+str(n)+'.coffea'\n",
    "        if os.path.isfile(filename_2):\n",
    "            out = util.load(filename_2)\n",
    "            outsum_2.add(out)\n",
    "        else:\n",
    "            print(\"File \" + filename_2 + \" is missing\")\n",
    "        \n",
    "    scale_lumi_2 = {k: xs[k] * 1000 *lumis[year] / w for k, w in outsum_2['sumw'].items()}\n",
    "    outsum_2['templates-vbf'].scale(scale_lumi_2, 'dataset')\n",
    "    \n",
    "    # Use pmap to group the datasets together\n",
    "    templates_2 = outsum_2['templates-vbf'].group('dataset', hist.Cat('process', 'Process'), pmap)\n",
    "    \n",
    "    # Select out the signal region\n",
    "    templates_2 = templates_2.integrate('region', 'signal')\n",
    "\n",
    "    outfile_2 = open(picklename_2, 'wb')\n",
    "    pickle.dump(templates_2, outfile_2, protocol=-1)\n",
    "    outfile_2.close()"
   ]
  },
  {
   "cell_type": "code",
   "execution_count": 10,
   "metadata": {},
   "outputs": [
    {
     "data": {
      "text/plain": [
       "{('ZH',): 14.499776537922521,\n",
       " ('WH',): 11.532616177845286,\n",
       " ('ttH',): 21.93820561446167,\n",
       " ('VBF',): 32.657991137640366,\n",
       " ('ggF',): 76.851075716208,\n",
       " ('ggF-powheg',): 156.59744103535937,\n",
       " ('QCD',): 4008994.443499559,\n",
       " ('VV',): 1288.3117120342106,\n",
       " ('Wjets',): 91422.54090350348,\n",
       " ('Zjets',): 43273.63568807628,\n",
       " ('ttbar',): 19757.769359435322,\n",
       " ('singlet',): 3109.7628093855697}"
      ]
     },
     "execution_count": 10,
     "metadata": {},
     "output_type": "execute_result"
    }
   ],
   "source": [
    "# Read the histogram from the pickle file\n",
    "templates = pickle.load(open(picklename,'rb'))\n",
    "\n",
    "# Sum over all bins and print the total number of events per process\n",
    "templates.sum('msd1','deta','mjj','ddb1').values()"
   ]
  },
  {
   "cell_type": "code",
   "execution_count": 11,
   "metadata": {},
   "outputs": [
    {
     "data": {
      "text/plain": [
       "{('ZH',): array(14.30482859),\n",
       " ('WH',): array(11.41398191),\n",
       " ('ttH',): array(21.68612532),\n",
       " ('VBF',): array(32.28007896),\n",
       " ('ggF',): array(75.87214395),\n",
       " ('ggF-powheg',): array(154.90639948),\n",
       " ('QCD',): array(3956029.49910738),\n",
       " ('VV',): array(1273.53049952),\n",
       " ('Wjets',): array(87111.29949286),\n",
       " ('Zjets',): array(37622.62585502),\n",
       " ('ttbar',): array(19498.99464288),\n",
       " ('singlet',): array(3073.46512155)}"
      ]
     },
     "execution_count": 11,
     "metadata": {},
     "output_type": "execute_result"
    }
   ],
   "source": [
    "templates_2 = pickle.load(open(picklename_2,'rb'))\n",
    "\n",
    "templates_2.sum('msd1','deta','mjj','ddb1').integrate('systematic', 'nominal').values()"
   ]
  },
  {
   "cell_type": "code",
   "execution_count": 12,
   "metadata": {},
   "outputs": [
    {
     "name": "stderr",
     "output_type": "stream",
     "text": [
      "/opt/conda/lib/python3.8/site-packages/coffea/hist/hist_tools.py:631: RuntimeWarning: Reducing along axis <Bin (name=deta) instance at 0x7f24ff022400>: requested start 3.78 between bin boundaries, no interpolation is performed\n",
      "  warnings.warn(\n",
      "/opt/conda/lib/python3.8/site-packages/coffea/hist/hist_tools.py:631: RuntimeWarning: Reducing along axis <Bin (name=mjj) instance at 0x7f24ff022490>: requested start 1280 between bin boundaries, no interpolation is performed\n",
      "  warnings.warn(\n"
     ]
    },
    {
     "data": {
      "image/png": "[encoded data removed]",
      "text/plain": [
       "<Figure size 720x720 with 1 Axes>"
      ]
     },
     "metadata": {
      "needs_background": "light"
     },
     "output_type": "display_data"
    }
   ],
   "source": [
    "# Select out events in the Higgs mass window\n",
    "templates_window=templates.integrate('msd1',int_range=slice(mbb_min,mbb_max))\n",
    "\n",
    "#cut to optimal significance\n",
    "all_optim = templates.integrate('deta',int_range=slice(3.78,7)).integrate('mjj',int_range=slice(1280,4000)).integrate('ddb1',int_range=slice(0.87,1))\n",
    "\n",
    "# draw the plot of soft drop mass\n",
    "\n",
    "# NB: the Higgs mass window is 110-138 GeV\n",
    "plot_mconly_vbf(all_optim,'msd1','msd1')"
   ]
  },
  {
   "cell_type": "code",
   "execution_count": 13,
   "metadata": {},
   "outputs": [
    {
     "data": {
      "image/png": "[encoded data removed]",
      "text/plain": [
       "<Figure size 720x720 with 1 Axes>"
      ]
     },
     "metadata": {
      "needs_background": "light"
     },
     "output_type": "display_data"
    }
   ],
   "source": [
    "#cut v2 optimally, plot by soft drop mass\n",
    "all_optim2 = templates_2.integrate('systematic', 'nominal').integrate('deta',int_range=slice(0,7)).integrate('mjj',int_range=slice(0,4000)).integrate('msd1',int_range=slice(47, 201))\n",
    "plot_mconly_vbf(all_optim2,'ddb1','ddb1')"
   ]
  },
  {
   "cell_type": "code",
   "execution_count": 14,
   "metadata": {},
   "outputs": [
    {
     "name": "stdout",
     "output_type": "stream",
     "text": [
      "dict_values([14.304828589832868, 11.4139819129795, 21.686125320483697, 32.28007896249089, 75.87214395099782, 154.90639948240496, 3956029.4991073757, 1273.5304995197805, 87111.29949285633, 37622.625855015205, 19498.994642876267, 3073.465121554772])\n",
      "dict_values([8.839498985087143, 6.169026660116292, 14.260506031242137, 29.24996186121104, 68.41451313915016, 141.4829373448717, 299977.0941235869, 240.2508955401336, 10765.016871840291, 6669.7739293988125, 9962.783571876522, 1262.5749134165426])\n",
      "dict_values([8.367493855624435, 5.655436003612417, 12.7243442235202, 28.732535053077193, 67.18113858597619, 137.85918786373685, 220918.84236568984, 180.97175931334118, 7497.335088740741, 5487.211152115962, 8257.207078063042, 1034.6137377623704])\n",
      "dict_values([8.089574135366135, 5.3363980374543525, 11.65674764868077, 28.39499439163786, 65.69859359471477, 136.5035150857213, 181555.7277188131, 152.6317521843973, 5935.3244804515125, 4868.420211050535, 7148.768822669555, 872.5270321186847])\n",
      "dict_values([7.879997768160798, 5.105166748663474, 10.846307600426426, 28.066124525088654, 65.2980573391565, 133.94335083264977, 157198.81808814968, 129.11781192148646, 4968.59325144328, 4454.946634148035, 6307.36148913218, 765.7505548915449])\n",
      "dict_values([7.771373849758611, 5.028828625697709, 10.191710177329858, 27.742235001198786, 64.32186261747644, 131.7236257561029, 140489.3679447299, 117.56254181394795, 4276.524835806511, 4157.306678420142, 5654.9641793981045, 677.3714155449969])\n",
      "dict_values([7.603765900020312, 4.815372303778828, 9.684937740864113, 27.482878363295153, 62.672262727624876, 129.30140435066696, 126434.85663800836, 102.78523103203166, 3767.8421846030956, 3928.715518984963, 5101.437478309047, 609.0404728670807])\n",
      "dict_values([7.402400860717177, 4.749249222391118, 9.183470831415338, 27.298808676215533, 62.58771953173467, 127.88564444251855, 115608.75021690025, 97.06533342913427, 3380.453921559929, 3736.561433750272, 4653.504886748768, 551.9211386446465])\n",
      "dict_values([7.297888977011675, 4.614204940578085, 8.771573380233068, 27.027957029954898, 61.88663681113871, 126.9090838047201, 106324.86701253022, 91.6254427818321, 3052.1807170833335, 3571.9751006934925, 4274.222833019312, 503.07247742552624])\n",
      "dict_values([7.247188726200835, 4.56761192885246, 8.455216382832008, 26.635106973673675, 61.32418951696815, 125.8112302590192, 98422.5802157628, 88.60895591367382, 2781.572047964387, 3430.122959224735, 3930.578472377807, 462.8780523321259])\n",
      "dict_values([7.096966303512646, 4.453032468705182, 8.134710447052262, 26.37782659316998, 60.60379205713671, 124.33044682029521, 91504.78738134532, 85.04703306549642, 2571.932341883677, 3305.106804288803, 3624.9001899702753, 430.2829477386622])\n",
      "dict_values([6.9462733477272, 4.436756203360402, 7.836615471101869, 26.167104321563396, 59.47454046746303, 122.61612031712609, 85327.58744748979, 78.08649445953867, 2376.549883367486, 3189.633942788102, 3357.7012097250836, 402.1919467068861])\n",
      "dict_values([6.843590255314393, 4.347152413053882, 7.559890996451168, 25.958624785265386, 59.145642217528426, 120.33178044989165, 80078.54936836139, 74.55635004672376, 2210.1571741829052, 3089.8993061745277, 3121.6906710734975, 375.55215604680825])\n",
      "dict_values([6.756763565033875, 4.301021723145302, 7.260604997113982, 25.689183257273974, 58.798209674696146, 119.08570218759672, 75031.98291334679, 71.20289281994627, 2062.082030715781, 2989.5403883585764, 2897.2535675046333, 354.19662894111417])\n",
      "dict_values([6.628374285267467, 4.230037002309174, 7.049130941090346, 25.46202256357834, 57.70777748282522, 117.60132965503172, 70413.16262880995, 69.2974529467272, 1928.666449175187, 2899.4501519096348, 2704.428712015116, 335.3042589878649])\n",
      "dict_values([6.5389695111009365, 4.219899958877051, 6.832232031372532, 25.242264611742407, 57.44255187970155, 116.68061216536894, 66440.35997309435, 66.60989764986478, 1815.2528981094906, 2817.011724570739, 2543.433614779072, 311.62104867681626])\n",
      "dict_values([6.392187134705331, 4.208427167851142, 6.651831468073679, 25.041077974204473, 56.07273066653999, 116.16119176057103, 62369.25398916283, 64.56542697395636, 1705.4710536221805, 2742.27947864856, 2393.3594035121723, 291.6432007483058])\n",
      "dict_values([6.321229040851767, 4.157568238545069, 6.425221909676719, 24.61450318079451, 55.04739976767081, 114.41747466865222, 58847.1007824133, 62.162943204137704, 1603.5829280969308, 2664.4700406880265, 2247.6311962641867, 275.8976835982602])\n",
      "dict_values([6.240933784289012, 4.154716865528119, 6.259859262600714, 24.203509389559716, 54.53916457331095, 112.6451053920246, 55656.63605015474, 58.88584832029074, 1521.9069111572182, 2595.3034584124857, 2118.2381069792223, 258.73564917233807])\n",
      "dict_values([6.204891456837954, 4.130877427441204, 6.015401982671305, 23.91915121051548, 53.86364307934983, 111.35191190180387, 52697.77228825803, 56.25576279466312, 1432.3614350502137, 2524.9802232849866, 1987.4299671171484, 242.37796643032058])\n",
      "dict_values([6.149785847939557, 4.038441359266095, 5.847770702588512, 23.598944791988604, 53.314484653635475, 110.10603013889155, 49915.64166221788, 55.239927248877976, 1352.8347699947958, 2462.1047681115183, 1871.211594393735, 231.18019776843693])\n",
      "dict_values([5.983331519319393, 4.034934252598167, 5.701907582446681, 23.22424786234177, 52.95590513946466, 108.65429795047193, 47259.429162834494, 52.91302118786546, 1278.8813803650307, 2400.683125103097, 1760.6470347805334, 216.63700471189185])\n",
      "dict_values([5.878506005065317, 3.9766008038402108, 5.550067219136805, 22.925433169718776, 52.529950313980855, 107.05993531051547, 44820.34707183061, 51.011925398634226, 1216.3348165291504, 2343.7361560601585, 1656.0300933791439, 206.2659062768041])\n",
      "dict_values([5.712191763539654, 3.873701825186561, 5.40924848916827, 22.454037418920347, 51.72958728269419, 105.44011180810507, 42598.57550253749, 48.11568323114699, 1158.3748684010616, 2287.9320086997777, 1572.8363254342253, 192.46692724374094])\n",
      "dict_values([5.632191914966737, 3.7269675914244327, 5.233166947735096, 22.29703140745135, 51.486589234009635, 104.4029431706486, 40552.97492780686, 47.56687070573113, 1101.413994070944, 2236.643551173896, 1490.5054203145082, 182.23140091985118])\n",
      "dict_values([5.612612088714069, 3.6980015021961425, 5.120846082271045, 22.025598004740456, 50.70992804280849, 103.09421271989677, 38548.871161270516, 47.31242537999896, 1047.2806299913866, 2181.8828722255907, 1420.521624746477, 173.77013863352042])\n",
      "dict_values([5.569831584253165, 3.634563063557838, 4.965109550155827, 21.66183254137677, 50.1653098510128, 101.59358303692412, 36637.5539074933, 46.27438020607327, 996.4092676365273, 2128.3272051366034, 1341.6545732505454, 161.76045297295929])\n",
      "dict_values([5.540001661000081, 3.6045603910075936, 4.819230718979919, 21.35848801094766, 48.47955364630986, 100.94163966631358, 34860.16802424857, 45.07540802122113, 949.4001748701058, 2081.0785566160084, 1267.0889867806302, 153.39624755765124])\n",
      "dict_values([5.445794846284034, 3.5966650784676704, 4.716866345165246, 21.11760800409469, 47.626268136015675, 99.51402658575556, 33218.27893665707, 43.179934836490695, 906.7858922005523, 2035.7382344792231, 1205.6158340301863, 143.2751794432848])\n",
      "dict_values([5.306211320687368, 3.535216399868336, 4.61225346850675, 20.728121501886008, 46.85671774647121, 98.16753624939909, 31712.626262690592, 42.336553279367266, 868.4633945092415, 1993.977391929667, 1136.2008835372746, 135.32451322847993])\n",
      "dict_values([5.291283196327404, 3.4489468999348203, 4.493976235626111, 20.40355317504611, 46.075348190722096, 97.09450978881162, 30119.210932944872, 41.113669085086414, 832.243592086337, 1951.5161297414227, 1075.5359924267116, 128.8116375053365])\n",
      "dict_values([5.186432480863176, 3.4303303673926826, 4.390447745001335, 20.13573848465383, 45.067944405324305, 95.22664918152525, 28802.74635000153, 39.471078495277226, 794.6672883515312, 1909.1008572828596, 1018.299775892459, 124.10232897839995])\n",
      "dict_values([5.101117029839802, 3.3510877964908867, 4.28817914365881, 19.81925416722043, 44.093026466305425, 94.34439011494925, 27580.06828021151, 38.16959928883886, 761.3668411874029, 1869.3204083029384, 973.5844853627324, 117.33799336296391])\n",
      "dict_values([5.017751369381234, 3.286825889351363, 4.184547160412763, 19.550356592840885, 43.01556425130198, 92.82925929899523, 26135.161714182075, 36.96094429202649, 728.3549128802597, 1833.8171961567066, 933.2121307787756, 109.2786285336512])\n"
     ]
    },
    {
     "ename": "AssertionError",
     "evalue": "66 66.000000 <Bin (name=ddb1) instance at 0x7f24f9789130>",
     "output_type": "error",
     "traceback": [
      "\u001b[0;31m---------------------------------------------------------------------------\u001b[0m",
      "\u001b[0;31mAssertionError\u001b[0m                            Traceback (most recent call last)",
      "\u001b[0;32m/tmp/ipykernel_14688/1617556478.py\u001b[0m in \u001b[0;36m<module>\u001b[0;34m\u001b[0m\n\u001b[1;32m      2\u001b[0m \u001b[0mplot_thing\u001b[0m \u001b[0;34m=\u001b[0m \u001b[0;34m{\u001b[0m\u001b[0;34m}\u001b[0m\u001b[0;34m\u001b[0m\u001b[0;34m\u001b[0m\u001b[0m\n\u001b[1;32m      3\u001b[0m \u001b[0;32mfor\u001b[0m \u001b[0mx\u001b[0m \u001b[0;32min\u001b[0m \u001b[0mddbs\u001b[0m\u001b[0;34m:\u001b[0m\u001b[0;34m\u001b[0m\u001b[0;34m\u001b[0m\u001b[0m\n\u001b[0;32m----> 4\u001b[0;31m     \u001b[0mres\u001b[0m \u001b[0;34m=\u001b[0m \u001b[0mall_optim2\u001b[0m\u001b[0;34m.\u001b[0m\u001b[0mintegrate\u001b[0m\u001b[0;34m(\u001b[0m\u001b[0;34m'ddb1'\u001b[0m\u001b[0;34m,\u001b[0m \u001b[0mint_range\u001b[0m\u001b[0;34m=\u001b[0m\u001b[0mslice\u001b[0m\u001b[0;34m(\u001b[0m\u001b[0mx\u001b[0m\u001b[0;34m,\u001b[0m \u001b[0;36m1\u001b[0m\u001b[0;34m)\u001b[0m\u001b[0;34m)\u001b[0m\u001b[0;34m.\u001b[0m\u001b[0mvalues\u001b[0m\u001b[0;34m(\u001b[0m\u001b[0;34m)\u001b[0m\u001b[0;34m\u001b[0m\u001b[0;34m\u001b[0m\u001b[0m\n\u001b[0m\u001b[1;32m      5\u001b[0m     \u001b[0;32mfor\u001b[0m \u001b[0my\u001b[0m \u001b[0;32min\u001b[0m \u001b[0mres\u001b[0m\u001b[0;34m:\u001b[0m\u001b[0;34m\u001b[0m\u001b[0;34m\u001b[0m\u001b[0m\n\u001b[1;32m      6\u001b[0m         \u001b[0;32mif\u001b[0m \u001b[0my\u001b[0m \u001b[0;32mnot\u001b[0m \u001b[0;32min\u001b[0m \u001b[0mplot_thing\u001b[0m\u001b[0;34m:\u001b[0m\u001b[0;34m\u001b[0m\u001b[0;34m\u001b[0m\u001b[0m\n",
      "\u001b[0;32m/opt/conda/lib/python3.8/site-packages/coffea/hist/hist_tools.py\u001b[0m in \u001b[0;36mintegrate\u001b[0;34m(self, axis_name, int_range, overflow)\u001b[0m\n\u001b[1;32m   1218\u001b[0m             \u001b[0;32melif\u001b[0m \u001b[0mint_range\u001b[0m\u001b[0;34m.\u001b[0m\u001b[0mhi\u001b[0m \u001b[0;34m==\u001b[0m \u001b[0mnumpy\u001b[0m\u001b[0;34m.\u001b[0m\u001b[0minf\u001b[0m\u001b[0;34m:\u001b[0m\u001b[0;34m\u001b[0m\u001b[0;34m\u001b[0m\u001b[0m\n\u001b[1;32m   1219\u001b[0m                 \u001b[0moverflow\u001b[0m \u001b[0;34m=\u001b[0m \u001b[0;34m\"over\"\u001b[0m\u001b[0;34m\u001b[0m\u001b[0;34m\u001b[0m\u001b[0m\n\u001b[0;32m-> 1220\u001b[0;31m         return self[full_slice].sum(\n\u001b[0m\u001b[1;32m   1221\u001b[0m             \u001b[0maxis\u001b[0m\u001b[0;34m.\u001b[0m\u001b[0mname\u001b[0m\u001b[0;34m,\u001b[0m \u001b[0moverflow\u001b[0m\u001b[0;34m=\u001b[0m\u001b[0moverflow\u001b[0m\u001b[0;34m\u001b[0m\u001b[0;34m\u001b[0m\u001b[0m\n\u001b[1;32m   1222\u001b[0m         )  # slice may make new axis, use name\n",
      "\u001b[0;32m/opt/conda/lib/python3.8/site-packages/coffea/hist/hist_tools.py\u001b[0m in \u001b[0;36m__getitem__\u001b[0;34m(self, keys)\u001b[0m\n\u001b[1;32m   1012\u001b[0m                 \u001b[0mislice\u001b[0m \u001b[0;34m=\u001b[0m \u001b[0max\u001b[0m\u001b[0;34m.\u001b[0m\u001b[0m_ireduce\u001b[0m\u001b[0;34m(\u001b[0m\u001b[0ms\u001b[0m\u001b[0;34m)\u001b[0m\u001b[0;34m\u001b[0m\u001b[0;34m\u001b[0m\u001b[0m\n\u001b[1;32m   1013\u001b[0m                 \u001b[0mdense_idx\u001b[0m\u001b[0;34m.\u001b[0m\u001b[0mappend\u001b[0m\u001b[0;34m(\u001b[0m\u001b[0mislice\u001b[0m\u001b[0;34m)\u001b[0m\u001b[0;34m\u001b[0m\u001b[0;34m\u001b[0m\u001b[0m\n\u001b[0;32m-> 1014\u001b[0;31m                 \u001b[0mnew_dims\u001b[0m\u001b[0;34m.\u001b[0m\u001b[0mappend\u001b[0m\u001b[0;34m(\u001b[0m\u001b[0max\u001b[0m\u001b[0;34m.\u001b[0m\u001b[0mreduced\u001b[0m\u001b[0;34m(\u001b[0m\u001b[0mislice\u001b[0m\u001b[0;34m)\u001b[0m\u001b[0;34m)\u001b[0m\u001b[0;34m\u001b[0m\u001b[0;34m\u001b[0m\u001b[0m\n\u001b[0m\u001b[1;32m   1015\u001b[0m         \u001b[0mdense_idx\u001b[0m \u001b[0;34m=\u001b[0m \u001b[0mtuple\u001b[0m\u001b[0;34m(\u001b[0m\u001b[0mdense_idx\u001b[0m\u001b[0;34m)\u001b[0m\u001b[0;34m\u001b[0m\u001b[0;34m\u001b[0m\u001b[0m\n\u001b[1;32m   1016\u001b[0m \u001b[0;34m\u001b[0m\u001b[0m\n",
      "\u001b[0;32m/opt/conda/lib/python3.8/site-packages/coffea/hist/hist_tools.py\u001b[0m in \u001b[0;36mreduced\u001b[0;34m(self, islice)\u001b[0m\n\u001b[1;32m    715\u001b[0m             \u001b[0;31m# TODO: remove this once satisfied it works\u001b[0m\u001b[0;34m\u001b[0m\u001b[0;34m\u001b[0m\u001b[0;34m\u001b[0m\u001b[0m\n\u001b[1;32m    716\u001b[0m             \u001b[0mrbins\u001b[0m \u001b[0;34m=\u001b[0m \u001b[0;34m(\u001b[0m\u001b[0mhi\u001b[0m \u001b[0;34m-\u001b[0m \u001b[0mlo\u001b[0m\u001b[0;34m)\u001b[0m \u001b[0;34m*\u001b[0m \u001b[0mself\u001b[0m\u001b[0;34m.\u001b[0m\u001b[0m_bins\u001b[0m \u001b[0;34m/\u001b[0m \u001b[0;34m(\u001b[0m\u001b[0mself\u001b[0m\u001b[0;34m.\u001b[0m\u001b[0m_hi\u001b[0m \u001b[0;34m-\u001b[0m \u001b[0mself\u001b[0m\u001b[0;34m.\u001b[0m\u001b[0m_lo\u001b[0m\u001b[0;34m)\u001b[0m\u001b[0;34m\u001b[0m\u001b[0;34m\u001b[0m\u001b[0m\n\u001b[0;32m--> 717\u001b[0;31m             \u001b[0;32massert\u001b[0m \u001b[0mabs\u001b[0m\u001b[0;34m(\u001b[0m\u001b[0mbins\u001b[0m \u001b[0;34m-\u001b[0m \u001b[0mrbins\u001b[0m\u001b[0;34m)\u001b[0m \u001b[0;34m<\u001b[0m \u001b[0;36m1e-14\u001b[0m\u001b[0;34m,\u001b[0m \u001b[0;34m\"%d %f %r\"\u001b[0m \u001b[0;34m%\u001b[0m \u001b[0;34m(\u001b[0m\u001b[0mbins\u001b[0m\u001b[0;34m,\u001b[0m \u001b[0mrbins\u001b[0m\u001b[0;34m,\u001b[0m \u001b[0mself\u001b[0m\u001b[0;34m)\u001b[0m\u001b[0;34m\u001b[0m\u001b[0;34m\u001b[0m\u001b[0m\n\u001b[0m\u001b[1;32m    718\u001b[0m             \u001b[0max\u001b[0m \u001b[0;34m=\u001b[0m \u001b[0mBin\u001b[0m\u001b[0;34m(\u001b[0m\u001b[0mself\u001b[0m\u001b[0;34m.\u001b[0m\u001b[0m_name\u001b[0m\u001b[0;34m,\u001b[0m \u001b[0mself\u001b[0m\u001b[0;34m.\u001b[0m\u001b[0m_label\u001b[0m\u001b[0;34m,\u001b[0m \u001b[0mbins\u001b[0m\u001b[0;34m,\u001b[0m \u001b[0mlo\u001b[0m\u001b[0;34m,\u001b[0m \u001b[0mhi\u001b[0m\u001b[0;34m)\u001b[0m\u001b[0;34m\u001b[0m\u001b[0;34m\u001b[0m\u001b[0m\n\u001b[1;32m    719\u001b[0m             \u001b[0;32mreturn\u001b[0m \u001b[0max\u001b[0m\u001b[0;34m\u001b[0m\u001b[0;34m\u001b[0m\u001b[0m\n",
      "\u001b[0;31mAssertionError\u001b[0m: 66 66.000000 <Bin (name=ddb1) instance at 0x7f24f9789130>"
     ]
    }
   ],
   "source": [
    "ddbs = [x.lo for x in all_optim2.identifiers('ddb1')]\n",
    "plot_thing = {}\n",
    "for x in ddbs:\n",
    "    res = all_optim2.integrate('ddb1', int_range=slice(x, 1)).values()\n",
    "    for y in res:\n",
    "        if y not in plot_thing:\n",
    "            plot_thing[y] = res[y]\n",
    "        else:\n",
    "            g=2\n",
    "            \n",
    "    print(res.values())"
   ]
  },
  {
   "cell_type": "code",
   "execution_count": null,
   "metadata": {},
   "outputs": [],
   "source": [
    "templates_2.identifiers('msd1')"
   ]
  },
  {
   "cell_type": "code",
   "execution_count": null,
   "metadata": {},
   "outputs": [],
   "source": [
    "#cut v2 optimally, plot by soft drop mass\n",
    "all_optim2 = templates_2.integrate('systematic', 'nominal').integrate('deta',int_range=slice(3.5,7)).integrate('mjj',int_range=slice(1000,4000)).integrate('ddb1',int_range=slice(0.64,1))\n",
    "plot_mconly_vbf(all_optim2,'msd1','msd1')"
   ]
  },
  {
   "cell_type": "code",
   "execution_count": null,
   "metadata": {},
   "outputs": [],
   "source": []
  },
  {
   "cell_type": "code",
   "execution_count": null,
   "metadata": {},
   "outputs": [],
   "source": [
    "templates_window2 = templates_2.integrate('systematic', 'nominal').integrate('msd1', int_range=slice(110,138)) "
   ]
  },
  {
   "cell_type": "code",
   "execution_count": null,
   "metadata": {
    "scrolled": true
   },
   "outputs": [],
   "source": [
    "# Apply a cut\n",
    "templates_cut = templates_window.integrate('deta',int_range=slice(3,7)).integrate('mjj',int_range=slice(1500,4000))\n",
    "\n",
    "# Print the number of events passing the cut per process\n",
    "templates_cut.sum('ddb1').values()"
   ]
  },
  {
   "cell_type": "code",
   "execution_count": null,
   "metadata": {},
   "outputs": [],
   "source": [
    "sr = templates_cut.integrate('ddb1',int_range=slice(0.87,1)).values()\n",
    "\n",
    "# Get the number of signal and background events\n",
    "s = sr[('VBF',)] \n",
    "b = sr[('QCD',)] + sr[('Zjets',)] + sr[('Wjets',)] + sr[('VV',)] + sr[('ttbar',)] +sr[('singlet',)] + sr[('ggF',)] + sr[('WH',)] + sr[('ZH',)] + sr[('ttH',)]\n",
    "q = sr[('QCD',)]\n",
    "\n",
    "# Print the significance\n",
    "print(significance(s,b, q))\n",
    "# Note: this only makes sense in the mass window of Higgs"
   ]
  },
  {
   "cell_type": "code",
   "execution_count": null,
   "metadata": {},
   "outputs": [],
   "source": [
    "sr"
   ]
  },
  {
   "cell_type": "code",
   "execution_count": null,
   "metadata": {},
   "outputs": [],
   "source": [
    "#make 3d array of significance scan for mjj, deta, ddb2 only measured at bin edges (version 2)\n",
    "scan_1 = os.path.isfile('ddb1-scan.npy')\n",
    "if not scan_1:\n",
    "    mjj_edges = [x.lo for x in templates_window.identifiers('mjj')]\n",
    "    deta_edges = [x.lo for x in templates_window.identifiers('deta')]\n",
    "    dbb_edges = [x.lo for x in templates_window.identifiers('ddb1')]\n",
    "    nmjj = len(mjj_edges)\n",
    "    ndeta = len(deta_edges)\n",
    "    ndbb = len(dbb_edges)\n",
    "    res2 = np.zeros((ndeta, nmjj, ndbb))\n",
    "    #qs = np.zeros((ndeta, nmjj, ndbb))\n",
    "    for x in tqdm(range(ndeta)):\n",
    "        det = deta_edges[x]\n",
    "        for y in range(nmjj):\n",
    "            mj = mjj_edges[y]\n",
    "            templates_cut = templates_window.integrate('deta',int_range=slice(det,7)).integrate('mjj',int_range=slice(mj,4000))\n",
    "            for z in range(ndbb):\n",
    "                try:\n",
    "                    sr = templates_cut.integrate('ddb1',int_range=slice(dbb_edges[z],1)).values()\n",
    "\n",
    "                    # Get the number of signal and background events\n",
    "                    s = sr[('VBF',)] \n",
    "                    b = sr[('QCD',)] + sr[('Zjets',)] + sr[('Wjets',)] + sr[('VV',)] + sr[('ttbar',)] +sr[('singlet',)] + sr[('ggF',)] + sr[('WH',)] + sr[('ZH',)] + sr[('ttH',)]\n",
    "                    q = sr[('QCD',)]\n",
    "                    \n",
    "                    # Calculate significance, add it to result array\n",
    "                    sig = significance(s,b, q, cutq=True)\n",
    "                    res2[x][y][z] = sig if not np.isnan(sig) else 0\n",
    "                    #qs[x][y][z] = q\n",
    "                    # Note: this only makes sense in the mass window of Higgs\n",
    "                except AssertionError:\n",
    "                    hhh=1#print(e)\n",
    "    np.save('ddb1-scan.npy', res2)"
   ]
  },
  {
   "cell_type": "code",
   "execution_count": null,
   "metadata": {},
   "outputs": [],
   "source": [
    "#make 3d array of significance scan for mjj, deta, ddb2 only measured at bin edges (version 2)\n",
    "scan_2 = os.path.isfile('ddb2-scan.npy')\n",
    "if not scan_2:\n",
    "    mjj_edges = [x.lo for x in templates_window2.identifiers('mjj')]\n",
    "    deta_edges = [x.lo for x in templates_window2.identifiers('deta')]\n",
    "    dbb_edges = [x.lo for x in templates_window2.identifiers('ddb1')]\n",
    "    nmjj = len(mjj_edges)\n",
    "    ndeta = len(deta_edges)\n",
    "    ndbb = len(dbb_edges)\n",
    "    res2 = np.zeros((ndeta, nmjj, ndbb))\n",
    "    #qs = np.zeros((ndeta, nmjj, ndbb))\n",
    "    for x in tqdm(range(ndeta)):\n",
    "        det = deta_edges[x]\n",
    "        for y in range(nmjj):\n",
    "            mj = mjj_edges[y]\n",
    "            templates_cut = templates_window2.integrate('deta',int_range=slice(det,7)).integrate('mjj',int_range=slice(mj,4000))\n",
    "            for z in range(ndbb):\n",
    "                try:\n",
    "                    sr = templates_cut.integrate('ddb1',int_range=slice(dbb_edges[z],1)).values()\n",
    "\n",
    "                    # Get the number of signal and background events\n",
    "                    s = sr[('VBF',)] \n",
    "                    b = sr[('QCD',)] + sr[('Zjets',)] + sr[('Wjets',)] + sr[('VV',)] + sr[('ttbar',)] +sr[('singlet',)] + sr[('ggF',)] + sr[('WH',)] + sr[('ZH',)] + sr[('ttH',)]\n",
    "                    q = sr[('QCD',)]\n",
    "                    \n",
    "                    # Calculate significance, add it to result array\n",
    "                    sig = significance(s,b, q, cutq=True)\n",
    "                    res2[x][y][z] = sig if not np.isnan(sig) else 0\n",
    "                    #qs[x][y][z] = q\n",
    "                    # Note: this only makes sense in the mass window of Higgs\n",
    "                except AssertionError:\n",
    "                    hhh=1#print(e)\n",
    "    np.save('ddb2-scan.npy', res2)"
   ]
  },
  {
   "cell_type": "code",
   "execution_count": null,
   "metadata": {},
   "outputs": [],
   "source": [
    "#load 3d scans for v1 and v2 of ddb\n",
    "ddb1_scan = np.load('ddb1-scan.npy')\n",
    "ddb2_scan = np.load('ddb2-scan.npy')"
   ]
  },
  {
   "cell_type": "code",
   "execution_count": null,
   "metadata": {},
   "outputs": [],
   "source": [
    "mjj_edges2 = [x.lo for x in templates_window2.identifiers('mjj')]\n",
    "deta_edges2 = [x.lo for x in templates_window2.identifiers('deta')]\n",
    "dbb_edges2 = [x.lo for x in templates_window2.identifiers('ddb1')]\n",
    "nmjj2 = len(mjj_edges)\n",
    "ndeta2 = len(deta_edges)\n",
    "ndbb2 = len(dbb_edges)\n",
    "\n",
    "tempg = templates_window\n",
    "\n",
    "mjj_edges = [x.lo for x in tempg.identifiers('mjj')]\n",
    "deta_edges = [x.lo for x in tempg.identifiers('deta')]\n",
    "dbb_edges = [x.lo for x in tempg.identifiers('ddb1')]\n",
    "nmjj = len(mjj_edges)\n",
    "ndeta = len(deta_edges)\n",
    "ndbb = len(dbb_edges)\n",
    "\n",
    "lx = ndeta\n",
    "ly = nmjj\n",
    "lz = ndbb\n",
    "\n",
    "x2, y2, z2 = np.unravel_index(np.argmax(ddb1_scan), ddb1_scan.shape)\n",
    "\n",
    "x3, y3, z3 = np.unravel_index(np.argmax(ddb2_scan), ddb2_scan.shape)\n",
    "\n",
    "\n",
    "print('v1: Max significance of %f occurs at mjj=%d, deta=%f, dbb1=%f'%(np.max(ddb1_scan), mjj_edges[y2], deta_edges[x2], dbb_edges[z2]))\n",
    "print('v2: Max significance of %f occurs at mjj=%d, deta=%f, dbb1=%f'%(np.max(ddb2_scan), mjj_edges2[y3], deta_edges2[x3], dbb_edges2[z3]))"
   ]
  },
  {
   "cell_type": "code",
   "execution_count": null,
   "metadata": {},
   "outputs": [],
   "source": [
    "tempg = templates_window\n",
    "\n",
    "mjj_edges = [x.lo for x in tempg.identifiers('mjj')]\n",
    "deta_edges = [x.lo for x in tempg.identifiers('deta')]\n",
    "ddb_edges = [x.lo for x in tempg.identifiers('ddb1')]\n",
    "nmjj = len(mjj_edges)\n",
    "ndeta = len(deta_edges)\n",
    "ndbb = len(dbb_edges)\n",
    "\n",
    "plt.figure()\n",
    "plt.plot(ddb1_scan[x2,:,z2])\n",
    "label = 'mjj'\n",
    "dat = mjj_edges\n",
    "ndat = len(dat)\n",
    "ratlabels = 2\n",
    "\n",
    "plt.title('Significance by %s, ddb=0.87, dEta=4'%label)\n",
    "plt.xlabel('min cut for %s'%label)\n",
    "plt.xticks(np.arange(round(ndat/ratlabels))*ratlabels, [round(dat[x], 2) for x in np.arange(round(ndat/ratlabels))*ratlabels])\n",
    "plt.ylabel('Significance')\n",
    "plt.savefig('%sv1.png'%label)"
   ]
  },
  {
   "cell_type": "code",
   "execution_count": null,
   "metadata": {},
   "outputs": [],
   "source": [
    "tempg = templates_window2\n",
    "\n",
    "mjj_edges = [x.lo for x in tempg.identifiers('mjj')]\n",
    "deta_edges = [x.lo for x in tempg.identifiers('deta')]\n",
    "dbb_edges = [x.lo for x in tempg.identifiers('ddb1')]\n",
    "nmjj = len(mjj_edges)\n",
    "ndeta = len(deta_edges)\n",
    "ndbb = len(dbb_edges)\n",
    "\n",
    "\n",
    "mjjdet2 = np.rot90(ddb2_scan[:, :, z3])\n",
    "plt.figure()\n",
    "plt.imshow(mjjdet2)\n",
    "plt.title('Significance for mjj vs. dEta\\n version 2 ddb1')\n",
    "plt.colorbar()\n",
    "plt.ylabel('min cut for mjj')\n",
    "plt.xlabel('min cut for dEta')\n",
    "mjj_edges.reverse()\n",
    "plt.yticks(np.arange(nmjj), mjj_edges)\n",
    "plt.xticks(np.arange(ndeta), deta_edges)\n",
    "plt.tight_layout()\n",
    "plt.savefig('mjjdetav2.png')"
   ]
  },
  {
   "cell_type": "code",
   "execution_count": null,
   "metadata": {},
   "outputs": [],
   "source": [
    "#make 3d array of significance scan for mjj, deta, ddb2 only measured at bin edges (version 2)\n",
    "scan_z1 = os.path.isfile('zhv1-scan.npy')\n",
    "if not scan_z1:\n",
    "    mjj_edges = [x.lo for x in templates_window.identifiers('mjj')]\n",
    "    deta_edges = [x.lo for x in templates_window.identifiers('deta')]\n",
    "    dbb_edges = [x.lo for x in templates_window.identifiers('ddb1')]\n",
    "    nmjj = len(mjj_edges)\n",
    "    ndeta = len(deta_edges)\n",
    "    ndbb = len(dbb_edges)\n",
    "    res2 = np.zeros((ndeta, nmjj, ndbb))\n",
    "    #qs = np.zeros((ndeta, nmjj, ndbb))\n",
    "    for x in tqdm(range(ndeta)):\n",
    "        det = deta_edges[x]\n",
    "        for y in range(nmjj):\n",
    "            mj = mjj_edges[y]\n",
    "            templates_cut = templates_window.integrate('deta',int_range=slice(det,7)).integrate('mjj',int_range=slice(mj,4000))\n",
    "            for z in range(ndbb):\n",
    "                try:\n",
    "                    sr = templates_cut.integrate('ddb1',int_range=slice(dbb_edges[z],1)).values()\n",
    "\n",
    "                    # Get the number of signal and background events\n",
    "                    s = sr[('ZH',)] \n",
    "                    b = sr[('QCD',)] + sr[('Zjets',)] + sr[('Wjets',)] + sr[('VV',)] + sr[('ttbar',)] +sr[('singlet',)] + sr[('ggF',)] + sr[('WH',)] + sr[('VBF',)] + sr[('ttH',)]\n",
    "                    q = sr[('QCD',)]\n",
    "                    \n",
    "                    # Calculate significance, add it to result array\n",
    "                    sig = significance(s,b, q, cutq=True)\n",
    "                    res2[x][y][z] = sig if not np.isnan(sig) else 0\n",
    "                    #qs[x][y][z] = q\n",
    "                    # Note: this only makes sense in the mass window of Higgs\n",
    "                except AssertionError:\n",
    "                    hhh=1#print(e)\n",
    "    np.save('zhv1-scan.npy', res2)\n",
    "    \n",
    "    \n",
    "    \n",
    "#make 3d array of significance scan for mjj, deta, ddb2 only measured at bin edges (version 2)\n",
    "scan_z2 = os.path.isfile('zhv2-scan.npy')\n",
    "if not scan_z2:\n",
    "    mjj_edges = [x.lo for x in templates_window2.identifiers('mjj')]\n",
    "    deta_edges = [x.lo for x in templates_window2.identifiers('deta')]\n",
    "    dbb_edges = [x.lo for x in templates_window2.identifiers('ddb1')]\n",
    "    nmjj = len(mjj_edges)\n",
    "    ndeta = len(deta_edges)\n",
    "    ndbb = len(dbb_edges)\n",
    "    res2 = np.zeros((ndeta, nmjj, ndbb))\n",
    "    #qs = np.zeros((ndeta, nmjj, ndbb))\n",
    "    for x in tqdm(range(ndeta)):\n",
    "        det = deta_edges[x]\n",
    "        for y in range(nmjj):\n",
    "            mj = mjj_edges[y]\n",
    "            templates_cut = templates_window2.integrate('deta',int_range=slice(det,7)).integrate('mjj',int_range=slice(mj,4000))\n",
    "            for z in range(ndbb):\n",
    "                try:\n",
    "                    sr = templates_cut.integrate('ddb1',int_range=slice(dbb_edges[z],1)).values()\n",
    "\n",
    "                    # Get the number of signal and background events\n",
    "                    s = sr[('ZH',)] \n",
    "                    b = sr[('QCD',)] + sr[('Zjets',)] + sr[('Wjets',)] + sr[('VV',)] + sr[('ttbar',)] +sr[('singlet',)] + sr[('ggF',)] + sr[('WH',)] + sr[('VBF',)] + sr[('ttH',)]\n",
    "                    q = sr[('QCD',)]\n",
    "                    \n",
    "                    # Calculate significance, add it to result array\n",
    "                    sig = significance(s,b, q, cutq=True)\n",
    "                    res2[x][y][z] = sig if not np.isnan(sig) else 0\n",
    "                    #qs[x][y][z] = q\n",
    "                    # Note: this only makes sense in the mass window of Higgs\n",
    "                except AssertionError:\n",
    "                    hhh=1#print(e)\n",
    "    np.save('zhv2-scan.npy', res2)\n",
    "    \n",
    "#make 3d array of significance scan for mjj, deta, ddb2 only measured at bin edges (version 2)\n",
    "scan_w1 = os.path.isfile('whv1-scan.npy')\n",
    "if not scan_w1:\n",
    "    mjj_edges = [x.lo for x in templates_window.identifiers('mjj')]\n",
    "    deta_edges = [x.lo for x in templates_window.identifiers('deta')]\n",
    "    dbb_edges = [x.lo for x in templates_window.identifiers('ddb1')]\n",
    "    nmjj = len(mjj_edges)\n",
    "    ndeta = len(deta_edges)\n",
    "    ndbb = len(dbb_edges)\n",
    "    res2 = np.zeros((ndeta, nmjj, ndbb))\n",
    "    #qs = np.zeros((ndeta, nmjj, ndbb))\n",
    "    for x in tqdm(range(ndeta)):\n",
    "        det = deta_edges[x]\n",
    "        for y in range(nmjj):\n",
    "            mj = mjj_edges[y]\n",
    "            templates_cut = templates_window.integrate('deta',int_range=slice(det,7)).integrate('mjj',int_range=slice(mj,4000))\n",
    "            for z in range(ndbb):\n",
    "                try:\n",
    "                    sr = templates_cut.integrate('ddb1',int_range=slice(dbb_edges[z],1)).values()\n",
    "\n",
    "                    # Get the number of signal and background events\n",
    "                    s = sr[('WH',)] \n",
    "                    b = sr[('QCD',)] + sr[('Zjets',)] + sr[('Wjets',)] + sr[('VV',)] + sr[('ttbar',)] +sr[('singlet',)] + sr[('ggF',)] + sr[('ZH',)] + sr[('VBF',)] + sr[('ttH',)]\n",
    "                    q = sr[('QCD',)]\n",
    "                    \n",
    "                    # Calculate significance, add it to result array\n",
    "                    sig = significance(s,b, q, cutq=True)\n",
    "                    res2[x][y][z] = sig if not np.isnan(sig) else 0\n",
    "                    #qs[x][y][z] = q\n",
    "                    # Note: this only makes sense in the mass window of Higgs\n",
    "                except AssertionError:\n",
    "                    hhh=1#print(e)\n",
    "    np.save('whv1-scan.npy', res2)\n",
    "    \n",
    "    \n",
    "    \n",
    "#make 3d array of significance scan for mjj, deta, ddb2 only measured at bin edges (version 2)\n",
    "scan_w2 = os.path.isfile('whv2-scan.npy')\n",
    "if not scan_w2:\n",
    "    mjj_edges = [x.lo for x in templates_window2.identifiers('mjj')]\n",
    "    deta_edges = [x.lo for x in templates_window2.identifiers('deta')]\n",
    "    dbb_edges = [x.lo for x in templates_window2.identifiers('ddb1')]\n",
    "    nmjj = len(mjj_edges)\n",
    "    ndeta = len(deta_edges)\n",
    "    ndbb = len(dbb_edges)\n",
    "    res2 = np.zeros((ndeta, nmjj, ndbb))\n",
    "    #qs = np.zeros((ndeta, nmjj, ndbb))\n",
    "    for x in tqdm(range(ndeta)):\n",
    "        det = deta_edges[x]\n",
    "        for y in range(nmjj):\n",
    "            mj = mjj_edges[y]\n",
    "            templates_cut = templates_window2.integrate('deta',int_range=slice(det,7)).integrate('mjj',int_range=slice(mj,4000))\n",
    "            for z in range(ndbb):\n",
    "                try:\n",
    "                    sr = templates_cut.integrate('ddb1',int_range=slice(dbb_edges[z],1)).values()\n",
    "\n",
    "                    # Get the number of signal and background events\n",
    "                    s = sr[('WH',)] \n",
    "                    b = sr[('QCD',)] + sr[('Zjets',)] + sr[('Wjets',)] + sr[('VV',)] + sr[('ttbar',)] +sr[('singlet',)] + sr[('ggF',)] + sr[('ZH',)] + sr[('VBF',)] + sr[('ttH',)]\n",
    "                    q = sr[('QCD',)]\n",
    "                    \n",
    "                    # Calculate significance, add it to result array\n",
    "                    sig = significance(s,b, q, cutq=True)\n",
    "                    res2[x][y][z] = sig if not np.isnan(sig) else 0\n",
    "                    #qs[x][y][z] = q\n",
    "                    # Note: this only makes sense in the mass window of Higgs\n",
    "                except AssertionError:\n",
    "                    hhh=1#print(e)\n",
    "    np.save('whv2-scan.npy', res2)"
   ]
  },
  {
   "cell_type": "code",
   "execution_count": null,
   "metadata": {},
   "outputs": [],
   "source": [
    "#load 3d scans for v1 and v2 of ddb\n",
    "zh1_scan = np.load('zhv1-scan.npy')\n",
    "zh2_scan = np.load('zhv2-scan.npy')\n",
    "\n",
    "\n",
    "mjj_edges2 = [x.lo for x in templates_window2.identifiers('mjj')]\n",
    "deta_edges2 = [x.lo for x in templates_window2.identifiers('deta')]\n",
    "dbb_edges2 = [x.lo for x in templates_window2.identifiers('ddb1')]\n",
    "nmjj2 = len(mjj_edges)\n",
    "ndeta2 = len(deta_edges)\n",
    "ndbb2 = len(dbb_edges)\n",
    "\n",
    "tempg = templates_window\n",
    "\n",
    "mjj_edges = [x.lo for x in tempg.identifiers('mjj')]\n",
    "deta_edges = [x.lo for x in tempg.identifiers('deta')]\n",
    "dbb_edges = [x.lo for x in tempg.identifiers('ddb1')]\n",
    "nmjj = len(mjj_edges)\n",
    "ndeta = len(deta_edges)\n",
    "ndbb = len(dbb_edges)\n",
    "\n",
    "lx = ndeta\n",
    "ly = nmjj\n",
    "lz = ndbb\n",
    "\n",
    "x2, y2, z2 = np.unravel_index(np.argmax(zh1_scan), zh1_scan.shape)\n",
    "\n",
    "x3, y3, z3 = np.unravel_index(np.argmax(zh2_scan), zh2_scan.shape)\n",
    "\n",
    "\n",
    "print('zh v1: Max significance of %f occurs at mjj=%d, deta=%f, dbb1=%f'%(np.max(zh1_scan), mjj_edges[y2], deta_edges[x2], dbb_edges[z2]))\n",
    "print('zh v2: Max significance of %f occurs at mjj=%d, deta=%f, dbb1=%f'%(np.max(zh2_scan), mjj_edges2[y3], deta_edges2[x3], dbb_edges2[z3]))"
   ]
  },
  {
   "cell_type": "code",
   "execution_count": null,
   "metadata": {},
   "outputs": [],
   "source": [
    "#load 3d scans for v1 and v2 of ddb\n",
    "zh1_scan = np.load('whv1-scan.npy')\n",
    "zh2_scan = np.load('whv2-scan.npy')\n",
    "\n",
    "mjj_edges2 = [x.lo for x in templates_window2.identifiers('mjj')]\n",
    "deta_edges2 = [x.lo for x in templates_window2.identifiers('deta')]\n",
    "dbb_edges2 = [x.lo for x in templates_window2.identifiers('ddb1')]\n",
    "nmjj2 = len(mjj_edges)\n",
    "ndeta2 = len(deta_edges)\n",
    "ndbb2 = len(dbb_edges)\n",
    "\n",
    "tempg = templates_window\n",
    "\n",
    "mjj_edges = [x.lo for x in tempg.identifiers('mjj')]\n",
    "deta_edges = [x.lo for x in tempg.identifiers('deta')]\n",
    "dbb_edges = [x.lo for x in tempg.identifiers('ddb1')]\n",
    "nmjj = len(mjj_edges)\n",
    "ndeta = len(deta_edges)\n",
    "ndbb = len(dbb_edges)\n",
    "\n",
    "lx = ndeta\n",
    "ly = nmjj\n",
    "lz = ndbb\n",
    "\n",
    "x2, y2, z2 = np.unravel_index(np.argmax(zh1_scan), zh1_scan.shape)\n",
    "\n",
    "x3, y3, z3 = np.unravel_index(np.argmax(zh2_scan), zh2_scan.shape)\n",
    "\n",
    "\n",
    "print('wh v1: Max significance of %f occurs at mjj=%d, deta=%f, dbb1=%f'%(np.max(zh1_scan), mjj_edges[y2], deta_edges[x2], dbb_edges[z2]))\n",
    "print('wh v2: Max significance of %f occurs at mjj=%d, deta=%f, dbb1=%f'%(np.max(zh2_scan), mjj_edges2[y3], deta_edges2[x3], dbb_edges2[z3]))"
   ]
  },
  {
   "cell_type": "markdown",
   "metadata": {},
   "source": [
    "## Archive: \n",
    "Functions/code that I used to make plots I presented, but have since improved."
   ]
  },
  {
   "cell_type": "code",
   "execution_count": null,
   "metadata": {
    "scrolled": true
   },
   "outputs": [],
   "source": [
    "#make 3d array of significance scan for mjj, deta, ddb1 (100 steps, not very efficient. better version below)\n",
    "scan_1 = os.path.isfile('ddb1-scan100.npy')\n",
    "if not False: #scan_1:\n",
    "    detedges = templates_window.identifiers('deta')\n",
    "    res = np.zeros((100, 100, 100))\n",
    "    for x in tqdm(range(100)):\n",
    "        det = x/100*7\n",
    "        for y in range(100):\n",
    "            mj = y*40\n",
    "            templates_cut = templates_window.integrate('deta',int_range=slice(det,7)).integrate('mjj',int_range=slice(mj,4000))\n",
    "            for z in range(100):\n",
    "                if not z == 34:\n",
    "                    #34 always throws an error\n",
    "                    try:\n",
    "                        sr = templates_cut.integrate('ddb1',int_range=slice(z/100,1)).values()\n",
    "\n",
    "                        # Get the number of signal and background events\n",
    "                        s = sr[('VBF',)] \n",
    "                        b = sr[('QCD',)] + sr[('Zjets',)] + sr[('Wjets',)] + sr[('VV',)] + sr[('ttbar',)] +sr[('singlet',)] + sr[('ggF',)] + sr[('WH',)] + sr[('ZH',)] + sr[('ttH',)]\n",
    "                        q = sr[('QCD',)]\n",
    "\n",
    "                        # Print the significance\n",
    "                        sig = significance(s,b, q)\n",
    "                        res[x][y][z] = sig if not np.isnan(sig) else 0\n",
    "                        # Note: this only makes sense in the mass window of Higgs\n",
    "                    except:\n",
    "                        fff=1#print(\"something went wrong\", x, y, z)\n",
    "    np.save('ddb1-scan.npy', res)           \n"
   ]
  },
  {
   "cell_type": "code",
   "execution_count": null,
   "metadata": {
    "scrolled": true
   },
   "outputs": [],
   "source": [
    "#make 3d array of significance scan for mjj, deta, ddb2\n",
    "scan_2 = os.path.isfile('ddb2-scan100.npy')\n",
    "if not False: #scan_2:\n",
    "    res2 = np.zeros((100, 100, 100))\n",
    "    for x in tqdm(range(100)):\n",
    "        det = x/100*7\n",
    "        for y in range(100):\n",
    "            mj = y*40\n",
    "            templates_cut = templates_window2.integrate('deta',int_range=slice(det,7)).integrate('mjj',int_range=slice(mj,4000))\n",
    "            for z in range(100):\n",
    "                try:\n",
    "                    sr = templates_cut.integrate('ddb1',int_range=slice(z/100,1)).values()\n",
    "\n",
    "                    # Get the number of signal and background events\n",
    "                    s = sr[('VBF',)] \n",
    "                    b = sr[('QCD',)] + sr[('Zjets',)] + sr[('Wjets',)] + sr[('VV',)] + sr[('ttbar',)] +sr[('singlet',)] + sr[('ggF',)] + sr[('WH',)] + sr[('ZH',)] + sr[('ttH',)]\n",
    "                    q = sr[('QCD',)]\n",
    "                    \n",
    "                    # Calculate significance, add it to result array\n",
    "                    sig = significance(s,b, q)\n",
    "                    res2[x][y][z] = sig if not np.isnan(sig) else 0\n",
    "                    # Note: this only makes sense in the mass window of Higgs\n",
    "                except AssertionError:\n",
    "                    hhh=1#print(e)\n",
    "    np.save('ddb2-scan100.npy', res2)\n",
    "            "
   ]
  },
  {
   "cell_type": "code",
   "execution_count": null,
   "metadata": {},
   "outputs": [],
   "source": [
    "#load 3d scans for v1 and v2 of ddb\n",
    "ddb1_scan100 = np.load('ddb1-scan100.npy')\n",
    "ddb2_scan100 = np.load('ddb2-scan100.npy')"
   ]
  },
  {
   "cell_type": "code",
   "execution_count": null,
   "metadata": {},
   "outputs": [],
   "source": [
    "#get maximum significance for each\n",
    "vals1 = np.argmax(ddb1_scan)\n",
    "det1 = (vals1//10000)/100*7\n",
    "mjj1 = ((vals1%10000)//100)*40\n",
    "dbb1val = (vals1%100)/100\n",
    "\n",
    "vals2 = np.argmax(ddb2_scan)\n",
    "det2 = (vals2//10000)/100*7\n",
    "mjj2 = ((vals2%10000)//100)*40\n",
    "dbb2val = (vals2%100)/100\n",
    "print('v1: Max significance of %f occurs at mjj=%d, deta=%f, dbb1=%f'%(np.max(ddb1_scan), mjj1, det1, dbb1val), vals1)\n",
    "print('v2: Max significance of %f occurs at mjj=%d, deta=%f, dbb1=%f'%(np.max(ddb2_scan), mjj2, det2, dbb2val), vals2)"
   ]
  },
  {
   "cell_type": "code",
   "execution_count": null,
   "metadata": {},
   "outputs": [],
   "source": [
    "plt.figure()\n",
    "plt.plot(qs[x3,y3,:], label='QCD events')\n",
    "plt.plot(np.ones(len(qs[x3,y3,:]))*20, label='20 events')\n",
    "plt.xlabel('min cut for ddb1')\n",
    "plt.xticks(np.arange(5)*20, [dbb_edges[x*20] for x in np.arange(5)])\n",
    "plt.ylabel('Number of QCD events')\n",
    "plt.legend()\n",
    "plt.title('Number of QCD events by ddb1 cut')\n",
    "plt.savefig('qs_ddbscan.png')"
   ]
  },
  {
   "cell_type": "code",
   "execution_count": null,
   "metadata": {},
   "outputs": [],
   "source": [
    "plt.figure()\n",
    "plt.plot(qs[x3,y3,:], label='QCD events')\n",
    "plt.plot(np.ones(len(qs[x3,y3,:]))*20, label='20 events')\n",
    "plt.xlabel('min cut for ddb1')\n",
    "plt.xticks(np.arange(5)*20, [dbb_edges[x*20] for x in np.arange(5)])\n",
    "plt.ylabel('Number of QCD events')\n",
    "plt.legend()\n",
    "plt.title('Number of QCD events by ddb1 cut')\n",
    "plt.yscale('log')\n",
    "plt.savefig('qs_ddbscanlog.png')"
   ]
  },
  {
   "cell_type": "code",
   "execution_count": null,
   "metadata": {},
   "outputs": [],
   "source": [
    "#make 2d plot for each variable combo for v1 and v2\n",
    "def plot_2d_arr(data, xtitle, name, title, log=False):\n",
    "    #adapted plot_2d from plotter.py because it uses a different structure\n",
    "    \n",
    "    fig, ax = plt.subplots(2,2,sharex='col',sharey='row')\n",
    "    plt.suptitle(title)\n",
    "\n",
    "    plt.subplots_adjust(hspace=0)\n",
    "    plt.subplots_adjust(wspace=0)\n",
    "\n",
    "    if log:\n",
    "        ax[0,1].set_logy()\n",
    "        ax[0,1].set_logx()\n",
    "\n",
    "    xprojection = np.sum(data, axis=0)\n",
    "    yprojection = np.sum(data, axis=1)\n",
    "    print(yprojection)\n",
    "    bins = yprojection[1]\n",
    "\n",
    "    ax[1,1].hist(yprojection,\n",
    "                 histtype='step',orientation='horizontal')\n",
    "    ax[1,1].set_xlabel('Events')\n",
    "    ax[0,0].hist(xprojection,\n",
    "                 histtype='step')\n",
    "    ax[0,0].set_ylabel('Events')\n",
    "\n",
    "    #X, Y = np.meshgrid(bins[:-1],bins[:-1])\n",
    "    #w = h.values()[()]\n",
    "\n",
    "    datarot = np.rot90(data)\n",
    "    ax[1,0].imshow(datarot)#hist2d(X.flatten(),Y.flatten(),weights=w.flatten(),bins=bins)\n",
    "    ax[1,0].set_xlabel('Jet 2 ' + xtitle)\n",
    "    ax[1,0].set_ylabel('Jet 1 ' + xtitle)\n",
    "\n",
    "    png_name = name+'_'+xtitle+'_2d.png'\n",
    "    plt.savefig(png_name,bbox_inches='tight')\n",
    "\n",
    "    pdf_name = name+'_'+xtitle+'_2d.pdf'\n",
    "    plt.savefig(pdf_name,bbox_inches='tight')\n",
    "plot_2d_arr(ddb1_scan[6], 'deta', 'ddb1', 'v1 ddb, mjj=1880')"
   ]
  }
 ],
 "metadata": {
  "kernelspec": {
   "display_name": "Python 3 (ipykernel)",
   "language": "python",
   "name": "python3"
  },
  "language_info": {
   "codemirror_mode": {
    "name": "ipython",
    "version": 3
   },
   "file_extension": ".py",
   "mimetype": "text/x-python",
   "name": "python",
   "nbconvert_exporter": "python",
   "pygments_lexer": "ipython3",
   "version": "3.8.8"
  }
 },
 "nbformat": 4,
 "nbformat_minor": 2
}
