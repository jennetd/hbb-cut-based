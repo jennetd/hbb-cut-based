{
 "cells": [
  {
   "cell_type": "code",
   "execution_count": 15,
   "metadata": {},
   "outputs": [],
   "source": [
    "# First import a bunch of useful stuff\n",
    "\n",
    "import os, subprocess\n",
    "import json\n",
    "import uproot\n",
    "import awkward as ak\n",
    "import numpy as np\n",
    "from coffea import processor, util, hist\n",
    "\n",
    "%matplotlib inline\n",
    "import matplotlib.pyplot as plt\n",
    "from cycler import cycler\n",
    "\n",
    "import mplhep as hep\n",
    "plt.style.use([hep.style.ROOT, hep.style.CMS])"
   ]
  },
  {
   "cell_type": "code",
   "execution_count": 16,
   "metadata": {},
   "outputs": [],
   "source": [
    "# This gives the integrated luminosity (the amount of data collected) for each year\n",
    "lumis = {}\n",
    "lumis['2016'] = 35.9\n",
    "lumis['2017'] = 41.5\n",
    "lumis['2018'] = 59.9"
   ]
  },
  {
   "cell_type": "code",
   "execution_count": 17,
   "metadata": {},
   "outputs": [],
   "source": [
    "# This gives the number of files of simulated date for each year\n",
    "nfiles_mc = {}\n",
    "nfiles_mc['2016'] = 112\n",
    "nfiles_mc['2017'] = 161\n",
    "nfiles_mc['2018'] = 193"
   ]
  },
  {
   "cell_type": "code",
   "execution_count": 18,
   "metadata": {},
   "outputs": [
    {
     "name": "stdout",
     "output_type": "stream",
     "text": [
      "{'QCD_HT300to500_TuneCP5_13TeV-madgraphMLM-pythia8': 322600, 'QCD_HT500to700_TuneCP5_13TeV-madgraphMLM-pythia8': 29980, 'QCD_HT700to1000_TuneCP5_13TeV-madgraphMLM-pythia8': 6334, 'QCD_HT1000to1500_TuneCP5_13TeV-madgraphMLM-pythia8': 1088, 'QCD_HT1500to2000_TuneCP5_13TeV-madgraphMLM-pythia8': 99.11, 'QCD_HT2000toInf_TuneCP5_13TeV-madgraphMLM-pythia8': 20.23, 'QCD_HT300to500_TuneCUETP8M1_13TeV-madgraphMLM-pythia8': 347700, 'QCD_HT500to700_TuneCUETP8M1_13TeV-madgraphMLM-pythia8': 32100, 'QCD_HT700to1000_TuneCUETP8M1_13TeV-madgraphMLM-pythia8': 6831, 'QCD_HT1000to1500_TuneCUETP8M1_13TeV-madgraphMLM-pythia8': 1207, 'QCD_HT1500to2000_TuneCUETP8M1_13TeV-madgraphMLM-pythia8': 119.9, 'QCD_HT2000toInf_TuneCUETP8M1_13TeV-madgraphMLM-pythia8': 25.24, 'WJetsToQQ_HT400to600_qc19_3j_13TeV-madgraphMLM-pythia8': 315.6, 'WJetsToQQ_HT600to800_qc19_3j_13TeV-madgraphMLM-pythia8': 68.57, 'WJetsToQQ_HT800toInf_qc19_3j_13TeV-madgraphMLM-pythia8': 34.9, 'ZJetsToQQ_HT400to600_qc19_4j_13TeV-madgraphMLM-pythia8': 145.4, 'ZJetsToQQ_HT600to800_qc19_4j_13TeV-madgraphMLM-pythia8': 34.0, 'ZJetsToQQ_HT800toInf_qc19_4j_13TeV-madgraphMLM-pythia8': 18.67, 'WW_13TeV-pythia8': 75.82, 'ZZ_13TeV-pythia8': 12.14, 'WZ_13TeV-pythia8': 27.6, 'TTToHadronic_13TeV-powheg-pythia8': 377.96, 'TTToSemiLeptonic_13TeV-powheg-pythia8': 365.34, 'ST_t-channel_antitop_4f_inclusiveDecays_13TeV-powheg-madspin-pythia8': 67.91, 'ST_t-channel_top_4f_inclusiveDecays_13TeV-powheg-madspin-pythia8': 113.3, 'ST_tW_antitop_5f_inclusiveDecays_13TeV-powheg-pythia8': 34.97, 'ST_tW_top_5f_inclusiveDecays_13TeV-powheg-pythia8': 34.91, 'GluGluHToBB_M125_13TeV_powheg_pythia8': 28.45024, 'GluGluHToBB_M125_13TeV_powheg_MINLO_NNLOPS_pythia8': 16.17, 'VBFHToBB_M125_13TeV_powheg_pythia8': 2.2026368, 'WminusH_HToBB_WToQQ_M125_13TeV_powheg_pythia8': 0.20926660285440005, 'WplusH_HToBB_WToQQ_M125_13TeV_powheg_pythia8': 0.32992482432000003, 'ggZH_HToBB_ZToNuNu_M125_13TeV_powheg_pythia8': 0.014365700294400001, 'ggZH_HToBB_ZToQQ_M125_13TeV_powheg_pythia8': 0.04992370974, 'ZH_HToBB_ZToQQ_M125_13TeV_powheg_pythia8': 0.35941216698150397, 'ZH_HToBB_ZToNuNu_M125_13TeV_powheg_pythia8': 0.1034868988608, 'ttHToBB_M125_13TeV-powheg-pythia8': 0.29533504}\n"
     ]
    }
   ],
   "source": [
    "# This dictionary gives the cross section (expected rate) of each simulated process\n",
    "# Number of events of process P = integrated luminosity * cross section of process P\n",
    "with open('xsec.json') as f:\n",
    "  xs = json.load(f)\n",
    "print(xs)"
   ]
  },
  {
   "cell_type": "code",
   "execution_count": 19,
   "metadata": {},
   "outputs": [
    {
     "name": "stdout",
     "output_type": "stream",
     "text": [
      "{'ZH': ['ZH_HToBB_ZToQQ_M125_13TeV_powheg_pythia8', 'ZH_HToBB_ZToNuNu_M125_13TeV_powheg_pythia8', 'ggZH_HToBB_ZToQQ_M125_13TeV_powheg_pythia8', 'ggZH_HToBB_ZToNuNu_M125_13TeV_powheg_pythia8'], 'WH': ['WminusH_HToBB_WToQQ_M125_13TeV_powheg_pythia8', 'WplusH_HToBB_WToQQ_M125_13TeV_powheg_pythia8'], 'ttH': ['ttHToBB_M125_13TeV-powheg-pythia8'], 'VBF': ['VBFHToBB_M125_13TeV_powheg_pythia8'], 'ggF': ['GluGluHToBB_M125_13TeV_powheg_MINLO_NNLOPS_pythia8'], 'QCD': ['QCD_HT500to700_TuneCP5_13TeV-madgraphMLM-pythia8', 'QCD_HT700to1000_TuneCP5_13TeV-madgraphMLM-pythia8', 'QCD_HT1000to1500_TuneCP5_13TeV-madgraphMLM-pythia8', 'QCD_HT1500to2000_TuneCP5_13TeV-madgraphMLM-pythia8', 'QCD_HT2000toInf_TuneCP5_13TeV-madgraphMLM-pythia8', 'QCD_HT500to700_TuneCUETP8M1_13TeV-madgraphMLM-pythia8', 'QCD_HT700to1000_TuneCUETP8M1_13TeV-madgraphMLM-pythia8', 'QCD_HT1000to1500_TuneCUETP8M1_13TeV-madgraphMLM-pythia8', 'QCD_HT1500to2000_TuneCUETP8M1_13TeV-madgraphMLM-pythia8', 'QCD_HT2000toInf_TuneCUETP8M1_13TeV-madgraphMLM-pythia8'], 'VV': ['WW_13TeV-pythia8', 'ZZ_13TeV-pythia8', 'WZ_13TeV-pythia8'], 'Wjets': ['WJetsToQQ_HT800toInf_qc19_3j_13TeV-madgraphMLM-pythia8', 'WJetsToQQ_HT400to600_qc19_3j_13TeV-madgraphMLM-pythia8', 'WJetsToQQ_HT600to800_qc19_3j_13TeV-madgraphMLM-pythia8'], 'Zjets': ['ZJetsToQQ_HT800toInf_qc19_4j_13TeV-madgraphMLM-pythia8', 'ZJetsToQQ_HT400to600_qc19_4j_13TeV-madgraphMLM-pythia8', 'ZJetsToQQ_HT600to800_qc19_4j_13TeV-madgraphMLM-pythia8'], 'ttbar': ['TTToHadronic_13TeV-powheg-pythia8', 'TTToSemiLeptonic_13TeV-powheg-pythia8'], 'singlet': ['ST_t-channel_top_4f_inclusiveDecays_13TeV-powheg-madspin-pythia8', 'ST_t-channel_antitop_4f_inclusiveDecays_13TeV-powheg-madspin-pythia8', 'ST_tW_antitop_5f_inclusiveDecays_13TeV-powheg-pythia8', 'ST_tW_top_5f_inclusiveDecays_13TeV-powheg-pythia8']}\n"
     ]
    }
   ],
   "source": [
    "# This dictionary tells us how to group the simulated samples together sensibly\n",
    "# For example, QCD is generated separately for different energies. Combine them\n",
    "with open('pmap_mc.json') as f:\n",
    "  pmap = json.load(f)\n",
    "print(pmap)"
   ]
  },
  {
   "cell_type": "code",
   "execution_count": 20,
   "metadata": {},
   "outputs": [],
   "source": [
    "# I like to run this for one year at a time\n",
    "year = '2017'\n",
    "outsum = processor.dict_accumulator()"
   ]
  },
  {
   "cell_type": "code",
   "execution_count": 21,
   "metadata": {},
   "outputs": [],
   "source": [
    "# Higgs mass window\n",
    "mbb_min = 110\n",
    "mbb_max = 138"
   ]
  },
  {
   "cell_type": "code",
   "execution_count": 22,
   "metadata": {},
   "outputs": [],
   "source": [
    "# Number-counting significance as a function of the number of signal (s) and background (b) events\n",
    "def significance(s,b):\n",
    "    if b==0:\n",
    "        return 0\n",
    "    z_squared = 2.0*(s+b)*np.log(1.0+1.0*s/b) - 2.0*s\n",
    "    return np.sqrt(z_squared)"
   ]
  },
  {
   "cell_type": "code",
   "execution_count": 23,
   "metadata": {},
   "outputs": [],
   "source": [
    "# Plotting function where processes are overlaid in a variable name\n",
    "def plot_overlay(x,name):\n",
    "    x.label = 'Events'\n",
    "    axes = hist.plotgrid(x, overlay='process', line_opts={}, order=['QCD','Zjets','Wjets','ttbar','singlet','VV','ggF','VBF','WH','ZH','ttH'])\n",
    "    axes[0, 0].set_prop_cycle(cycler(color=colors.values()))\n",
    "    axes[0, 0].set_yscale('log')\n",
    "    axes[0, 0].set_ylim(.001, 100000)\n",
    "    plt.legend(bbox_to_anchor=(1.05, 1), loc='upper left')\n",
    "    \n",
    "    png_name = year+'/plot-all/'+name+'.png'\n",
    "    plt.savefig(png_name,bbox_inches='tight')\n",
    "    pdf_name = year+'/plot-all/'+name+'.pdf'\n",
    "    plt.savefig(pdf_name,bbox_inches='tight')"
   ]
  },
  {
   "cell_type": "code",
   "execution_count": 24,
   "metadata": {},
   "outputs": [],
   "source": [
    "# Plotting function where processes are stacked in a variable name\n",
    "def plot_stack(x,name):\n",
    "    x.label = 'Events'\n",
    "    axes = hist.plot1d(x, overlay='process', fill_opts={'edgecolor': (0,0,0,1)}, stack=True, order=['ttH','ZH','WH','VBF','ggF','VV','ttbar','singlet','Wjets','Zjets','QCD'])\n",
    "    axes.set_prop_cycle(cycler(color=colors.values()))\n",
    "    axes.set_yscale('log')\n",
    "    axes.set_ylim(.001, 100000)\n",
    "    plt.legend(bbox_to_anchor=(1.05, 1), loc='upper left')\n",
    "    \n",
    "    png_name = year+'/plot-all/'+name+'_stack.png'\n",
    "    plt.savefig(png_name,bbox_inches='tight')\n",
    "    pdf_name = year+'/plot-all/'+name+'_stack.pdf'\n",
    "    plt.savefig(pdf_name,bbox_inches='tight')"
   ]
  },
  {
   "cell_type": "code",
   "execution_count": 25,
   "metadata": {},
   "outputs": [
    {
     "name": "stdout",
     "output_type": "stream",
     "text": [
      "1\n",
      "2\n",
      "File condor/outfiles/2017_2.coffea is missing\n",
      "3\n",
      "File condor/outfiles/2017_3.coffea is missing\n",
      "4\n",
      "File condor/outfiles/2017_4.coffea is missing\n",
      "5\n",
      "File condor/outfiles/2017_5.coffea is missing\n",
      "6\n",
      "File condor/outfiles/2017_6.coffea is missing\n",
      "7\n",
      "File condor/outfiles/2017_7.coffea is missing\n",
      "8\n",
      "File condor/outfiles/2017_8.coffea is missing\n",
      "9\n",
      "File condor/outfiles/2017_9.coffea is missing\n",
      "10\n",
      "File condor/outfiles/2017_10.coffea is missing\n",
      "11\n",
      "File condor/outfiles/2017_11.coffea is missing\n",
      "12\n",
      "File condor/outfiles/2017_12.coffea is missing\n",
      "13\n",
      "File condor/outfiles/2017_13.coffea is missing\n",
      "14\n",
      "File condor/outfiles/2017_14.coffea is missing\n",
      "15\n",
      "File condor/outfiles/2017_15.coffea is missing\n",
      "16\n",
      "File condor/outfiles/2017_16.coffea is missing\n",
      "17\n",
      "File condor/outfiles/2017_17.coffea is missing\n",
      "18\n",
      "File condor/outfiles/2017_18.coffea is missing\n",
      "19\n",
      "File condor/outfiles/2017_19.coffea is missing\n",
      "20\n",
      "File condor/outfiles/2017_20.coffea is missing\n",
      "21\n",
      "File condor/outfiles/2017_21.coffea is missing\n",
      "22\n",
      "File condor/outfiles/2017_22.coffea is missing\n",
      "23\n",
      "File condor/outfiles/2017_23.coffea is missing\n",
      "24\n",
      "File condor/outfiles/2017_24.coffea is missing\n",
      "25\n",
      "File condor/outfiles/2017_25.coffea is missing\n",
      "26\n",
      "File condor/outfiles/2017_26.coffea is missing\n",
      "27\n",
      "File condor/outfiles/2017_27.coffea is missing\n",
      "28\n",
      "File condor/outfiles/2017_28.coffea is missing\n",
      "29\n",
      "File condor/outfiles/2017_29.coffea is missing\n",
      "30\n",
      "File condor/outfiles/2017_30.coffea is missing\n",
      "31\n",
      "File condor/outfiles/2017_31.coffea is missing\n",
      "32\n",
      "File condor/outfiles/2017_32.coffea is missing\n",
      "33\n",
      "File condor/outfiles/2017_33.coffea is missing\n",
      "34\n",
      "File condor/outfiles/2017_34.coffea is missing\n",
      "35\n",
      "File condor/outfiles/2017_35.coffea is missing\n",
      "36\n",
      "File condor/outfiles/2017_36.coffea is missing\n",
      "37\n",
      "File condor/outfiles/2017_37.coffea is missing\n",
      "38\n",
      "File condor/outfiles/2017_38.coffea is missing\n",
      "39\n",
      "File condor/outfiles/2017_39.coffea is missing\n",
      "40\n",
      "File condor/outfiles/2017_40.coffea is missing\n",
      "41\n",
      "File condor/outfiles/2017_41.coffea is missing\n",
      "42\n",
      "File condor/outfiles/2017_42.coffea is missing\n",
      "43\n",
      "File condor/outfiles/2017_43.coffea is missing\n",
      "44\n",
      "File condor/outfiles/2017_44.coffea is missing\n",
      "45\n",
      "File condor/outfiles/2017_45.coffea is missing\n",
      "46\n",
      "File condor/outfiles/2017_46.coffea is missing\n",
      "47\n",
      "File condor/outfiles/2017_47.coffea is missing\n",
      "48\n",
      "File condor/outfiles/2017_48.coffea is missing\n",
      "49\n",
      "File condor/outfiles/2017_49.coffea is missing\n",
      "50\n",
      "File condor/outfiles/2017_50.coffea is missing\n",
      "51\n",
      "File condor/outfiles/2017_51.coffea is missing\n",
      "52\n",
      "File condor/outfiles/2017_52.coffea is missing\n",
      "53\n",
      "File condor/outfiles/2017_53.coffea is missing\n",
      "54\n",
      "File condor/outfiles/2017_54.coffea is missing\n",
      "55\n",
      "File condor/outfiles/2017_55.coffea is missing\n",
      "56\n",
      "File condor/outfiles/2017_56.coffea is missing\n",
      "57\n",
      "File condor/outfiles/2017_57.coffea is missing\n",
      "58\n",
      "File condor/outfiles/2017_58.coffea is missing\n",
      "59\n",
      "File condor/outfiles/2017_59.coffea is missing\n",
      "60\n",
      "File condor/outfiles/2017_60.coffea is missing\n",
      "61\n",
      "File condor/outfiles/2017_61.coffea is missing\n",
      "62\n",
      "File condor/outfiles/2017_62.coffea is missing\n",
      "63\n",
      "File condor/outfiles/2017_63.coffea is missing\n",
      "64\n",
      "File condor/outfiles/2017_64.coffea is missing\n",
      "65\n",
      "File condor/outfiles/2017_65.coffea is missing\n",
      "66\n",
      "File condor/outfiles/2017_66.coffea is missing\n",
      "67\n",
      "File condor/outfiles/2017_67.coffea is missing\n",
      "68\n",
      "File condor/outfiles/2017_68.coffea is missing\n",
      "69\n",
      "File condor/outfiles/2017_69.coffea is missing\n",
      "70\n",
      "File condor/outfiles/2017_70.coffea is missing\n",
      "71\n",
      "File condor/outfiles/2017_71.coffea is missing\n",
      "72\n",
      "File condor/outfiles/2017_72.coffea is missing\n",
      "73\n",
      "File condor/outfiles/2017_73.coffea is missing\n",
      "74\n",
      "File condor/outfiles/2017_74.coffea is missing\n",
      "75\n",
      "File condor/outfiles/2017_75.coffea is missing\n",
      "76\n",
      "File condor/outfiles/2017_76.coffea is missing\n",
      "77\n",
      "File condor/outfiles/2017_77.coffea is missing\n",
      "78\n",
      "File condor/outfiles/2017_78.coffea is missing\n",
      "79\n",
      "File condor/outfiles/2017_79.coffea is missing\n",
      "80\n",
      "File condor/outfiles/2017_80.coffea is missing\n",
      "81\n",
      "File condor/outfiles/2017_81.coffea is missing\n",
      "82\n",
      "File condor/outfiles/2017_82.coffea is missing\n",
      "83\n",
      "File condor/outfiles/2017_83.coffea is missing\n",
      "84\n",
      "File condor/outfiles/2017_84.coffea is missing\n",
      "85\n",
      "File condor/outfiles/2017_85.coffea is missing\n",
      "86\n",
      "File condor/outfiles/2017_86.coffea is missing\n",
      "87\n",
      "File condor/outfiles/2017_87.coffea is missing\n",
      "88\n",
      "File condor/outfiles/2017_88.coffea is missing\n",
      "89\n",
      "File condor/outfiles/2017_89.coffea is missing\n",
      "90\n",
      "File condor/outfiles/2017_90.coffea is missing\n",
      "91\n",
      "File condor/outfiles/2017_91.coffea is missing\n",
      "92\n",
      "File condor/outfiles/2017_92.coffea is missing\n",
      "93\n",
      "File condor/outfiles/2017_93.coffea is missing\n",
      "94\n",
      "File condor/outfiles/2017_94.coffea is missing\n",
      "95\n",
      "File condor/outfiles/2017_95.coffea is missing\n",
      "96\n",
      "File condor/outfiles/2017_96.coffea is missing\n",
      "97\n",
      "File condor/outfiles/2017_97.coffea is missing\n",
      "98\n",
      "File condor/outfiles/2017_98.coffea is missing\n",
      "99\n",
      "File condor/outfiles/2017_99.coffea is missing\n",
      "100\n",
      "File condor/outfiles/2017_100.coffea is missing\n",
      "101\n",
      "File condor/outfiles/2017_101.coffea is missing\n",
      "102\n",
      "File condor/outfiles/2017_102.coffea is missing\n",
      "103\n",
      "File condor/outfiles/2017_103.coffea is missing\n",
      "104\n",
      "File condor/outfiles/2017_104.coffea is missing\n",
      "105\n",
      "File condor/outfiles/2017_105.coffea is missing\n",
      "106\n",
      "File condor/outfiles/2017_106.coffea is missing\n",
      "107\n",
      "File condor/outfiles/2017_107.coffea is missing\n",
      "108\n",
      "File condor/outfiles/2017_108.coffea is missing\n",
      "109\n",
      "File condor/outfiles/2017_109.coffea is missing\n",
      "110\n",
      "File condor/outfiles/2017_110.coffea is missing\n",
      "111\n",
      "File condor/outfiles/2017_111.coffea is missing\n",
      "112\n",
      "File condor/outfiles/2017_112.coffea is missing\n",
      "113\n",
      "File condor/outfiles/2017_113.coffea is missing\n",
      "114\n",
      "File condor/outfiles/2017_114.coffea is missing\n",
      "115\n",
      "File condor/outfiles/2017_115.coffea is missing\n",
      "116\n",
      "File condor/outfiles/2017_116.coffea is missing\n",
      "117\n",
      "File condor/outfiles/2017_117.coffea is missing\n",
      "118\n",
      "File condor/outfiles/2017_118.coffea is missing\n",
      "119\n",
      "File condor/outfiles/2017_119.coffea is missing\n",
      "120\n",
      "File condor/outfiles/2017_120.coffea is missing\n",
      "121\n",
      "File condor/outfiles/2017_121.coffea is missing\n",
      "122\n",
      "File condor/outfiles/2017_122.coffea is missing\n",
      "123\n",
      "File condor/outfiles/2017_123.coffea is missing\n",
      "124\n",
      "File condor/outfiles/2017_124.coffea is missing\n",
      "125\n",
      "File condor/outfiles/2017_125.coffea is missing\n",
      "126\n",
      "File condor/outfiles/2017_126.coffea is missing\n",
      "127\n",
      "File condor/outfiles/2017_127.coffea is missing\n",
      "128\n",
      "File condor/outfiles/2017_128.coffea is missing\n",
      "129\n",
      "File condor/outfiles/2017_129.coffea is missing\n",
      "130\n",
      "File condor/outfiles/2017_130.coffea is missing\n",
      "131\n",
      "File condor/outfiles/2017_131.coffea is missing\n",
      "132\n",
      "File condor/outfiles/2017_132.coffea is missing\n",
      "133\n",
      "File condor/outfiles/2017_133.coffea is missing\n",
      "134\n",
      "File condor/outfiles/2017_134.coffea is missing\n",
      "135\n",
      "File condor/outfiles/2017_135.coffea is missing\n",
      "136\n",
      "File condor/outfiles/2017_136.coffea is missing\n",
      "137\n",
      "File condor/outfiles/2017_137.coffea is missing\n",
      "138\n",
      "File condor/outfiles/2017_138.coffea is missing\n",
      "139\n",
      "File condor/outfiles/2017_139.coffea is missing\n",
      "140\n",
      "File condor/outfiles/2017_140.coffea is missing\n",
      "141\n",
      "File condor/outfiles/2017_141.coffea is missing\n",
      "142\n",
      "File condor/outfiles/2017_142.coffea is missing\n",
      "143\n",
      "File condor/outfiles/2017_143.coffea is missing\n",
      "144\n",
      "File condor/outfiles/2017_144.coffea is missing\n",
      "145\n",
      "File condor/outfiles/2017_145.coffea is missing\n",
      "146\n",
      "File condor/outfiles/2017_146.coffea is missing\n",
      "147\n",
      "File condor/outfiles/2017_147.coffea is missing\n",
      "148\n",
      "File condor/outfiles/2017_148.coffea is missing\n",
      "149\n",
      "File condor/outfiles/2017_149.coffea is missing\n",
      "150\n",
      "File condor/outfiles/2017_150.coffea is missing\n",
      "151\n",
      "File condor/outfiles/2017_151.coffea is missing\n",
      "152\n",
      "File condor/outfiles/2017_152.coffea is missing\n",
      "153\n",
      "File condor/outfiles/2017_153.coffea is missing\n",
      "154\n",
      "File condor/outfiles/2017_154.coffea is missing\n",
      "155\n",
      "File condor/outfiles/2017_155.coffea is missing\n",
      "156\n",
      "File condor/outfiles/2017_156.coffea is missing\n",
      "157\n",
      "File condor/outfiles/2017_157.coffea is missing\n",
      "158\n",
      "File condor/outfiles/2017_158.coffea is missing\n",
      "159\n",
      "File condor/outfiles/2017_159.coffea is missing\n",
      "160\n",
      "File condor/outfiles/2017_160.coffea is missing\n",
      "161\n",
      "File condor/outfiles/2017_161.coffea is missing\n"
     ]
    }
   ],
   "source": [
    "# Load all simulated data files\n",
    "for n in range(1,nfiles_mc[year]+1):\n",
    "    print(n)\n",
    "    filename = 'condor/outfiles/'+year+'_'+str(n)+'.coffea'\n",
    "    if os.path.isfile(filename):\n",
    "        out = util.load(filename)\n",
    "        outsum.add(out)\n",
    "    else:\n",
    "        print(\"File \" + filename + \" is missing\")\n",
    "        \n",
    "# Scale factor accounts for luminosity and cross section\n",
    "scale_lumi = {k: xs[k] * 1000 *lumis[year] / w for k, w in outsum['sumw'].items()}\n",
    "outsum['templates1'].scale(scale_lumi, 'dataset')\n",
    "\n",
    "# Any missing files will be listed here. Let me know so I can find/fix them"
   ]
  },
  {
   "cell_type": "code",
   "execution_count": 26,
   "metadata": {},
   "outputs": [
    {
     "name": "stderr",
     "output_type": "stream",
     "text": [
      "/uscms_data/d3/jennetd/hbb-prod-modes/february-2021/vbf-ddbopt/coffeaenv/lib/python3.7/site-packages/coffea/hist/hist_tools.py:347: RuntimeWarning: Not all requested indices present in <Cat (name=dataset) instance at 0x7f5a6f911bd0>\n",
      "  warnings.warn(\"Not all requested indices present in %r\" % self, RuntimeWarning)\n"
     ]
    }
   ],
   "source": [
    "# Use pmap to group the datasets together\n",
    "templates = outsum['templates1'].group('dataset', hist.Cat('process', 'Process'), pmap)\n",
    "\n",
    "# Select out the signal region\n",
    "templates = templates.integrate('region', 'signal')"
   ]
  },
  {
   "cell_type": "code",
   "execution_count": 29,
   "metadata": {},
   "outputs": [
    {
     "data": {
      "text/plain": [
       "{('ZH',): 0.0}"
      ]
     },
     "execution_count": 29,
     "metadata": {},
     "output_type": "execute_result"
    }
   ],
   "source": [
    "# Print the total number of events per process\n",
    "templates.sum('msd1','pt1','deta','mjj','ddb1').values()"
   ]
  },
  {
   "cell_type": "code",
   "execution_count": 30,
   "metadata": {},
   "outputs": [],
   "source": [
    "# Sum the histogram over all but one variable\n",
    "x = templates.sum('pt1','deta','mjj','ddb1')"
   ]
  },
  {
   "cell_type": "code",
   "execution_count": 33,
   "metadata": {},
   "outputs": [
    {
     "ename": "KeyError",
     "evalue": "()",
     "output_type": "error",
     "traceback": [
      "\u001b[0;31m---------------------------------------------------------------------------\u001b[0m",
      "\u001b[0;31mKeyError\u001b[0m                                  Traceback (most recent call last)",
      "\u001b[0;32m<ipython-input-33-ab79c5a3857c>\u001b[0m in \u001b[0;36m<module>\u001b[0;34m\u001b[0m\n\u001b[1;32m      1\u001b[0m \u001b[0;31m# draw the overlay plot\u001b[0m\u001b[0;34m\u001b[0m\u001b[0;34m\u001b[0m\u001b[0;34m\u001b[0m\u001b[0m\n\u001b[0;32m----> 2\u001b[0;31m \u001b[0mplot_overlay\u001b[0m\u001b[0;34m(\u001b[0m\u001b[0mx\u001b[0m\u001b[0;34m,\u001b[0m\u001b[0;34m'msd1'\u001b[0m\u001b[0;34m)\u001b[0m\u001b[0;34m\u001b[0m\u001b[0;34m\u001b[0m\u001b[0m\n\u001b[0m",
      "\u001b[0;32m<ipython-input-23-de5e2c13416e>\u001b[0m in \u001b[0;36mplot_overlay\u001b[0;34m(x, name)\u001b[0m\n\u001b[1;32m      2\u001b[0m \u001b[0;32mdef\u001b[0m \u001b[0mplot_overlay\u001b[0m\u001b[0;34m(\u001b[0m\u001b[0mx\u001b[0m\u001b[0;34m,\u001b[0m\u001b[0mname\u001b[0m\u001b[0;34m)\u001b[0m\u001b[0;34m:\u001b[0m\u001b[0;34m\u001b[0m\u001b[0;34m\u001b[0m\u001b[0m\n\u001b[1;32m      3\u001b[0m     \u001b[0mx\u001b[0m\u001b[0;34m.\u001b[0m\u001b[0mlabel\u001b[0m \u001b[0;34m=\u001b[0m \u001b[0;34m'Events'\u001b[0m\u001b[0;34m\u001b[0m\u001b[0;34m\u001b[0m\u001b[0m\n\u001b[0;32m----> 4\u001b[0;31m     \u001b[0maxes\u001b[0m \u001b[0;34m=\u001b[0m \u001b[0mhist\u001b[0m\u001b[0;34m.\u001b[0m\u001b[0mplotgrid\u001b[0m\u001b[0;34m(\u001b[0m\u001b[0mx\u001b[0m\u001b[0;34m,\u001b[0m \u001b[0moverlay\u001b[0m\u001b[0;34m=\u001b[0m\u001b[0;34m'process'\u001b[0m\u001b[0;34m,\u001b[0m \u001b[0mline_opts\u001b[0m\u001b[0;34m=\u001b[0m\u001b[0;34m{\u001b[0m\u001b[0;34m}\u001b[0m\u001b[0;34m,\u001b[0m \u001b[0morder\u001b[0m\u001b[0;34m=\u001b[0m\u001b[0;34m[\u001b[0m\u001b[0;34m'QCD'\u001b[0m\u001b[0;34m,\u001b[0m\u001b[0;34m'Zjets'\u001b[0m\u001b[0;34m,\u001b[0m\u001b[0;34m'Wjets'\u001b[0m\u001b[0;34m,\u001b[0m\u001b[0;34m'ttbar'\u001b[0m\u001b[0;34m,\u001b[0m\u001b[0;34m'singlet'\u001b[0m\u001b[0;34m,\u001b[0m\u001b[0;34m'VV'\u001b[0m\u001b[0;34m,\u001b[0m\u001b[0;34m'ggF'\u001b[0m\u001b[0;34m,\u001b[0m\u001b[0;34m'VBF'\u001b[0m\u001b[0;34m,\u001b[0m\u001b[0;34m'WH'\u001b[0m\u001b[0;34m,\u001b[0m\u001b[0;34m'ZH'\u001b[0m\u001b[0;34m,\u001b[0m\u001b[0;34m'ttH'\u001b[0m\u001b[0;34m]\u001b[0m\u001b[0;34m)\u001b[0m\u001b[0;34m\u001b[0m\u001b[0;34m\u001b[0m\u001b[0m\n\u001b[0m\u001b[1;32m      5\u001b[0m     \u001b[0maxes\u001b[0m\u001b[0;34m[\u001b[0m\u001b[0;36m0\u001b[0m\u001b[0;34m,\u001b[0m \u001b[0;36m0\u001b[0m\u001b[0;34m]\u001b[0m\u001b[0;34m.\u001b[0m\u001b[0mset_prop_cycle\u001b[0m\u001b[0;34m(\u001b[0m\u001b[0mcycler\u001b[0m\u001b[0;34m(\u001b[0m\u001b[0mcolor\u001b[0m\u001b[0;34m=\u001b[0m\u001b[0mcolors\u001b[0m\u001b[0;34m.\u001b[0m\u001b[0mvalues\u001b[0m\u001b[0;34m(\u001b[0m\u001b[0;34m)\u001b[0m\u001b[0;34m)\u001b[0m\u001b[0;34m)\u001b[0m\u001b[0;34m\u001b[0m\u001b[0;34m\u001b[0m\u001b[0m\n\u001b[1;32m      6\u001b[0m     \u001b[0maxes\u001b[0m\u001b[0;34m[\u001b[0m\u001b[0;36m0\u001b[0m\u001b[0;34m,\u001b[0m \u001b[0;36m0\u001b[0m\u001b[0;34m]\u001b[0m\u001b[0;34m.\u001b[0m\u001b[0mset_yscale\u001b[0m\u001b[0;34m(\u001b[0m\u001b[0;34m'log'\u001b[0m\u001b[0;34m)\u001b[0m\u001b[0;34m\u001b[0m\u001b[0;34m\u001b[0m\u001b[0m\n",
      "\u001b[0;32m/uscms_data/d3/jennetd/hbb-prod-modes/february-2021/vbf-ddbopt/coffeaenv/lib/python3.7/site-packages/coffea/hist/plot.py\u001b[0m in \u001b[0;36mplotgrid\u001b[0;34m(h, figure, row, col, overlay, row_overflow, col_overflow, **plot_opts)\u001b[0m\n\u001b[1;32m    591\u001b[0m                     \u001b[0mrowtitle\u001b[0m \u001b[0;34m=\u001b[0m \u001b[0;34m\"%s ∈ %s\"\u001b[0m \u001b[0;34m%\u001b[0m \u001b[0;34m(\u001b[0m\u001b[0mh\u001b[0m\u001b[0;34m.\u001b[0m\u001b[0maxis\u001b[0m\u001b[0;34m(\u001b[0m\u001b[0mrow\u001b[0m\u001b[0;34m)\u001b[0m\u001b[0;34m.\u001b[0m\u001b[0mlabel\u001b[0m\u001b[0;34m,\u001b[0m \u001b[0mrowtitle\u001b[0m\u001b[0;34m)\u001b[0m\u001b[0;34m\u001b[0m\u001b[0;34m\u001b[0m\u001b[0m\n\u001b[1;32m    592\u001b[0m \u001b[0;34m\u001b[0m\u001b[0m\n\u001b[0;32m--> 593\u001b[0;31m             \u001b[0mplot1d\u001b[0m\u001b[0;34m(\u001b[0m\u001b[0mhplot\u001b[0m\u001b[0;34m,\u001b[0m \u001b[0max\u001b[0m\u001b[0;34m=\u001b[0m\u001b[0max\u001b[0m\u001b[0;34m,\u001b[0m \u001b[0moverlay\u001b[0m\u001b[0;34m=\u001b[0m\u001b[0moverlay\u001b[0m\u001b[0;34m,\u001b[0m \u001b[0;34m**\u001b[0m\u001b[0mplot_opts\u001b[0m\u001b[0;34m)\u001b[0m\u001b[0;34m\u001b[0m\u001b[0;34m\u001b[0m\u001b[0m\n\u001b[0m\u001b[1;32m    594\u001b[0m             \u001b[0;32mif\u001b[0m \u001b[0mrow\u001b[0m \u001b[0;32mis\u001b[0m \u001b[0;32mnot\u001b[0m \u001b[0;32mNone\u001b[0m \u001b[0;32mand\u001b[0m \u001b[0mcol\u001b[0m \u001b[0;32mis\u001b[0m \u001b[0;32mnot\u001b[0m \u001b[0;32mNone\u001b[0m\u001b[0;34m:\u001b[0m\u001b[0;34m\u001b[0m\u001b[0;34m\u001b[0m\u001b[0m\n\u001b[1;32m    595\u001b[0m                 \u001b[0max\u001b[0m\u001b[0;34m.\u001b[0m\u001b[0mset_title\u001b[0m\u001b[0;34m(\u001b[0m\u001b[0;34m\"%s, %s\"\u001b[0m \u001b[0;34m%\u001b[0m \u001b[0;34m(\u001b[0m\u001b[0mrowtitle\u001b[0m\u001b[0;34m,\u001b[0m \u001b[0mcoltitle\u001b[0m\u001b[0;34m)\u001b[0m\u001b[0;34m)\u001b[0m\u001b[0;34m\u001b[0m\u001b[0;34m\u001b[0m\u001b[0m\n",
      "\u001b[0;32m/uscms_data/d3/jennetd/hbb-prod-modes/february-2021/vbf-ddbopt/coffeaenv/lib/python3.7/site-packages/coffea/hist/plot.py\u001b[0m in \u001b[0;36mplot1d\u001b[0;34m(hist, ax, clear, overlay, stack, overflow, line_opts, fill_opts, error_opts, legend_opts, overlay_overflow, density, binwnorm, order)\u001b[0m\n\u001b[1;32m    221\u001b[0m                 \u001b[0msumw\u001b[0m\u001b[0;34m,\u001b[0m \u001b[0msumw2\u001b[0m \u001b[0;34m=\u001b[0m \u001b[0mhist\u001b[0m\u001b[0;34m.\u001b[0m\u001b[0mvalues\u001b[0m\u001b[0;34m(\u001b[0m\u001b[0msumw2\u001b[0m\u001b[0;34m=\u001b[0m\u001b[0;32mTrue\u001b[0m\u001b[0;34m,\u001b[0m \u001b[0moverflow\u001b[0m\u001b[0;34m=\u001b[0m\u001b[0moverflow\u001b[0m\u001b[0;34m)\u001b[0m\u001b[0;34m[\u001b[0m\u001b[0;34m(\u001b[0m\u001b[0;34m)\u001b[0m\u001b[0;34m]\u001b[0m\u001b[0;34m\u001b[0m\u001b[0;34m\u001b[0m\u001b[0m\n\u001b[1;32m    222\u001b[0m             \u001b[0;32melif\u001b[0m \u001b[0misinstance\u001b[0m\u001b[0;34m(\u001b[0m\u001b[0moverlay\u001b[0m\u001b[0;34m,\u001b[0m \u001b[0mSparseAxis\u001b[0m\u001b[0;34m)\u001b[0m\u001b[0;34m:\u001b[0m\u001b[0;34m\u001b[0m\u001b[0;34m\u001b[0m\u001b[0m\n\u001b[0;32m--> 223\u001b[0;31m                 \u001b[0msumw\u001b[0m\u001b[0;34m,\u001b[0m \u001b[0msumw2\u001b[0m \u001b[0;34m=\u001b[0m \u001b[0mhist\u001b[0m\u001b[0;34m.\u001b[0m\u001b[0mintegrate\u001b[0m\u001b[0;34m(\u001b[0m\u001b[0moverlay\u001b[0m\u001b[0;34m,\u001b[0m \u001b[0midentifier\u001b[0m\u001b[0;34m)\u001b[0m\u001b[0;34m.\u001b[0m\u001b[0mvalues\u001b[0m\u001b[0;34m(\u001b[0m\u001b[0msumw2\u001b[0m\u001b[0;34m=\u001b[0m\u001b[0;32mTrue\u001b[0m\u001b[0;34m,\u001b[0m \u001b[0moverflow\u001b[0m\u001b[0;34m=\u001b[0m\u001b[0moverflow\u001b[0m\u001b[0;34m)\u001b[0m\u001b[0;34m[\u001b[0m\u001b[0;34m(\u001b[0m\u001b[0;34m)\u001b[0m\u001b[0;34m]\u001b[0m\u001b[0;34m\u001b[0m\u001b[0;34m\u001b[0m\u001b[0m\n\u001b[0m\u001b[1;32m    224\u001b[0m             \u001b[0;32melse\u001b[0m\u001b[0;34m:\u001b[0m\u001b[0;34m\u001b[0m\u001b[0;34m\u001b[0m\u001b[0m\n\u001b[1;32m    225\u001b[0m                 \u001b[0msumw\u001b[0m\u001b[0;34m,\u001b[0m \u001b[0msumw2\u001b[0m \u001b[0;34m=\u001b[0m \u001b[0mhist\u001b[0m\u001b[0;34m.\u001b[0m\u001b[0mvalues\u001b[0m\u001b[0;34m(\u001b[0m\u001b[0msumw2\u001b[0m\u001b[0;34m=\u001b[0m\u001b[0;32mTrue\u001b[0m\u001b[0;34m,\u001b[0m \u001b[0moverflow\u001b[0m\u001b[0;34m=\u001b[0m\u001b[0;34m'allnan'\u001b[0m\u001b[0;34m)\u001b[0m\u001b[0;34m[\u001b[0m\u001b[0;34m(\u001b[0m\u001b[0;34m)\u001b[0m\u001b[0;34m]\u001b[0m\u001b[0;34m\u001b[0m\u001b[0;34m\u001b[0m\u001b[0m\n",
      "\u001b[0;31mKeyError\u001b[0m: ()"
     ]
    },
    {
     "data": {
      "image/png": "[encoded data removed]",
      "text/plain": [
       "<Figure size 720x720 with 1 Axes>"
      ]
     },
     "metadata": {
      "needs_background": "light"
     },
     "output_type": "display_data"
    }
   ],
   "source": [
    "# draw the overlay plot\n",
    "plot_overlay(x,'msd1')"
   ]
  },
  {
   "cell_type": "code",
   "execution_count": 34,
   "metadata": {},
   "outputs": [
    {
     "ename": "KeyError",
     "evalue": "()",
     "output_type": "error",
     "traceback": [
      "\u001b[0;31m---------------------------------------------------------------------------\u001b[0m",
      "\u001b[0;31mKeyError\u001b[0m                                  Traceback (most recent call last)",
      "\u001b[0;32m<ipython-input-34-aff17fb6e913>\u001b[0m in \u001b[0;36m<module>\u001b[0;34m\u001b[0m\n\u001b[1;32m      1\u001b[0m \u001b[0;31m# draw the stacked plot\u001b[0m\u001b[0;34m\u001b[0m\u001b[0;34m\u001b[0m\u001b[0;34m\u001b[0m\u001b[0m\n\u001b[0;32m----> 2\u001b[0;31m \u001b[0mplot_stack\u001b[0m\u001b[0;34m(\u001b[0m\u001b[0mx\u001b[0m\u001b[0;34m,\u001b[0m\u001b[0;34m'msd1'\u001b[0m\u001b[0;34m)\u001b[0m\u001b[0;34m\u001b[0m\u001b[0;34m\u001b[0m\u001b[0m\n\u001b[0m",
      "\u001b[0;32m<ipython-input-24-321162151864>\u001b[0m in \u001b[0;36mplot_stack\u001b[0;34m(x, name)\u001b[0m\n\u001b[1;32m      2\u001b[0m \u001b[0;32mdef\u001b[0m \u001b[0mplot_stack\u001b[0m\u001b[0;34m(\u001b[0m\u001b[0mx\u001b[0m\u001b[0;34m,\u001b[0m\u001b[0mname\u001b[0m\u001b[0;34m)\u001b[0m\u001b[0;34m:\u001b[0m\u001b[0;34m\u001b[0m\u001b[0;34m\u001b[0m\u001b[0m\n\u001b[1;32m      3\u001b[0m     \u001b[0mx\u001b[0m\u001b[0;34m.\u001b[0m\u001b[0mlabel\u001b[0m \u001b[0;34m=\u001b[0m \u001b[0;34m'Events'\u001b[0m\u001b[0;34m\u001b[0m\u001b[0;34m\u001b[0m\u001b[0m\n\u001b[0;32m----> 4\u001b[0;31m     \u001b[0maxes\u001b[0m \u001b[0;34m=\u001b[0m \u001b[0mhist\u001b[0m\u001b[0;34m.\u001b[0m\u001b[0mplot1d\u001b[0m\u001b[0;34m(\u001b[0m\u001b[0mx\u001b[0m\u001b[0;34m,\u001b[0m \u001b[0moverlay\u001b[0m\u001b[0;34m=\u001b[0m\u001b[0;34m'process'\u001b[0m\u001b[0;34m,\u001b[0m \u001b[0mfill_opts\u001b[0m\u001b[0;34m=\u001b[0m\u001b[0;34m{\u001b[0m\u001b[0;34m'edgecolor'\u001b[0m\u001b[0;34m:\u001b[0m \u001b[0;34m(\u001b[0m\u001b[0;36m0\u001b[0m\u001b[0;34m,\u001b[0m\u001b[0;36m0\u001b[0m\u001b[0;34m,\u001b[0m\u001b[0;36m0\u001b[0m\u001b[0;34m,\u001b[0m\u001b[0;36m1\u001b[0m\u001b[0;34m)\u001b[0m\u001b[0;34m}\u001b[0m\u001b[0;34m,\u001b[0m \u001b[0mstack\u001b[0m\u001b[0;34m=\u001b[0m\u001b[0;32mTrue\u001b[0m\u001b[0;34m,\u001b[0m \u001b[0morder\u001b[0m\u001b[0;34m=\u001b[0m\u001b[0;34m[\u001b[0m\u001b[0;34m'ttH'\u001b[0m\u001b[0;34m,\u001b[0m\u001b[0;34m'ZH'\u001b[0m\u001b[0;34m,\u001b[0m\u001b[0;34m'WH'\u001b[0m\u001b[0;34m,\u001b[0m\u001b[0;34m'VBF'\u001b[0m\u001b[0;34m,\u001b[0m\u001b[0;34m'ggF'\u001b[0m\u001b[0;34m,\u001b[0m\u001b[0;34m'VV'\u001b[0m\u001b[0;34m,\u001b[0m\u001b[0;34m'ttbar'\u001b[0m\u001b[0;34m,\u001b[0m\u001b[0;34m'singlet'\u001b[0m\u001b[0;34m,\u001b[0m\u001b[0;34m'Wjets'\u001b[0m\u001b[0;34m,\u001b[0m\u001b[0;34m'Zjets'\u001b[0m\u001b[0;34m,\u001b[0m\u001b[0;34m'QCD'\u001b[0m\u001b[0;34m]\u001b[0m\u001b[0;34m)\u001b[0m\u001b[0;34m\u001b[0m\u001b[0;34m\u001b[0m\u001b[0m\n\u001b[0m\u001b[1;32m      5\u001b[0m     \u001b[0maxes\u001b[0m\u001b[0;34m.\u001b[0m\u001b[0mset_prop_cycle\u001b[0m\u001b[0;34m(\u001b[0m\u001b[0mcycler\u001b[0m\u001b[0;34m(\u001b[0m\u001b[0mcolor\u001b[0m\u001b[0;34m=\u001b[0m\u001b[0mcolors\u001b[0m\u001b[0;34m.\u001b[0m\u001b[0mvalues\u001b[0m\u001b[0;34m(\u001b[0m\u001b[0;34m)\u001b[0m\u001b[0;34m)\u001b[0m\u001b[0;34m)\u001b[0m\u001b[0;34m\u001b[0m\u001b[0;34m\u001b[0m\u001b[0m\n\u001b[1;32m      6\u001b[0m     \u001b[0maxes\u001b[0m\u001b[0;34m.\u001b[0m\u001b[0mset_yscale\u001b[0m\u001b[0;34m(\u001b[0m\u001b[0;34m'log'\u001b[0m\u001b[0;34m)\u001b[0m\u001b[0;34m\u001b[0m\u001b[0;34m\u001b[0m\u001b[0m\n",
      "\u001b[0;32m/uscms_data/d3/jennetd/hbb-prod-modes/february-2021/vbf-ddbopt/coffeaenv/lib/python3.7/site-packages/coffea/hist/plot.py\u001b[0m in \u001b[0;36mplot1d\u001b[0;34m(hist, ax, clear, overlay, stack, overflow, line_opts, fill_opts, error_opts, legend_opts, overlay_overflow, density, binwnorm, order)\u001b[0m\n\u001b[1;32m    221\u001b[0m                 \u001b[0msumw\u001b[0m\u001b[0;34m,\u001b[0m \u001b[0msumw2\u001b[0m \u001b[0;34m=\u001b[0m \u001b[0mhist\u001b[0m\u001b[0;34m.\u001b[0m\u001b[0mvalues\u001b[0m\u001b[0;34m(\u001b[0m\u001b[0msumw2\u001b[0m\u001b[0;34m=\u001b[0m\u001b[0;32mTrue\u001b[0m\u001b[0;34m,\u001b[0m \u001b[0moverflow\u001b[0m\u001b[0;34m=\u001b[0m\u001b[0moverflow\u001b[0m\u001b[0;34m)\u001b[0m\u001b[0;34m[\u001b[0m\u001b[0;34m(\u001b[0m\u001b[0;34m)\u001b[0m\u001b[0;34m]\u001b[0m\u001b[0;34m\u001b[0m\u001b[0;34m\u001b[0m\u001b[0m\n\u001b[1;32m    222\u001b[0m             \u001b[0;32melif\u001b[0m \u001b[0misinstance\u001b[0m\u001b[0;34m(\u001b[0m\u001b[0moverlay\u001b[0m\u001b[0;34m,\u001b[0m \u001b[0mSparseAxis\u001b[0m\u001b[0;34m)\u001b[0m\u001b[0;34m:\u001b[0m\u001b[0;34m\u001b[0m\u001b[0;34m\u001b[0m\u001b[0m\n\u001b[0;32m--> 223\u001b[0;31m                 \u001b[0msumw\u001b[0m\u001b[0;34m,\u001b[0m \u001b[0msumw2\u001b[0m \u001b[0;34m=\u001b[0m \u001b[0mhist\u001b[0m\u001b[0;34m.\u001b[0m\u001b[0mintegrate\u001b[0m\u001b[0;34m(\u001b[0m\u001b[0moverlay\u001b[0m\u001b[0;34m,\u001b[0m \u001b[0midentifier\u001b[0m\u001b[0;34m)\u001b[0m\u001b[0;34m.\u001b[0m\u001b[0mvalues\u001b[0m\u001b[0;34m(\u001b[0m\u001b[0msumw2\u001b[0m\u001b[0;34m=\u001b[0m\u001b[0;32mTrue\u001b[0m\u001b[0;34m,\u001b[0m \u001b[0moverflow\u001b[0m\u001b[0;34m=\u001b[0m\u001b[0moverflow\u001b[0m\u001b[0;34m)\u001b[0m\u001b[0;34m[\u001b[0m\u001b[0;34m(\u001b[0m\u001b[0;34m)\u001b[0m\u001b[0;34m]\u001b[0m\u001b[0;34m\u001b[0m\u001b[0;34m\u001b[0m\u001b[0m\n\u001b[0m\u001b[1;32m    224\u001b[0m             \u001b[0;32melse\u001b[0m\u001b[0;34m:\u001b[0m\u001b[0;34m\u001b[0m\u001b[0;34m\u001b[0m\u001b[0m\n\u001b[1;32m    225\u001b[0m                 \u001b[0msumw\u001b[0m\u001b[0;34m,\u001b[0m \u001b[0msumw2\u001b[0m \u001b[0;34m=\u001b[0m \u001b[0mhist\u001b[0m\u001b[0;34m.\u001b[0m\u001b[0mvalues\u001b[0m\u001b[0;34m(\u001b[0m\u001b[0msumw2\u001b[0m\u001b[0;34m=\u001b[0m\u001b[0;32mTrue\u001b[0m\u001b[0;34m,\u001b[0m \u001b[0moverflow\u001b[0m\u001b[0;34m=\u001b[0m\u001b[0;34m'allnan'\u001b[0m\u001b[0;34m)\u001b[0m\u001b[0;34m[\u001b[0m\u001b[0;34m(\u001b[0m\u001b[0;34m)\u001b[0m\u001b[0;34m]\u001b[0m\u001b[0;34m\u001b[0m\u001b[0;34m\u001b[0m\u001b[0m\n",
      "\u001b[0;31mKeyError\u001b[0m: ()"
     ]
    },
    {
     "data": {
      "image/png": "[encoded data removed]",
      "text/plain": [
       "<Figure size 720x720 with 1 Axes>"
      ]
     },
     "metadata": {
      "needs_background": "light"
     },
     "output_type": "display_data"
    }
   ],
   "source": [
    "# draw the stacked plot\n",
    "plot_stack(x,'msd1')"
   ]
  },
  {
   "cell_type": "code",
   "execution_count": 35,
   "metadata": {},
   "outputs": [],
   "source": [
    "# Select out events in the Higgs mass window\n",
    "templates_window=templates.integrate('msd1',int_range=slice(mbb_min,mbb_max))"
   ]
  },
  {
   "cell_type": "code",
   "execution_count": 37,
   "metadata": {},
   "outputs": [
    {
     "data": {
      "text/plain": [
       "{('ZH',): 0.0}"
      ]
     },
     "execution_count": 37,
     "metadata": {},
     "output_type": "execute_result"
    }
   ],
   "source": [
    "# Apply a cut\n",
    "templates_cut = templates_window.integrate('deta',int_range=slice(3.5,7)).integrate('mjj',int_range=slice(1000,4000))\n",
    "\n",
    "# Print the number of events passing the cut per process\n",
    "templates_cut.sum('pt1','ddb1').values()"
   ]
  },
  {
   "cell_type": "code",
   "execution_count": 38,
   "metadata": {},
   "outputs": [
    {
     "ename": "KeyError",
     "evalue": "('VBF',)",
     "output_type": "error",
     "traceback": [
      "\u001b[0;31m---------------------------------------------------------------------------\u001b[0m",
      "\u001b[0;31mKeyError\u001b[0m                                  Traceback (most recent call last)",
      "\u001b[0;32m<ipython-input-38-ce81c9a43ce6>\u001b[0m in \u001b[0;36m<module>\u001b[0;34m\u001b[0m\n\u001b[1;32m      2\u001b[0m \u001b[0;34m\u001b[0m\u001b[0m\n\u001b[1;32m      3\u001b[0m \u001b[0;31m# Get the number of signal and background events\u001b[0m\u001b[0;34m\u001b[0m\u001b[0;34m\u001b[0m\u001b[0;34m\u001b[0m\u001b[0m\n\u001b[0;32m----> 4\u001b[0;31m \u001b[0ms\u001b[0m \u001b[0;34m=\u001b[0m \u001b[0msr\u001b[0m\u001b[0;34m[\u001b[0m\u001b[0;34m(\u001b[0m\u001b[0;34m'VBF'\u001b[0m\u001b[0;34m,\u001b[0m\u001b[0;34m)\u001b[0m\u001b[0;34m]\u001b[0m\u001b[0;34m\u001b[0m\u001b[0;34m\u001b[0m\u001b[0m\n\u001b[0m\u001b[1;32m      5\u001b[0m \u001b[0mb\u001b[0m \u001b[0;34m=\u001b[0m \u001b[0msr\u001b[0m\u001b[0;34m[\u001b[0m\u001b[0;34m(\u001b[0m\u001b[0;34m'QCD'\u001b[0m\u001b[0;34m,\u001b[0m\u001b[0;34m)\u001b[0m\u001b[0;34m]\u001b[0m \u001b[0;34m+\u001b[0m \u001b[0msr\u001b[0m\u001b[0;34m[\u001b[0m\u001b[0;34m(\u001b[0m\u001b[0;34m'Zjets'\u001b[0m\u001b[0;34m,\u001b[0m\u001b[0;34m)\u001b[0m\u001b[0;34m]\u001b[0m \u001b[0;34m+\u001b[0m \u001b[0msr\u001b[0m\u001b[0;34m[\u001b[0m\u001b[0;34m(\u001b[0m\u001b[0;34m'Wjets'\u001b[0m\u001b[0;34m,\u001b[0m\u001b[0;34m)\u001b[0m\u001b[0;34m]\u001b[0m \u001b[0;34m+\u001b[0m \u001b[0msr\u001b[0m\u001b[0;34m[\u001b[0m\u001b[0;34m(\u001b[0m\u001b[0;34m'VV'\u001b[0m\u001b[0;34m,\u001b[0m\u001b[0;34m)\u001b[0m\u001b[0;34m]\u001b[0m \u001b[0;34m+\u001b[0m \u001b[0msr\u001b[0m\u001b[0;34m[\u001b[0m\u001b[0;34m(\u001b[0m\u001b[0;34m'ttbar'\u001b[0m\u001b[0;34m,\u001b[0m\u001b[0;34m)\u001b[0m\u001b[0;34m]\u001b[0m \u001b[0;34m+\u001b[0m\u001b[0msr\u001b[0m\u001b[0;34m[\u001b[0m\u001b[0;34m(\u001b[0m\u001b[0;34m'singlet'\u001b[0m\u001b[0;34m,\u001b[0m\u001b[0;34m)\u001b[0m\u001b[0;34m]\u001b[0m \u001b[0;34m+\u001b[0m \u001b[0msr\u001b[0m\u001b[0;34m[\u001b[0m\u001b[0;34m(\u001b[0m\u001b[0;34m'ggF'\u001b[0m\u001b[0;34m,\u001b[0m\u001b[0;34m)\u001b[0m\u001b[0;34m]\u001b[0m \u001b[0;34m+\u001b[0m \u001b[0msr\u001b[0m\u001b[0;34m[\u001b[0m\u001b[0;34m(\u001b[0m\u001b[0;34m'WH'\u001b[0m\u001b[0;34m,\u001b[0m\u001b[0;34m)\u001b[0m\u001b[0;34m]\u001b[0m \u001b[0;34m+\u001b[0m \u001b[0msr\u001b[0m\u001b[0;34m[\u001b[0m\u001b[0;34m(\u001b[0m\u001b[0;34m'ZH'\u001b[0m\u001b[0;34m,\u001b[0m\u001b[0;34m)\u001b[0m\u001b[0;34m]\u001b[0m \u001b[0;34m+\u001b[0m \u001b[0msr\u001b[0m\u001b[0;34m[\u001b[0m\u001b[0;34m(\u001b[0m\u001b[0;34m'ttH'\u001b[0m\u001b[0;34m,\u001b[0m\u001b[0;34m)\u001b[0m\u001b[0;34m]\u001b[0m\u001b[0;34m\u001b[0m\u001b[0;34m\u001b[0m\u001b[0m\n\u001b[1;32m      6\u001b[0m \u001b[0;34m\u001b[0m\u001b[0m\n",
      "\u001b[0;31mKeyError\u001b[0m: ('VBF',)"
     ]
    }
   ],
   "source": [
    "sr = templates_cut.sum().values()\n",
    "\n",
    "# Get the number of signal and background events\n",
    "s = sr[('VBF',)] \n",
    "b = sr[('QCD',)] + sr[('Zjets',)] + sr[('Wjets',)] + sr[('VV',)] + sr[('ttbar',)] +sr[('singlet',)] + sr[('ggF',)] + sr[('WH',)] + sr[('ZH',)] + sr[('ttH',)]\n",
    "\n",
    "# Print the significance\n",
    "print(significance(s,b))\n",
    "# Note: this only makes sense in the mass window of Higgs"
   ]
  },
  {
   "cell_type": "code",
   "execution_count": null,
   "metadata": {},
   "outputs": [],
   "source": []
  }
 ],
 "metadata": {
  "kernelspec": {
   "display_name": "Python 3",
   "language": "python",
   "name": "python3"
  },
  "language_info": {
   "codemirror_mode": {
    "name": "ipython",
    "version": 3
   },
   "file_extension": ".py",
   "mimetype": "text/x-python",
   "name": "python",
   "nbconvert_exporter": "python",
   "pygments_lexer": "ipython3",
   "version": "3.7.6"
  }
 },
 "nbformat": 4,
 "nbformat_minor": 2
}
