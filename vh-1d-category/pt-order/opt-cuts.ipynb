{
 "cells": [
  {
   "cell_type": "code",
   "execution_count": 113,
   "metadata": {},
   "outputs": [],
   "source": [
    "import os, subprocess\n",
    "import json\n",
    "import uproot\n",
    "import awkward as ak\n",
    "import numpy as np\n",
    "from coffea import processor, util, hist\n",
    "\n",
    "%matplotlib inline\n",
    "import matplotlib.pyplot as plt\n",
    "from cycler import cycler"
   ]
  },
  {
   "cell_type": "code",
   "execution_count": 114,
   "metadata": {},
   "outputs": [],
   "source": [
    "colors = {}\n",
    "colors['QCD'] = '#1f77b4'\n",
    "colors['VBF'] = '#ff7f0e'\n",
    "colors['VV'] = '#2ca02c'\n",
    "colors['Wjets'] = '#d62728'\n",
    "colors['WH'] = '#9467bd'\n",
    "colors['Zjets'] = '#8c564b'\n",
    "colors['ZH'] = '#e377c2'\n",
    "colors['ggF'] = '#7f7f7f'\n",
    "colors['ttbar'] = '#bcdb22'\n",
    "colors['singlet'] = '#bcdb22'\n",
    "colors['ttH'] = '#17becf'"
   ]
  },
  {
   "cell_type": "code",
   "execution_count": 115,
   "metadata": {},
   "outputs": [],
   "source": [
    "lumis = {}\n",
    "lumis['2016'] = 35.9\n",
    "lumis['2017'] = 41.5\n",
    "lumis['2018'] = 59.9\n",
    "\n",
    "nfiles_mc = {}\n",
    "nfiles_mc['2016'] = 64\n",
    "nfiles_mc['2017'] = 89\n",
    "nfiles_mc['2018'] = 106\n",
    "\n",
    "with open('xsec.json') as f:\n",
    "  xs = json.load(f)\n",
    "\n",
    "with open('pmap.json') as f:\n",
    "  pmap = json.load(f)"
   ]
  },
  {
   "cell_type": "code",
   "execution_count": 116,
   "metadata": {},
   "outputs": [],
   "source": [
    "year = '2018'\n",
    "outsum = processor.dict_accumulator()"
   ]
  },
  {
   "cell_type": "code",
   "execution_count": 117,
   "metadata": {},
   "outputs": [],
   "source": [
    "# Higgs mass window\n",
    "mbb_min = 110\n",
    "mbb_max = 138"
   ]
  },
  {
   "cell_type": "code",
   "execution_count": 118,
   "metadata": {},
   "outputs": [],
   "source": [
    "def significance(s,b):\n",
    "    if b==0:\n",
    "        return 0\n",
    "    z_squared = 2.0*(s+b)*np.log(1.0+1.0*s/b) - 2.0*s\n",
    "    return np.sqrt(z_squared)"
   ]
  },
  {
   "cell_type": "code",
   "execution_count": 119,
   "metadata": {},
   "outputs": [],
   "source": [
    "def plot_overlay(x,name):\n",
    "    x.label = 'Events'\n",
    "    axes = hist.plotgrid(x, overlay='process', line_opts={}, order=['QCD','Zjets','Wjets','ttbar','singlet','VV','ggF','VBF','WH','ZH','ttH'])\n",
    "    axes[0, 0].set_prop_cycle(cycler(color=colors.values()))\n",
    "    axes[0, 0].set_yscale('log')\n",
    "    axes[0, 0].set_ylim(.001, 100000)\n",
    "    plt.legend(bbox_to_anchor=(1.05, 1), loc='upper left')\n",
    "    fig_name = year+'/plot-all/'+name+'.png'\n",
    "    plt.savefig(fig_name,bbox_inches='tight')"
   ]
  },
  {
   "cell_type": "code",
   "execution_count": 120,
   "metadata": {},
   "outputs": [],
   "source": [
    "def plot_stack(x,name):\n",
    "    x.label = 'Events'\n",
    "    axes = hist.plot1d(x, overlay='process', fill_opts={'edgecolor': (0,0,0,1)}, stack=True, order=['ttH','ZH','WH','VBF','ggF','VV','ttbar','singlet','Wjets','Zjets','QCD'])\n",
    "    axes.set_prop_cycle(cycler(color=colors.values()))\n",
    "    axes.set_yscale('log')\n",
    "    axes.set_ylim(.001, 100000)\n",
    "    plt.legend(bbox_to_anchor=(1.05, 1), loc='upper left')\n",
    "    fig_name = year+'/plot-all/'+name+'_stack.png'\n",
    "    plt.savefig(fig_name,bbox_inches='tight')"
   ]
  },
  {
   "cell_type": "code",
   "execution_count": 121,
   "metadata": {},
   "outputs": [],
   "source": [
    "def yield_plot(sr, name):\n",
    "    \n",
    "    nggF_sel = sr[('ggF',)]\n",
    "    nVBF_sel = sr[('VBF',)]\n",
    "    nWH_sel = sr[('WH',)]\n",
    "    nZH_sel = sr[('ZH',)]\n",
    "    nttH_sel = sr[('ttH',)]\n",
    "    \n",
    "    nQCD_sel = sr[('QCD',)]\n",
    "    nVV_sel = sr[('VV'),]\n",
    "    nWjets_sel = sr[('Wjets',)]\n",
    "    nZjets_sel = sr[('Zjets',)]\n",
    "    nttbar_sel = sr[('ttbar',)]\n",
    "    nst_sel = sr[('singlet',)]\n",
    "\n",
    "    sr_name = name+'-like'\n",
    "    categories = [sr_name]\n",
    "    \n",
    "    yields = {}\n",
    "    yields['ttH'] = [nttH_sel]\n",
    "    yields['ZH'] = [nZH_sel]\n",
    "    yields['WH'] = [nWH_sel]\n",
    "    yields['VBF'] = [nVBF_sel]\n",
    "    yields['ggF'] = [nggF_sel]\n",
    "               \n",
    "    yields['VV'] = [nVV_sel]\n",
    "    yields['ttbar'] = [nttbar_sel]\n",
    "    yields['singlet'] = [nst_sel]\n",
    "    yields['Wjets'] = [nWjets_sel]\n",
    "    yields['Zjets'] = [nZjets_sel]\n",
    "    yields['QCD'] = [nQCD_sel]\n",
    "    \n",
    "    with open(year+'/plot-all/'+name+'_yield.json', 'w') as outfile:\n",
    "        json.dump(yields, outfile)\n",
    "    \n",
    "    print(yields)\n",
    "    \n",
    "    y = [0]\n",
    "    for p in ['ttH','ZH','WH','VBF','ggF','VV','Wjets','Zjets','QCD','ttbar','singlet']:\n",
    "        bars = y\n",
    "        if p == 'ttH':\n",
    "            plt.bar(categories, yields[p], width=1, color=colors[p], label=p)\n",
    "        else:\n",
    "            plt.bar(categories, yields[p], width=1, color=colors[p], bottom=bars, label=p)\n",
    "            \n",
    "        y = [y[0]+yields[p][0]]\n",
    "\n",
    "    plt.ylabel('Events')\n",
    "    plt.yscale('log')\n",
    "    plt.ylim(0.1,100000)\n",
    "    plt.legend(bbox_to_anchor=(1.05, 1), loc='upper left')\n",
    "    \n",
    "    fig_name = year+'/plot-all/'+name+'_yield.png'\n",
    "    plt.savefig(fig_name,bbox_inches='tight')"
   ]
  },
  {
   "cell_type": "code",
   "execution_count": 122,
   "metadata": {},
   "outputs": [
    {
     "name": "stdout",
     "output_type": "stream",
     "text": [
      "1\n",
      "2\n",
      "3\n",
      "4\n",
      "5\n",
      "6\n",
      "7\n",
      "8\n",
      "9\n",
      "10\n",
      "11\n",
      "12\n",
      "13\n",
      "14\n",
      "15\n",
      "16\n",
      "17\n",
      "18\n",
      "19\n",
      "20\n",
      "21\n",
      "22\n",
      "23\n",
      "24\n",
      "25\n",
      "26\n",
      "27\n",
      "28\n",
      "29\n",
      "30\n",
      "31\n",
      "32\n",
      "33\n",
      "34\n",
      "35\n",
      "36\n",
      "37\n",
      "38\n",
      "39\n",
      "40\n",
      "41\n",
      "42\n",
      "43\n",
      "44\n",
      "45\n",
      "46\n",
      "47\n",
      "48\n",
      "49\n",
      "50\n",
      "51\n",
      "52\n",
      "53\n",
      "54\n",
      "55\n",
      "56\n",
      "57\n",
      "58\n",
      "59\n",
      "60\n",
      "61\n",
      "62\n",
      "63\n",
      "64\n",
      "65\n",
      "66\n",
      "67\n",
      "68\n",
      "69\n",
      "70\n",
      "71\n",
      "72\n",
      "73\n",
      "74\n",
      "75\n",
      "76\n",
      "77\n",
      "78\n",
      "79\n",
      "80\n",
      "81\n",
      "82\n",
      "83\n",
      "84\n",
      "85\n",
      "86\n",
      "87\n",
      "88\n",
      "89\n",
      "90\n",
      "91\n",
      "92\n",
      "93\n",
      "94\n",
      "95\n",
      "96\n",
      "97\n",
      "98\n",
      "99\n",
      "100\n",
      "101\n",
      "102\n",
      "103\n",
      "104\n",
      "105\n",
      "106\n"
     ]
    }
   ],
   "source": [
    "# Load all MC\n",
    "for n in range(1,nfiles_mc[year]+1):\n",
    "    print(n)\n",
    "    filename = 'condor/outfiles/'+year+'_'+str(n)+'.coffea'\n",
    "    if os.path.isfile(filename):\n",
    "        out = util.load(filename)\n",
    "        outsum.add(out)\n",
    "    else:\n",
    "        print(\"File \" + filename + \" is missing\")\n",
    "        \n",
    "scale_lumi = {k: xs[k] * 1000 *lumis[year] / w for k, w in outsum['sumw'].items()}\n",
    "outsum['templates-pt'].scale(scale_lumi, 'dataset')"
   ]
  },
  {
   "cell_type": "code",
   "execution_count": 123,
   "metadata": {},
   "outputs": [],
   "source": [
    "templates0 = outsum['templates-pt'].integrate('region', 'signal')\n",
    "del outsum"
   ]
  },
  {
   "cell_type": "code",
   "execution_count": 124,
   "metadata": {},
   "outputs": [
    {
     "name": "stderr",
     "output_type": "stream",
     "text": [
      "/uscms/home/jennetd/.local/lib/python3.6/site-packages/coffea/hist/hist_tools.py:346: RuntimeWarning: Not all requested indices present in <Cat (name=dataset) instance at 0x7f387c231828>\n",
      "  warnings.warn(\"Not all requested indices present in %r\" % self, RuntimeWarning)\n"
     ]
    }
   ],
   "source": [
    "templates = templates0.group('dataset', hist.Cat('process', 'Process'), pmap)"
   ]
  },
  {
   "cell_type": "code",
   "execution_count": 125,
   "metadata": {},
   "outputs": [],
   "source": [
    "x = templates.sum('msd1','msd2','n2ddt2').integrate('ddb1',int_range=slice(0.89,1))"
   ]
  },
  {
   "cell_type": "code",
   "execution_count": 126,
   "metadata": {},
   "outputs": [
    {
     "data": {
      "image/png": "[encoded data removed]",
      "text/plain": [
       "<Figure size 432x288 with 1 Axes>"
      ]
     },
     "metadata": {
      "needs_background": "light"
     },
     "output_type": "display_data"
    }
   ],
   "source": [
    "plot_overlay(x,'pt2')"
   ]
  },
  {
   "cell_type": "code",
   "execution_count": 127,
   "metadata": {},
   "outputs": [
    {
     "data": {
      "image/png": "[encoded data removed]",
      "text/plain": [
       "<Figure size 432x288 with 1 Axes>"
      ]
     },
     "metadata": {
      "needs_background": "light"
     },
     "output_type": "display_data"
    }
   ],
   "source": [
    "plot_stack(x,'pt2')"
   ]
  },
  {
   "cell_type": "code",
   "execution_count": 128,
   "metadata": {},
   "outputs": [],
   "source": [
    "x = templates.sum('pt2', 'n2ddt2', 'msd1').integrate('ddb1',int_range=slice(0.89,1))"
   ]
  },
  {
   "cell_type": "code",
   "execution_count": 129,
   "metadata": {},
   "outputs": [
    {
     "data": {
      "image/png": "[encoded data removed]",
      "text/plain": [
       "<Figure size 432x288 with 1 Axes>"
      ]
     },
     "metadata": {
      "needs_background": "light"
     },
     "output_type": "display_data"
    }
   ],
   "source": [
    "plot_overlay(x,'msd2')"
   ]
  },
  {
   "cell_type": "code",
   "execution_count": 130,
   "metadata": {},
   "outputs": [
    {
     "data": {
      "image/png": "[encoded data removed]",
      "text/plain": [
       "<Figure size 432x288 with 1 Axes>"
      ]
     },
     "metadata": {
      "needs_background": "light"
     },
     "output_type": "display_data"
    }
   ],
   "source": [
    "plot_stack(x,'msd2')"
   ]
  },
  {
   "cell_type": "code",
   "execution_count": 131,
   "metadata": {},
   "outputs": [],
   "source": [
    "x = templates.sum('pt2','msd2','msd1').integrate('ddb1',int_range=slice(0.89,1))"
   ]
  },
  {
   "cell_type": "code",
   "execution_count": 132,
   "metadata": {},
   "outputs": [
    {
     "data": {
      "image/png": "[encoded data removed]",
      "text/plain": [
       "<Figure size 432x288 with 1 Axes>"
      ]
     },
     "metadata": {
      "needs_background": "light"
     },
     "output_type": "display_data"
    }
   ],
   "source": [
    "plot_overlay(x,'n2ddt2')"
   ]
  },
  {
   "cell_type": "code",
   "execution_count": 133,
   "metadata": {},
   "outputs": [
    {
     "data": {
      "image/png": "[encoded data removed]",
      "text/plain": [
       "<Figure size 432x288 with 1 Axes>"
      ]
     },
     "metadata": {
      "needs_background": "light"
     },
     "output_type": "display_data"
    }
   ],
   "source": [
    "plot_stack(x,'n2ddt2')"
   ]
  },
  {
   "cell_type": "code",
   "execution_count": 134,
   "metadata": {},
   "outputs": [],
   "source": [
    "x = templates.integrate('msd1',int_range=slice(mbb_min, mbb_max)).integrate('ddb1',int_range=slice(0.89,1))"
   ]
  },
  {
   "cell_type": "code",
   "execution_count": 135,
   "metadata": {},
   "outputs": [],
   "source": [
    "if year == '2017':\n",
    "\n",
    "    cuts3 = []\n",
    "    sigs3 = []\n",
    "\n",
    "    msd2_slices = [i*7+40 for i in range(1,23)]\n",
    "    for msd2_min in msd2_slices:\n",
    "        for msd2_max in msd2_slices:\n",
    "            if msd2_max <= msd2_min:\n",
    "                continue\n",
    "\n",
    "            sliced = x.sum('pt2','n2ddt2').integrate('msd2',int_range=slice(msd2_min,msd2_max))\n",
    "            s = sliced.values()[('ZH',)] + sliced.values()[('WH',)]\n",
    "            b = sliced.values()[('ggF',)] + sliced.values()[('VBF',)] + sliced.values()[('ttH',)] \n",
    "            b += sliced.values()[('QCD',)] + sliced.values()[('Wjets',)] + sliced.values()[('Zjets',)] + sliced.values()[('VV',)] + sliced.values()[('ttbar',)] + sliced.values()[('singlet',)]\n",
    "            \n",
    "            sigs3 += [significance(s,b)]\n",
    "            cuts3 += [[msd2_min,msd2_max]]\n",
    "        \n",
    "    cuts3 = np.array(cuts3)\n",
    "    print(max(sigs3))\n",
    "    print(cuts3[np.argmax(sigs3)])\n",
    "\n",
    "    msd_min_vh = cuts3[np.argmax(sigs3)][0]\n",
    "    msd_max_vh = cuts3[np.argmax(sigs3)][1]\n",
    "\n",
    "    plt.hist2d(cuts3[:,0], cuts3[:,1], density=False, weights=sigs3, bins=[21,21]);\n",
    "    plt.xlabel('$msd_{min}$');\n",
    "    plt.ylabel('$msd_{max}$');\n",
    "    plt.savefig(year+'/plot-all/vh_2d_msdminmax.png')\n",
    "    \n",
    "else:\n",
    "    msd2_min = 75\n",
    "    msd2_max = 96"
   ]
  },
  {
   "cell_type": "code",
   "execution_count": 136,
   "metadata": {},
   "outputs": [],
   "source": [
    "if year == '2017':\n",
    "\n",
    "    cuts5 = []\n",
    "    sigs5 = []\n",
    "\n",
    "    pt2_slices = [300, 350, 400, 450, 500, 550, 600, 675, 800]\n",
    "    n2ddt2_slices = [-0.25+0.25*i for i in range(1,3)]\n",
    "\n",
    "    for pt2 in pt2_slices:\n",
    "        for n2ddt2 in n2ddt2_slices:\n",
    "\n",
    "            msd2_min = msd_min_vh\n",
    "            msd2_max = msd_max_vh\n",
    "        \n",
    "            sliced = x.integrate('msd2',int_range=slice(msd2_min,msd2_max)).integrate('pt2',int_range=slice(pt2,1200)).integrate('n2ddt2',int_range=slice(-0.25,n2ddt2))\n",
    "        \n",
    "            s = sliced.values()[('ZH',)] + sliced.values()[('WH',)]\n",
    "            b = sliced.values()[('ggF',)] + sliced.values()[('VBF',)] + sliced.values()[('ttH',)] \n",
    "            b += sliced.values()[('QCD',)] + sliced.values()[('Wjets',)] + sliced.values()[('Zjets',)] + sliced.values()[('VV',)] + sliced.values()[('ttbar',)] + sliced.values()[('singlet',)]\n",
    "            \n",
    "            sigs5 += [significance(s,b)]\n",
    "            cuts5 += [[pt2,n2ddt2]]\n",
    "        \n",
    "    cuts5 = np.array(cuts5)\n",
    "    print(max(sigs5))\n",
    "    print(cuts5[np.argmax(sigs5)])\n",
    "\n",
    "    n2ddt2_cut = cuts5[np.argmax(sigs5)][1]\n",
    "    pt2_cut = cuts5[np.argmax(sigs5)][0]\n",
    "\n",
    "    plt.hist2d(cuts5[:,0], cuts5[:,1], density=False, weights=sigs5, bins=[[300, 350, 400, 450, 500, 550, 600, 675, 800, 1200],[0,0.25,0.5]]);\n",
    "    plt.xlabel('$p_{T}$');\n",
    "    plt.ylabel('n2ddt');\n",
    "    plt.savefig(year+'/plot-all/vh_2d_n2ddtpt.png')\n",
    "    \n",
    "else:\n",
    "    pt2_cut = 550\n",
    "    n2ddt2_cut = 0"
   ]
  },
  {
   "cell_type": "code",
   "execution_count": 137,
   "metadata": {},
   "outputs": [
    {
     "name": "stdout",
     "output_type": "stream",
     "text": [
      "{'ttH': [0.030532335428588016], 'ZH': [0.4933707748051784], 'WH': [0.8079276295212223], 'VBF': [0.023596118469869445], 'ggF': [0.07755050089900273], 'VV': [0.0], 'ttbar': [8.461738547856934], 'singlet': [1.618376958435923], 'Wjets': [1.3510424038352429], 'Zjets': [1.2615520283737198], 'QCD': [30.94471390443668]}\n"
     ]
    },
    {
     "data": {
      "image/png": "[encoded data removed]",
      "text/plain": [
       "<Figure size 432x288 with 1 Axes>"
      ]
     },
     "metadata": {
      "needs_background": "light"
     },
     "output_type": "display_data"
    }
   ],
   "source": [
    "sr = x.integrate('msd2',int_range=slice(msd2_min,msd2_max)).integrate('n2ddt2',int_range=slice(-0.25,n2ddt2_cut)).integrate('pt2',int_range=slice(pt2_cut,1200)).values()\n",
    "yield_plot(sr, 'vh-bkgopt')"
   ]
  },
  {
   "cell_type": "code",
   "execution_count": 138,
   "metadata": {},
   "outputs": [
    {
     "name": "stdout",
     "output_type": "stream",
     "text": [
      "1.3012984043264006 43.769102797735954\n",
      "0.19573211259942547\n"
     ]
    }
   ],
   "source": [
    "# significance\n",
    "s = sr[('WH',)] + sr[('ZH',)]\n",
    "b = sr[('QCD',)] + sr[('Zjets',)] + sr[('Wjets',)]  + sr[('VV',)] + sr[('ttbar',)] +sr[('singlet',)] + sr[('ggF',)] + sr[('VBF',)] + sr[('ttH',)]\n",
    "\n",
    "print(s,b)\n",
    "print(significance(s,b))\n",
    "\n",
    "# this only makes sense in the mass window of Higgs"
   ]
  },
  {
   "cell_type": "code",
   "execution_count": 139,
   "metadata": {},
   "outputs": [
    {
     "data": {
      "image/png": "[encoded data removed]",
      "text/plain": [
       "<Figure size 432x288 with 1 Axes>"
      ]
     },
     "metadata": {
      "needs_background": "light"
     },
     "output_type": "display_data"
    }
   ],
   "source": [
    "mhist = templates.integrate('ddb1',int_range=slice(0.89,1)).integrate('msd2',int_range=slice(msd2_min,msd2_max)).integrate('n2ddt2',int_range=slice(-0.25,n2ddt2_cut)).integrate('pt2',int_range=slice(pt2_cut,1200))\n",
    "plot_stack(mhist,'vh-msd1')"
   ]
  },
  {
   "cell_type": "code",
   "execution_count": 140,
   "metadata": {},
   "outputs": [],
   "source": [
    "import pandas as pd"
   ]
  },
  {
   "cell_type": "code",
   "execution_count": 141,
   "metadata": {},
   "outputs": [],
   "source": [
    "df1 = pd.DataFrame(index=['$V$ jet $m_{sd}$','$V$ jet N2DDT','$V$ jet $p_T$','$H$ jet DeepDoubleB'],columns=['ggF','VBF','WH','ZH','ttH'])\n",
    "df2 = pd.DataFrame(index=['$V$ jet $m_{sd}$','$V$ jet N2DDT','$V$ jet $p_T$','$H$ jet DeepDoubleB'],columns=['QCD','Wjets','Zjets','VV','ttbar','singlet'])"
   ]
  },
  {
   "cell_type": "code",
   "execution_count": 142,
   "metadata": {},
   "outputs": [],
   "source": [
    "# msd2 cut\n",
    "tmp = templates.sum('msd1','pt2','n2ddt2','ddb1').integrate('msd2',int_range=slice(msd2_min,msd2_max)).values()\n",
    "cutname = '$V$ jet $m_{sd}$'\n",
    "\n",
    "df1['ggF'][cutname] = tmp[('ggF'),]\n",
    "df1['VBF'][cutname] = tmp[('VBF'),]\n",
    "df1['WH'][cutname] = tmp[('WH'),]\n",
    "df1['ZH'][cutname] = tmp[('ZH'),]\n",
    "df1['ttH'][cutname] = tmp[('ttH'),]\n",
    "\n",
    "df2['QCD'][cutname] = tmp[('QCD'),]\n",
    "df2['Wjets'][cutname] = tmp[('Wjets'),]\n",
    "df2['Zjets'][cutname] = tmp[('Zjets'),]\n",
    "df2['VV'][cutname] = tmp[('VV'),]\n",
    "df2['ttbar'][cutname] = tmp[('ttbar'),]\n",
    "df2['singlet'][cutname] = tmp[('singlet'),]"
   ]
  },
  {
   "cell_type": "code",
   "execution_count": 143,
   "metadata": {},
   "outputs": [],
   "source": [
    "# n2ddt2\n",
    "tmp = templates.sum('msd1','pt2','ddb1').integrate('msd2',int_range=slice(msd2_min,msd2_max)).integrate('n2ddt2',int_range=slice(-0.25,n2ddt2_cut)).values()\n",
    "cutname = '$V$ jet N2DDT'\n",
    "\n",
    "df1['ggF'][cutname] = tmp[('ggF'),]\n",
    "df1['VBF'][cutname] = tmp[('VBF'),]\n",
    "df1['WH'][cutname] = tmp[('WH'),]\n",
    "df1['ZH'][cutname] = tmp[('ZH'),]\n",
    "df1['ttH'][cutname] = tmp[('ttH'),]\n",
    "\n",
    "df2['QCD'][cutname] = tmp[('QCD'),]\n",
    "df2['Wjets'][cutname] = tmp[('Wjets'),]\n",
    "df2['Zjets'][cutname] = tmp[('Zjets'),]\n",
    "df2['VV'][cutname] = tmp[('VV'),]\n",
    "df2['ttbar'][cutname] = tmp[('ttbar'),]\n",
    "df2['singlet'][cutname] = tmp[('singlet'),]"
   ]
  },
  {
   "cell_type": "code",
   "execution_count": 144,
   "metadata": {},
   "outputs": [],
   "source": [
    "# pt2\n",
    "tmp = templates.sum('msd1','ddb1').integrate('msd2',int_range=slice(msd2_min,msd2_max)).integrate('n2ddt2',int_range=slice(-0.25,n2ddt2_cut)).integrate('pt2',int_range=slice(pt2_cut,1200)).values()\n",
    "cutname = '$V$ jet $p_T$'\n",
    "\n",
    "df1['ggF'][cutname] = tmp[('ggF'),]\n",
    "df1['VBF'][cutname] = tmp[('VBF'),]\n",
    "df1['WH'][cutname] = tmp[('WH'),]\n",
    "df1['ZH'][cutname] = tmp[('ZH'),]\n",
    "df1['ttH'][cutname] = tmp[('ttH'),]\n",
    "\n",
    "df2['QCD'][cutname] = tmp[('QCD'),]\n",
    "df2['Wjets'][cutname] = tmp[('Wjets'),]\n",
    "df2['Zjets'][cutname] = tmp[('Zjets'),]\n",
    "df2['VV'][cutname] = tmp[('VV'),]\n",
    "df2['ttbar'][cutname] = tmp[('ttbar'),]\n",
    "df2['singlet'][cutname] = tmp[('singlet'),]"
   ]
  },
  {
   "cell_type": "code",
   "execution_count": 145,
   "metadata": {
    "scrolled": true
   },
   "outputs": [],
   "source": [
    "# ddb1\n",
    "tmp = templates.sum('msd1').integrate('msd2',int_range=slice(msd2_min,msd2_max)).integrate('n2ddt2',int_range=slice(-0.25,n2ddt2_cut)).integrate('pt2',int_range=slice(pt2_cut,1200)).integrate('ddb1',int_range=slice(0.89,1)).values()\n",
    "cutname = '$H$ jet DeepDoubleB'\n",
    "\n",
    "df1['ggF'][cutname] = tmp[('ggF'),]\n",
    "df1['VBF'][cutname] = tmp[('VBF'),]\n",
    "df1['WH'][cutname] = tmp[('WH'),]\n",
    "df1['ZH'][cutname] = tmp[('ZH'),]\n",
    "df1['ttH'][cutname] = tmp[('ttH'),]\n",
    "\n",
    "df2['QCD'][cutname] = tmp[('QCD'),]\n",
    "df2['Wjets'][cutname] = tmp[('Wjets'),]\n",
    "df2['Zjets'][cutname] = tmp[('Zjets'),]\n",
    "df2['VV'][cutname] = tmp[('VV'),]\n",
    "df2['ttbar'][cutname] = tmp[('ttbar'),]\n",
    "df2['singlet'][cutname] = tmp[('singlet'),]"
   ]
  },
  {
   "cell_type": "code",
   "execution_count": 146,
   "metadata": {},
   "outputs": [
    {
     "name": "stdout",
     "output_type": "stream",
     "text": [
      "                           ggF        VBF        WH        ZH        ttH\n",
      "$V$ jet $m_{sd}$       6.87483    1.86503   6.32529   4.74958    2.06813\n",
      "$V$ jet N2DDT          2.13427   0.709565   4.18469   3.41447    1.20807\n",
      "$V$ jet $p_T$         0.373734  0.0333578    1.4446     1.132   0.136727\n",
      "$H$ jet DeepDoubleB  0.0775505  0.0235961  0.957751  0.626182  0.0504347\n"
     ]
    }
   ],
   "source": [
    "print(df1)\n",
    "df1 = df1.astype('int')\n",
    "df1.to_latex(buf=year+'/cutflow-sig.tex')"
   ]
  },
  {
   "cell_type": "code",
   "execution_count": 147,
   "metadata": {},
   "outputs": [
    {
     "name": "stdout",
     "output_type": "stream",
     "text": [
      "                         QCD    Wjets    Zjets       VV    ttbar  singlet\n",
      "$V$ jet $m_{sd}$      416691  9952.54  4702.24  363.542  2614.67   429.14\n",
      "$V$ jet N2DDT        94611.6  4415.37  2147.48  247.638  1587.19  262.362\n",
      "$V$ jet $p_T$        14511.7  854.649   447.19  60.2095  214.704   39.729\n",
      "$H$ jet DeepDoubleB  165.248  10.9984  14.1709  1.23825  24.6055  2.41923\n"
     ]
    }
   ],
   "source": [
    "print(df2)\n",
    "df2 = df2.astype('int')\n",
    "df2.to_latex(buf=year+'/cutflow-bkg.tex')"
   ]
  },
  {
   "cell_type": "code",
   "execution_count": 148,
   "metadata": {},
   "outputs": [
    {
     "name": "stdout",
     "output_type": "stream",
     "text": [
      "0.8540999762918356\n"
     ]
    }
   ],
   "source": [
    "# Hard-coded -- combine results from all 3 years\n",
    "\n",
    "VH = 0\n",
    "tot_H = 0\n",
    "\n",
    "#2016\n",
    "VH += 0.576513 + 0.335428\n",
    "tot_H += 0.00495358 + 0.0620203 + 0.576513 + 0.335428 + 0.0373796\n",
    "\n",
    "#2017\n",
    "VH += 1.62591 + 1.05862\n",
    "tot_H += 0.223702 + 0.245804 + 1.62591 + 1.05862 + 0.159492\n",
    "\n",
    "#2018\n",
    "VH += 0.957751 + 0.626182\n",
    "tot_H += 0.0775505 + 0.0235961 + 0.957751 + 0.626182 + 0.0504347\n",
    "\n",
    "print(VH/tot_H)"
   ]
  },
  {
   "cell_type": "code",
   "execution_count": 149,
   "metadata": {},
   "outputs": [
    {
     "data": {
      "text/plain": [
       "0.29052022304824154"
      ]
     },
     "execution_count": 149,
     "metadata": {},
     "output_type": "execute_result"
    }
   ],
   "source": [
    "np.sqrt(.115**2 + .181**2 + .196**2)"
   ]
  },
  {
   "cell_type": "code",
   "execution_count": null,
   "metadata": {},
   "outputs": [],
   "source": []
  }
 ],
 "metadata": {
  "kernelspec": {
   "display_name": "Python 3",
   "language": "python",
   "name": "python3"
  },
  "language_info": {
   "codemirror_mode": {
    "name": "ipython",
    "version": 3
   },
   "file_extension": ".py",
   "mimetype": "text/x-python",
   "name": "python",
   "nbconvert_exporter": "python",
   "pygments_lexer": "ipython3",
   "version": "3.6.5"
  }
 },
 "nbformat": 4,
 "nbformat_minor": 2
}
