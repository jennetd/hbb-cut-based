{
 "cells": [
  {
   "cell_type": "code",
   "execution_count": 29,
   "metadata": {},
   "outputs": [],
   "source": [
    "import os, subprocess\n",
    "import json\n",
    "import uproot\n",
    "import awkward as ak\n",
    "import numpy as np\n",
    "from coffea import processor, util, hist\n",
    "\n",
    "%matplotlib inline\n",
    "from matplotlib import lines as mlines\n",
    "import matplotlib.pyplot as plt\n",
    "from cycler import cycler"
   ]
  },
  {
   "cell_type": "code",
   "execution_count": 30,
   "metadata": {},
   "outputs": [],
   "source": [
    "lumis = {}\n",
    "lumis['2016'] = 35.9\n",
    "lumis['2017'] = 41.5\n",
    "lumis['2018'] = 59.9\n",
    "\n",
    "nfiles_mc = {}\n",
    "nfiles_mc['2016'] = 64\n",
    "nfiles_mc['2017'] = 89\n",
    "nfiles_mc['2018'] = 106\n",
    "\n",
    "nfiles_data = {}\n",
    "nfiles_data['2016'] = 16\n",
    "nfiles_data['2017'] = 19\n",
    "nfiles_data['2018'] = 27\n",
    "\n",
    "with open('xsec.json') as f:\n",
    "  xs = json.load(f)\n",
    "\n",
    "with open('pmap.json') as f:\n",
    "  pmap = json.load(f)"
   ]
  },
  {
   "cell_type": "code",
   "execution_count": 31,
   "metadata": {},
   "outputs": [],
   "source": [
    "year = '2016'\n",
    "outsum = processor.dict_accumulator()"
   ]
  },
  {
   "cell_type": "code",
   "execution_count": 32,
   "metadata": {},
   "outputs": [
    {
     "name": "stdout",
     "output_type": "stream",
     "text": [
      "1\n",
      "2\n",
      "3\n",
      "4\n",
      "5\n",
      "6\n",
      "7\n",
      "8\n",
      "9\n",
      "10\n",
      "11\n",
      "12\n",
      "13\n",
      "14\n",
      "15\n",
      "16\n",
      "17\n",
      "18\n",
      "19\n",
      "20\n",
      "21\n",
      "22\n",
      "23\n",
      "24\n",
      "25\n",
      "26\n",
      "27\n",
      "28\n",
      "29\n",
      "30\n",
      "31\n",
      "32\n",
      "33\n",
      "34\n",
      "35\n",
      "36\n",
      "37\n",
      "38\n",
      "39\n",
      "40\n",
      "41\n",
      "42\n",
      "43\n",
      "44\n",
      "45\n",
      "46\n",
      "47\n",
      "48\n",
      "49\n",
      "50\n",
      "51\n",
      "52\n",
      "53\n",
      "54\n",
      "55\n",
      "56\n",
      "57\n",
      "58\n",
      "59\n",
      "60\n",
      "61\n",
      "62\n",
      "63\n",
      "64\n"
     ]
    }
   ],
   "source": [
    "# Load all MC\n",
    "for n in range(1,nfiles_mc[year]+1):\n",
    "    print(n)\n",
    "    filename = 'condor/outfiles/'+year+'_'+str(n)+'.coffea'\n",
    "    if os.path.isfile(filename):\n",
    "        out = util.load(filename)\n",
    "        outsum.add(out)\n",
    "    else:\n",
    "        print(\"File \" + filename + \" is missing\")\n",
    "        \n",
    "scale_lumi = {k: xs[k] * 1000 *lumis[year] / w for k, w in outsum['sumw'].items()}\n",
    "outsum['templates-revpt'].scale(scale_lumi, 'dataset')"
   ]
  },
  {
   "cell_type": "code",
   "execution_count": 33,
   "metadata": {},
   "outputs": [
    {
     "name": "stdout",
     "output_type": "stream",
     "text": [
      "1\n",
      "2\n",
      "3\n",
      "4\n",
      "5\n",
      "File condor/outdata/2016_5.coffea is missing\n",
      "6\n",
      "7\n",
      "8\n",
      "9\n",
      "10\n",
      "11\n",
      "12\n",
      "13\n",
      "14\n",
      "15\n",
      "16\n"
     ]
    }
   ],
   "source": [
    "# Load all data\n",
    "for n in range(1,nfiles_data[year]+1):\n",
    "    print(n)\n",
    "    filename = 'condor/outdata/'+year+'_'+str(n)+'.coffea'\n",
    "    if os.path.isfile(filename):\n",
    "        out = util.load(filename)\n",
    "        outsum.add(out)\n",
    "    else:\n",
    "        print(\"File \" + filename + \" is missing\")\n",
    "        \n",
    "# BE CAREFUL NOT TO UNBLIND\n",
    "# Can you figure out how to blind it at this step???"
   ]
  },
  {
   "cell_type": "code",
   "execution_count": 34,
   "metadata": {},
   "outputs": [
    {
     "name": "stderr",
     "output_type": "stream",
     "text": [
      "/uscms/home/jennetd/.local/lib/python3.6/site-packages/coffea/hist/hist_tools.py:346: RuntimeWarning: Not all requested indices present in <Cat (name=dataset) instance at 0x7f2569af70b8>\n",
      "  warnings.warn(\"Not all requested indices present in %r\" % self, RuntimeWarning)\n"
     ]
    }
   ],
   "source": [
    "templates = outsum['templates-revpt'].group('dataset', hist.Cat('process', 'Process'), pmap)"
   ]
  },
  {
   "cell_type": "code",
   "execution_count": 35,
   "metadata": {},
   "outputs": [],
   "source": [
    "msd2_min = 75\n",
    "msd2_max = 96\n",
    "n2ddt2_cut = 0\n",
    "pt2_cut = 550\n",
    "templates = templates.integrate('msd2',int_range=slice(msd2_min,msd2_max)).integrate('n2ddt2',int_range=slice(-0.25,n2ddt2_cut)).integrate('pt2',int_range=slice(pt2_cut,1200))"
   ]
  },
  {
   "cell_type": "code",
   "execution_count": 36,
   "metadata": {},
   "outputs": [],
   "source": [
    "os.system('rm '+year+'/1-signalregion.root')\n",
    "fout = uproot.create(year+'/1-signalregion.root')\n",
    "for p in pmap.keys():  \n",
    "    h = templates.integrate('region', 'signal').integrate('ddb1',int_range=slice(0.89,1)).integrate('process',p)\n",
    "    fout[p+\"_pass\"] = hist.export1d(h)\n",
    "    h = templates.integrate('region', 'signal').integrate('ddb1',int_range=slice(0,0.89)).integrate('process',p)\n",
    "    fout[p+\"_fail\"] = hist.export1d(h)\n",
    "\n",
    "fout.close()"
   ]
  },
  {
   "cell_type": "code",
   "execution_count": 37,
   "metadata": {},
   "outputs": [
    {
     "data": {
      "image/png": "[encoded data removed]",
      "text/plain": [
       "<Figure size 432x288 with 1 Axes>"
      ]
     },
     "metadata": {
      "needs_background": "light"
     },
     "output_type": "display_data"
    }
   ],
   "source": [
    "hist.plot1d(templates.integrate('region', 'signal').integrate('process','QCD'),overlay='ddb1',density=True)\n",
    "plt.title('VH category, inclusive ('+year+')')\n",
    "plt.savefig(year+'/plot-all/qcd-msd-all.png')"
   ]
  },
  {
   "cell_type": "code",
   "execution_count": 38,
   "metadata": {},
   "outputs": [],
   "source": [
    "os.system('rm '+year+'/muonCR.root')\n",
    "fout = uproot.create(year+'/muonCR.root')\n",
    "for p in pmap.keys():  \n",
    "    h = templates.integrate('region', 'muoncontrol').integrate('ddb1',int_range=slice(0.89,1)).integrate('process',p)\n",
    "    fout[p+\"_pass\"] = hist.export1d(h)\n",
    "    h = templates.integrate('region', 'muoncontrol').integrate('ddb1',int_range=slice(0,0.89)).integrate('process',p)\n",
    "    fout[p+\"_fail\"] = hist.export1d(h)\n",
    "\n",
    "fout.close()"
   ]
  },
  {
   "cell_type": "code",
   "execution_count": null,
   "metadata": {},
   "outputs": [],
   "source": []
  }
 ],
 "metadata": {
  "kernelspec": {
   "display_name": "Python 3",
   "language": "python",
   "name": "python3"
  },
  "language_info": {
   "codemirror_mode": {
    "name": "ipython",
    "version": 3
   },
   "file_extension": ".py",
   "mimetype": "text/x-python",
   "name": "python",
   "nbconvert_exporter": "python",
   "pygments_lexer": "ipython3",
   "version": "3.6.5"
  }
 },
 "nbformat": 4,
 "nbformat_minor": 2
}
