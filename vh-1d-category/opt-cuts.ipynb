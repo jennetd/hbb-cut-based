{
 "cells": [
  {
   "cell_type": "code",
   "execution_count": 38,
   "metadata": {},
   "outputs": [],
   "source": [
    "import os, subprocess\n",
    "import json\n",
    "import uproot\n",
    "import awkward as ak\n",
    "import numpy as np\n",
    "from coffea import processor, util, hist\n",
    "\n",
    "%matplotlib inline\n",
    "import matplotlib.pyplot as plt\n",
    "from cycler import cycler\n",
    "\n",
    "import mplhep as hep\n",
    "plt.style.use([hep.style.ROOT, hep.style.CMS])"
   ]
  },
  {
   "cell_type": "code",
   "execution_count": 39,
   "metadata": {},
   "outputs": [],
   "source": [
    "colors = {}\n",
    "colors['QCD'] = '#1f77b4'\n",
    "colors['VBF'] = '#ff7f0e'\n",
    "colors['VV'] = '#2ca02c'\n",
    "colors['Wjets'] = '#d62728'\n",
    "colors['WH'] = '#9467bd'\n",
    "colors['Zjets'] = '#8c564b'\n",
    "colors['ZH'] = '#e377c2'\n",
    "colors['ggF'] = '#7f7f7f'\n",
    "colors['ttbar'] = '#bcdb22'\n",
    "colors['singlet'] = '#bcdb22'\n",
    "colors['ttH'] = '#17becf'"
   ]
  },
  {
   "cell_type": "code",
   "execution_count": 40,
   "metadata": {},
   "outputs": [],
   "source": [
    "lumis = {}\n",
    "lumis['2016'] = 35.9\n",
    "lumis['2017'] = 41.5\n",
    "lumis['2018'] = 59.9\n",
    "\n",
    "nfiles_mc = {}\n",
    "nfiles_mc['2016'] = 64\n",
    "nfiles_mc['2017'] = 89\n",
    "nfiles_mc['2018'] = 106\n",
    "\n",
    "with open('xsec.json') as f:\n",
    "  xs = json.load(f)\n",
    "\n",
    "with open('pmap.json') as f:\n",
    "  pmap = json.load(f)"
   ]
  },
  {
   "cell_type": "code",
   "execution_count": 41,
   "metadata": {},
   "outputs": [],
   "source": [
    "year = '2017'\n",
    "outsum = processor.dict_accumulator()"
   ]
  },
  {
   "cell_type": "code",
   "execution_count": 42,
   "metadata": {},
   "outputs": [],
   "source": [
    "# Higgs mass window\n",
    "mbb_min = 110\n",
    "mbb_max = 138"
   ]
  },
  {
   "cell_type": "code",
   "execution_count": 43,
   "metadata": {},
   "outputs": [],
   "source": [
    "def significance(s,b):\n",
    "    if b==0:\n",
    "        return 0\n",
    "    z_squared = 2.0*(s+b)*np.log(1.0+1.0*s/b) - 2.0*s\n",
    "    return np.sqrt(z_squared)"
   ]
  },
  {
   "cell_type": "code",
   "execution_count": 44,
   "metadata": {},
   "outputs": [],
   "source": [
    "def plot_overlay(x,name):\n",
    "    x.label = 'Events'\n",
    "    axes = hist.plotgrid(x, overlay='process', line_opts={}, order=['QCD','Zjets','Wjets','ttbar','singlet','VV','ggF','VBF','WH','ZH','ttH'])\n",
    "    axes[0, 0].set_prop_cycle(cycler(color=colors.values()))\n",
    "    axes[0, 0].set_yscale('log')\n",
    "    axes[0, 0].set_ylim(.001, 100000)\n",
    "    plt.legend(bbox_to_anchor=(1.05, 1), loc='upper left')\n",
    "    fig_name = year+'/plot-all/'+name+'.png'\n",
    "    plt.savefig(fig_name,bbox_inches='tight')"
   ]
  },
  {
   "cell_type": "code",
   "execution_count": 45,
   "metadata": {},
   "outputs": [],
   "source": [
    "def plot_stack(x,name):\n",
    "    x.label = 'Events'\n",
    "    axes = hist.plot1d(x, overlay='process', fill_opts={'edgecolor': (0,0,0,1)}, stack=True, order=['ttH','ZH','WH','VBF','ggF','VV','ttbar','singlet','Wjets','Zjets','QCD'])\n",
    "    axes.set_prop_cycle(cycler(color=colors.values()))\n",
    "    axes.set_yscale('log')\n",
    "    axes.set_ylim(.001, 100000)\n",
    "    plt.legend(bbox_to_anchor=(1.05, 1), loc='upper left')\n",
    "    fig_name = year+'/plot-all/'+name+'_stack.png'\n",
    "    plt.savefig(fig_name,bbox_inches='tight')"
   ]
  },
  {
   "cell_type": "code",
   "execution_count": 46,
   "metadata": {},
   "outputs": [],
   "source": [
    "def yield_plot(sr, name):\n",
    "    \n",
    "    nggF_sel = sr[('ggF',)]\n",
    "    nVBF_sel = sr[('VBF',)]\n",
    "    nWH_sel = sr[('WH',)]\n",
    "    nZH_sel = sr[('ZH',)]\n",
    "    nttH_sel = sr[('ttH',)]\n",
    "    \n",
    "    nQCD_sel = sr[('QCD',)]\n",
    "    nVV_sel = sr[('VV'),]\n",
    "    nWjets_sel = sr[('Wjets',)]\n",
    "    nZjets_sel = sr[('Zjets',)]\n",
    "    nttbar_sel = sr[('ttbar',)]\n",
    "    nst_sel = sr[('singlet',)]\n",
    "\n",
    "    sr_name = name+'-like'\n",
    "    categories = [sr_name]\n",
    "    \n",
    "    yields = {}\n",
    "    yields['ttH'] = [nttH_sel]\n",
    "    yields['ZH'] = [nZH_sel]\n",
    "    yields['WH'] = [nWH_sel]\n",
    "    yields['VBF'] = [nVBF_sel]\n",
    "    yields['ggF'] = [nggF_sel]\n",
    "               \n",
    "    yields['VV'] = [nVV_sel]\n",
    "    yields['ttbar'] = [nttbar_sel]\n",
    "    yields['singlet'] = [nst_sel]\n",
    "    yields['Wjets'] = [nWjets_sel]\n",
    "    yields['Zjets'] = [nZjets_sel]\n",
    "    yields['QCD'] = [nQCD_sel]\n",
    "    \n",
    "    with open(year+'/plot-all/'+name+'_yield.json', 'w') as outfile:\n",
    "        json.dump(yields, outfile)\n",
    "    \n",
    "    print(yields)\n",
    "    \n",
    "    y = [0]\n",
    "    for p in ['ttH','ZH','WH','VBF','ggF','VV','Wjets','Zjets','QCD','ttbar','singlet']:\n",
    "        bars = y\n",
    "        if p == 'ttH':\n",
    "            plt.bar(categories, yields[p], width=1, color=colors[p], label=p)\n",
    "        else:\n",
    "            plt.bar(categories, yields[p], width=1, color=colors[p], bottom=bars, label=p)\n",
    "            \n",
    "        y = [y[0]+yields[p][0]]\n",
    "\n",
    "    plt.ylabel('Events')\n",
    "    plt.yscale('log')\n",
    "    plt.ylim(0.1,100000)\n",
    "    plt.legend(bbox_to_anchor=(1.05, 1), loc='upper left')\n",
    "    \n",
    "    fig_name = year+'/plot-all/'+name+'_yield.png'\n",
    "    plt.savefig(fig_name,bbox_inches='tight')"
   ]
  },
  {
   "cell_type": "code",
   "execution_count": 47,
   "metadata": {},
   "outputs": [
    {
     "name": "stdout",
     "output_type": "stream",
     "text": [
      "1\n",
      "2\n",
      "3\n",
      "4\n",
      "5\n",
      "6\n",
      "7\n",
      "8\n",
      "9\n",
      "10\n",
      "11\n",
      "12\n",
      "13\n",
      "14\n",
      "15\n",
      "16\n",
      "17\n",
      "18\n",
      "19\n",
      "20\n",
      "21\n",
      "22\n",
      "23\n",
      "24\n",
      "25\n",
      "26\n",
      "27\n",
      "28\n",
      "29\n",
      "30\n",
      "31\n",
      "32\n",
      "33\n",
      "34\n",
      "35\n",
      "36\n",
      "37\n",
      "38\n",
      "39\n",
      "40\n",
      "41\n",
      "42\n",
      "43\n",
      "44\n",
      "45\n",
      "46\n",
      "47\n",
      "48\n",
      "49\n",
      "50\n",
      "51\n",
      "52\n",
      "53\n",
      "54\n",
      "55\n",
      "56\n",
      "57\n",
      "58\n",
      "59\n",
      "60\n",
      "61\n",
      "62\n",
      "63\n",
      "64\n",
      "65\n",
      "66\n",
      "67\n",
      "68\n",
      "69\n",
      "70\n",
      "71\n",
      "72\n",
      "73\n",
      "74\n",
      "75\n",
      "76\n",
      "77\n",
      "78\n",
      "79\n",
      "80\n",
      "81\n",
      "82\n",
      "83\n",
      "84\n",
      "85\n",
      "86\n",
      "87\n",
      "88\n",
      "89\n"
     ]
    }
   ],
   "source": [
    "# Load all MC\n",
    "for n in range(1,nfiles_mc[year]+1):\n",
    "    print(n)\n",
    "    filename = 'condor/outfiles/'+year+'_'+str(n)+'.coffea'\n",
    "    if os.path.isfile(filename):\n",
    "        out = util.load(filename)\n",
    "        outsum.add(out)\n",
    "    else:\n",
    "        print(\"File \" + filename + \" is missing\")\n",
    "        \n",
    "scale_lumi = {k: xs[k] * 1000 *lumis[year] / w for k, w in outsum['sumw'].items()}\n",
    "outsum['templates-revpt'].scale(scale_lumi, 'dataset')"
   ]
  },
  {
   "cell_type": "code",
   "execution_count": 48,
   "metadata": {},
   "outputs": [],
   "source": [
    "templates0 = outsum['templates-revpt'].integrate('region', 'signal')\n",
    "del outsum"
   ]
  },
  {
   "cell_type": "code",
   "execution_count": 49,
   "metadata": {},
   "outputs": [
    {
     "name": "stderr",
     "output_type": "stream",
     "text": [
      "/uscms/home/jennetd/.local/lib/python3.6/site-packages/coffea/hist/hist_tools.py:346: RuntimeWarning: Not all requested indices present in <Cat (name=dataset) instance at 0x7f5a3964a128>\n",
      "  warnings.warn(\"Not all requested indices present in %r\" % self, RuntimeWarning)\n"
     ]
    }
   ],
   "source": [
    "templates = templates0.group('dataset', hist.Cat('process', 'Process'), pmap)"
   ]
  },
  {
   "cell_type": "code",
   "execution_count": 50,
   "metadata": {},
   "outputs": [],
   "source": [
    "x = templates.sum('msd1','msd2','n2ddt2').integrate('ddb1',int_range=slice(0.89,1))"
   ]
  },
  {
   "cell_type": "code",
   "execution_count": 51,
   "metadata": {},
   "outputs": [
    {
     "data": {
      "image/png": "[encoded data removed]",
      "text/plain": [
       "<Figure size 432x288 with 1 Axes>"
      ]
     },
     "metadata": {
      "needs_background": "light"
     },
     "output_type": "display_data"
    }
   ],
   "source": [
    "plot_overlay(x,'pt2')"
   ]
  },
  {
   "cell_type": "code",
   "execution_count": 52,
   "metadata": {},
   "outputs": [
    {
     "data": {
      "image/png": "[encoded data removed]",
      "text/plain": [
       "<Figure size 432x288 with 1 Axes>"
      ]
     },
     "metadata": {
      "needs_background": "light"
     },
     "output_type": "display_data"
    }
   ],
   "source": [
    "plot_stack(x,'pt2')"
   ]
  },
  {
   "cell_type": "code",
   "execution_count": 53,
   "metadata": {},
   "outputs": [],
   "source": [
    "x = templates.sum('pt2', 'n2ddt2', 'msd1').integrate('ddb1',int_range=slice(0.89,1))"
   ]
  },
  {
   "cell_type": "code",
   "execution_count": 54,
   "metadata": {},
   "outputs": [
    {
     "data": {
      "image/png": "[encoded data removed]",
      "text/plain": [
       "<Figure size 432x288 with 1 Axes>"
      ]
     },
     "metadata": {
      "needs_background": "light"
     },
     "output_type": "display_data"
    }
   ],
   "source": [
    "plot_overlay(x,'msd2')"
   ]
  },
  {
   "cell_type": "code",
   "execution_count": 55,
   "metadata": {},
   "outputs": [
    {
     "data": {
      "image/png": "[encoded data removed]",
      "text/plain": [
       "<Figure size 432x288 with 1 Axes>"
      ]
     },
     "metadata": {
      "needs_background": "light"
     },
     "output_type": "display_data"
    }
   ],
   "source": [
    "plot_stack(x,'msd2')"
   ]
  },
  {
   "cell_type": "code",
   "execution_count": 56,
   "metadata": {},
   "outputs": [],
   "source": [
    "x = templates.sum('pt2','msd2','msd1').integrate('ddb1',int_range=slice(0.89,1))"
   ]
  },
  {
   "cell_type": "code",
   "execution_count": 57,
   "metadata": {},
   "outputs": [
    {
     "data": {
      "image/png": "[encoded data removed]",
      "text/plain": [
       "<Figure size 432x288 with 1 Axes>"
      ]
     },
     "metadata": {
      "needs_background": "light"
     },
     "output_type": "display_data"
    }
   ],
   "source": [
    "plot_overlay(x,'n2ddt2')"
   ]
  },
  {
   "cell_type": "code",
   "execution_count": 58,
   "metadata": {},
   "outputs": [
    {
     "data": {
      "image/png": "[encoded data removed]",
      "text/plain": [
       "<Figure size 432x288 with 1 Axes>"
      ]
     },
     "metadata": {
      "needs_background": "light"
     },
     "output_type": "display_data"
    }
   ],
   "source": [
    "plot_stack(x,'n2ddt2')"
   ]
  },
  {
   "cell_type": "code",
   "execution_count": 59,
   "metadata": {},
   "outputs": [],
   "source": [
    "x = templates.integrate('msd1',int_range=slice(mbb_min, mbb_max)).integrate('ddb1',int_range=slice(0.89,1))"
   ]
  },
  {
   "cell_type": "code",
   "execution_count": 60,
   "metadata": {},
   "outputs": [
    {
     "name": "stdout",
     "output_type": "stream",
     "text": [
      "0.21339701374384137\n",
      "[75 96]\n"
     ]
    },
    {
     "data": {
      "image/png": "[encoded data removed]",
      "text/plain": [
       "<Figure size 432x288 with 1 Axes>"
      ]
     },
     "metadata": {
      "needs_background": "light"
     },
     "output_type": "display_data"
    }
   ],
   "source": [
    "if year == '2017':\n",
    "\n",
    "    cuts3 = []\n",
    "    sigs3 = []\n",
    "\n",
    "    msd2_slices = [i*7+40 for i in range(1,23)]\n",
    "    for msd2_min in msd2_slices:\n",
    "        for msd2_max in msd2_slices:\n",
    "            if msd2_max <= msd2_min:\n",
    "                continue\n",
    "\n",
    "            sliced = x.sum('pt2','n2ddt2').integrate('msd2',int_range=slice(msd2_min,msd2_max))\n",
    "            s = sliced.values()[('ZH',)] + sliced.values()[('WH',)]\n",
    "            b = sliced.values()[('ggF',)] + sliced.values()[('VBF',)] + sliced.values()[('ttH',)] \n",
    "            b += sliced.values()[('QCD',)] + sliced.values()[('Wjets',)] + sliced.values()[('Zjets',)] + sliced.values()[('VV',)] + sliced.values()[('ttbar',)] + sliced.values()[('singlet',)]\n",
    "            \n",
    "            sigs3 += [significance(s,b)]\n",
    "            cuts3 += [[msd2_min,msd2_max]]\n",
    "        \n",
    "    cuts3 = np.array(cuts3)\n",
    "    print(max(sigs3))\n",
    "    print(cuts3[np.argmax(sigs3)])\n",
    "\n",
    "    msd_min_vh = cuts3[np.argmax(sigs3)][0]\n",
    "    msd_max_vh = cuts3[np.argmax(sigs3)][1]\n",
    "\n",
    "    plt.hist2d(cuts3[:,0], cuts3[:,1], density=False, weights=sigs3, bins=[21,21]);\n",
    "    plt.xlabel('$msd_{min}$');\n",
    "    plt.ylabel('$msd_{max}$');\n",
    "    plt.savefig(year+'/plot-all/vh_2d_msdminmax.png')\n",
    "    \n",
    "else:\n",
    "    msd2_min = 75\n",
    "    msd2_max = 96"
   ]
  },
  {
   "cell_type": "code",
   "execution_count": 61,
   "metadata": {},
   "outputs": [
    {
     "name": "stdout",
     "output_type": "stream",
     "text": [
      "0.29643278804641465\n",
      "[550.   0.]\n"
     ]
    },
    {
     "data": {
      "image/png": "[encoded data removed]",
      "text/plain": [
       "<Figure size 432x288 with 1 Axes>"
      ]
     },
     "metadata": {
      "needs_background": "light"
     },
     "output_type": "display_data"
    }
   ],
   "source": [
    "if year == '2017':\n",
    "\n",
    "    cuts5 = []\n",
    "    sigs5 = []\n",
    "\n",
    "    pt2_slices = [300, 350, 400, 450, 500, 550, 600, 675, 800]\n",
    "    n2ddt2_slices = [-0.25+0.25*i for i in range(1,3)]\n",
    "\n",
    "    for pt2 in pt2_slices:\n",
    "        for n2ddt2 in n2ddt2_slices:\n",
    "\n",
    "            msd2_min = msd_min_vh\n",
    "            msd2_max = msd_max_vh\n",
    "        \n",
    "            sliced = x.integrate('msd2',int_range=slice(msd2_min,msd2_max)).integrate('pt2',int_range=slice(pt2,1200)).integrate('n2ddt2',int_range=slice(-0.25,n2ddt2))\n",
    "        \n",
    "            s = sliced.values()[('ZH',)] + sliced.values()[('WH',)]\n",
    "            b = sliced.values()[('ggF',)] + sliced.values()[('VBF',)] + sliced.values()[('ttH',)] \n",
    "            b += sliced.values()[('QCD',)] + sliced.values()[('Wjets',)] + sliced.values()[('Zjets',)] + sliced.values()[('VV',)] + sliced.values()[('ttbar',)] + sliced.values()[('singlet',)]\n",
    "            \n",
    "            sigs5 += [significance(s,b)]\n",
    "            cuts5 += [[pt2,n2ddt2]]\n",
    "        \n",
    "    cuts5 = np.array(cuts5)\n",
    "    print(max(sigs5))\n",
    "    print(cuts5[np.argmax(sigs5)])\n",
    "\n",
    "    n2ddt2_cut = cuts5[np.argmax(sigs5)][1]\n",
    "    pt2_cut = cuts5[np.argmax(sigs5)][0]\n",
    "\n",
    "    plt.hist2d(cuts5[:,0], cuts5[:,1], density=False, weights=sigs5, bins=[[300, 350, 400, 450, 500, 550, 600, 675, 800, 1200],[0,0.25,0.5]]);\n",
    "    plt.xlabel('$p_{T}$');\n",
    "    plt.ylabel('n2ddt');\n",
    "    plt.savefig(year+'/plot-all/vh_2d_n2ddtpt.png')\n",
    "    \n",
    "else:\n",
    "    pt2_cut = 550\n",
    "    n2ddt2_cut = 0"
   ]
  },
  {
   "cell_type": "code",
   "execution_count": 62,
   "metadata": {},
   "outputs": [
    {
     "name": "stdout",
     "output_type": "stream",
     "text": [
      "{'ttH': [0.05268369480112878], 'ZH': [0.7322531860992318], 'WH': [1.6336236124648411], 'VBF': [0.12123725853030387], 'ggF': [0.0719240001569492], 'VV': [0.0], 'ttbar': [13.189270228640673], 'singlet': [2.720015119605889], 'Wjets': [2.2282819136322463], 'Zjets': [1.328761494176256], 'QCD': [43.20293506493685]}\n"
     ]
    },
    {
     "data": {
      "image/png": "[encoded data removed]",
      "text/plain": [
       "<Figure size 432x288 with 1 Axes>"
      ]
     },
     "metadata": {
      "needs_background": "light"
     },
     "output_type": "display_data"
    }
   ],
   "source": [
    "sr = x.integrate('msd2',int_range=slice(msd2_min,msd2_max)).integrate('n2ddt2',int_range=slice(-0.25,n2ddt2_cut)).integrate('pt2',int_range=slice(pt2_cut,1200)).values()\n",
    "yield_plot(sr, 'vh-bkgopt')"
   ]
  },
  {
   "cell_type": "code",
   "execution_count": 63,
   "metadata": {},
   "outputs": [
    {
     "name": "stdout",
     "output_type": "stream",
     "text": [
      "2.3658767985640727 62.9151087744803\n",
      "0.29643278804641615\n"
     ]
    }
   ],
   "source": [
    "# significance\n",
    "s = sr[('WH',)] + sr[('ZH',)]\n",
    "b = sr[('QCD',)] + sr[('Zjets',)] + sr[('Wjets',)]  + sr[('VV',)] + sr[('ttbar',)] +sr[('singlet',)] + sr[('ggF',)] + sr[('VBF',)] + sr[('ttH',)]\n",
    "\n",
    "print(s,b)\n",
    "print(significance(s,b))\n",
    "\n",
    "# this only makes sense in the mass window of Higgs"
   ]
  },
  {
   "cell_type": "code",
   "execution_count": 64,
   "metadata": {},
   "outputs": [
    {
     "data": {
      "image/png": "[encoded data removed]",
      "text/plain": [
       "<Figure size 432x288 with 1 Axes>"
      ]
     },
     "metadata": {
      "needs_background": "light"
     },
     "output_type": "display_data"
    }
   ],
   "source": [
    "mhist = templates.integrate('ddb1',int_range=slice(0.89,1)).integrate('msd2',int_range=slice(msd2_min,msd2_max)).integrate('n2ddt2',int_range=slice(-0.25,n2ddt2_cut)).integrate('pt2',int_range=slice(pt2_cut,1200))\n",
    "plot_stack(mhist,'vh-msd1')"
   ]
  },
  {
   "cell_type": "code",
   "execution_count": 65,
   "metadata": {},
   "outputs": [],
   "source": [
    "import pandas as pd"
   ]
  },
  {
   "cell_type": "code",
   "execution_count": 66,
   "metadata": {},
   "outputs": [],
   "source": [
    "df1 = pd.DataFrame(index=['$V$ jet $m_{sd}$','$V$ jet N2DDT','$V$ jet $p_T$','$H$ jet DeepDoubleB'],columns=['ggF','VBF','WH','ZH','ttH'])\n",
    "df2 = pd.DataFrame(index=['$V$ jet $m_{sd}$','$V$ jet N2DDT','$V$ jet $p_T$','$H$ jet DeepDoubleB'],columns=['QCD','Wjets','Zjets','VV','ttbar','singlet'])"
   ]
  },
  {
   "cell_type": "code",
   "execution_count": 67,
   "metadata": {},
   "outputs": [],
   "source": [
    "# msd2 cut\n",
    "tmp = templates.sum('msd1','pt2','n2ddt2','ddb1').integrate('msd2',int_range=slice(msd2_min,msd2_max)).values()\n",
    "cutname = '$V$ jet $m_{sd}$'\n",
    "\n",
    "df1['ggF'][cutname] = tmp[('ggF'),]\n",
    "df1['VBF'][cutname] = tmp[('VBF'),]\n",
    "df1['WH'][cutname] = tmp[('WH'),]\n",
    "df1['ZH'][cutname] = tmp[('ZH'),]\n",
    "df1['ttH'][cutname] = tmp[('ttH'),]\n",
    "\n",
    "df2['QCD'][cutname] = tmp[('QCD'),]\n",
    "df2['Wjets'][cutname] = tmp[('Wjets'),]\n",
    "df2['Zjets'][cutname] = tmp[('Zjets'),]\n",
    "df2['VV'][cutname] = tmp[('VV'),]\n",
    "df2['ttbar'][cutname] = tmp[('ttbar'),]\n",
    "df2['singlet'][cutname] = tmp[('singlet'),]"
   ]
  },
  {
   "cell_type": "code",
   "execution_count": 68,
   "metadata": {},
   "outputs": [],
   "source": [
    "# n2ddt2\n",
    "tmp = templates.sum('msd1','pt2','ddb1').integrate('msd2',int_range=slice(msd2_min,msd2_max)).integrate('n2ddt2',int_range=slice(-0.25,n2ddt2_cut)).values()\n",
    "cutname = '$V$ jet N2DDT'\n",
    "\n",
    "df1['ggF'][cutname] = tmp[('ggF'),]\n",
    "df1['VBF'][cutname] = tmp[('VBF'),]\n",
    "df1['WH'][cutname] = tmp[('WH'),]\n",
    "df1['ZH'][cutname] = tmp[('ZH'),]\n",
    "df1['ttH'][cutname] = tmp[('ttH'),]\n",
    "\n",
    "df2['QCD'][cutname] = tmp[('QCD'),]\n",
    "df2['Wjets'][cutname] = tmp[('Wjets'),]\n",
    "df2['Zjets'][cutname] = tmp[('Zjets'),]\n",
    "df2['VV'][cutname] = tmp[('VV'),]\n",
    "df2['ttbar'][cutname] = tmp[('ttbar'),]\n",
    "df2['singlet'][cutname] = tmp[('singlet'),]"
   ]
  },
  {
   "cell_type": "code",
   "execution_count": 69,
   "metadata": {},
   "outputs": [],
   "source": [
    "# pt2\n",
    "tmp = templates.sum('msd1','ddb1').integrate('msd2',int_range=slice(msd2_min,msd2_max)).integrate('n2ddt2',int_range=slice(-0.25,n2ddt2_cut)).integrate('pt2',int_range=slice(pt2_cut,1200)).values()\n",
    "cutname = '$V$ jet $p_T$'\n",
    "\n",
    "df1['ggF'][cutname] = tmp[('ggF'),]\n",
    "df1['VBF'][cutname] = tmp[('VBF'),]\n",
    "df1['WH'][cutname] = tmp[('WH'),]\n",
    "df1['ZH'][cutname] = tmp[('ZH'),]\n",
    "df1['ttH'][cutname] = tmp[('ttH'),]\n",
    "\n",
    "df2['QCD'][cutname] = tmp[('QCD'),]\n",
    "df2['Wjets'][cutname] = tmp[('Wjets'),]\n",
    "df2['Zjets'][cutname] = tmp[('Zjets'),]\n",
    "df2['VV'][cutname] = tmp[('VV'),]\n",
    "df2['ttbar'][cutname] = tmp[('ttbar'),]\n",
    "df2['singlet'][cutname] = tmp[('singlet'),]"
   ]
  },
  {
   "cell_type": "code",
   "execution_count": 70,
   "metadata": {
    "scrolled": true
   },
   "outputs": [],
   "source": [
    "# ddb1\n",
    "tmp = templates.sum('msd1').integrate('msd2',int_range=slice(msd2_min,msd2_max)).integrate('n2ddt2',int_range=slice(-0.25,n2ddt2_cut)).integrate('pt2',int_range=slice(pt2_cut,1200)).integrate('ddb1',int_range=slice(0.89,1)).values()\n",
    "cutname = '$H$ jet DeepDoubleB'\n",
    "\n",
    "df1['ggF'][cutname] = tmp[('ggF'),]\n",
    "df1['VBF'][cutname] = tmp[('VBF'),]\n",
    "df1['WH'][cutname] = tmp[('WH'),]\n",
    "df1['ZH'][cutname] = tmp[('ZH'),]\n",
    "df1['ttH'][cutname] = tmp[('ttH'),]\n",
    "\n",
    "df2['QCD'][cutname] = tmp[('QCD'),]\n",
    "df2['Wjets'][cutname] = tmp[('Wjets'),]\n",
    "df2['Zjets'][cutname] = tmp[('Zjets'),]\n",
    "df2['VV'][cutname] = tmp[('VV'),]\n",
    "df2['ttbar'][cutname] = tmp[('ttbar'),]\n",
    "df2['singlet'][cutname] = tmp[('singlet'),]"
   ]
  },
  {
   "cell_type": "code",
   "execution_count": 71,
   "metadata": {},
   "outputs": [
    {
     "name": "stdout",
     "output_type": "stream",
     "text": [
      "                          ggF       VBF       WH       ZH       ttH\n",
      "$V$ jet $m_{sd}$      1.62364  0.787182  6.16846  2.96246    0.6579\n",
      "$V$ jet N2DDT        0.636206  0.277067  4.23918  2.27113  0.397795\n",
      "$V$ jet $p_T$        0.146072  0.219777  3.04766  1.79774  0.287568\n",
      "$H$ jet DeepDoubleB  0.071924  0.136717  2.32187  1.23949  0.102888\n"
     ]
    }
   ],
   "source": [
    "print(df1)\n",
    "df1 = df1.astype('int')\n",
    "df1.to_latex(buf=year+'/cutflow-sig.tex')"
   ]
  },
  {
   "cell_type": "code",
   "execution_count": 72,
   "metadata": {},
   "outputs": [
    {
     "name": "stdout",
     "output_type": "stream",
     "text": [
      "                         QCD    Wjets    Zjets       VV    ttbar  singlet\n",
      "$V$ jet $m_{sd}$     99601.4  3216.14  1402.21  182.214  758.564  227.333\n",
      "$V$ jet N2DDT        25916.6  1664.67  642.948  122.081  486.874  152.878\n",
      "$V$ jet $p_T$        15641.8  1077.72  424.276  84.3134  310.198  109.456\n",
      "$H$ jet DeepDoubleB  289.551  18.3627  18.4004  7.86524  42.2946  13.1668\n"
     ]
    }
   ],
   "source": [
    "print(df2)\n",
    "df2 = df2.astype('int')\n",
    "df2.to_latex(buf=year+'/cutflow-bkg.tex')"
   ]
  },
  {
   "cell_type": "code",
   "execution_count": 73,
   "metadata": {},
   "outputs": [
    {
     "name": "stdout",
     "output_type": "stream",
     "text": [
      "0.903350394223868\n"
     ]
    }
   ],
   "source": [
    "# Hard-coded -- combine results from all 3 years\n",
    "\n",
    "VH = 0\n",
    "tot_H = 0\n",
    "\n",
    "#2016\n",
    "VH += 1.57642 + 0.810124\n",
    "tot_H += .124126 + 0.111413 + 1.57642 + 0.810124 + 0.0862588\n",
    "\n",
    "#2017\n",
    "VH += 2.32187 + 1.23949\n",
    "tot_H += 0.071924 + 0.136717 + 2.32187 + 1.23949 + 0.102888\n",
    "\n",
    "#2018\n",
    "VH += 3.02668 + 1.79661\n",
    "tot_H += 0.216318 + 0.172877 + 3.02668 + 1.79661 + 0.12989\n",
    "\n",
    "print(VH/tot_H)"
   ]
  },
  {
   "cell_type": "code",
   "execution_count": 74,
   "metadata": {},
   "outputs": [
    {
     "data": {
      "text/plain": [
       "0.4922164158172704"
      ]
     },
     "execution_count": 74,
     "metadata": {},
     "output_type": "execute_result"
    }
   ],
   "source": [
    "np.sqrt(.206**2 + .296**2 + .335**2)"
   ]
  },
  {
   "cell_type": "code",
   "execution_count": null,
   "metadata": {},
   "outputs": [],
   "source": []
  }
 ],
 "metadata": {
  "kernelspec": {
   "display_name": "Python 3",
   "language": "python",
   "name": "python3"
  },
  "language_info": {
   "codemirror_mode": {
    "name": "ipython",
    "version": 3
   },
   "file_extension": ".py",
   "mimetype": "text/x-python",
   "name": "python",
   "nbconvert_exporter": "python",
   "pygments_lexer": "ipython3",
   "version": "3.6.5"
  }
 },
 "nbformat": 4,
 "nbformat_minor": 2
}
